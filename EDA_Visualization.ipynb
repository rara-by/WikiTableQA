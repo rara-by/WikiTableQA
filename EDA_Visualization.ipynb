{
 "cells": [
  {
   "cell_type": "markdown",
   "metadata": {},
   "source": [
    "Import libraries"
   ]
  },
  {
   "cell_type": "code",
   "execution_count": 92,
   "metadata": {},
   "outputs": [],
   "source": [
    "import plotly.express as px\n",
    "import pandas as pd"
   ]
  },
  {
   "cell_type": "markdown",
   "metadata": {},
   "source": [
    "Read the dataset"
   ]
  },
  {
   "cell_type": "code",
   "execution_count": 93,
   "metadata": {},
   "outputs": [
    {
     "data": {
      "text/html": [
       "<div>\n",
       "<style scoped>\n",
       "    .dataframe tbody tr th:only-of-type {\n",
       "        vertical-align: middle;\n",
       "    }\n",
       "\n",
       "    .dataframe tbody tr th {\n",
       "        vertical-align: top;\n",
       "    }\n",
       "\n",
       "    .dataframe thead th {\n",
       "        text-align: right;\n",
       "    }\n",
       "</style>\n",
       "<table border=\"1\" class=\"dataframe\">\n",
       "  <thead>\n",
       "    <tr style=\"text-align: right;\">\n",
       "      <th></th>\n",
       "      <th>Region</th>\n",
       "      <th>Association</th>\n",
       "      <th>Country</th>\n",
       "      <th>Player</th>\n",
       "      <th>Clubs</th>\n",
       "      <th>Periods</th>\n",
       "      <th>Number of Clubs</th>\n",
       "      <th>First Year</th>\n",
       "      <th>Final Year</th>\n",
       "      <th>Total Years</th>\n",
       "      <th>Active</th>\n",
       "    </tr>\n",
       "  </thead>\n",
       "  <tbody>\n",
       "    <tr>\n",
       "      <th>0</th>\n",
       "      <td>Africa</td>\n",
       "      <td>CAF</td>\n",
       "      <td>Algeria</td>\n",
       "      <td>Mehdi Abeid</td>\n",
       "      <td>Newcastle United F.C.</td>\n",
       "      <td>2014–15</td>\n",
       "      <td>1</td>\n",
       "      <td>2014</td>\n",
       "      <td>2015</td>\n",
       "      <td>1</td>\n",
       "      <td>False</td>\n",
       "    </tr>\n",
       "    <tr>\n",
       "      <th>1</th>\n",
       "      <td>Africa</td>\n",
       "      <td>CAF</td>\n",
       "      <td>Algeria</td>\n",
       "      <td>Rayan Aït-Nouri</td>\n",
       "      <td>Wolverhampton Wanderers F.C.</td>\n",
       "      <td>2020–</td>\n",
       "      <td>1</td>\n",
       "      <td>2020</td>\n",
       "      <td>&lt;NA&gt;</td>\n",
       "      <td>4</td>\n",
       "      <td>True</td>\n",
       "    </tr>\n",
       "    <tr>\n",
       "      <th>2</th>\n",
       "      <td>Africa</td>\n",
       "      <td>CAF</td>\n",
       "      <td>Algeria</td>\n",
       "      <td>Nadir Belhadj</td>\n",
       "      <td>Portsmouth F.C.</td>\n",
       "      <td>2008–10</td>\n",
       "      <td>1</td>\n",
       "      <td>2008</td>\n",
       "      <td>2010</td>\n",
       "      <td>2</td>\n",
       "      <td>False</td>\n",
       "    </tr>\n",
       "    <tr>\n",
       "      <th>3</th>\n",
       "      <td>Africa</td>\n",
       "      <td>CAF</td>\n",
       "      <td>Algeria</td>\n",
       "      <td>Djamel Belmadi</td>\n",
       "      <td>Manchester City F.C.</td>\n",
       "      <td>2002–03</td>\n",
       "      <td>1</td>\n",
       "      <td>2002</td>\n",
       "      <td>2003</td>\n",
       "      <td>1</td>\n",
       "      <td>False</td>\n",
       "    </tr>\n",
       "    <tr>\n",
       "      <th>4</th>\n",
       "      <td>Africa</td>\n",
       "      <td>CAF</td>\n",
       "      <td>Algeria</td>\n",
       "      <td>Ali Benarbia</td>\n",
       "      <td>Manchester City F.C.</td>\n",
       "      <td>2002–03</td>\n",
       "      <td>1</td>\n",
       "      <td>2002</td>\n",
       "      <td>2003</td>\n",
       "      <td>1</td>\n",
       "      <td>False</td>\n",
       "    </tr>\n",
       "    <tr>\n",
       "      <th>...</th>\n",
       "      <td>...</td>\n",
       "      <td>...</td>\n",
       "      <td>...</td>\n",
       "      <td>...</td>\n",
       "      <td>...</td>\n",
       "      <td>...</td>\n",
       "      <td>...</td>\n",
       "      <td>...</td>\n",
       "      <td>...</td>\n",
       "      <td>...</td>\n",
       "      <td>...</td>\n",
       "    </tr>\n",
       "    <tr>\n",
       "      <th>2704</th>\n",
       "      <td>South America</td>\n",
       "      <td>CONMEBOL</td>\n",
       "      <td>Uruguay</td>\n",
       "      <td>Lucas Torreira</td>\n",
       "      <td>Arsenal F.C.</td>\n",
       "      <td>2018–20</td>\n",
       "      <td>1</td>\n",
       "      <td>2018</td>\n",
       "      <td>2020</td>\n",
       "      <td>2</td>\n",
       "      <td>False</td>\n",
       "    </tr>\n",
       "    <tr>\n",
       "      <th>2705</th>\n",
       "      <td>South America</td>\n",
       "      <td>CONMEBOL</td>\n",
       "      <td>Uruguay</td>\n",
       "      <td>Guillermo Varela</td>\n",
       "      <td>Manchester United F.C.</td>\n",
       "      <td>2015–16</td>\n",
       "      <td>1</td>\n",
       "      <td>2015</td>\n",
       "      <td>2016</td>\n",
       "      <td>1</td>\n",
       "      <td>False</td>\n",
       "    </tr>\n",
       "    <tr>\n",
       "      <th>2706</th>\n",
       "      <td>South America</td>\n",
       "      <td>CONMEBOL</td>\n",
       "      <td>Uruguay</td>\n",
       "      <td>Matías Viña</td>\n",
       "      <td>AFC Bournemouth</td>\n",
       "      <td>2022–23</td>\n",
       "      <td>1</td>\n",
       "      <td>2022</td>\n",
       "      <td>2023</td>\n",
       "      <td>1</td>\n",
       "      <td>False</td>\n",
       "    </tr>\n",
       "    <tr>\n",
       "      <th>2707</th>\n",
       "      <td>South America</td>\n",
       "      <td>CONMEBOL</td>\n",
       "      <td>Venezuela</td>\n",
       "      <td>Fernando Amorebieta</td>\n",
       "      <td>Fulham F.C.</td>\n",
       "      <td>2013–14</td>\n",
       "      <td>1</td>\n",
       "      <td>2013</td>\n",
       "      <td>2014</td>\n",
       "      <td>1</td>\n",
       "      <td>False</td>\n",
       "    </tr>\n",
       "    <tr>\n",
       "      <th>2708</th>\n",
       "      <td>South America</td>\n",
       "      <td>CONMEBOL</td>\n",
       "      <td>Venezuela</td>\n",
       "      <td>Salomón Rondón</td>\n",
       "      <td>West Bromwich Albion F.C., Newcastle United F....</td>\n",
       "      <td>2015–19, 2021–23</td>\n",
       "      <td>3</td>\n",
       "      <td>2015</td>\n",
       "      <td>2023</td>\n",
       "      <td>6</td>\n",
       "      <td>False</td>\n",
       "    </tr>\n",
       "  </tbody>\n",
       "</table>\n",
       "<p>2709 rows × 11 columns</p>\n",
       "</div>"
      ],
      "text/plain": [
       "             Region Association    Country               Player  \\\n",
       "0            Africa         CAF    Algeria          Mehdi Abeid   \n",
       "1            Africa         CAF    Algeria      Rayan Aït-Nouri   \n",
       "2            Africa         CAF    Algeria        Nadir Belhadj   \n",
       "3            Africa         CAF    Algeria       Djamel Belmadi   \n",
       "4            Africa         CAF    Algeria         Ali Benarbia   \n",
       "...             ...         ...        ...                  ...   \n",
       "2704  South America    CONMEBOL    Uruguay       Lucas Torreira   \n",
       "2705  South America    CONMEBOL    Uruguay     Guillermo Varela   \n",
       "2706  South America    CONMEBOL    Uruguay          Matías Viña   \n",
       "2707  South America    CONMEBOL  Venezuela  Fernando Amorebieta   \n",
       "2708  South America    CONMEBOL  Venezuela       Salomón Rondón   \n",
       "\n",
       "                                                  Clubs           Periods  \\\n",
       "0                                 Newcastle United F.C.           2014–15   \n",
       "1                          Wolverhampton Wanderers F.C.             2020–   \n",
       "2                                       Portsmouth F.C.           2008–10   \n",
       "3                                  Manchester City F.C.           2002–03   \n",
       "4                                  Manchester City F.C.           2002–03   \n",
       "...                                                 ...               ...   \n",
       "2704                                       Arsenal F.C.           2018–20   \n",
       "2705                             Manchester United F.C.           2015–16   \n",
       "2706                                    AFC Bournemouth           2022–23   \n",
       "2707                                        Fulham F.C.           2013–14   \n",
       "2708  West Bromwich Albion F.C., Newcastle United F....  2015–19, 2021–23   \n",
       "\n",
       "      Number of Clubs  First Year  Final Year  Total Years  Active  \n",
       "0                   1        2014        2015            1   False  \n",
       "1                   1        2020        <NA>            4    True  \n",
       "2                   1        2008        2010            2   False  \n",
       "3                   1        2002        2003            1   False  \n",
       "4                   1        2002        2003            1   False  \n",
       "...               ...         ...         ...          ...     ...  \n",
       "2704                1        2018        2020            2   False  \n",
       "2705                1        2015        2016            1   False  \n",
       "2706                1        2022        2023            1   False  \n",
       "2707                1        2013        2014            1   False  \n",
       "2708                3        2015        2023            6   False  \n",
       "\n",
       "[2709 rows x 11 columns]"
      ]
     },
     "execution_count": 93,
     "metadata": {},
     "output_type": "execute_result"
    }
   ],
   "source": [
    "df = pd.read_csv(\"dataset.csv\", index_col=0) # doesn't create two index columns\n",
    "df['Final Year'] = df['Final Year'].astype('Int64') # NaN values cause the column to be of float type\n",
    "df"
   ]
  },
  {
   "cell_type": "code",
   "execution_count": 94,
   "metadata": {},
   "outputs": [
    {
     "name": "stdout",
     "output_type": "stream",
     "text": [
      "<class 'pandas.core.frame.DataFrame'>\n",
      "Index: 2709 entries, 0 to 2708\n",
      "Data columns (total 11 columns):\n",
      " #   Column           Non-Null Count  Dtype \n",
      "---  ------           --------------  ----- \n",
      " 0   Region           2709 non-null   object\n",
      " 1   Association      2709 non-null   object\n",
      " 2   Country          2709 non-null   object\n",
      " 3   Player           2709 non-null   object\n",
      " 4   Clubs            2709 non-null   object\n",
      " 5   Periods          2709 non-null   object\n",
      " 6   Number of Clubs  2709 non-null   int64 \n",
      " 7   First Year       2709 non-null   int64 \n",
      " 8   Final Year       2395 non-null   Int64 \n",
      " 9   Total Years      2709 non-null   int64 \n",
      " 10  Active           2709 non-null   bool  \n",
      "dtypes: Int64(1), bool(1), int64(3), object(6)\n",
      "memory usage: 238.1+ KB\n"
     ]
    }
   ],
   "source": [
    "df.info()"
   ]
  },
  {
   "cell_type": "markdown",
   "metadata": {},
   "source": [
    "The Final Year column contains null values as this dataset includes active players in the Premier League as of March 2024."
   ]
  },
  {
   "cell_type": "code",
   "execution_count": 95,
   "metadata": {},
   "outputs": [
    {
     "data": {
      "text/plain": [
       "0"
      ]
     },
     "execution_count": 95,
     "metadata": {},
     "output_type": "execute_result"
    }
   ],
   "source": [
    "# check for duplicate rows\n",
    "df.duplicated().sum()"
   ]
  },
  {
   "cell_type": "code",
   "execution_count": 96,
   "metadata": {},
   "outputs": [
    {
     "name": "stdout",
     "output_type": "stream",
     "text": [
      "Number of international players in the Premier League history:  2709\n"
     ]
    }
   ],
   "source": [
    "print(\"Number of international players in the Premier League history: \", df.shape[0])"
   ]
  },
  {
   "cell_type": "code",
   "execution_count": 97,
   "metadata": {},
   "outputs": [
    {
     "name": "stdout",
     "output_type": "stream",
     "text": [
      "Number of active international players in the Premier League in the 2023/24 season:  314\n"
     ]
    }
   ],
   "source": [
    "print(\"Number of active international players in the Premier League in the 2023/24 season: \", df.Active.sum())"
   ]
  },
  {
   "cell_type": "code",
   "execution_count": 98,
   "metadata": {},
   "outputs": [
    {
     "data": {
      "text/html": [
       "<div>\n",
       "<style scoped>\n",
       "    .dataframe tbody tr th:only-of-type {\n",
       "        vertical-align: middle;\n",
       "    }\n",
       "\n",
       "    .dataframe tbody tr th {\n",
       "        vertical-align: top;\n",
       "    }\n",
       "\n",
       "    .dataframe thead th {\n",
       "        text-align: right;\n",
       "    }\n",
       "</style>\n",
       "<table border=\"1\" class=\"dataframe\">\n",
       "  <thead>\n",
       "    <tr style=\"text-align: right;\">\n",
       "      <th></th>\n",
       "      <th>index</th>\n",
       "      <th>Region</th>\n",
       "      <th>Association</th>\n",
       "      <th>Country</th>\n",
       "      <th>Player</th>\n",
       "      <th>Clubs</th>\n",
       "      <th>Periods</th>\n",
       "      <th>Number of Clubs</th>\n",
       "      <th>First Year</th>\n",
       "      <th>Final Year</th>\n",
       "      <th>Total Years</th>\n",
       "      <th>Active</th>\n",
       "    </tr>\n",
       "  </thead>\n",
       "  <tbody>\n",
       "    <tr>\n",
       "      <th>0</th>\n",
       "      <td>44</td>\n",
       "      <td>Africa</td>\n",
       "      <td>CAF</td>\n",
       "      <td>Cameroon</td>\n",
       "      <td>Lauren</td>\n",
       "      <td>Arsenal F.C., Portsmouth F.C.</td>\n",
       "      <td>2000–08</td>\n",
       "      <td>2</td>\n",
       "      <td>2000</td>\n",
       "      <td>2008</td>\n",
       "      <td>8</td>\n",
       "      <td>False</td>\n",
       "    </tr>\n",
       "    <tr>\n",
       "      <th>1</th>\n",
       "      <td>58</td>\n",
       "      <td>Africa</td>\n",
       "      <td>CAF</td>\n",
       "      <td>Cameroon</td>\n",
       "      <td>Alex Song</td>\n",
       "      <td>Charlton Athletic F.C., Arsenal F.C., West Ham...</td>\n",
       "      <td>2005–12, 2014–16</td>\n",
       "      <td>3</td>\n",
       "      <td>2005</td>\n",
       "      <td>2016</td>\n",
       "      <td>9</td>\n",
       "      <td>False</td>\n",
       "    </tr>\n",
       "    <tr>\n",
       "      <th>2</th>\n",
       "      <td>95</td>\n",
       "      <td>Africa</td>\n",
       "      <td>CAF</td>\n",
       "      <td>Egypt</td>\n",
       "      <td>Mohamed Elneny</td>\n",
       "      <td>Arsenal F.C.</td>\n",
       "      <td>2015–19, 2020–</td>\n",
       "      <td>1</td>\n",
       "      <td>2015</td>\n",
       "      <td>&lt;NA&gt;</td>\n",
       "      <td>8</td>\n",
       "      <td>True</td>\n",
       "    </tr>\n",
       "    <tr>\n",
       "      <th>3</th>\n",
       "      <td>108</td>\n",
       "      <td>Africa</td>\n",
       "      <td>CAF</td>\n",
       "      <td>Gabon</td>\n",
       "      <td>Pierre-Emerick Aubameyang</td>\n",
       "      <td>Arsenal F.C., Chelsea F.C.</td>\n",
       "      <td>2017–23</td>\n",
       "      <td>2</td>\n",
       "      <td>2017</td>\n",
       "      <td>2023</td>\n",
       "      <td>6</td>\n",
       "      <td>False</td>\n",
       "    </tr>\n",
       "    <tr>\n",
       "      <th>4</th>\n",
       "      <td>127</td>\n",
       "      <td>Africa</td>\n",
       "      <td>CAF</td>\n",
       "      <td>Ghana</td>\n",
       "      <td>Emmanuel Frimpong</td>\n",
       "      <td>Arsenal F.C., Wolverhampton Wanderers F.C., Fu...</td>\n",
       "      <td>2011–13</td>\n",
       "      <td>3</td>\n",
       "      <td>2011</td>\n",
       "      <td>2013</td>\n",
       "      <td>2</td>\n",
       "      <td>False</td>\n",
       "    </tr>\n",
       "    <tr>\n",
       "      <th>...</th>\n",
       "      <td>...</td>\n",
       "      <td>...</td>\n",
       "      <td>...</td>\n",
       "      <td>...</td>\n",
       "      <td>...</td>\n",
       "      <td>...</td>\n",
       "      <td>...</td>\n",
       "      <td>...</td>\n",
       "      <td>...</td>\n",
       "      <td>...</td>\n",
       "      <td>...</td>\n",
       "      <td>...</td>\n",
       "    </tr>\n",
       "    <tr>\n",
       "      <th>152</th>\n",
       "      <td>2602</td>\n",
       "      <td>South America</td>\n",
       "      <td>CONMEBOL</td>\n",
       "      <td>Brazil</td>\n",
       "      <td>Sylvinho</td>\n",
       "      <td>Arsenal F.C., Manchester City F.C.</td>\n",
       "      <td>1999–2001, 2009–10</td>\n",
       "      <td>2</td>\n",
       "      <td>1999</td>\n",
       "      <td>2010</td>\n",
       "      <td>3</td>\n",
       "      <td>False</td>\n",
       "    </tr>\n",
       "    <tr>\n",
       "      <th>153</th>\n",
       "      <td>2609</td>\n",
       "      <td>South America</td>\n",
       "      <td>CONMEBOL</td>\n",
       "      <td>Brazil</td>\n",
       "      <td>Willian</td>\n",
       "      <td>Chelsea F.C., Arsenal F.C., Fulham F.C.</td>\n",
       "      <td>2013–21, 2022–</td>\n",
       "      <td>3</td>\n",
       "      <td>2013</td>\n",
       "      <td>&lt;NA&gt;</td>\n",
       "      <td>10</td>\n",
       "      <td>True</td>\n",
       "    </tr>\n",
       "    <tr>\n",
       "      <th>154</th>\n",
       "      <td>2623</td>\n",
       "      <td>South America</td>\n",
       "      <td>CONMEBOL</td>\n",
       "      <td>Chile</td>\n",
       "      <td>Alexis Sánchez</td>\n",
       "      <td>Arsenal F.C., Manchester United F.C.</td>\n",
       "      <td>2014–19</td>\n",
       "      <td>2</td>\n",
       "      <td>2014</td>\n",
       "      <td>2019</td>\n",
       "      <td>5</td>\n",
       "      <td>False</td>\n",
       "    </tr>\n",
       "    <tr>\n",
       "      <th>155</th>\n",
       "      <td>2642</td>\n",
       "      <td>South America</td>\n",
       "      <td>CONMEBOL</td>\n",
       "      <td>Colombia</td>\n",
       "      <td>David Ospina</td>\n",
       "      <td>Arsenal F.C.</td>\n",
       "      <td>2014–18</td>\n",
       "      <td>1</td>\n",
       "      <td>2014</td>\n",
       "      <td>2018</td>\n",
       "      <td>4</td>\n",
       "      <td>False</td>\n",
       "    </tr>\n",
       "    <tr>\n",
       "      <th>156</th>\n",
       "      <td>2704</td>\n",
       "      <td>South America</td>\n",
       "      <td>CONMEBOL</td>\n",
       "      <td>Uruguay</td>\n",
       "      <td>Lucas Torreira</td>\n",
       "      <td>Arsenal F.C.</td>\n",
       "      <td>2018–20</td>\n",
       "      <td>1</td>\n",
       "      <td>2018</td>\n",
       "      <td>2020</td>\n",
       "      <td>2</td>\n",
       "      <td>False</td>\n",
       "    </tr>\n",
       "  </tbody>\n",
       "</table>\n",
       "<p>157 rows × 12 columns</p>\n",
       "</div>"
      ],
      "text/plain": [
       "     index         Region Association   Country                     Player  \\\n",
       "0       44         Africa         CAF  Cameroon                     Lauren   \n",
       "1       58         Africa         CAF  Cameroon                  Alex Song   \n",
       "2       95         Africa         CAF     Egypt             Mohamed Elneny   \n",
       "3      108         Africa         CAF     Gabon  Pierre-Emerick Aubameyang   \n",
       "4      127         Africa         CAF     Ghana          Emmanuel Frimpong   \n",
       "..     ...            ...         ...       ...                        ...   \n",
       "152   2602  South America    CONMEBOL    Brazil                   Sylvinho   \n",
       "153   2609  South America    CONMEBOL    Brazil                    Willian   \n",
       "154   2623  South America    CONMEBOL     Chile             Alexis Sánchez   \n",
       "155   2642  South America    CONMEBOL  Colombia               David Ospina   \n",
       "156   2704  South America    CONMEBOL   Uruguay             Lucas Torreira   \n",
       "\n",
       "                                                 Clubs             Periods  \\\n",
       "0                        Arsenal F.C., Portsmouth F.C.             2000–08   \n",
       "1    Charlton Athletic F.C., Arsenal F.C., West Ham...    2005–12, 2014–16   \n",
       "2                                         Arsenal F.C.      2015–19, 2020–   \n",
       "3                           Arsenal F.C., Chelsea F.C.             2017–23   \n",
       "4    Arsenal F.C., Wolverhampton Wanderers F.C., Fu...             2011–13   \n",
       "..                                                 ...                 ...   \n",
       "152                 Arsenal F.C., Manchester City F.C.  1999–2001, 2009–10   \n",
       "153            Chelsea F.C., Arsenal F.C., Fulham F.C.      2013–21, 2022–   \n",
       "154               Arsenal F.C., Manchester United F.C.             2014–19   \n",
       "155                                       Arsenal F.C.             2014–18   \n",
       "156                                       Arsenal F.C.             2018–20   \n",
       "\n",
       "     Number of Clubs  First Year Final Year  Total Years  Active  \n",
       "0                  2        2000       2008            8   False  \n",
       "1                  3        2005       2016            9   False  \n",
       "2                  1        2015       <NA>            8    True  \n",
       "3                  2        2017       2023            6   False  \n",
       "4                  3        2011       2013            2   False  \n",
       "..               ...         ...        ...          ...     ...  \n",
       "152                2        1999       2010            3   False  \n",
       "153                3        2013       <NA>           10    True  \n",
       "154                2        2014       2019            5   False  \n",
       "155                1        2014       2018            4   False  \n",
       "156                1        2018       2020            2   False  \n",
       "\n",
       "[157 rows x 12 columns]"
      ]
     },
     "execution_count": 98,
     "metadata": {},
     "output_type": "execute_result"
    }
   ],
   "source": [
    "# spotlight on Arsenal F.C.\n",
    "gunners = []\n",
    "\n",
    "for idx, row in df.iterrows():\n",
    "    if \"Arsenal F.C.\" in df['Clubs'][idx]:\n",
    "        gunners.append(df.iloc[idx])\n",
    "\n",
    "df_Arsenal = pd.DataFrame(gunners, columns=df.columns).reset_index()\n",
    "df_Arsenal\n"
   ]
  },
  {
   "cell_type": "code",
   "execution_count": 99,
   "metadata": {},
   "outputs": [],
   "source": [
    "# !pip install --upgrade nbformat"
   ]
  },
  {
   "cell_type": "code",
   "execution_count": 100,
   "metadata": {},
   "outputs": [
    {
     "data": {
      "application/vnd.plotly.v1+json": {
       "config": {
        "plotlyServerURL": "https://plot.ly"
       },
       "data": [
        {
         "hovertemplate": "<b>%{hovertext}</b><br><br>Region=Africa<br>index=%{x}<br>First Year=%{y}<extra></extra>",
         "hovertext": [
          "Newcastle United F.C.",
          "Wolverhampton Wanderers F.C.",
          "Portsmouth F.C.",
          "Manchester City F.C.",
          "Manchester City F.C.",
          "West Ham United F.C.",
          "Tottenham Hotspur F.C., Newcastle United F.C.",
          "Watford F.C., Fulham F.C.",
          "Charlton Athletic F.C.",
          "West Ham United F.C.",
          "Leicester City F.C.",
          "Hull City A.F.C.",
          "Wolverhampton Wanderers F.C., Crystal Palace F.C., Watford F.C., Middlesbrough F.C.",
          "Fulham F.C.",
          "Sheffield United F.C.",
          "Leicester City F.C., Manchester City F.C.",
          "Tottenham Hotspur F.C.",
          "Leicester City F.C., Newcastle United F.C.",
          "Portsmouth F.C.",
          "Wolverhampton Wanderers F.C., Leeds United F.C.",
          "Manchester United F.C., Hull City A.F.C.",
          "Cardiff City F.C., Aston Villa F.C., Middlesbrough F.C.",
          "Huddersfield Town A.F.C.",
          "Sunderland A.F.C., West Bromwich Albion F.C.",
          "Luton Town F.C.",
          "AFC Bournemouth",
          "Chelsea F.C., Aston Villa F.C.",
          "West Bromwich Albion F.C., Stoke City F.C.",
          "Newcastle United F.C.",
          "Tottenham Hotspur F.C.",
          "Tottenham Hotspur F.C.",
          "Brighton & Hove Albion F.C.",
          "Newcastle United F.C., Tottenham Hotspur F.C., Wolverhampton Wanderers F.C., Norwich City F.C.",
          "Reading F.C., Burnley F.C.",
          "Brighton & Hove Albion F.C.",
          "Stoke City F.C.",
          "Manchester United F.C., Aston Villa F.C.",
          "Portsmouth F.C.",
          "Wolverhampton Wanderers F.C.",
          "Fulham F.C.",
          "Chelsea F.C., Everton F.C.",
          "West Ham United F.C., Manchester City F.C.",
          "Middlesbrough F.C., Chelsea F.C., Newcastle United F.C.",
          "Middlesbrough F.C.",
          "Arsenal F.C., Portsmouth F.C.",
          "Aston Villa F.C.",
          "Liverpool F.C.",
          "Brentford F.C.",
          "Queens Park Rangers F.C.",
          "Sunderland A.F.C.",
          "Manchester City F.C.",
          "Portsmouth F.C.",
          "Tottenham Hotspur F.C.",
          "Tottenham Hotspur F.C., Burnley F.C.",
          "Watford F.C.",
          "Watford F.C., West Bromwich Albion F.C.",
          "Leeds United F.C., Wigan Athletic F.C.",
          "Manchester United F.C.",
          "Charlton Athletic F.C., Arsenal F.C., West Ham United F.C.",
          "Liverpool F.C., West Ham United F.C.",
          "Portsmouth F.C.",
          "West Bromwich Albion F.C.",
          "Fulham F.C.",
          "Fulham F.C.",
          "Manchester United F.C.",
          "Sunderland A.F.C.",
          "West Bromwich Albion F.C.",
          "Burnley F.C.",
          "Portsmouth F.C.",
          "West Ham United F.C., Sunderland A.F.C.",
          "West Bromwich Albion F.C.",
          "Blackburn Rovers F.C.",
          "Blackburn Rovers F.C., Queens Park Rangers F.C.",
          "AFC Bournemouth",
          "Everton F.C.",
          "Crystal Palace F.C., Everton F.C.",
          "West Ham United F.C., West Bromwich Albion F.C.",
          "West Ham United F.C.",
          "Stoke City F.C.",
          "Huddersfield Town A.F.C.",
          "Chelsea F.C., Fulham F.C., Bolton Wanderers F.C.",
          "Watford F.C.",
          "Fulham F.C.",
          "Newcastle United F.C.",
          "Newcastle United F.C., Portsmouth F.C.",
          "West Ham United F.C.",
          "Newcastle United F.C.",
          "Norwich City F.C., Hull City A.F.C.",
          "Luton Town F.C.",
          "West Bromwich Albion F.C., Norwich City F.C.",
          "Portsmouth F.C.",
          "Watford F.C.",
          "Blackburn Rovers F.C.",
          "Brentford F.C.",
          "Sunderland A.F.C., Hull City A.F.C., Aston Villa F.C.",
          "Arsenal F.C.",
          "Sheffield United F.C.",
          "Hull City A.F.C.",
          "Tottenham Hotspur F.C., Derby County F.C.",
          "West Bromwich Albion F.C.",
          "Tottenham Hotspur F.C., Middlesbrough F.C., Wigan Athletic F.C., West Ham United F.C.",
          "Chelsea F.C., Liverpool F.C.",
          "Middlesbrough F.C.",
          "Stoke City F.C., Huddersfield Town A.F.C.",
          "Aston Villa F.C.",
          "Wigan Athletic F.C., Hull City A.F.C.",
          "Middlesbrough F.C.",
          "West Ham United F.C.",
          "Arsenal F.C., Chelsea F.C.",
          "Hull City A.F.C.",
          "Cardiff City F.C.",
          "Southampton F.C., Fulham F.C., Wolverhampton Wanderers F.C.",
          "Sunderland A.F.C.",
          "Swansea City A.F.C.",
          "Middlesbrough F.C.",
          "Sheffield Wednesday F.C.",
          "Queens Park Rangers F.C.",
          "Leicester City F.C.",
          "Everton F.C., Newcastle United F.C.",
          "Swansea City A.F.C., West Ham United F.C., Nottingham Forest F.C.",
          "Aston Villa F.C., Swansea City A.F.C., Crystal Palace F.C.",
          "Fulham F.C.",
          "Tottenham Hotspur F.C., Portsmouth F.C.",
          "Fulham F.C.",
          "Leicester City F.C.",
          "Chelsea F.C.",
          "Brentford F.C.",
          "Arsenal F.C., Wolverhampton Wanderers F.C., Fulham F.C.",
          "Sunderland A.F.C.",
          "Fulham F.C.",
          "Birmingham City F.C., Wigan Athletic F.C., Blackpool F.C.",
          "West Ham United F.C.",
          "Aston Villa F.C., Coventry City F.C.",
          "Chelsea F.C., Brighton & Hove Albion F.C.",
          "Sunderland A.F.C.",
          "Portsmouth F.C., Sunderland A.F.C.",
          "Everton F.C.",
          "Fulham F.C.",
          "Arsenal F.C., Portsmouth F.C.",
          "West Ham United F.C., Fulham F.C.",
          "Arsenal F.C.",
          "Chelsea F.C.",
          "Southampton F.C.",
          "Charlton Athletic F.C.",
          "Leicester City F.C., Crystal Palace F.C.",
          "AFC Bournemouth",
          "Southampton F.C.",
          "Leeds United F.C.",
          "Derby County F.C.",
          "Liverpool F.C., West Ham United F.C.",
          "Fulham F.C.",
          "Arsenal F.C., West Ham United F.C.",
          "Liverpool F.C.",
          "Hull City A.F.C.",
          "Fulham F.C.",
          "Brighton & Hove Albion F.C.",
          "Tottenham Hotspur F.C., Nottingham Forest F.C.",
          "Manchester United F.C.",
          "Everton F.C.",
          "Cardiff City F.C.",
          "Chelsea F.C.",
          "Wolverhampton Wanderers F.C., Nottingham Forest F.C.",
          "Swansea City A.F.C., Manchester City F.C., Stoke City F.C.",
          "Burnley F.C., West Ham United F.C.",
          "AFC Bournemouth",
          "West Ham United F.C.",
          "Manchester United F.C.",
          "Portsmouth F.C.",
          "Newcastle United F.C.",
          "Chelsea F.C.",
          "Arsenal F.C.",
          "Reading F.C.",
          "Chelsea F.C., Burnley F.C.",
          "Everton F.C.",
          "Arsenal F.C.",
          "Wigan Athletic F.C.",
          "AFC Bournemouth",
          "West Ham United F.C.",
          "Chelsea F.C.",
          "Watford F.C.",
          "Aston Villa F.C.",
          "Wigan Athletic F.C., Everton F.C.",
          "Sunderland A.F.C.",
          "Bolton Wanderers F.C., West Bromwich Albion F.C.",
          "Arsenal F.C.",
          "Manchester City F.C.",
          "Hull City A.F.C.",
          "Nottingham Forest F.C.",
          "Fulham F.C.",
          "Birmingham City F.C.",
          "Newcastle United F.C.",
          "Arsenal F.C., Manchester City F.C., Liverpool F.C.",
          "Manchester City F.C.",
          "Sheffield United F.C.",
          "AFC Bournemouth",
          "Everton F.C.",
          "Manchester United F.C., Cardiff City F.C., Crystal Palace F.C.",
          "Tottenham Hotspur F.C.",
          "Southampton F.C., Tottenham Hotspur F.C.",
          "Manchester City F.C.",
          "Chelsea F.C., Manchester City F.C.",
          "Arsenal F.C.",
          "Brighton & Hove Albion F.C., Tottenham Hotspur F.C.",
          "Reading F.C.",
          "Leicester City F.C.",
          "Queens Park Rangers F.C.",
          "Fulham F.C.",
          "Southampton F.C.",
          "Watford F.C., Everton F.C.",
          "Crystal Palace F.C.",
          "Newcastle United F.C.",
          "West Ham United F.C., Tottenham Hotspur F.C.",
          "Reading F.C., Crystal Palace F.C.",
          "West Ham United F.C.",
          "Crystal Palace F.C.",
          "Stoke City F.C.",
          "Liverpool F.C.",
          "Aston Villa F.C.",
          "Wolverhampton Wanderers F.C.",
          "Liverpool F.C., Charlton Athletic F.C., Portsmouth F.C.",
          "Watford F.C.",
          "Sunderland A.F.C.",
          "Fulham F.C.",
          "West Ham United F.C.",
          "Watford F.C.",
          "Manchester United F.C.",
          "Liverpool F.C., Stoke City F.C.",
          "Southampton F.C.",
          "Arsenal F.C., West Ham United F.C., Crystal Palace F.C.",
          "Coventry City F.C.",
          "West Ham United F.C.",
          "Aston Villa F.C.",
          "Sunderland A.F.C., Charlton Athletic F.C.",
          "Southampton F.C., Charlton Athletic F.C.",
          "Liverpool F.C.",
          "Coventry City F.C., Aston Villa F.C.",
          "Southampton F.C., Aston Villa F.C., Wolverhampton Wanderers F.C.",
          "Watford F.C.",
          "Watford F.C.",
          "Tottenham Hotspur F.C.",
          "Fulham F.C.",
          "Huddersfield Town A.F.C.",
          "Norwich City F.C.",
          "Wolverhampton Wanderers F.C.",
          "Tottenham Hotspur F.C., Queens Park Rangers F.C., Fulham F.C.",
          "Burnley F.C.",
          "Chelsea F.C.",
          "Wigan Athletic F.C.",
          "Chelsea F.C., Fulham F.C., Nottingham Forest F.C.",
          "West Bromwich Albion F.C.",
          "Norwich City F.C., Leicester City F.C., Sheffield United F.C.",
          "Reading F.C.",
          "Arsenal F.C.",
          "Newcastle United F.C.",
          "Newcastle United F.C., Crystal Palace F.C.",
          "Everton F.C.",
          "Everton F.C., West Bromwich Albion F.C., Sunderland A.F.C.",
          "Hull City A.F.C.",
          "Southampton F.C.",
          "Nottingham Forest F.C.",
          "Chelsea F.C., Newcastle United F.C.",
          "Brighton & Hove Albion F.C.",
          "Fulham F.C.",
          "Watford F.C., Nottingham Forest F.C.",
          "Norwich City F.C., Wimbledon F.C.",
          "West Ham United F.C.",
          "Watford F.C.",
          "Sunderland A.F.C., Fulham F.C.",
          "Manchester City F.C.",
          "Ipswich Town F.C.",
          "West Bromwich Albion F.C.",
          "Watford F.C., Manchester United F.C.",
          "Manchester City F.C., Leicester City F.C.",
          "Wolverhampton Wanderers F.C.",
          "Arsenal F.C., Everton F.C., Fulham F.C.",
          "Watford F.C.",
          "Bolton Wanderers F.C.",
          "Arsenal F.C., West Bromwich Albion F.C., Portsmouth F.C.",
          "Crystal Palace F.C.",
          "Everton F.C., Fulham F.C., Leicester City F.C.",
          "Fulham F.C.",
          "Newcastle United F.C., Birmingham City F.C.",
          "Chelsea F.C.",
          "Wigan Athletic F.C., Chelsea F.C., Liverpool F.C., Stoke City F.C., West Ham United F.C.",
          "Leicester City F.C.",
          "Crystal Palace F.C.",
          "Leicester City F.C.",
          "West Ham United F.C.",
          "West Bromwich Albion F.C., Cardiff City F.C., Stoke City F.C.",
          "Bolton Wanderers F.C.",
          "Wolverhampton Wanderers F.C.",
          "Stoke City F.C., Hull City A.F.C.",
          "Southampton F.C.",
          "Brentford F.C.",
          "Watford F.C., Bolton Wanderers F.C.",
          "Reading F.C.",
          "Watford F.C.",
          "Queens Park Rangers F.C.",
          "Southampton F.C.",
          "Watford F.C.",
          "West Bromwich Albion F.C.",
          "Portsmouth F.C.",
          "Derby County F.C.",
          "Portsmouth F.C., Middlesbrough F.C., Everton F.C., Blackburn Rovers F.C.",
          "Everton F.C., Norwich City F.C.",
          "West Ham United F.C., Newcastle United F.C., Chelsea F.C.",
          "Fulham F.C.",
          "Newcastle United F.C., Aston Villa F.C.",
          "Wolverhampton Wanderers F.C., Southampton F.C., Wigan Athletic F.C., West Ham United F.C., Stoke City F.C.",
          "Birmingham City F.C., Portsmouth F.C.",
          "Newcastle United F.C.",
          "Birmingham City F.C.",
          "Southampton F.C.",
          "West Bromwich Albion F.C.",
          "Wigan Athletic F.C., West Ham United F.C., Hull City A.F.C., Newcastle United F.C.",
          "Liverpool F.C., Birmingham City F.C., Portsmouth F.C., Stoke City F.C.",
          "Newcastle United F.C.",
          "Bolton Wanderers F.C.",
          "Charlton Athletic F.C.",
          "Fulham F.C., Portsmouth F.C.",
          "Liverpool F.C., Bolton Wanderers F.C., Sunderland A.F.C., Blackburn Rovers F.C.",
          "Manchester United F.C., Blackburn Rovers F.C., Stoke City F.C.",
          "Sunderland A.F.C.",
          "Bolton Wanderers F.C.",
          "Bolton Wanderers F.C., Newcastle United F.C., Stoke City F.C., Hull City A.F.C.",
          "Portsmouth F.C., Newcastle United F.C., Charlton Athletic F.C., Stoke City F.C.",
          "Aston Villa F.C., Everton F.C.",
          "Everton F.C.",
          "Chelsea F.C.",
          "Portsmouth F.C., West Bromwich Albion F.C., Fulham F.C.",
          "Chelsea F.C.",
          "West Ham United F.C., Crystal Palace F.C., Nottingham Forest F.C.",
          "Southampton F.C., Liverpool F.C.",
          "Sunderland A.F.C.",
          "Chelsea F.C.",
          "Leicester City F.C.",
          "Sunderland A.F.C., Hull City A.F.C.",
          "Stoke City F.C.",
          "Sheffield United F.C.",
          "Hull City A.F.C., Sunderland A.F.C.",
          "Nottingham Forest F.C.",
          "Watford F.C.",
          "Everton F.C., Hull City A.F.C., Cardiff City F.C.",
          "Newcastle United F.C.",
          "West Ham United F.C.",
          "Leeds United F.C.",
          "Watford F.C.",
          "Tottenham Hotspur F.C.",
          "Reading F.C., Stoke City F.C., Hull City A.F.C.",
          "Crystal Palace F.C.",
          "Arsenal F.C., Portsmouth F.C., Queens Park Rangers F.C.",
          "Fulham F.C.",
          "Chelsea F.C., Wolverhampton Wanderers F.C.",
          "Watford F.C.",
          "Swansea City A.F.C., Tottenham Hotspur F.C., Cardiff City F.C., Queens Park Rangers F.C., Southampton F.C., Liverpool F.C.",
          "West Bromwich Albion F.C., Aston Villa F.C., Birmingham City F.C., Hull City A.F.C.",
          "Watford F.C.",
          "Crystal Palace F.C.",
          "Norwich City F.C.",
          "Charlton Athletic F.C.",
          "Fulham F.C., Crystal Palace F.C.",
          "Bolton Wanderers F.C., Charlton Athletic F.C.",
          "Manchester United F.C., Bolton Wanderers F.C.",
          "Burnley F.C.",
          "Leicester City F.C.",
          "Tottenham Hotspur F.C.",
          "Leeds United F.C.",
          "Blackburn Rovers F.C., West Ham United F.C.",
          "Blackburn Rovers F.C., Portsmouth F.C.",
          "Newcastle United F.C.",
          "Everton F.C., Tottenham Hotspur F.C., Sunderland A.F.C.",
          "Leeds United F.C.",
          "AFC Bournemouth",
          "Brighton & Hove Albion F.C.",
          "Barnsley F.C.",
          "Aston Villa F.C.",
          "Arsenal F.C., Manchester City F.C., Tottenham Hotspur F.C., Crystal Palace F.C.",
          "Fulham F.C.",
          "Southampton F.C.",
          "Aston Villa F.C.",
          "Sheffield United F.C.",
          "Leicester City F.C.",
          "Bolton Wanderers F.C., Birmingham City F.C.",
          "Sunderland A.F.C.",
          "Manchester United F.C.",
          "Birmingham City F.C.",
          "Manchester City F.C.",
          "Southampton F.C.",
          "Leicester City F.C.",
          "Ipswich Town F.C.",
          "Southampton F.C.",
          "Portsmouth F.C.",
          "Brighton & Hove Albion F.C.",
          "Portsmouth F.C., Manchester City F.C., Sunderland A.F.C., Blackburn Rovers F.C.",
          "Everton F.C., West Bromwich Albion F.C.",
          "Liverpool F.C., Southampton F.C.",
          "Aston Villa F.C., Luton Town F.C.",
          "Coventry City F.C.",
          "AFC Bournemouth"
         ],
         "ids": [
          "Newcastle United F.C.",
          "Wolverhampton Wanderers F.C.",
          "Portsmouth F.C.",
          "Manchester City F.C.",
          "Manchester City F.C.",
          "West Ham United F.C.",
          "Tottenham Hotspur F.C., Newcastle United F.C.",
          "Watford F.C., Fulham F.C.",
          "Charlton Athletic F.C.",
          "West Ham United F.C.",
          "Leicester City F.C.",
          "Hull City A.F.C.",
          "Wolverhampton Wanderers F.C., Crystal Palace F.C., Watford F.C., Middlesbrough F.C.",
          "Fulham F.C.",
          "Sheffield United F.C.",
          "Leicester City F.C., Manchester City F.C.",
          "Tottenham Hotspur F.C.",
          "Leicester City F.C., Newcastle United F.C.",
          "Portsmouth F.C.",
          "Wolverhampton Wanderers F.C., Leeds United F.C.",
          "Manchester United F.C., Hull City A.F.C.",
          "Cardiff City F.C., Aston Villa F.C., Middlesbrough F.C.",
          "Huddersfield Town A.F.C.",
          "Sunderland A.F.C., West Bromwich Albion F.C.",
          "Luton Town F.C.",
          "AFC Bournemouth",
          "Chelsea F.C., Aston Villa F.C.",
          "West Bromwich Albion F.C., Stoke City F.C.",
          "Newcastle United F.C.",
          "Tottenham Hotspur F.C.",
          "Tottenham Hotspur F.C.",
          "Brighton & Hove Albion F.C.",
          "Newcastle United F.C., Tottenham Hotspur F.C., Wolverhampton Wanderers F.C., Norwich City F.C.",
          "Reading F.C., Burnley F.C.",
          "Brighton & Hove Albion F.C.",
          "Stoke City F.C.",
          "Manchester United F.C., Aston Villa F.C.",
          "Portsmouth F.C.",
          "Wolverhampton Wanderers F.C.",
          "Fulham F.C.",
          "Chelsea F.C., Everton F.C.",
          "West Ham United F.C., Manchester City F.C.",
          "Middlesbrough F.C., Chelsea F.C., Newcastle United F.C.",
          "Middlesbrough F.C.",
          "Arsenal F.C., Portsmouth F.C.",
          "Aston Villa F.C.",
          "Liverpool F.C.",
          "Brentford F.C.",
          "Queens Park Rangers F.C.",
          "Sunderland A.F.C.",
          "Manchester City F.C.",
          "Portsmouth F.C.",
          "Tottenham Hotspur F.C.",
          "Tottenham Hotspur F.C., Burnley F.C.",
          "Watford F.C.",
          "Watford F.C., West Bromwich Albion F.C.",
          "Leeds United F.C., Wigan Athletic F.C.",
          "Manchester United F.C.",
          "Charlton Athletic F.C., Arsenal F.C., West Ham United F.C.",
          "Liverpool F.C., West Ham United F.C.",
          "Portsmouth F.C.",
          "West Bromwich Albion F.C.",
          "Fulham F.C.",
          "Fulham F.C.",
          "Manchester United F.C.",
          "Sunderland A.F.C.",
          "West Bromwich Albion F.C.",
          "Burnley F.C.",
          "Portsmouth F.C.",
          "West Ham United F.C., Sunderland A.F.C.",
          "West Bromwich Albion F.C.",
          "Blackburn Rovers F.C.",
          "Blackburn Rovers F.C., Queens Park Rangers F.C.",
          "AFC Bournemouth",
          "Everton F.C.",
          "Crystal Palace F.C., Everton F.C.",
          "West Ham United F.C., West Bromwich Albion F.C.",
          "West Ham United F.C.",
          "Stoke City F.C.",
          "Huddersfield Town A.F.C.",
          "Chelsea F.C., Fulham F.C., Bolton Wanderers F.C.",
          "Watford F.C.",
          "Fulham F.C.",
          "Newcastle United F.C.",
          "Newcastle United F.C., Portsmouth F.C.",
          "West Ham United F.C.",
          "Newcastle United F.C.",
          "Norwich City F.C., Hull City A.F.C.",
          "Luton Town F.C.",
          "West Bromwich Albion F.C., Norwich City F.C.",
          "Portsmouth F.C.",
          "Watford F.C.",
          "Blackburn Rovers F.C.",
          "Brentford F.C.",
          "Sunderland A.F.C., Hull City A.F.C., Aston Villa F.C.",
          "Arsenal F.C.",
          "Sheffield United F.C.",
          "Hull City A.F.C.",
          "Tottenham Hotspur F.C., Derby County F.C.",
          "West Bromwich Albion F.C.",
          "Tottenham Hotspur F.C., Middlesbrough F.C., Wigan Athletic F.C., West Ham United F.C.",
          "Chelsea F.C., Liverpool F.C.",
          "Middlesbrough F.C.",
          "Stoke City F.C., Huddersfield Town A.F.C.",
          "Aston Villa F.C.",
          "Wigan Athletic F.C., Hull City A.F.C.",
          "Middlesbrough F.C.",
          "West Ham United F.C.",
          "Arsenal F.C., Chelsea F.C.",
          "Hull City A.F.C.",
          "Cardiff City F.C.",
          "Southampton F.C., Fulham F.C., Wolverhampton Wanderers F.C.",
          "Sunderland A.F.C.",
          "Swansea City A.F.C.",
          "Middlesbrough F.C.",
          "Sheffield Wednesday F.C.",
          "Queens Park Rangers F.C.",
          "Leicester City F.C.",
          "Everton F.C., Newcastle United F.C.",
          "Swansea City A.F.C., West Ham United F.C., Nottingham Forest F.C.",
          "Aston Villa F.C., Swansea City A.F.C., Crystal Palace F.C.",
          "Fulham F.C.",
          "Tottenham Hotspur F.C., Portsmouth F.C.",
          "Fulham F.C.",
          "Leicester City F.C.",
          "Chelsea F.C.",
          "Brentford F.C.",
          "Arsenal F.C., Wolverhampton Wanderers F.C., Fulham F.C.",
          "Sunderland A.F.C.",
          "Fulham F.C.",
          "Birmingham City F.C., Wigan Athletic F.C., Blackpool F.C.",
          "West Ham United F.C.",
          "Aston Villa F.C., Coventry City F.C.",
          "Chelsea F.C., Brighton & Hove Albion F.C.",
          "Sunderland A.F.C.",
          "Portsmouth F.C., Sunderland A.F.C.",
          "Everton F.C.",
          "Fulham F.C.",
          "Arsenal F.C., Portsmouth F.C.",
          "West Ham United F.C., Fulham F.C.",
          "Arsenal F.C.",
          "Chelsea F.C.",
          "Southampton F.C.",
          "Charlton Athletic F.C.",
          "Leicester City F.C., Crystal Palace F.C.",
          "AFC Bournemouth",
          "Southampton F.C.",
          "Leeds United F.C.",
          "Derby County F.C.",
          "Liverpool F.C., West Ham United F.C.",
          "Fulham F.C.",
          "Arsenal F.C., West Ham United F.C.",
          "Liverpool F.C.",
          "Hull City A.F.C.",
          "Fulham F.C.",
          "Brighton & Hove Albion F.C.",
          "Tottenham Hotspur F.C., Nottingham Forest F.C.",
          "Manchester United F.C.",
          "Everton F.C.",
          "Cardiff City F.C.",
          "Chelsea F.C.",
          "Wolverhampton Wanderers F.C., Nottingham Forest F.C.",
          "Swansea City A.F.C., Manchester City F.C., Stoke City F.C.",
          "Burnley F.C., West Ham United F.C.",
          "AFC Bournemouth",
          "West Ham United F.C.",
          "Manchester United F.C.",
          "Portsmouth F.C.",
          "Newcastle United F.C.",
          "Chelsea F.C.",
          "Arsenal F.C.",
          "Reading F.C.",
          "Chelsea F.C., Burnley F.C.",
          "Everton F.C.",
          "Arsenal F.C.",
          "Wigan Athletic F.C.",
          "AFC Bournemouth",
          "West Ham United F.C.",
          "Chelsea F.C.",
          "Watford F.C.",
          "Aston Villa F.C.",
          "Wigan Athletic F.C., Everton F.C.",
          "Sunderland A.F.C.",
          "Bolton Wanderers F.C., West Bromwich Albion F.C.",
          "Arsenal F.C.",
          "Manchester City F.C.",
          "Hull City A.F.C.",
          "Nottingham Forest F.C.",
          "Fulham F.C.",
          "Birmingham City F.C.",
          "Newcastle United F.C.",
          "Arsenal F.C., Manchester City F.C., Liverpool F.C.",
          "Manchester City F.C.",
          "Sheffield United F.C.",
          "AFC Bournemouth",
          "Everton F.C.",
          "Manchester United F.C., Cardiff City F.C., Crystal Palace F.C.",
          "Tottenham Hotspur F.C.",
          "Southampton F.C., Tottenham Hotspur F.C.",
          "Manchester City F.C.",
          "Chelsea F.C., Manchester City F.C.",
          "Arsenal F.C.",
          "Brighton & Hove Albion F.C., Tottenham Hotspur F.C.",
          "Reading F.C.",
          "Leicester City F.C.",
          "Queens Park Rangers F.C.",
          "Fulham F.C.",
          "Southampton F.C.",
          "Watford F.C., Everton F.C.",
          "Crystal Palace F.C.",
          "Newcastle United F.C.",
          "West Ham United F.C., Tottenham Hotspur F.C.",
          "Reading F.C., Crystal Palace F.C.",
          "West Ham United F.C.",
          "Crystal Palace F.C.",
          "Stoke City F.C.",
          "Liverpool F.C.",
          "Aston Villa F.C.",
          "Wolverhampton Wanderers F.C.",
          "Liverpool F.C., Charlton Athletic F.C., Portsmouth F.C.",
          "Watford F.C.",
          "Sunderland A.F.C.",
          "Fulham F.C.",
          "West Ham United F.C.",
          "Watford F.C.",
          "Manchester United F.C.",
          "Liverpool F.C., Stoke City F.C.",
          "Southampton F.C.",
          "Arsenal F.C., West Ham United F.C., Crystal Palace F.C.",
          "Coventry City F.C.",
          "West Ham United F.C.",
          "Aston Villa F.C.",
          "Sunderland A.F.C., Charlton Athletic F.C.",
          "Southampton F.C., Charlton Athletic F.C.",
          "Liverpool F.C.",
          "Coventry City F.C., Aston Villa F.C.",
          "Southampton F.C., Aston Villa F.C., Wolverhampton Wanderers F.C.",
          "Watford F.C.",
          "Watford F.C.",
          "Tottenham Hotspur F.C.",
          "Fulham F.C.",
          "Huddersfield Town A.F.C.",
          "Norwich City F.C.",
          "Wolverhampton Wanderers F.C.",
          "Tottenham Hotspur F.C., Queens Park Rangers F.C., Fulham F.C.",
          "Burnley F.C.",
          "Chelsea F.C.",
          "Wigan Athletic F.C.",
          "Chelsea F.C., Fulham F.C., Nottingham Forest F.C.",
          "West Bromwich Albion F.C.",
          "Norwich City F.C., Leicester City F.C., Sheffield United F.C.",
          "Reading F.C.",
          "Arsenal F.C.",
          "Newcastle United F.C.",
          "Newcastle United F.C., Crystal Palace F.C.",
          "Everton F.C.",
          "Everton F.C., West Bromwich Albion F.C., Sunderland A.F.C.",
          "Hull City A.F.C.",
          "Southampton F.C.",
          "Nottingham Forest F.C.",
          "Chelsea F.C., Newcastle United F.C.",
          "Brighton & Hove Albion F.C.",
          "Fulham F.C.",
          "Watford F.C., Nottingham Forest F.C.",
          "Norwich City F.C., Wimbledon F.C.",
          "West Ham United F.C.",
          "Watford F.C.",
          "Sunderland A.F.C., Fulham F.C.",
          "Manchester City F.C.",
          "Ipswich Town F.C.",
          "West Bromwich Albion F.C.",
          "Watford F.C., Manchester United F.C.",
          "Manchester City F.C., Leicester City F.C.",
          "Wolverhampton Wanderers F.C.",
          "Arsenal F.C., Everton F.C., Fulham F.C.",
          "Watford F.C.",
          "Bolton Wanderers F.C.",
          "Arsenal F.C., West Bromwich Albion F.C., Portsmouth F.C.",
          "Crystal Palace F.C.",
          "Everton F.C., Fulham F.C., Leicester City F.C.",
          "Fulham F.C.",
          "Newcastle United F.C., Birmingham City F.C.",
          "Chelsea F.C.",
          "Wigan Athletic F.C., Chelsea F.C., Liverpool F.C., Stoke City F.C., West Ham United F.C.",
          "Leicester City F.C.",
          "Crystal Palace F.C.",
          "Leicester City F.C.",
          "West Ham United F.C.",
          "West Bromwich Albion F.C., Cardiff City F.C., Stoke City F.C.",
          "Bolton Wanderers F.C.",
          "Wolverhampton Wanderers F.C.",
          "Stoke City F.C., Hull City A.F.C.",
          "Southampton F.C.",
          "Brentford F.C.",
          "Watford F.C., Bolton Wanderers F.C.",
          "Reading F.C.",
          "Watford F.C.",
          "Queens Park Rangers F.C.",
          "Southampton F.C.",
          "Watford F.C.",
          "West Bromwich Albion F.C.",
          "Portsmouth F.C.",
          "Derby County F.C.",
          "Portsmouth F.C., Middlesbrough F.C., Everton F.C., Blackburn Rovers F.C.",
          "Everton F.C., Norwich City F.C.",
          "West Ham United F.C., Newcastle United F.C., Chelsea F.C.",
          "Fulham F.C.",
          "Newcastle United F.C., Aston Villa F.C.",
          "Wolverhampton Wanderers F.C., Southampton F.C., Wigan Athletic F.C., West Ham United F.C., Stoke City F.C.",
          "Birmingham City F.C., Portsmouth F.C.",
          "Newcastle United F.C.",
          "Birmingham City F.C.",
          "Southampton F.C.",
          "West Bromwich Albion F.C.",
          "Wigan Athletic F.C., West Ham United F.C., Hull City A.F.C., Newcastle United F.C.",
          "Liverpool F.C., Birmingham City F.C., Portsmouth F.C., Stoke City F.C.",
          "Newcastle United F.C.",
          "Bolton Wanderers F.C.",
          "Charlton Athletic F.C.",
          "Fulham F.C., Portsmouth F.C.",
          "Liverpool F.C., Bolton Wanderers F.C., Sunderland A.F.C., Blackburn Rovers F.C.",
          "Manchester United F.C., Blackburn Rovers F.C., Stoke City F.C.",
          "Sunderland A.F.C.",
          "Bolton Wanderers F.C.",
          "Bolton Wanderers F.C., Newcastle United F.C., Stoke City F.C., Hull City A.F.C.",
          "Portsmouth F.C., Newcastle United F.C., Charlton Athletic F.C., Stoke City F.C.",
          "Aston Villa F.C., Everton F.C.",
          "Everton F.C.",
          "Chelsea F.C.",
          "Portsmouth F.C., West Bromwich Albion F.C., Fulham F.C.",
          "Chelsea F.C.",
          "West Ham United F.C., Crystal Palace F.C., Nottingham Forest F.C.",
          "Southampton F.C., Liverpool F.C.",
          "Sunderland A.F.C.",
          "Chelsea F.C.",
          "Leicester City F.C.",
          "Sunderland A.F.C., Hull City A.F.C.",
          "Stoke City F.C.",
          "Sheffield United F.C.",
          "Hull City A.F.C., Sunderland A.F.C.",
          "Nottingham Forest F.C.",
          "Watford F.C.",
          "Everton F.C., Hull City A.F.C., Cardiff City F.C.",
          "Newcastle United F.C.",
          "West Ham United F.C.",
          "Leeds United F.C.",
          "Watford F.C.",
          "Tottenham Hotspur F.C.",
          "Reading F.C., Stoke City F.C., Hull City A.F.C.",
          "Crystal Palace F.C.",
          "Arsenal F.C., Portsmouth F.C., Queens Park Rangers F.C.",
          "Fulham F.C.",
          "Chelsea F.C., Wolverhampton Wanderers F.C.",
          "Watford F.C.",
          "Swansea City A.F.C., Tottenham Hotspur F.C., Cardiff City F.C., Queens Park Rangers F.C., Southampton F.C., Liverpool F.C.",
          "West Bromwich Albion F.C., Aston Villa F.C., Birmingham City F.C., Hull City A.F.C.",
          "Watford F.C.",
          "Crystal Palace F.C.",
          "Norwich City F.C.",
          "Charlton Athletic F.C.",
          "Fulham F.C., Crystal Palace F.C.",
          "Bolton Wanderers F.C., Charlton Athletic F.C.",
          "Manchester United F.C., Bolton Wanderers F.C.",
          "Burnley F.C.",
          "Leicester City F.C.",
          "Tottenham Hotspur F.C.",
          "Leeds United F.C.",
          "Blackburn Rovers F.C., West Ham United F.C.",
          "Blackburn Rovers F.C., Portsmouth F.C.",
          "Newcastle United F.C.",
          "Everton F.C., Tottenham Hotspur F.C., Sunderland A.F.C.",
          "Leeds United F.C.",
          "AFC Bournemouth",
          "Brighton & Hove Albion F.C.",
          "Barnsley F.C.",
          "Aston Villa F.C.",
          "Arsenal F.C., Manchester City F.C., Tottenham Hotspur F.C., Crystal Palace F.C.",
          "Fulham F.C.",
          "Southampton F.C.",
          "Aston Villa F.C.",
          "Sheffield United F.C.",
          "Leicester City F.C.",
          "Bolton Wanderers F.C., Birmingham City F.C.",
          "Sunderland A.F.C.",
          "Manchester United F.C.",
          "Birmingham City F.C.",
          "Manchester City F.C.",
          "Southampton F.C.",
          "Leicester City F.C.",
          "Ipswich Town F.C.",
          "Southampton F.C.",
          "Portsmouth F.C.",
          "Brighton & Hove Albion F.C.",
          "Portsmouth F.C., Manchester City F.C., Sunderland A.F.C., Blackburn Rovers F.C.",
          "Everton F.C., West Bromwich Albion F.C.",
          "Liverpool F.C., Southampton F.C.",
          "Aston Villa F.C., Luton Town F.C.",
          "Coventry City F.C.",
          "AFC Bournemouth"
         ],
         "legendgroup": "Africa",
         "marker": {
          "color": "#636efa",
          "symbol": "circle"
         },
         "mode": "markers",
         "name": "Africa",
         "showlegend": true,
         "type": "scattergl",
         "x": [
          0,
          1,
          2,
          3,
          4,
          5,
          6,
          7,
          8,
          9,
          10,
          11,
          12,
          13,
          14,
          15,
          16,
          17,
          18,
          19,
          20,
          21,
          22,
          23,
          24,
          25,
          26,
          27,
          28,
          29,
          30,
          31,
          32,
          33,
          34,
          35,
          36,
          37,
          38,
          39,
          40,
          41,
          42,
          43,
          44,
          45,
          46,
          47,
          48,
          49,
          50,
          51,
          52,
          53,
          54,
          55,
          56,
          57,
          58,
          59,
          60,
          61,
          62,
          63,
          64,
          65,
          66,
          67,
          68,
          69,
          70,
          71,
          72,
          73,
          74,
          75,
          76,
          77,
          78,
          79,
          80,
          81,
          82,
          83,
          84,
          85,
          86,
          87,
          88,
          89,
          90,
          91,
          92,
          93,
          94,
          95,
          96,
          97,
          98,
          99,
          100,
          101,
          102,
          103,
          104,
          105,
          106,
          107,
          108,
          109,
          110,
          111,
          112,
          113,
          114,
          115,
          116,
          117,
          118,
          119,
          120,
          121,
          122,
          123,
          124,
          125,
          126,
          127,
          128,
          129,
          130,
          131,
          132,
          133,
          134,
          135,
          136,
          137,
          138,
          139,
          140,
          141,
          142,
          143,
          144,
          145,
          146,
          147,
          148,
          149,
          150,
          151,
          152,
          153,
          154,
          155,
          156,
          157,
          158,
          159,
          160,
          161,
          162,
          163,
          164,
          165,
          166,
          167,
          168,
          169,
          170,
          171,
          172,
          173,
          174,
          175,
          176,
          177,
          178,
          179,
          180,
          181,
          182,
          183,
          184,
          185,
          186,
          187,
          188,
          189,
          190,
          191,
          192,
          193,
          194,
          195,
          196,
          197,
          198,
          199,
          200,
          201,
          202,
          203,
          204,
          205,
          206,
          207,
          208,
          209,
          210,
          211,
          212,
          213,
          214,
          215,
          216,
          217,
          218,
          219,
          220,
          221,
          222,
          223,
          224,
          225,
          226,
          227,
          228,
          229,
          230,
          231,
          232,
          233,
          234,
          235,
          236,
          237,
          238,
          239,
          240,
          241,
          242,
          243,
          244,
          245,
          246,
          247,
          248,
          249,
          250,
          251,
          252,
          253,
          254,
          255,
          256,
          257,
          258,
          259,
          260,
          261,
          262,
          263,
          264,
          265,
          266,
          267,
          268,
          269,
          270,
          271,
          272,
          273,
          274,
          275,
          276,
          277,
          278,
          279,
          280,
          281,
          282,
          283,
          284,
          285,
          286,
          287,
          288,
          289,
          290,
          291,
          292,
          293,
          294,
          295,
          296,
          297,
          298,
          299,
          300,
          301,
          302,
          303,
          304,
          305,
          306,
          307,
          308,
          309,
          310,
          311,
          312,
          313,
          314,
          315,
          316,
          317,
          318,
          319,
          320,
          321,
          322,
          323,
          324,
          325,
          326,
          327,
          328,
          329,
          330,
          331,
          332,
          333,
          334,
          335,
          336,
          337,
          338,
          339,
          340,
          341,
          342,
          343,
          344,
          345,
          346,
          347,
          348,
          349,
          350,
          351,
          352,
          353,
          354,
          355,
          356,
          357,
          358,
          359,
          360,
          361,
          362,
          363,
          364,
          365,
          366,
          367,
          368,
          369,
          370,
          371,
          372,
          373,
          374,
          375,
          376,
          377,
          378,
          379,
          380,
          381,
          382,
          383,
          384,
          385,
          386,
          387,
          388,
          389,
          390,
          391,
          392,
          393,
          394,
          395,
          396,
          397,
          398
         ],
         "xaxis": "x",
         "y": [
          2014,
          2020,
          2008,
          2002,
          2002,
          2020,
          2013,
          2006,
          2006,
          2016,
          2018,
          2009,
          2009,
          2010,
          2023,
          2014,
          1997,
          2016,
          2009,
          2018,
          2008,
          2013,
          2017,
          2010,
          2023,
          2022,
          2015,
          2013,
          2012,
          2006,
          2004,
          2023,
          2008,
          2006,
          2017,
          2017,
          2003,
          2006,
          2009,
          2012,
          2013,
          1998,
          2002,
          2000,
          2000,
          2010,
          2016,
          2021,
          2012,
          2001,
          2002,
          2004,
          2015,
          2016,
          2021,
          2015,
          2003,
          2023,
          2005,
          1998,
          2005,
          2010,
          2002,
          2018,
          2010,
          2013,
          2008,
          2009,
          2007,
          2000,
          2013,
          2009,
          2006,
          2015,
          2017,
          2013,
          2018,
          2008,
          2015,
          2017,
          2009,
          2021,
          2018,
          2007,
          2000,
          2016,
          2015,
          2015,
          2023,
          2008,
          2006,
          1999,
          2006,
          2021,
          2010,
          2015,
          2006,
          2013,
          2006,
          2017,
          2004,
          2013,
          2007,
          2016,
          2019,
          2008,
          2016,
          2015,
          2017,
          2008,
          2018,
          2017,
          2016,
          2014,
          2016,
          1997,
          2011,
          2015,
          2014,
          2015,
          2015,
          2013,
          2007,
          2003,
          2015,
          2005,
          2021,
          2011,
          2010,
          2002,
          2007,
          2023,
          1994,
          2019,
          2009,
          2007,
          2000,
          2018,
          2004,
          2006,
          2020,
          2015,
          2020,
          2004,
          2014,
          2022,
          2022,
          1994,
          2007,
          1999,
          2018,
          1998,
          2018,
          2008,
          2013,
          2023,
          2017,
          2016,
          1998,
          2018,
          2017,
          2018,
          2013,
          2021,
          2022,
          2011,
          2020,
          2009,
          2015,
          2004,
          2004,
          2007,
          2022,
          2019,
          2011,
          2009,
          2015,
          2019,
          2006,
          2021,
          2019,
          2012,
          2015,
          2006,
          2019,
          2010,
          2013,
          2023,
          2018,
          2002,
          2010,
          2002,
          2010,
          2023,
          2022,
          2013,
          2013,
          2006,
          2013,
          2009,
          1999,
          1997,
          2018,
          2007,
          2017,
          2011,
          2011,
          2019,
          2016,
          2022,
          2012,
          1999,
          2007,
          2012,
          2015,
          2008,
          2005,
          2012,
          2022,
          2000,
          2017,
          2013,
          2018,
          2022,
          2015,
          2023,
          2012,
          2016,
          2010,
          1999,
          2009,
          2012,
          2002,
          1999,
          2006,
          1999,
          1998,
          2021,
          2018,
          2004,
          2001,
          2017,
          2004,
          2018,
          2006,
          2023,
          2020,
          2006,
          2016,
          2020,
          1993,
          2012,
          2013,
          2010,
          2000,
          1994,
          2005,
          2013,
          2022,
          2022,
          1997,
          2018,
          2023,
          2021,
          1992,
          2015,
          2021,
          2007,
          2007,
          2001,
          2014,
          2015,
          2015,
          2011,
          2015,
          2021,
          2004,
          1998,
          2017,
          2016,
          2020,
          2006,
          2006,
          2009,
          2016,
          1992,
          2016,
          2010,
          2010,
          2002,
          2003,
          2008,
          2022,
          2021,
          2006,
          2006,
          2016,
          2011,
          2020,
          2021,
          2002,
          2007,
          2000,
          2003,
          2002,
          2010,
          2023,
          2007,
          2003,
          2002,
          2011,
          2002,
          1996,
          2020,
          2009,
          2002,
          2007,
          2001,
          2006,
          2004,
          2002,
          2009,
          2016,
          2004,
          2005,
          2003,
          2015,
          2010,
          2023,
          2004,
          2022,
          2014,
          2014,
          2012,
          2020,
          2016,
          2012,
          2017,
          2020,
          2014,
          2022,
          2016,
          2015,
          2015,
          2014,
          2003,
          2019,
          2022,
          2006,
          2014,
          2007,
          2001,
          2008,
          2006,
          2011,
          2007,
          2006,
          2015,
          2012,
          2000,
          2009,
          1997,
          1999,
          2023,
          2020,
          2003,
          1994,
          2006,
          2004,
          2005,
          2007,
          1994,
          2015,
          2020,
          1997,
          2019,
          2005,
          2018,
          2003,
          2007,
          2023,
          2015,
          2004,
          2015,
          2020,
          2004,
          2006,
          2018,
          2021,
          1994,
          2012,
          2005,
          2021,
          2005,
          2014,
          1992,
          2019,
          1992,
          2022
         ],
         "yaxis": "y"
        },
        {
         "hovertemplate": "<b>%{hovertext}</b><br><br>Region=Asia<br>index=%{x}<br>First Year=%{y}<extra></extra>",
         "hovertext": [
          "Manchester City F.C.",
          "Coventry City F.C.",
          "Derby County F.C.",
          "Aston Villa F.C., Manchester United F.C., Chelsea F.C.",
          "Ipswich Town F.C.",
          "Leeds United F.C.",
          "Everton F.C.",
          "Blackpool F.C.",
          "West Ham United F.C.",
          "West Bromwich Albion F.C.",
          "Fulham F.C.",
          "Blackburn Rovers F.C.",
          "Reading F.C., AFC Bournemouth",
          "Coventry City F.C., Blackburn Rovers F.C., Wigan Athletic F.C.",
          "West Ham United F.C., Portsmouth F.C.",
          "Fulham F.C.",
          "West Ham United F.C., Hull City A.F.C.",
          "Blackburn Rovers F.C.",
          "Aston Villa F.C.",
          "Aston Villa F.C.",
          "Crystal Palace F.C.",
          "Watford F.C.",
          "Middlesbrough F.C., Liverpool F.C.",
          "Everton F.C.",
          "Leeds United F.C., Liverpool F.C.",
          "Birmingham City F.C.",
          "West Ham United F.C., Birmingham City F.C.",
          "Aston Villa F.C.",
          "West Ham United F.C.",
          "Southampton F.C.",
          "Leeds United F.C.",
          "Newcastle United F.C.",
          "Huddersfield Town A.F.C., Brighton & Hove Albion F.C.",
          "Crystal Palace F.C.",
          "Blackburn Rovers F.C., West Ham United F.C., Everton F.C.",
          "Middlesbrough F.C., Leeds United F.C.",
          "Burnley F.C.",
          "Ipswich Town F.C., Charlton Athletic F.C.",
          "Brighton & Hove Albion F.C.",
          "Crystal Palace F.C.",
          "Sheffield Wednesday F.C.",
          "Brighton & Hove Albion F.C., Arsenal F.C.",
          "Middlesbrough F.C., Fulham F.C., Chelsea F.C., Leicester City F.C.",
          "Wigan Athletic F.C.",
          "Blackburn Rovers F.C., West Ham United F.C., Southampton F.C.",
          "Liverpool F.C., AFC Bournemouth",
          "Leicester City F.C.",
          "Derby County F.C.",
          "Manchester City F.C.",
          "Crystal Palace F.C.",
          "Middlesbrough F.C.",
          "Leeds United F.C., Middlesbrough F.C., Newcastle United F.C.",
          "Southampton F.C.",
          "Middlesbrough F.C.",
          "Queens Park Rangers F.C.",
          "Everton F.C.",
          "Manchester United F.C.",
          "Everton F.C.",
          "Everton F.C.",
          "Manchester City F.C.",
          "Arsenal F.C.",
          "Charlton Athletic F.C.",
          "Swansea City A.F.C.",
          "Charlton Athletic F.C.",
          "Fulham F.C.",
          "Brentford F.C.",
          "Brighton & Hove Albion F.C.",
          "Bolton Wanderers F.C., Fulham F.C.",
          "Liverpool F.C.",
          "Luton Town F.C.",
          "Fulham F.C., West Bromwich Albion F.C.",
          "Manchester United F.C.",
          "Liverpool F.C., Southampton F.C.",
          "Brighton & Hove Albion F.C.",
          "Bolton Wanderers F.C., Wigan Athletic F.C., Arsenal F.C.",
          "Newcastle United F.C.",
          "Bolton Wanderers F.C.",
          "Leicester City F.C.",
          "Tottenham Hotspur F.C.",
          "Arsenal F.C.",
          "Southampton F.C.",
          "Wigan Athletic F.C.",
          "Wolverhampton Wanderers F.C.",
          "Sunderland A.F.C.",
          "Swansea City A.F.C., Sunderland A.F.C., Newcastle United F.C.",
          "Cardiff City F.C.",
          "West Bromwich Albion F.C.",
          "Bolton Wanderers F.C., Crystal Palace F.C.",
          "Middlesbrough F.C.",
          "Tottenham Hotspur F.C.",
          "Arsenal F.C.",
          "Manchester United F.C., Queens Park Rangers F.C.",
          "Reading F.C., Fulham F.C.",
          "Tottenham Hotspur F.C.",
          "Queens Park Rangers F.C.",
          "Bolton Wanderers F.C., Wigan Athletic F.C.",
          "Fulham F.C.",
          "Cardiff City F.C."
         ],
         "ids": [
          "Manchester City F.C.",
          "Coventry City F.C.",
          "Derby County F.C.",
          "Aston Villa F.C., Manchester United F.C., Chelsea F.C.",
          "Ipswich Town F.C.",
          "Leeds United F.C.",
          "Everton F.C.",
          "Blackpool F.C.",
          "West Ham United F.C.",
          "West Bromwich Albion F.C.",
          "Fulham F.C.",
          "Blackburn Rovers F.C.",
          "Reading F.C., AFC Bournemouth",
          "Coventry City F.C., Blackburn Rovers F.C., Wigan Athletic F.C.",
          "West Ham United F.C., Portsmouth F.C.",
          "Fulham F.C.",
          "West Ham United F.C., Hull City A.F.C.",
          "Blackburn Rovers F.C.",
          "Aston Villa F.C.",
          "Aston Villa F.C.",
          "Crystal Palace F.C.",
          "Watford F.C.",
          "Middlesbrough F.C., Liverpool F.C.",
          "Everton F.C.",
          "Leeds United F.C., Liverpool F.C.",
          "Birmingham City F.C.",
          "West Ham United F.C., Birmingham City F.C.",
          "Aston Villa F.C.",
          "West Ham United F.C.",
          "Southampton F.C.",
          "Leeds United F.C.",
          "Newcastle United F.C.",
          "Huddersfield Town A.F.C., Brighton & Hove Albion F.C.",
          "Crystal Palace F.C.",
          "Blackburn Rovers F.C., West Ham United F.C., Everton F.C.",
          "Middlesbrough F.C., Leeds United F.C.",
          "Burnley F.C.",
          "Ipswich Town F.C., Charlton Athletic F.C.",
          "Brighton & Hove Albion F.C.",
          "Crystal Palace F.C.",
          "Sheffield Wednesday F.C.",
          "Brighton & Hove Albion F.C., Arsenal F.C.",
          "Middlesbrough F.C., Fulham F.C., Chelsea F.C., Leicester City F.C.",
          "Wigan Athletic F.C.",
          "Blackburn Rovers F.C., West Ham United F.C., Southampton F.C.",
          "Liverpool F.C., AFC Bournemouth",
          "Leicester City F.C.",
          "Derby County F.C.",
          "Manchester City F.C.",
          "Crystal Palace F.C.",
          "Middlesbrough F.C.",
          "Leeds United F.C., Middlesbrough F.C., Newcastle United F.C.",
          "Southampton F.C.",
          "Middlesbrough F.C.",
          "Queens Park Rangers F.C.",
          "Everton F.C.",
          "Manchester United F.C.",
          "Everton F.C.",
          "Everton F.C.",
          "Manchester City F.C.",
          "Arsenal F.C.",
          "Charlton Athletic F.C.",
          "Swansea City A.F.C.",
          "Charlton Athletic F.C.",
          "Fulham F.C.",
          "Brentford F.C.",
          "Brighton & Hove Albion F.C.",
          "Bolton Wanderers F.C., Fulham F.C.",
          "Liverpool F.C.",
          "Luton Town F.C.",
          "Fulham F.C., West Bromwich Albion F.C.",
          "Manchester United F.C.",
          "Liverpool F.C., Southampton F.C.",
          "Brighton & Hove Albion F.C.",
          "Bolton Wanderers F.C., Wigan Athletic F.C., Arsenal F.C.",
          "Newcastle United F.C.",
          "Bolton Wanderers F.C.",
          "Leicester City F.C.",
          "Tottenham Hotspur F.C.",
          "Arsenal F.C.",
          "Southampton F.C.",
          "Wigan Athletic F.C.",
          "Wolverhampton Wanderers F.C.",
          "Sunderland A.F.C.",
          "Swansea City A.F.C., Sunderland A.F.C., Newcastle United F.C.",
          "Cardiff City F.C.",
          "West Bromwich Albion F.C.",
          "Bolton Wanderers F.C., Crystal Palace F.C.",
          "Middlesbrough F.C.",
          "Tottenham Hotspur F.C.",
          "Arsenal F.C.",
          "Manchester United F.C., Queens Park Rangers F.C.",
          "Reading F.C., Fulham F.C.",
          "Tottenham Hotspur F.C.",
          "Queens Park Rangers F.C.",
          "Bolton Wanderers F.C., Wigan Athletic F.C.",
          "Fulham F.C.",
          "Cardiff City F.C."
         ],
         "legendgroup": "Asia",
         "marker": {
          "color": "#EF553B",
          "symbol": "circle"
         },
         "mode": "markers",
         "name": "Asia",
         "showlegend": true,
         "type": "scattergl",
         "x": [
          399,
          400,
          401,
          402,
          403,
          404,
          405,
          406,
          407,
          408,
          409,
          410,
          411,
          412,
          413,
          414,
          415,
          416,
          417,
          418,
          419,
          420,
          421,
          422,
          423,
          424,
          425,
          426,
          427,
          428,
          429,
          430,
          431,
          432,
          433,
          434,
          435,
          436,
          437,
          438,
          439,
          440,
          441,
          442,
          443,
          444,
          445,
          446,
          447,
          448,
          449,
          450,
          451,
          452,
          453,
          454,
          455,
          456,
          457,
          458,
          459,
          460,
          461,
          462,
          463,
          464,
          465,
          466,
          467,
          468,
          469,
          470,
          471,
          472,
          473,
          474,
          475,
          476,
          477,
          478,
          479,
          480,
          481,
          482,
          483,
          484,
          485,
          486,
          487,
          488,
          489,
          490,
          491,
          492,
          493,
          494,
          495,
          496
         ],
         "xaxis": "x",
         "y": [
          2000,
          1998,
          2000,
          1992,
          1992,
          2000,
          2004,
          2010,
          1998,
          2014,
          2005,
          2003,
          2006,
          1994,
          2000,
          2020,
          2001,
          2008,
          2010,
          2012,
          2013,
          1999,
          2003,
          1992,
          1995,
          2005,
          1995,
          2015,
          1996,
          2001,
          2002,
          2005,
          2017,
          1997,
          2001,
          2000,
          2016,
          1992,
          2022,
          2004,
          1993,
          2017,
          1996,
          2005,
          1994,
          2013,
          2022,
          2007,
          2000,
          1997,
          2002,
          2000,
          2020,
          2001,
          1995,
          2014,
          2006,
          2002,
          2002,
          2002,
          2011,
          2006,
          2013,
          2000,
          2012,
          2021,
          2018,
          2006,
          2023,
          2023,
          2002,
          2012,
          2019,
          2022,
          2011,
          2018,
          2005,
          2015,
          2002,
          2021,
          2012,
          2008,
          2021,
          2011,
          2012,
          2013,
          2008,
          2009,
          2006,
          2005,
          2011,
          2005,
          2006,
          2015,
          2014,
          2007,
          2003,
          2018
         ],
         "yaxis": "y"
        },
        {
         "hovertemplate": "<b>%{hovertext}</b><br><br>Region=Europe<br>index=%{x}<br>First Year=%{y}<extra></extra>",
         "hovertext": [
          "Chelsea F.C., Southampton F.C., Fulham F.C.",
          "Sunderland A.F.C.",
          "Brentford F.C.",
          "Manchester United F.C., Arsenal F.C.",
          "Stoke City F.C., West Ham United F.C.",
          "Watford F.C.",
          "Stoke City F.C.",
          "Southampton F.C.",
          "Leicester City F.C.",
          "Leicester City F.C.",
          "Leeds United F.C.",
          "Wolverhampton Wanderers F.C.",
          "Newcastle United F.C.",
          "Sunderland A.F.C.",
          "Wolverhampton Wanderers F.C.",
          "Arsenal F.C.",
          "Sheffield Wednesday F.C.",
          "Middlesbrough F.C., West Ham United F.C.",
          "Watford F.C.",
          "Manchester United F.C.",
          "Wigan Athletic F.C., West Bromwich Albion F.C.",
          "Brighton & Hove Albion F.C.",
          "Aston Villa F.C.",
          "Tottenham Hotspur F.C., Stoke City F.C.",
          "Leeds United F.C.",
          "Arsenal F.C., Birmingham City F.C.",
          "Blackpool F.C.",
          "Newcastle United F.C.",
          "Burnley F.C.",
          "Southampton F.C., Tottenham Hotspur F.C.",
          "Watford F.C.",
          "Chelsea F.C., Crystal Palace F.C.",
          "Burnley F.C.",
          "Aston Villa F.C., Liverpool F.C., Crystal Palace F.C.",
          "Crystal Palace F.C.",
          "Tottenham Hotspur F.C.",
          "West Ham United F.C.",
          "Manchester City F.C., Bolton Wanderers F.C.",
          "Leicester City F.C., Fulham F.C.",
          "Tottenham Hotspur F.C., West Bromwich Albion F.C.",
          "Coventry City F.C.",
          "Chelsea F.C.",
          "Sheffield Wednesday F.C., Aston Villa F.C.",
          "Chelsea F.C., Manchester City F.C.",
          "Burnley F.C.",
          "Sheffield Wednesday F.C.",
          "Manchester United F.C., Norwich City F.C., Leicester City F.C.",
          "Burnley F.C.",
          "Fulham F.C., Tottenham Hotspur F.C.",
          "Sunderland A.F.C.",
          "Wolverhampton Wanderers F.C., Aston Villa F.C.",
          "Huddersfield Town A.F.C.",
          "Southampton F.C.",
          "Manchester City F.C.",
          "Aston Villa F.C.",
          "Leicester City F.C.",
          "Everton F.C., Manchester United F.C.",
          "Coventry City F.C.",
          "Chelsea F.C.",
          "West Bromwich Albion F.C.",
          "Manchester United F.C., Sunderland A.F.C.",
          "Watford F.C.",
          "Luton Town F.C.",
          "Manchester City F.C.",
          "Swansea City A.F.C.",
          "Southampton F.C., Chelsea F.C.",
          "Chelsea F.C., West Bromwich Albion F.C., Everton F.C., Manchester United F.C.",
          "Watford F.C.",
          "Nottingham Forest F.C.",
          "Huddersfield Town A.F.C.",
          "Sunderland A.F.C., Liverpool F.C.",
          "Everton F.C.",
          "Manchester City F.C.",
          "Wolverhampton Wanderers F.C.",
          "Chelsea F.C.",
          "Stoke City F.C.",
          "Aston Villa F.C.",
          "Norwich City F.C.",
          "Everton F.C.",
          "Liverpool F.C., Nottingham Forest F.C.",
          "Watford F.C.",
          "West Bromwich Albion F.C.",
          "Leicester City F.C.",
          "Coventry City F.C.",
          "Arsenal F.C., Crystal Palace F.C., Luton Town F.C.",
          "Nottingham Forest F.C.",
          "Derby County F.C.",
          "Leicester City F.C., Aston Villa F.C.",
          "Burnley F.C.",
          "Brighton & Hove Albion F.C., Arsenal F.C.",
          "Birmingham City F.C.",
          "Manchester City F.C.",
          "Southampton F.C., Wolverhampton Wanderers F.C.",
          "Portsmouth F.C.",
          "Arsenal F.C.",
          "Tottenham Hotspur F.C.",
          "Sheffield United F.C.",
          "Portsmouth F.C., Stoke City F.C., Chelsea F.C., AFC Bournemouth, Everton F.C.",
          "Everton F.C., Sheffield United F.C.",
          "Manchester City F.C.",
          "Arsenal F.C.",
          "Coventry City F.C.",
          "Norwich City F.C.",
          "Tottenham Hotspur F.C., Manchester United F.C., Fulham F.C.",
          "Manchester City F.C.",
          "Ipswich Town F.C.",
          "Charlton Athletic F.C.",
          "Fulham F.C.",
          "Manchester City F.C., Bolton Wanderers F.C.",
          "Aston Villa F.C.",
          "West Ham United F.C., Portsmouth F.C., Wigan Athletic F.C.",
          "Aston Villa F.C.",
          "Derby County F.C.",
          "Aston Villa F.C.",
          "West Ham United F.C., Everton F.C.",
          "Liverpool F.C.",
          "Middlesbrough F.C.",
          "Southampton F.C.",
          "Manchester City F.C., Tottenham Hotspur F.C.",
          "Arsenal F.C.",
          "Sheffield United F.C.",
          "Manchester City F.C.",
          "Everton F.C., Hull City A.F.C., West Ham United F.C.",
          "Nottingham Forest F.C.",
          "Blackburn Rovers F.C.",
          "Bolton Wanderers F.C.",
          "Chelsea F.C., Manchester City F.C.",
          "Leicester City F.C.",
          "Portsmouth F.C., Tottenham Hotspur F.C., Queens Park Rangers F.C.",
          "West Bromwich Albion F.C.",
          "Southampton F.C., Liverpool F.C.",
          "Newcastle United F.C.",
          "Tottenham Hotspur F.C.",
          "Portsmouth F.C.",
          "Southampton F.C.",
          "Tottenham Hotspur F.C.",
          "Fulham F.C., West Ham United F.C.",
          "Chelsea F.C.",
          "Derby County F.C., West Ham United F.C.",
          "Arsenal F.C., West Ham United F.C.",
          "Everton F.C., West Ham United F.C.",
          "Portsmouth F.C.",
          "Chelsea F.C.",
          "Newcastle United F.C.",
          "Sunderland A.F.C.",
          "Liverpool F.C., Aston Villa F.C., Portsmouth F.C.",
          "West Bromwich Albion F.C.",
          "Liverpool F.C., Portsmouth F.C., Aston Villa F.C.",
          "Chelsea F.C., Arsenal F.C.",
          "Sunderland A.F.C.",
          "Tottenham Hotspur F.C., Queens Park Rangers F.C.",
          "West Ham United F.C.",
          "Fulham F.C.",
          "Fulham F.C.",
          "Chelsea F.C., Birmingham City F.C.",
          "Birmingham City F.C.",
          "Chelsea F.C.",
          "West Ham United F.C.",
          "Aston Villa F.C.",
          "West Ham United F.C.",
          "Fulham F.C.",
          "Birmingham City F.C.",
          "Reading F.C.",
          "West Ham United F.C.",
          "Manchester United F.C.",
          "West Ham United F.C.",
          "Arsenal F.C.",
          "Newcastle United F.C.",
          "Liverpool F.C.",
          "West Ham United F.C.",
          "Newcastle United F.C., Sheffield Wednesday F.C., Portsmouth F.C.",
          "Queens Park Rangers F.C.",
          "West Bromwich Albion F.C., Watford F.C., Burnley F.C.",
          "Liverpool F.C.",
          "West Bromwich Albion F.C.",
          "Fulham F.C., Crystal Palace F.C.",
          "Luton Town F.C.",
          "Charlton Athletic F.C.",
          "Fulham F.C.",
          "Middlesbrough F.C., Derby County F.C.",
          "Arsenal F.C., Sunderland A.F.C.",
          "Brentford F.C.",
          "Huddersfield Town A.F.C., AFC Bournemouth",
          "Manchester City F.C.",
          "Burnley F.C.",
          "Wolverhampton Wanderers F.C.",
          "Chelsea F.C.",
          "Cardiff City F.C.",
          "Brentford F.C.",
          "Everton F.C.",
          "Southampton F.C., Manchester City F.C.",
          "Tottenham Hotspur F.C., Brentford F.C., Manchester United F.C.",
          "Middlesbrough F.C.",
          "Bolton Wanderers F.C.",
          "Sunderland A.F.C.",
          "Ipswich Town F.C., West Bromwich Albion F.C.",
          "Chelsea F.C., Fulham F.C.",
          "Everton F.C.",
          "Chelsea F.C., Birmingham City F.C.",
          "Bolton Wanderers F.C.",
          "Stoke City F.C.",
          "Aston Villa F.C.",
          "Norwich City F.C.",
          "Chelsea F.C.",
          "Southampton F.C., Tottenham Hotspur F.C.",
          "Manchester United F.C.",
          "Leicester City F.C.",
          "Everton F.C., Blackburn Rovers F.C., West Ham United F.C.",
          "Burnley F.C.",
          "Charlton Athletic F.C., Fulham F.C.",
          "Arsenal F.C.",
          "Brentford F.C.",
          "Manchester City F.C., Fulham F.C.",
          "Coventry City F.C.",
          "Bolton Wanderers F.C.",
          "Huddersfield Town A.F.C., Brentford F.C.",
          "Chelsea F.C.",
          "Leeds United F.C.",
          "Leicester City F.C.",
          "Everton F.C.",
          "Fulham F.C.",
          "Chelsea F.C.",
          "Derby County F.C., Leicester City F.C.",
          "Aston Villa F.C.",
          "Manchester United F.C.",
          "Huddersfield Town A.F.C., Brentford F.C.",
          "Newcastle United F.C.",
          "AFC Bournemouth",
          "Liverpool F.C.",
          "Tottenham Hotspur F.C.",
          "Brentford F.C.",
          "Aston Villa F.C.",
          "Sheffield United F.C.",
          "Bolton Wanderers F.C.",
          "Blackburn Rovers F.C.",
          "Liverpool F.C.",
          "Liverpool F.C.",
          "Portsmouth F.C.",
          "West Ham United F.C.",
          "Brentford F.C.",
          "Charlton Athletic F.C.",
          "Manchester City F.C., Leicester City F.C.",
          "Manchester United F.C., Aston Villa F.C., Manchester City F.C.",
          "Norwich City F.C.",
          "Stoke City F.C.",
          "Brentford F.C.",
          "Sunderland A.F.C., Aston Villa F.C., Stoke City F.C.",
          "Manchester City F.C.",
          "Ipswich Town F.C., Everton F.C.",
          "Bolton Wanderers F.C.",
          "Newcastle United F.C.",
          "Southampton F.C., Leicester City F.C.",
          "Cardiff City F.C.",
          "Liverpool F.C.",
          "Derby County F.C., Sunderland A.F.C., Arsenal F.C.",
          "Manchester City F.C.",
          "Aston Villa F.C., Blackburn Rovers F.C.",
          "Brentford F.C.",
          "Chelsea F.C., Birmingham City F.C.",
          "Liverpool F.C.",
          "Bolton Wanderers F.C., West Ham United F.C.",
          "Charlton Athletic F.C.",
          "Fulham F.C.",
          "Crystal Palace F.C.",
          "Blackburn Rovers F.C., Fulham F.C., Newcastle United F.C.",
          "Liverpool F.C.",
          "Southampton F.C., Fulham F.C.",
          "Bolton Wanderers F.C.",
          "Portsmouth F.C.",
          "Norwich City F.C.",
          "Crystal Palace F.C.",
          "Tottenham Hotspur F.C., Sunderland A.F.C., Birmingham City F.C.",
          "West Ham United F.C.",
          "Derby County F.C.",
          "West Ham United F.C.",
          "Aston Villa F.C.",
          "Crystal Palace F.C.",
          "Norwich City F.C.",
          "West Bromwich Albion F.C., West Ham United F.C.",
          "Aston Villa F.C.",
          "Arsenal F.C., West Ham United F.C., Middlesbrough F.C.",
          "Nottingham Forest F.C.",
          "Bolton Wanderers F.C.",
          "Arsenal F.C., Liverpool F.C., Manchester City F.C., Bolton Wanderers F.C., Chelsea F.C., West Bromwich Albion F.C.",
          "Fulham F.C., West Ham United F.C.",
          "Leicester City F.C., Liverpool F.C.",
          "Burnley F.C.",
          "Watford F.C.",
          "Bolton Wanderers F.C.",
          "Chelsea F.C.",
          "Chelsea F.C.",
          "Manchester United F.C.",
          "Wolverhampton Wanderers F.C.",
          "Sunderland A.F.C., Manchester United F.C., West Ham United F.C.",
          "Newcastle United F.C., Hull City A.F.C.",
          "Newcastle United F.C., Southampton F.C.",
          "Aston Villa F.C.",
          "Nottingham Forest F.C.",
          "Manchester United F.C.",
          "Sheffield Wednesday F.C.",
          "Nottingham Forest F.C.",
          "Fulham F.C.",
          "Watford F.C.",
          "Newcastle United F.C.",
          "Newcastle United F.C., Crystal Palace F.C.",
          "Newcastle United F.C.",
          "Leeds United F.C.",
          "Bolton Wanderers F.C.",
          "Leeds United F.C., Manchester United F.C.",
          "Tottenham Hotspur F.C., Watford F.C.",
          "Sunderland A.F.C.",
          "Watford F.C.",
          "Leeds United F.C.",
          "Chelsea F.C., Newcastle United F.C., Manchester City F.C.",
          "Liverpool F.C.",
          "Wigan Athletic F.C., Tottenham Hotspur F.C., Sunderland A.F.C., Blackburn Rovers F.C.",
          "Fulham F.C.",
          "Bolton Wanderers F.C.",
          "Liverpool F.C., Sunderland A.F.C., Queens Park Rangers F.C.",
          "West Ham United F.C.",
          "Liverpool F.C., Aston Villa F.C.",
          "Arsenal F.C., Manchester City F.C.",
          "Southampton F.C.",
          "Arsenal F.C.",
          "West Ham United F.C.",
          "Arsenal F.C.",
          "Manchester City F.C.",
          "Everton F.C., Leeds United F.C., Fulham F.C.",
          "Tottenham Hotspur F.C.",
          "Cardiff City F.C.",
          "Nottingham Forest F.C.",
          "Middlesbrough F.C.",
          "Newcastle United F.C., Arsenal F.C.",
          "Fulham F.C.",
          "Chelsea F.C.",
          "Chelsea F.C.",
          "Arsenal F.C.",
          "Aston Villa F.C.",
          "Huddersfield Town A.F.C.",
          "Sunderland A.F.C.",
          "Southampton F.C.",
          "West Ham United F.C.",
          "Chelsea F.C., Arsenal F.C., Portsmouth F.C.",
          "Middlesbrough F.C.",
          "Everton F.C., Aston Villa F.C.",
          "Liverpool F.C.",
          "West Ham United F.C., Fulham F.C.",
          "Chelsea F.C.",
          "Newcastle United F.C., Manchester City F.C., Portsmouth F.C., Everton F.C., AFC Bournemouth",
          "Fulham F.C., Bolton Wanderers F.C.",
          "Bolton Wanderers F.C., Blackburn Rovers F.C.",
          "Newcastle United F.C., Leeds United F.C.",
          "Derby County F.C.",
          "Birmingham City F.C.",
          "Newcastle United F.C.",
          "Crystal Palace F.C.",
          "Bolton Wanderers F.C.",
          "Burnley F.C.",
          "Manchester United F.C., West Ham United F.C.",
          "AFC Bournemouth",
          "West Ham United F.C.",
          "Southampton F.C., Bolton Wanderers F.C.",
          "Liverpool F.C.",
          "Arsenal F.C., Crystal Palace F.C.",
          "Leicester City F.C., Chelsea F.C.",
          "West Bromwich Albion F.C.",
          "Watford F.C.",
          "Chelsea F.C., Arsenal F.C., Tottenham Hotspur F.C.",
          "Arsenal F.C.",
          "Newcastle United F.C., Tottenham Hotspur F.C., Aston Villa F.C., Everton F.C.",
          "Arsenal F.C., Chelsea F.C.",
          "Blackburn Rovers F.C.",
          "Newcastle United F.C., Fulham F.C.",
          "Swansea City A.F.C.",
          "Newcastle United F.C.",
          "Blackburn Rovers F.C.",
          "Blackpool F.C.",
          "Watford F.C.",
          "Derby County F.C.",
          "Southampton F.C.",
          "Arsenal F.C.",
          "Arsenal F.C.",
          "Arsenal F.C.",
          "Aston Villa F.C.",
          "Newcastle United F.C.",
          "Chelsea F.C.",
          "Arsenal F.C.",
          "Crystal Palace F.C.",
          "Tottenham Hotspur F.C., Portsmouth F.C., Sunderland A.F.C., Watford F.C.",
          "Aston Villa F.C.",
          "Manchester United F.C.",
          "Leicester City F.C., Chelsea F.C.",
          "Birmingham City F.C., Wigan Athletic F.C.",
          "Middlesbrough F.C.",
          "West Ham United F.C.",
          "AFC Bournemouth",
          "Leicester City F.C., Brighton & Hove Albion F.C.",
          "Liverpool F.C.",
          "Arsenal F.C.",
          "Fulham F.C.",
          "Arsenal F.C.",
          "West Ham United F.C.",
          "Chelsea F.C.",
          "Sunderland A.F.C.",
          "Leeds United F.C.",
          "Bolton Wanderers F.C.",
          "Fulham F.C.",
          "Ipswich Town F.C.",
          "Liverpool F.C., Sunderland A.F.C.",
          "Chelsea F.C.",
          "Norwich City F.C.",
          "Fulham F.C.",
          "Newcastle United F.C.",
          "Tottenham Hotspur F.C., Aston Villa F.C.",
          "Tottenham Hotspur F.C.",
          "Nottingham Forest F.C.",
          "Liverpool F.C.",
          "Everton F.C.",
          "Chelsea F.C.",
          "Fulham F.C., Tottenham Hotspur F.C., Sunderland A.F.C.",
          "Chelsea F.C.",
          "Crystal Palace F.C.",
          "Sunderland A.F.C.",
          "Manchester City F.C., Everton F.C.",
          "Southampton F.C.",
          "Fulham F.C.",
          "Manchester United F.C.",
          "Derby County F.C.",
          "Newcastle United F.C.",
          "Burnley F.C.",
          "Crystal Palace F.C.",
          "Brighton & Hove Albion F.C., Everton F.C., Brentford F.C.",
          "Derby County F.C.",
          "Manchester City F.C.",
          "Bolton Wanderers F.C., Hull City A.F.C.",
          "Leeds United F.C.",
          "Blackburn Rovers F.C.",
          "AFC Bournemouth, Sheffield United F.C.",
          "Hull City A.F.C., Wolverhampton Wanderers F.C.",
          "Sunderland A.F.C.",
          "Sheffield United F.C.",
          "Leicester City F.C.",
          "Arsenal F.C., Manchester City F.C., West Ham United F.C.",
          "Tottenham Hotspur F.C.",
          "Manchester City F.C.",
          "Liverpool F.C., Bolton Wanderers F.C., Swansea City A.F.C.",
          "Bolton Wanderers F.C.",
          "Everton F.C.",
          "Chelsea F.C.",
          "Newcastle United F.C., Wigan Athletic F.C., Aston Villa F.C.",
          "Blackburn Rovers F.C., Stoke City F.C.",
          "Manchester United F.C., Newcastle United F.C.",
          "Burnley F.C.",
          "Crystal Palace F.C.",
          "Tottenham Hotspur F.C., Portsmouth F.C.",
          "West Ham United F.C.",
          "Sunderland A.F.C.",
          "Blackburn Rovers F.C.",
          "Portsmouth F.C., Stoke City F.C.",
          "Southampton F.C.",
          "Arsenal F.C., Chelsea F.C.",
          "Southampton F.C.",
          "Portsmouth F.C., West Ham United F.C.",
          "Arsenal F.C., Aston Villa F.C.",
          "Liverpool F.C.",
          "Manchester United F.C.",
          "Manchester United F.C.",
          "Bolton Wanderers F.C.",
          "Middlesbrough F.C., Fulham F.C., Birmingham City F.C.",
          "Queens Park Rangers F.C., Newcastle United F.C., Chelsea F.C., Crystal Palace F.C.",
          "Sunderland A.F.C.",
          "Newcastle United F.C.",
          "Newcastle United F.C., Portsmouth F.C., Derby County F.C.",
          "Bradford City A.F.C.",
          "Leicester City F.C.",
          "Sunderland A.F.C.",
          "Leeds United F.C.",
          "Arsenal F.C., Manchester City F.C.",
          "Arsenal F.C., Crystal Palace F.C.",
          "Newcastle United F.C., Fulham F.C., Manchester United F.C., Everton F.C., Tottenham Hotspur F.C., Sunderland A.F.C.",
          "Newcastle United F.C.",
          "Liverpool F.C., Crystal Palace F.C.",
          "Arsenal F.C.",
          "Aston Villa F.C.",
          "Chelsea F.C.",
          "West Ham United F.C., Portsmouth F.C.",
          "Southampton F.C., Manchester United F.C., Everton F.C.",
          "Manchester City F.C., Newcastle United F.C., Wigan Athletic F.C.",
          "Everton F.C.",
          "Manchester United F.C., Arsenal F.C.",
          "Liverpool F.C., Blackburn Rovers F.C.",
          "Newcastle United F.C., Tottenham Hotspur F.C., Watford F.C.",
          "Manchester City F.C., Sheffield United F.C.",
          "Leicester City F.C.",
          "Arsenal F.C.",
          "Tottenham Hotspur F.C.",
          "Blackpool F.C.",
          "Southampton F.C.",
          "West Ham United F.C.",
          "Newcastle United F.C.",
          "Cardiff City F.C.",
          "Chelsea F.C.",
          "Blackburn Rovers F.C.",
          "Manchester United F.C.",
          "Aston Villa F.C.",
          "Arsenal F.C., Manchester City F.C.",
          "Liverpool F.C., Portsmouth F.C., Birmingham City F.C.",
          "Coventry City F.C.",
          "Arsenal F.C.",
          "Newcastle United F.C.",
          "Chelsea F.C., Stoke City F.C., Everton F.C., West Ham United F.C.",
          "Wolverhampton Wanderers F.C.",
          "Chelsea F.C.",
          "Manchester City F.C.",
          "Newcastle United F.C.",
          "Blackburn Rovers F.C.",
          "Manchester City F.C., Derby County F.C.",
          "Liverpool F.C., Blackburn Rovers F.C.",
          "Chelsea F.C.",
          "Aston Villa F.C.",
          "Southampton F.C.",
          "Burnley F.C.",
          "Manchester City F.C.",
          "Bolton Wanderers F.C.",
          "Aston Villa F.C.",
          "Liverpool F.C.",
          "Liverpool F.C.",
          "Brighton & Hove Albion F.C.",
          "Huddersfield Town A.F.C.",
          "Norwich City F.C.",
          "Tottenham Hotspur F.C., Leicester City F.C.",
          "Manchester City F.C.",
          "Manchester City F.C.",
          "Arsenal F.C., West Bromwich Albion F.C.",
          "Brighton & Hove Albion F.C.",
          "Manchester City F.C.",
          "Newcastle United F.C., Liverpool F.C., Manchester City F.C.",
          "Chelsea F.C., Arsenal F.C.",
          "Huddersfield Town A.F.C.",
          "Sunderland A.F.C.",
          "Aston Villa F.C., West Ham United F.C., Everton F.C.",
          "Tottenham Hotspur F.C., Fulham F.C.",
          "Brighton & Hove Albion F.C.",
          "Chelsea F.C., Middlesbrough F.C., Stoke City F.C., Leicester City F.C.",
          "Manchester City F.C.",
          "Brentford F.C.",
          "Liverpool F.C., Newcastle United F.C.",
          "Manchester City F.C.",
          "West Ham United F.C.",
          "Brighton & Hove Albion F.C.",
          "Sunderland A.F.C.",
          "Tottenham Hotspur F.C.",
          "Leeds United F.C.",
          "Barnsley F.C.",
          "Arsenal F.C.",
          "Norwich City F.C.",
          "Arsenal F.C., Fulham F.C.",
          "Huddersfield Town A.F.C.",
          "Arsenal F.C.",
          "Chelsea F.C.",
          "Arsenal F.C.",
          "Arsenal F.C.",
          "Crystal Palace F.C.",
          "Arsenal F.C.",
          "Manchester City F.C.",
          "West Ham United F.C.",
          "Manchester City F.C.",
          "Arsenal F.C.",
          "Blackburn Rovers F.C.",
          "Arsenal F.C.",
          "Hull City A.F.C.",
          "Huddersfield Town A.F.C.",
          "Liverpool F.C.",
          "Fulham F.C.",
          "Manchester City F.C., Southampton F.C.",
          "Chelsea F.C.",
          "Norwich City F.C.",
          "Manchester City F.C.",
          "Brentford F.C.",
          "Huddersfield Town A.F.C.",
          "Derby County F.C.",
          "Chelsea F.C., Fulham F.C.",
          "Manchester United F.C.",
          "Portsmouth F.C.",
          "Norwich City F.C.",
          "Norwich City F.C.",
          "Manchester City F.C.",
          "Swansea City A.F.C.",
          "Norwich City F.C.",
          "Brighton & Hove Albion F.C.",
          "Fulham F.C.",
          "Chelsea F.C., Tottenham Hotspur F.C.",
          "Everton F.C.",
          "Stoke City F.C.",
          "Middlesbrough F.C., Liverpool F.C., Tottenham Hotspur F.C.",
          "Leicester City F.C.",
          "Norwich City F.C.",
          "Manchester United F.C., Derby County F.C., Southampton F.C., Sunderland A.F.C., Stoke City F.C.",
          "Sheffield United F.C.",
          "Portsmouth F.C.",
          "Derby County F.C.",
          "Portsmouth F.C.",
          "Newcastle United F.C., Leicester City F.C.",
          "Blackburn Rovers F.C.",
          "Portsmouth F.C.",
          "Newcastle United F.C.",
          "Bolton Wanderers F.C., Hull City A.F.C.",
          "Norwich City F.C.",
          "Watford F.C.",
          "Fulham F.C.",
          "Watford F.C.",
          "Bolton Wanderers F.C.",
          "Liverpool F.C., Sunderland A.F.C.",
          "Crystal Palace F.C.",
          "Sunderland A.F.C.",
          "Arsenal F.C., West Ham United F.C.",
          "Fulham F.C.",
          "Swansea City A.F.C.",
          "Arsenal F.C.",
          "Manchester City F.C., West Bromwich Albion F.C.",
          "Portsmouth F.C.",
          "Stoke City F.C.",
          "Arsenal F.C.",
          "Liverpool F.C.",
          "Norwich City F.C.",
          "Everton F.C.",
          "Nottingham Forest F.C.",
          "Leicester City F.C.",
          "Bolton Wanderers F.C., Liverpool F.C.",
          "Queens Park Rangers F.C.",
          "Sunderland A.F.C., Manchester City F.C., West Bromwich Albion F.C.",
          "West Bromwich Albion F.C., Fulham F.C.",
          "Hull City A.F.C.",
          "AFC Bournemouth",
          "Crystal Palace F.C., Aston Villa F.C.",
          "Liverpool F.C.",
          "West Ham United F.C.",
          "Watford F.C.",
          "Liverpool F.C.",
          "Crystal Palace F.C.",
          "Tottenham Hotspur F.C., Bolton Wanderers F.C.",
          "Chelsea F.C., Tottenham Hotspur F.C., Stoke City F.C., Fulham F.C.",
          "Aston Villa F.C., Wolverhampton Wanderers F.C., Burnley F.C.",
          "Derby County F.C.",
          "Burnley F.C.",
          "Watford F.C.",
          "Cardiff City F.C.",
          "Reading F.C.",
          "Bolton Wanderers F.C., Leicester City F.C.",
          "Watford F.C., Fulham F.C., Bolton Wanderers F.C., Queens Park Rangers F.C.",
          "Crystal Palace F.C., Wimbledon F.C., Ipswich Town F.C., Charlton Athletic F.C., Portsmouth F.C.",
          "Reading F.C.",
          "Wolverhampton Wanderers F.C.",
          "Nottingham Forest F.C.",
          "Arsenal F.C.",
          "Swansea City A.F.C., Tottenham Hotspur F.C., Everton F.C.",
          "West Bromwich Albion F.C.",
          "Bolton Wanderers F.C.",
          "Wimbledon F.C.",
          "West Ham United F.C., Liverpool F.C., Chelsea F.C., Arsenal F.C.",
          "Bolton Wanderers F.C., Chelsea F.C., Manchester City F.C., Sunderland A.F.C., Portsmouth F.C., West Ham United F.C., Queens Park Rangers F.C.",
          "Southampton F.C., West Ham United F.C., Manchester City F.C., Portsmouth F.C.",
          "Bolton Wanderers F.C.",
          "Aston Villa F.C.",
          "Brighton & Hove Albion F.C.",
          "West Ham United F.C.",
          "Brighton & Hove Albion F.C.",
          "Blackpool F.C.",
          "Derby County F.C.",
          "Liverpool F.C., Tottenham Hotspur F.C.",
          "Chelsea F.C.",
          "Swansea City A.F.C.",
          "Fulham F.C., Tottenham Hotspur F.C.",
          "Everton F.C., Bolton Wanderers F.C.",
          "Crystal Palace F.C.",
          "Chelsea F.C.",
          "Chelsea F.C.",
          "Blackburn Rovers F.C.",
          "Liverpool F.C.",
          "Blackburn Rovers F.C.",
          "Derby County F.C.",
          "Manchester City F.C., Liverpool F.C.",
          "Newcastle United F.C.",
          "Tottenham Hotspur F.C.",
          "Manchester City F.C.",
          "Crystal Palace F.C.",
          "Crystal Palace F.C.",
          "Chelsea F.C., Liverpool F.C., Sunderland A.F.C.",
          "West Ham United F.C.",
          "Middlesbrough F.C.",
          "Sheffield Wednesday F.C., Aston Villa F.C., Bradford City A.F.C., Derby County F.C., Middlesbrough F.C.",
          "Chelsea F.C.",
          "Chelsea F.C.",
          "Manchester City F.C.",
          "Chelsea F.C., Tottenham Hotspur F.C.",
          "Wolverhampton Wanderers F.C.",
          "Derby County F.C.",
          "Chelsea F.C.",
          "Manchester United F.C.",
          "Sheffield Wednesday F.C., West Ham United F.C., Charlton Athletic F.C.",
          "Chelsea F.C.",
          "West Ham United F.C.",
          "West Ham United F.C., Watford F.C.",
          "Liverpool F.C., Sunderland A.F.C.",
          "Chelsea F.C., West Ham United F.C.",
          "Derby County F.C.",
          "Everton F.C.",
          "Middlesbrough F.C.",
          "Southampton F.C.",
          "Sunderland A.F.C.",
          "Coventry City F.C.",
          "Leeds United F.C.",
          "Blackburn Rovers F.C.",
          "Chelsea F.C., Arsenal F.C.",
          "Everton F.C.",
          "Burnley F.C.",
          "Crystal Palace F.C.",
          "Arsenal F.C.",
          "Middlesbrough F.C.",
          "Manchester United F.C., Queens Park Rangers F.C.",
          "Leicester City F.C.",
          "Arsenal F.C., Sunderland A.F.C.",
          "Blackburn Rovers F.C.",
          "Everton F.C.",
          "Fulham F.C.",
          "West Ham United F.C.",
          "West Ham United F.C.",
          "Fulham F.C., Watford F.C.",
          "Southampton F.C.",
          "Liverpool F.C.",
          "Crystal Palace F.C.",
          "Liverpool F.C.",
          "Swansea City F.C.",
          "Chelsea F.C.",
          "Southampton F.C.",
          "Newcastle United F.C., Everton F.C.",
          "Manchester United F.C.",
          "Hull City A.F.C.",
          "Middlesbrough F.C., Derby County F.C.",
          "Manchester United F.C., Newcastle United F.C.",
          "Sheffield Wednesday F.C.",
          "Newcastle United F.C.",
          "West Ham United F.C.",
          "Brighton & Hove Albion F.C.",
          "Ipswich Town F.C.",
          "Nottingham Forest F.C.",
          "Manchester United F.C.",
          "Newcastle United F.C.",
          "Tottenham Hotspur F.C.",
          "Fulham F.C.",
          "Tottenham Hotspur F.C.",
          "Crystal Palace F.C.",
          "Chelsea F.C.",
          "Tottenham Hotspur F.C.",
          "Aston Villa F.C.",
          "Chelsea F.C.",
          "West Ham United F.C.",
          "Chelsea F.C.",
          "Manchester City F.C.",
          "Burnley F.C.",
          "Huddersfield Town A.F.C.",
          "Norwich City F.C.",
          "Southampton F.C.",
          "Reading F.C.",
          "Southampton F.C.",
          "Arsenal F.C.",
          "Fulham F.C.",
          "Watford F.C.",
          "Arsenal F.C.",
          "Leeds United F.C.",
          "Manchester City F.C.",
          "Manchester City F.C.",
          "Blackburn Rovers F.C.",
          "Fulham F.C.",
          "Chelsea F.C., Wigan Athletic F.C., Sunderland A.F.C., Crystal Palace F.C.",
          "Ipswich Town F.C.",
          "Stoke City F.C.",
          "Chelsea F.C., Watford F.C., AFC Bournemouth, Manchester City F.C.",
          "Liverpool F.C., Fulham F.C.",
          "Manchester United F.C., Everton F.C.",
          "Watford F.C.",
          "Arsenal F.C.",
          "Tottenham Hotspur F.C.",
          "Manchester United F.C.",
          "Sheffield Wednesday F.C.",
          "Coventry City F.C., Aston Villa F.C., Middlesbrough F.C., Hull City A.F.C.",
          "West Ham United F.C.",
          "Chelsea F.C.",
          "West Ham United F.C.",
          "Manchester City F.C.",
          "Newcastle United F.C.",
          "Chelsea F.C.",
          "Aston Villa F.C.",
          "Arsenal F.C.",
          "Chelsea F.C.",
          "Manchester United F.C.",
          "Manchester United F.C., Luton Town F.C.",
          "Southampton F.C.",
          "Manchester United F.C.",
          "AFC Bournemouth, Tottenham Hotspur F.C., Everton F.C.",
          "Fulham F.C.",
          "Tottenham Hotspur F.C.",
          "Manchester United F.C.",
          "Southampton F.C., Liverpool F.C.",
          "Queens Park Rangers F.C.",
          "Everton F.C.",
          "Aston Villa F.C., Everton F.C.",
          "Southampton F.C.",
          "Fulham F.C.",
          "Middlesbrough F.C., Swansea City A.F.C.",
          "Norwich City F.C., Queens Park Rangers F.C., Swansea City F.C.",
          "Brentford F.C.",
          "Manchester United F.C., Crystal Palace F.C., Fulham F.C.",
          "Bolton Wanderers F.C.",
          "Liverpool F.C.",
          "Chelsea F.C., Stoke City F.C.",
          "Southampton F.C.",
          "Chelsea F.C.",
          "Manchester United F.C.",
          "Liverpool F.C.",
          "Manchester City F.C.",
          "Chelsea F.C.",
          "Swansea City A.F.C.",
          "Sheffield United F.C.",
          "Leeds United F.C., Chelsea F.C., Middlesbrough F.C., Charlton Athletic F.C.",
          "Brighton & Hove Albion F.C.",
          "Everton F.C., Fulham F.C.",
          "Arsenal F.C.",
          "Barnsley F.C.",
          "Southampton F.C.",
          "Wolverhampton Wanderers F.C.",
          "Nottingham Forest F.C.",
          "Southampton F.C.",
          "Swansea City A.F.C.",
          "Newcastle United F.C., Watford F.C.",
          "Tottenham Hotspur F.C.",
          "Fulham F.C.",
          "Newcastle United F.C.",
          "Manchester City F.C.",
          "Newcastle United F.C.",
          "Sheffield Wednesday F.C.",
          "Newcastle United F.C.",
          "Oldham Athletic A.F.C.",
          "Everton F.C.",
          "AFC Bournemouth",
          "Newcastle United F.C.",
          "Huddersfield Town A.F.C., Fulham F.C.",
          "Leeds United F.C., Tottenham Hotspur F.C.",
          "Liverpool F.C.",
          "Newcastle United F.C., Norwich City F.C.",
          "Liverpool F.C.",
          "Derby County F.C.",
          "Wigan Athletic F.C.",
          "Huddersfield Town A.F.C.",
          "Sunderland A.F.C.",
          "Chelsea F.C.",
          "West Bromwich Albion F.C.",
          "Manchester United F.C.",
          "Stoke City F.C.",
          "Liverpool F.C.",
          "Chelsea F.C., Birmingham City F.C., Wigan Athletic F.C.",
          "Everton F.C.",
          "Leeds United F.C., Bradford City A.F.C.",
          "Southampton F.C.",
          "Manchester City F.C.",
          "Bolton Wanderers F.C.",
          "Swansea City A.F.C.",
          "Swindon Town F.C.",
          "Manchester United F.C.",
          "Blackburn Rovers F.C.",
          "Arsenal F.C.",
          "Arsenal F.C., Manchester United F.C.",
          "Fulham F.C.",
          "Stoke City F.C., Burnley F.C.",
          "Aston Villa F.C.",
          "Brighton & Hove Albion F.C.",
          "Middlesbrough F.C.",
          "Manchester City F.C.",
          "Ipswich Town F.C.",
          "Birmingham City F.C., Wigan Athletic F.C.",
          "Crystal Palace F.C.",
          "Blackburn Rovers F.C.",
          "Chelsea F.C.",
          "Middlesbrough F.C.",
          "Nottingham Forest F.C.",
          "Fulham F.C., Manchester United F.C.",
          "Wimbledon F.C., Tottenham Hotspur F.C.",
          "Sheffield Wednesday F.C.",
          "Bolton Wanderers F.C.",
          "Manchester United F.C.",
          "Wigan Athletic F.C.",
          "Fulham F.C., Southampton F.C., Everton F.C.",
          "Leeds United F.C.",
          "Leeds United F.C.",
          "Fulham F.C.",
          "Swansea City A.F.C.",
          "Arsenal F.C.",
          "Sheffield Wednesday F.C.",
          "Tottenham Hotspur F.C.",
          "Brighton & Hove Albion F.C.",
          "Tottenham Hotspur F.C.",
          "Hull City A.F.C.",
          "Brighton & Hove Albion F.C.",
          "Aston Villa F.C.",
          "Manchester City F.C.",
          "Swansea City A.F.C., Tottenham Hotspur F.C.",
          "Wolverhampton Wanderers F.C.",
          "Portsmouth F.C.",
          "Burnley F.C., Manchester United F.C.",
          "Liverpool F.C., Portsmouth F.C., Everton F.C.",
          "Manchester City F.C.",
          "Newcastle United F.C., Liverpool F.C.",
          "Leeds United F.C.",
          "Newcastle United F.C.",
          "Derby County F.C.",
          "Ipswich Town F.C.",
          "Blackburn Rovers F.C.",
          "Norwich City F.C.",
          "Watford F.C.",
          "Watford F.C.",
          "Barnsley F.C., Portsmouth F.C., Wigan Athletic F.C.",
          "Chelsea F.C., Middlesbrough F.C., Liverpool F.C., Sunderland A.F.C.",
          "West Bromwich Albion F.C.",
          "Leeds United F.C.",
          "Barnsley F.C.",
          "West Bromwich Albion F.C.",
          "West Bromwich Albion F.C.",
          "Sheffield Wednesday F.C.",
          "Brentford F.C.",
          "Wimbledon F.C.",
          "Wimbledon F.C., Blackburn Rovers F.C.",
          "Tottenham Hotspur F.C., Everton F.C.",
          "Leeds United F.C., Aston Villa F.C.",
          "Blackburn Rovers F.C., Manchester United F.C.",
          "Sheffield United F.C., Burnley F.C.",
          "Cardiff City F.C.",
          "Liverpool F.C., Blackburn Rovers F.C.",
          "Manchester City F.C.",
          "Nottingham Forest F.C., Blackburn Rovers F.C., Derby County F.C.",
          "Bolton Wanderers F.C.",
          "Derby County F.C.",
          "Aston Villa F.C., Stoke City F.C.",
          "Cardiff City F.C.",
          "Hull City A.F.C.",
          "Cardiff City F.C.",
          "Hull City A.F.C.",
          "Southampton F.C.",
          "Swindon Town F.C., Middlesbrough F.C., Barnsley F.C.",
          "Sheffield United F.C.",
          "Chelsea F.C., Sunderland A.F.C.",
          "Chelsea F.C.",
          "Nottingham Forest F.C., Leeds United F.C., Manchester City F.C.",
          "Manchester City F.C.",
          "Wigan Athletic F.C.",
          "Wigan Athletic F.C.",
          "Oldham Athletic A.F.C., Leeds United F.C., Bradford City A.F.C.",
          "Fulham F.C., Crystal Palace F.C.",
          "Liverpool F.C.",
          "Hull City A.F.C.",
          "Nottingham Forest F.C.",
          "Leeds United F.C.",
          "Manchester City F.C.",
          "Manchester City F.C.",
          "Tottenham Hotspur F.C., Wolverhampton Wanderers F.C.",
          "Fulham F.C.",
          "Southampton F.C.",
          "Chelsea F.C.",
          "Manchester United F.C., Aston Villa F.C., Newcastle United F.C.",
          "Burnley F.C.",
          "Portsmouth F.C.",
          "AFC Bournemouth, Everton F.C., Watford F.C.",
          "Leeds United F.C.",
          "Liverpool F.C.",
          "Wimbledon F.C., Liverpool F.C., Tottenham Hotspur F.C., Aston Villa F.C.",
          "Wimbledon F.C.",
          "Southampton F.C.",
          "Arsenal F.C.",
          "Everton F.C., Sunderland A.F.C., Charlton Athletic F.C.",
          "Manchester United F.C., Fulham F.C.",
          "Sheffield United F.C., Tottenham Hotspur F.C.",
          "West Ham United F.C., Fulham F.C.",
          "Norwich City F.C.",
          "Coventry City F.C.",
          "Aston Villa F.C.",
          "Arsenal F.C.",
          "Southampton F.C., Manchester City F.C., Blackburn Rovers F.C.",
          "Crystal Palace F.C.",
          "Blackburn Rovers F.C.",
          "Oldham Athletic A.F.C., Blackburn Rovers F.C., Wimbledon F.C.",
          "Fulham F.C.",
          "Liverpool F.C., Fulham F.C.",
          "Sheffield Wednesday F.C.",
          "Wimbledon F.C.",
          "Manchester United F.C.",
          "Coventry City F.C., Southampton F.C.",
          "West Ham United F.C.",
          "Crystal Palace F.C.",
          "Nottingham Forest F.C.",
          "Leeds United F.C.",
          "Southampton F.C.",
          "Norwich City F.C.",
          "Tottenham Hotspur F.C.",
          "Burnley F.C.",
          "Southampton F.C., Aston Villa F.C.",
          "Southampton F.C., AFC Bournemouth",
          "Aston Villa F.C.",
          "Liverpool F.C.",
          "Arsenal F.C., Swansea City A.F.C., West Ham United F.C.",
          "Bolton Wanderers F.C.",
          "Hull City A.F.C., West Bromwich Albion F.C.",
          "Arsenal F.C.",
          "Leeds United F.C.",
          "Coventry City F.C.",
          "West Bromwich Albion F.C.",
          "Aston Villa F.C., Sunderland A.F.C.",
          "West Bromwich Albion F.C., Manchester United F.C.",
          "Brighton & Hove Albion F.C.",
          "Portsmouth F.C.",
          "Norwich City F.C.",
          "Tottenham Hotspur F.C., Bolton Wanderers F.C.",
          "Bolton Wanderers F.C.",
          "Birmingham City F.C.",
          "Arsenal F.C.",
          "Everton F.C.",
          "Leicester City F.C.",
          "Southampton F.C.",
          "West Ham United F.C.",
          "Queens Park Rangers F.C.",
          "Everton F.C.",
          "Arsenal F.C.",
          "Arsenal F.C., Southampton F.C., Fulham F.C., West Ham United F.C.",
          "Chelsea F.C., Queens Park Rangers F.C.",
          "Bradford City A.F.C.",
          "Nottingham Forest F.C.",
          "Liverpool F.C.",
          "Manchester City F.C.",
          "Reading F.C.",
          "Liverpool F.C.",
          "Chelsea F.C.",
          "Wolverhampton Wanderers F.C., Fulham F.C.",
          "Southampton F.C., Arsenal F.C., Fulham F.C.",
          "Everton F.C.",
          "Wolverhampton Wanderers F.C.",
          "Charlton Athletic F.C.",
          "Manchester United F.C.",
          "West Ham United F.C.",
          "Chelsea F.C.",
          "Manchester City F.C.",
          "Tottenham Hotspur F.C.",
          "Swansea City A.F.C.",
          "Chelsea F.C.",
          "Manchester United F.C.",
          "Tottenham Hotspur F.C.",
          "Portsmouth F.C., Everton F.C.",
          "Chelsea F.C.",
          "Southampton F.C., West Ham United F.C.",
          "West Ham United F.C.",
          "Everton F.C.",
          "Wolverhampton Wanderers F.C.",
          "Newcastle United F.C.",
          "Chelsea F.C.",
          "West Ham United F.C.",
          "West Bromwich Albion F.C.",
          "Wolverhampton Wanderers F.C.",
          "Wolverhampton Wanderers F.C., Liverpool F.C.",
          "Bolton Wanderers F.C.",
          "Chelsea F.C.",
          "Liverpool F.C., Chelsea F.C.",
          "Tottenham Hotspur F.C., Portsmouth F.C.",
          "Chelsea F.C.",
          "Wolverhampton Wanderers F.C.",
          "Manchester United F.C.",
          "Aston Villa F.C.",
          "Wolverhampton Wanderers F.C.",
          "Wolverhampton Wanderers F.C.",
          "Wolverhampton Wanderers F.C., Manchester City F.C.",
          "Chelsea F.C.",
          "Swansea City A.F.C.",
          "Fulham F.C.",
          "Wolverhampton Wanderers F.C.",
          "Manchester United F.C.",
          "Leicester City F.C.",
          "Norwich City F.C.",
          "Wolverhampton Wanderers F.C.",
          "West Ham United F.C., Nottingham Forest F.C.",
          "Tottenham Hotspur F.C.",
          "Chelsea F.C.",
          "Watford F.C.",
          "Leeds United F.C.",
          "Nottingham Forest F.C.",
          "Tottenham Hotspur F.C., Portsmouth F.C.",
          "Southampton F.C.",
          "Manchester United F.C.",
          "Wolverhampton Wanderers F.C.",
          "Fulham F.C.",
          "Swansea City A.F.C.",
          "Wolverhampton Wanderers F.C.",
          "Wolverhampton Wanderers F.C.",
          "Leicester City F.C.",
          "Manchester City F.C.",
          "Wolverhampton Wanderers F.C.",
          "West Ham United F.C.",
          "Arsenal F.C., Nottingham Forest F.C.",
          "Leicester City F.C.",
          "West Bromwich Albion F.C.",
          "Liverpool F.C.",
          "Chelsea F.C.",
          "Wolverhampton Wanderers F.C.",
          "Wolverhampton Wanderers F.C.",
          "Everton F.C.",
          "West Bromwich Albion F.C.",
          "Bolton Wanderers F.C., West Ham United F.C.",
          "Newcastle United F.C.",
          "Arsenal F.C.",
          "Wolverhampton Wanderers F.C., Everton F.C.",
          "Everton F.C.",
          "Wolverhampton Wanderers F.C.",
          "Everton F.C., Liverpool F.C., Middlesbrough F.C.",
          "Wolverhampton Wanderers F.C., Blackburn Rovers F.C., West Bromwich Albion F.C.",
          "AFC Bournemouth, Cardiff City F.C.",
          "Coventry City F.C., Liverpool F.C., Sunderland A.F.C.",
          "Arsenal F.C.",
          "Southampton F.C.",
          "Southampton F.C., Newcastle United F.C.",
          "Coventry City F.C.",
          "Crystal Palace F.C.",
          "West Ham United F.C.",
          "Hull City A.F.C., Norwich City F.C., Burnley F.C.",
          "Bolton Wanderers F.C., Ipswich Town F.C.",
          "Coventry City F.C., West Ham United F.C., Sunderland A.F.C.",
          "Sunderland A.F.C., Wolverhampton Wanderers F.C.",
          "Sunderland A.F.C.",
          "West Ham United F.C.",
          "Everton F.C.",
          "Leicester City F.C.",
          "Tottenham Hotspur F.C., Newcastle United F.C., Birmingham City F.C.",
          "Aston Villa F.C.",
          "Derby County F.C., Blackburn Rovers F.C., Coventry City F.C., Everton F.C., Birmingham City F.C.",
          "Chelsea F.C.",
          "Fulham F.C.",
          "Aston Villa F.C., Newcastle United F.C.",
          "West Ham United F.C.",
          "Everton F.C.",
          "Chelsea F.C.",
          "Burnley F.C., Wolverhampton Wanderers F.C., Brentford F.C.",
          "Brighton & Hove Albion F.C.",
          "Wigan Athletic F.C., Sunderland A.F.C.",
          "West Ham United F.C.",
          "West Bromwich Albion F.C.",
          "Bolton Wanderers F.C.",
          "Newcastle United F.C.",
          "West Ham United F.C., Burnley F.C.",
          "Middlesbrough F.C.",
          "Manchester City F.C., Cardiff City F.C.",
          "Wimbledon F.C., Birmingham City F.C.",
          "Coventry City F.C.",
          "Leicester City F.C., Crystal Palace F.C.",
          "Derby County F.C., Southampton F.C., Sunderland A.F.C., Stoke City F.C.",
          "Tottenham Hotspur F.C., Norwich City F.C.",
          "Wolverhampton Wanderers F.C., Tottenham Hotspur F.C.",
          "Blackburn Rovers F.C.",
          "Blackburn Rovers F.C.",
          "Birmingham City F.C.",
          "Reading F.C., Wolverhampton Wanderers F.C., Crystal Palace F.C.",
          "Blackburn Rovers F.C., Chelsea F.C., Newcastle United F.C., Fulham F.C.",
          "Everton F.C., Brighton & Hove Albion F.C., Fulham F.C.",
          "Burnley F.C.",
          "Everton F.C., Manchester City F.C., Aston Villa F.C., Queens Park Rangers F.C.",
          "Sheffield United F.C.",
          "Newcastle United F.C.",
          "Manchester City F.C., Sunderland A.F.C.",
          "Southampton F.C.",
          "Birmingham City F.C.",
          "Aston Villa F.C., Everton F.C., Bolton Wanderers F.C.",
          "Tottenham Hotspur F.C.",
          "Brighton & Hove Albion F.C.",
          "Fulham F.C., Liverpool F.C., Portsmouth F.C.",
          "Wimbledon F.C.",
          "Middlesbrough F.C.",
          "Manchester City F.C.",
          "Wigan Athletic F.C., Hull City A.F.C.",
          "Crystal Palace F.C.",
          "Watford F.C.",
          "Wolverhampton Wanderers F.C.",
          "Wolverhampton Wanderers F.C.",
          "Wolverhampton Wanderers F.C.",
          "Crystal Palace F.C.",
          "Middlesbrough F.C.",
          "Sheffield United F.C.",
          "Manchester United F.C., Everton F.C., Sunderland A.F.C.",
          "Crystal Palace F.C.",
          "Blackburn Rovers F.C., Newcastle United F.C., Manchester City F.C., Aston Villa F.C., Stoke City F.C.",
          "Wimbledon F.C.",
          "Queens Park Rangers F.C.",
          "Queens Park Rangers F.C.",
          "Leeds United F.C., Sunderland A.F.C., Reading F.C.",
          "Burnley F.C., Newcastle United F.C.",
          "Wolverhampton Wanderers F.C.",
          "Ipswich Town F.C, Charlton Athletic F.C.",
          "Norwich City F.C.",
          "Aston Villa F.C., Crystal Palace F.C.",
          "Aston Villa F.C.",
          "Reading F.C.",
          "Reading F.C., Hull City A.F.C., Wolverhampton Wanderers F.C.",
          "Norwich City F.C.",
          "Manchester City F.C., Aston Villa F.C., Newcastle United F.C., Stoke City F.C.",
          "Manchester United F.C., Wolverhampton Wanderers F.C.",
          "Middlesbrough F.C., Wigan Athletic F.C.",
          "Coventry City F.C., Leeds United F.C., Tottenham Hotspur F.C., Liverpool F.C., West Ham United F.C., Aston Villa F.C.",
          "Nottingham Forest F.C., Manchester United F.C.",
          "Manchester United F.C., Hull City A.F.C.",
          "Liverpool F.C.",
          "Sheffield United F.C., Blackburn Rovers F.C.",
          "Sunderland A.F.C.",
          "Leeds United F.C.",
          "Tottenham Hotspur F.C., Birmingham City F.C., Stoke City F.C., Fulham F.C., Reading F.C.",
          "Southampton F.C., Blackburn Rovers F.C., Birmingham City F.C.",
          "Liverpool F.C., Wimbledon F.C., Manchester City F.C., Wolverhampton Wanderers F.C.",
          "Sheffield United F.C., Queens Park Rangers F.C.",
          "Wolverhampton Wanderers F.C.",
          "Middlesbrough F.C., Manchester City F.C.",
          "Charlton Athletic F.C., Portsmouth F.C., West Bromwich Albion F.C.",
          "Sunderland A.F.C., Everton F.C., Wigan Athletic F.C., Hull City A.F.C.",
          "Charlton Athletic F.C., Aston Villa F.C.",
          "Crystal Palace F.C., Derby County F.C.",
          "Sunderland A.F.C., Stoke City F.C.",
          "Burnley F.C.",
          "Reading F.C., West Bromwich Albion F.C., Hull City A.F.C., Southampton F.C.",
          "Manchester City F.C., Derby County F.C.",
          "Blackburn Rovers F.C., Wigan Athletic F.C.",
          "Leeds United F.C.",
          "Bolton Wanderers F.C., Liverpool F.C., Blackburn Rovers F.C., Sunderland A.F.C.",
          "Burnley F.C.",
          "Wigan Athletic F.C., Everton F.C., Crystal Palace F.C.",
          "Crystal Palace F.C.",
          "Sunderland A.F.C., West Bromwich Albion F.C.",
          "Tottenham Hotspur F.C.",
          "Everton F.C.",
          "Wimbledon F.C.",
          "Sheffield United F.C.",
          "Crystal Palace F.C., Arsenal F.C.",
          "Arsenal F.C.",
          "Aston Villa F.C., Derby County F.C.",
          "Aston Villa F.C.",
          "Sheffield Wednesday F.C.",
          "Leeds United F.C.",
          "Sunderland A.F.C., Hull City A.F.C.",
          "Sunderland A.F.C., Hull City A.F.C.",
          "Manchester United F.C., Sunderland A.F.C.",
          "Oldham Athletic F.C., Norwich City F.C.",
          "Sunderland A.F.C.",
          "Brighton & Hove Albion F.C.",
          "Middlesbrough F.C.",
          "Brighton & Hove Albion F.C.",
          "Blackburn Rovers F.C.",
          "Middlesbrough F.C.",
          "Crystal Palace F.C., Birmingham City F.C.",
          "Newcastle United F.C.",
          "Sunderland A.F.C.",
          "West Bromwich Albion F.C.",
          "Southampton F.C., Burnley F.C.",
          "Newcastle United F.C.",
          "Bradford City A.F.C., Newcastle United F.C., Portsmouth F.C., Bolton Wanderers F.C.",
          "Bolton Wanderers F.C., West Ham United F.C.",
          "Newcastle United F.C.",
          "Sunderland A.F.C.",
          "Luton Town F.C.",
          "Middlesbrough F.C.",
          "AFC Bournemouth",
          "Arsenal F.C., Leeds United F.C.",
          "Norwich City F.C., Nottingham Forest F.C.",
          "Norwich City F.C., Middlesbrough F.C.",
          "West Bromwich Albion F.C., Burnley F.C.",
          "Birmingham City F.C.",
          "Manchester United F.C., Sunderland A.F.C.",
          "Birmingham City F.C.",
          "Tottenham Hotspur F.C.",
          "Reading F.C.",
          "Chelsea F.C.",
          "Manchester City F.C., Chelsea F.C., Everton F.C.",
          "Norwich City F.C.",
          "Liverpool F.C.",
          "Norwich City F.C.",
          "Sheffield Wednesday F.C., Sheffield United F.C.",
          "Coventry City F.C.",
          "Manchester City F.C., Sunderland A.F.C.",
          "Crystal Palace F.C.",
          "Sheffield United F.C., Hull City A.F.C.",
          "Charlton Athletic F.C., West Ham United F.C.",
          "Sunderland A.F.C.",
          "Tottenham Hotspur F.C., Charlton Athletic F.C., Sunderland A.F.C., Blackpool F.C.",
          "Blackburn Rovers F.C., West Bromwich Albion F.C., Burnley F.C.",
          "Aston Villa F.C., Sheffield United F.C., West Bromwich Albion F.C.",
          "West Ham United F.C.",
          "Sunderland A.F.C.",
          "Wigan Athletic F.C.",
          "Sheffield Wednesday F.C., Bolton Wanderers F.C.",
          "Coventry City F.C.",
          "Middlesbrough F.C.",
          "Southampton F.C.",
          "Norwich City F.C.",
          "Aston Villa F.C., Liverpool F.C.",
          "Aston Villa F.C., Sheffield United F.C.",
          "Sunderland A.F.C.",
          "Reading F.C.",
          "Sunderland A.F.C.",
          "Aston Villa F.C.",
          "Chelsea F.C., Aston Villa F.C., Middlesbrough F.C.",
          "AFC Bournemouth",
          "Blackburn Rovers F.C.",
          "Tottenham Hotspur F.C.",
          "Bolton Wanderers F.C., Stoke City F.C., Burnley F.C.",
          "Wolverhampton Wanderers F.C., Burnley F.C.",
          "Sunderland A.F.C.",
          "Bradford City A.F.C.",
          "Stoke City F.C.",
          "Liverpool F.C.",
          "Aston Villa F.C.",
          "Portsmouth F.C., Stoke City F.C., West Bromwich Albion F.C.",
          "Tottenham Hotspur F.C.",
          "Brighton & Hove Albion F.C.",
          "Tottenham Hotspur F.C.",
          "West Bromwich Albion F.C.",
          "Tottenham Hotspur F.C.",
          "Tottenham Hotspur F.C., West Ham United F.C.",
          "Wolverhampton Wanderers F.C.",
          "Southampton F.C.",
          "Coventry City F.C.",
          "Chelsea F.C.",
          "Manchester City F.C., Sunderland A.F.C., Watford F.C.",
          "Sheffield Wednesday F.C., Chelsea F.C., Bradford City A.F.C., Southampton F.C.",
          "Tottenham Hotspur F.C.",
          "AFC Bournemouth",
          "West Ham United F.C.",
          "West Ham United F.C.",
          "West Bromwich Albion F.C.",
          "Arsenal F.C.",
          "Everton F.C.",
          "Manchester United F.C., Everton F.C., Manchester City F.C., Southampton F.C.",
          "Chelsea F.C.",
          "Tottenham Hotspur F.C.",
          "Fulham F.C., Reading F.C.",
          "Portsmouth F.C., Chelsea F.C., Charlton Athletic F.C., Fulham F.C.",
          "Chelsea F.C.",
          "Barnsley F.C.",
          "Tottenham Hotspur F.C.",
          "Bolton Wanderers F.C., Aston Villa F.C., Crystal Palace F.C.",
          "Southampton F.C.",
          "Liverpool F.C.",
          "Charlton Athletic F.C., West Ham United F.C.",
          "Chelsea F.C., West Bromwich Albion F.C.",
          "Chelsea F.C.",
          "Liverpool F.C.",
          "Chelsea F.C.",
          "Manchester City F.C.",
          "Portsmouth F.C.",
          "Sheffield Wednesday F.C.",
          "Fulham F.C.",
          "Liverpool F.C., Hull City A.F.C., Fulham F.C.",
          "Chelsea F.C., Manchester United F.C.",
          "Wolverhampton Wanderers F.C.",
          "Crystal Palace F.C.",
          "Aston Villa F.C.",
          "Newcastle United F.C., Fulham F.C.",
          "Manchester City F.C.",
          "Chelsea F.C.",
          "Blackburn Rovers F.C.",
          "Sheffield Wednesday F.C., Portsmouth F.C., Fulham F.C.",
          "Wigan Athletic F.C.",
          "Southampton F.C.",
          "Manchester United F.C.",
          "Tottenham Hotspur F.C.",
          "Manchester United F.C.",
          "Portsmouth F.C.",
          "Birmingham City F.C.",
          "West Bromwich Albion F.C.",
          "West Bromwich Albion F.C.",
          "Newcastle United F.C.",
          "Norwich City F.C.",
          "Blackburn Rovers F.C.",
          "Middlesbrough F.C.",
          "West Bromwich Albion F.C.",
          "Watford F.C.",
          "West Ham United F.C.",
          "Tottenham Hotspur F.C.",
          "Bolton Wanderers F.C.",
          "Everton F.C.",
          "Middlesbrough F.C.",
          "Fulham F.C.",
          "Liverpool F.C.",
          "Chelsea F.C.",
          "Stoke City F.C.",
          "Sunderland A.F.C.",
          "Manchester City F.C., Bolton Wanderers F.C.",
          "Tottenham Hotspur F.C.",
          "Huddersfield Town A.F.C.",
          "West Bromwich Albion F.C., Hull City A.F.C.",
          "Barnsley F.C.",
          "Portsmouth F.C.",
          "Newcastle United F.C.",
          "Aston Villa F.C., Middlesbrough F.C., Wolverhampton Wanderers F.C., Fulham F.C.",
          "West Ham United F.C., Liverpool F.C.",
          "Liverpool F.C.",
          "Arsenal F.C.",
          "Bolton Wanderers F.C., Sunderland A.F.C., Chelsea F.C.",
          "Bolton Wanderers F.C.",
          "Liverpool F.C.",
          "Manchester City F.C.",
          "Liverpool F.C., West Ham United F.C.",
          "Everton F.C., Arsenal F.C.",
          "Liverpool F.C.",
          "Liverpool F.C., Norwich City F.C., Middlesbrough F.C.",
          "Chelsea F.C.",
          "Liverpool F.C.",
          "Middlesbrough F.C.",
          "Arsenal F.C.",
          "Stoke City F.C.",
          "Swansea City A.F.C., Aston Villa F.C.",
          "Leeds United F.C.",
          "Brighton & Hove Albion F.C.",
          "Wolverhampton Wanderers F.C.",
          "Cardiff City F.C.",
          "Cardiff City F.C., Crystal Palace F.C.",
          "Wigan Athletic F.C.",
          "Crystal Palace F.C.",
          "Bolton Wanderers F.C.",
          "Swansea City A.F.C.",
          "Liverpool F.C., Brentford F.C.",
          "Leeds United F.C.",
          "Arsenal F.C.",
          "Arsenal F.C.",
          "Bolton Wanderers F.C.",
          "Liverpool F.C.",
          "Chelsea F.C., Wolverhampton Wanderers F.C.",
          "Ipswich Town F.C.",
          "Aston Villa F.C.",
          "Wigan Athletic F.C.",
          "Brighton & Hove Albion F.C., Chelsea F.C.",
          "Aston Villa F.C., Sunderland A.F.C.",
          "Everton F.C., Watford F.C.",
          "Manchester United F.C.",
          "Chelsea F.C.",
          "Blackburn Rovers F.C.",
          "Chelsea F.C.",
          "Manchester City F.C.",
          "Newcastle United F.C., Liverpool F.C.",
          "Arsenal F.C., Chelsea F.C.",
          "Fulham F.C.",
          "Tottenham Hotspur F.C.",
          "Brighton & Hove Albion F.C.",
          "Watford F.C.",
          "Brentford F.C.",
          "Chelsea F.C.",
          "Leeds United F.C.",
          "Swansea City A.F.C.",
          "West Ham United F.C.",
          "Newcastle United F.C.",
          "Manchester City F.C.",
          "Manchester City F.C.",
          "Manchester City F.C.",
          "Liverpool F.C.",
          "Manchester City F.C.",
          "Manchester City F.C., Norwich City F.C.",
          "Tottenham Hotspur F.C.",
          "Aston Villa F.C.",
          "Wigan Athletic F.C.",
          "Wigan Athletic F.C., Sunderland A.F.C.",
          "Manchester City F.C.",
          "Queens Park Rangers F.C.",
          "Crystal Palace F.C.",
          "Leicester City F.C.",
          "Swansea City A.F.C., Leeds United F.C.",
          "Manchester United F.C.",
          "Bolton Wanderers F.C.",
          "West Bromwich Albion F.C.",
          "Leicester City F.C.",
          "Stoke City F.C.",
          "Wolverhampton Wanderers F.C.",
          "Stoke City F.C., Newcastle United F.C.",
          "Liverpool F.C.",
          "Aston Villa F.C.",
          "Southampton F.C.",
          "Watford F.C.",
          "Chelsea F.C.",
          "West Ham United F.C.",
          "Manchester City F.C.",
          "Southampton F.C.",
          "Leeds United F.C.",
          "Swansea City A.F.C., Tottenham Hotspur F.C.",
          "Wigan Athletic F.C.",
          "Arsenal F.C., West Ham United F.C.",
          "Liverpool F.C.",
          "Aston Villa F.C.",
          "Newcastle United F.C.",
          "Liverpool F.C., Sunderland A.F.C., Newcastle United F.C.",
          "Newcastle United F.C.",
          "Arsenal F.C.",
          "Chelsea F.C., Manchester United F.C.",
          "Middlesbrough F.C.",
          "Arsenal F.C.",
          "Newcastle United F.C.",
          "Swansea City A.F.C.",
          "Birmingham City F.C.",
          "Swansea City A.F.C.",
          "Arsenal F.C.",
          "Arsenal F.C.",
          "Brighton & Hove Albion F.C.",
          "Chelsea F.C.",
          "Liverpool F.C.",
          "Aston Villa F.C.",
          "Bolton Wanderers F.C.",
          "Liverpool F.C.",
          "Stoke City F.C.",
          "Watford F.C.",
          "Manchester City F.C.",
          "Tottenham Hotspur F.C.",
          "Manchester City F.C., Middlesbrough F.C.",
          "Chelsea F.C.",
          "Manchester City F.C.",
          "Liverpool F.C.",
          "Swansea City A.F.C.",
          "Birmingham City F.C.",
          "Liverpool F.C.",
          "Chelsea F.C.",
          "Newcastle United F.C., Leicester City F.C.",
          "Manchester United F.C.",
          "Tottenham Hotspur F.C.",
          "Manchester City F.C.",
          "Swansea City A.F.C.",
          "Wigan Athletic F.C.",
          "Swansea City A.F.C.",
          "Brentford F.C., Arsenal F.C.",
          "Tottenham Hotspur F.C., Manchester United F.C., Brentford F.C.",
          "Liverpool F.C., Aston Villa F.C.",
          "Arsenal F.C.",
          "Manchester United F.C.",
          "AFC Bournemouth",
          "Fulham F.C.",
          "Manchester City F.C., Liverpool F.C.",
          "West Ham United F.C.",
          "Wigan Athletic F.C., Everton F.C., Leeds United F.C.",
          "Leeds United F.C.",
          "Blackburn Rovers F.C.",
          "Manchester City F.C.",
          "Bolton Wanderers F.C., Leeds United F.C.",
          "Chelsea F.C., Southampton F.C.",
          "Blackburn Rovers F.C.",
          "Bolton Wanderers F.C.",
          "Brighton & Hove Albion F.C., Chelsea F.C.",
          "Everton F.C.",
          "Wolverhampton Wanderers F.C.",
          "Manchester City F.C.",
          "Tottenham Hotspur F.C.",
          "Arsenal F.C.",
          "Watford F.C.",
          "Liverpool F.C.",
          "Liverpool F.C., Chelsea F.C.",
          "Manchester City F.C.",
          "Aston Villa F.C.",
          "West Ham United F.C.",
          "Manchester United F.C., Middlesbrough F.C.",
          "West Bromwich Albion F.C.",
          "Wolverhampton Wanderers F.C.",
          "Swansea City A.F.C.",
          "Newcastle United F.C.",
          "Blackburn Rovers F.C.",
          "Sheffield Wednesday F.C., Everton F.C.",
          "Aston Villa F.C.",
          "Blackburn Rovers F.C.",
          "Newcastle United F.C.",
          "Blackburn Rovers F.C.",
          "Sunderland A.F.C.",
          "Aston Villa F.C.",
          "Brighton & Hove Albion F.C.",
          "Sunderland A.F.C.",
          "Manchester United F.C., Everton F.C., Charlton Athletic F.C.",
          "Leeds United F.C., Crystal Palace F.C.",
          "Blackburn Rovers F.C.",
          "Manchester United F.C.",
          "Tottenham Hotspur F.C., Wigan Athletic F.C.",
          "Burnley F.C.",
          "Manchester United F.C., Nottingham Forest F.C.",
          "Fulham F.C.",
          "Bolton Wanderers F.C., Norwich City F.C.",
          "Sunderland A.F.C.",
          "Wigan Athletic F.C.",
          "Blackburn Rovers F.C.",
          "Stoke City F.C.",
          "Coventry City F.C.",
          "Coventry City F.C.",
          "Manchester United F.C.",
          "Sheffield Wednesday F.C.",
          "Newcastle United F.C.",
          "Manchester City F.C.",
          "Southampton F.C.",
          "Brentford F.C.",
          "Wigan Athletic F.C.",
          "Blackburn Rovers F.C.",
          "Norwich City F.C.",
          "Fulham F.C.",
          "Arsenal F.C.",
          "Leicester City F.C.",
          "Newcastle United F.C.",
          "Tottenham Hotspur F.C.",
          "Manchester United F.C.",
          "Arsenal F.C., Birmingham City F.C., Sunderland A.F.C.",
          "Arsenal F.C., Everton F.C.",
          "Manchester United F.C.",
          "Everton F.C.",
          "Arsenal F.C., West Ham United F.C.",
          "Leeds United F.C.",
          "Barnsley F.C.",
          "Nottingham Forest F.C.",
          "Aston Villa F.C.",
          "Burnley F.C.",
          "Southampton F.C.",
          "Sheffield Wednesday F.C., Coventry City F.C.",
          "Swansea City A.F.C.",
          "Everton F.C., Aston Villa F.C.",
          "West Bromwich Albion F.C.",
          "Blackburn Rovers F.C.",
          "Blackburn Rovers F.C., Norwich City F.C., Swansea City A.F.C.",
          "Sunderland A.F.C.",
          "Charlton Athletic F.C.",
          "Derby County F.C.",
          "West Bromwich Albion F.C.",
          "Fulham F.C.",
          "Arsenal F.C., Sunderland A.F.C.",
          "Watford F.C.",
          "Arsenal F.C.",
          "Fulham F.C.",
          "Southampton F.C.",
          "Charlton Athletic F.C., Norwich City F.C.",
          "Southampton F.C.",
          "Fulham F.C.",
          "Sunderland A.F.C.",
          "Bolton Wanderers F.C.",
          "Sheffield United F.C.",
          "Watford F.C.",
          "West Ham United F.C.",
          "Manchester City F.C.",
          "Burnley F.C.",
          "West Ham United F.C., Watford F.C.",
          "Leeds United F.C.",
          "Blackburn Rovers F.C.",
          "West Ham United F.C.",
          "Liverpool F.C.",
          "Arsenal F.C., Birmingham City F.C.",
          "Norwich City F.C.",
          "West Ham United F.C.",
          "Manchester City F.C.",
          "Derby County F.C.",
          "Nottingham Forest F.C.",
          "Bolton Wanderers F.C.",
          "Sunderland A.F.C., West Bromwich Albion F.C.",
          "Blackburn Rovers F.C., Liverpool F.C., Wigan Athletic F.C.",
          "Newcastle United F.C., Everton F.C.",
          "Leicester City F.C.",
          "Hull City A.F.C., Leicester City F.C.",
          "Southampton F.C.",
          "Fulham F.C.",
          "Norwich City F.C.",
          "Arsenal F.C.",
          "Manchester City F.C.",
          "Newcastle United F.C., Fulham F.C.",
          "Newcastle United F.C.",
          "Arsenal F.C., Everton F.C., Fulham F.C., Aston Villa F.C.",
          "Stoke City F.C., Liverpool F.C.",
          "Tottenham Hotspur F.C.",
          "Blackburn Rovers F.C.",
          "Arsenal F.C.",
          "Chelsea F.C.",
          "Brighton & Hove Albion F.C.",
          "Tottenham Hotspur F.C., Wigan Athletic F.C.",
          "Bolton Wanderers F.C.",
          "Blackburn Rovers F.C.",
          "Newcastle United F.C.",
          "Brentford F.C.",
          "Fulham F.C.",
          "Leicester City F.C., Birmingham City F.C.",
          "Liverpool F.C., Norwich City F.C.",
          "Reading F.C.",
          "Sheffield United F.C.",
          "Blackburn Rovers F.C.",
          "Aston Villa F.C.",
          "Liverpool F.C.",
          "Leicester City F.C.",
          "Blackburn Rovers F.C.",
          "West Ham United F.C.",
          "Everton F.C., Crystal Palace F.C.",
          "Watford F.C.",
          "Middlesbrough F.C., Stoke City F.C., Bolton Wanderers F.C.",
          "AFC Bournemouth",
          "Leicester City F.C.",
          "Blackburn Rovers F.C.",
          "West Bromwich Albion F.C.",
          "Coventry City F.C.",
          "Arsenal F.C., Wolverhampton Wanderers F.C.",
          "Chelsea F.C.",
          "Everton F.C.",
          "Tottenham Hotspur F.C.",
          "Chelsea F.C.",
          "Liverpool F.C.",
          "West Ham United F.C.",
          "Brentford F.C.",
          "AFC Bournemouth",
          "Manchester City F.C., Arsenal F.C."
         ],
         "ids": [
          "Chelsea F.C., Southampton F.C., Fulham F.C.",
          "Sunderland A.F.C.",
          "Brentford F.C.",
          "Manchester United F.C., Arsenal F.C.",
          "Stoke City F.C., West Ham United F.C.",
          "Watford F.C.",
          "Stoke City F.C.",
          "Southampton F.C.",
          "Leicester City F.C.",
          "Leicester City F.C.",
          "Leeds United F.C.",
          "Wolverhampton Wanderers F.C.",
          "Newcastle United F.C.",
          "Sunderland A.F.C.",
          "Wolverhampton Wanderers F.C.",
          "Arsenal F.C.",
          "Sheffield Wednesday F.C.",
          "Middlesbrough F.C., West Ham United F.C.",
          "Watford F.C.",
          "Manchester United F.C.",
          "Wigan Athletic F.C., West Bromwich Albion F.C.",
          "Brighton & Hove Albion F.C.",
          "Aston Villa F.C.",
          "Tottenham Hotspur F.C., Stoke City F.C.",
          "Leeds United F.C.",
          "Arsenal F.C., Birmingham City F.C.",
          "Blackpool F.C.",
          "Newcastle United F.C.",
          "Burnley F.C.",
          "Southampton F.C., Tottenham Hotspur F.C.",
          "Watford F.C.",
          "Chelsea F.C., Crystal Palace F.C.",
          "Burnley F.C.",
          "Aston Villa F.C., Liverpool F.C., Crystal Palace F.C.",
          "Crystal Palace F.C.",
          "Tottenham Hotspur F.C.",
          "West Ham United F.C.",
          "Manchester City F.C., Bolton Wanderers F.C.",
          "Leicester City F.C., Fulham F.C.",
          "Tottenham Hotspur F.C., West Bromwich Albion F.C.",
          "Coventry City F.C.",
          "Chelsea F.C.",
          "Sheffield Wednesday F.C., Aston Villa F.C.",
          "Chelsea F.C., Manchester City F.C.",
          "Burnley F.C.",
          "Sheffield Wednesday F.C.",
          "Manchester United F.C., Norwich City F.C., Leicester City F.C.",
          "Burnley F.C.",
          "Fulham F.C., Tottenham Hotspur F.C.",
          "Sunderland A.F.C.",
          "Wolverhampton Wanderers F.C., Aston Villa F.C.",
          "Huddersfield Town A.F.C.",
          "Southampton F.C.",
          "Manchester City F.C.",
          "Aston Villa F.C.",
          "Leicester City F.C.",
          "Everton F.C., Manchester United F.C.",
          "Coventry City F.C.",
          "Chelsea F.C.",
          "West Bromwich Albion F.C.",
          "Manchester United F.C., Sunderland A.F.C.",
          "Watford F.C.",
          "Luton Town F.C.",
          "Manchester City F.C.",
          "Swansea City A.F.C.",
          "Southampton F.C., Chelsea F.C.",
          "Chelsea F.C., West Bromwich Albion F.C., Everton F.C., Manchester United F.C.",
          "Watford F.C.",
          "Nottingham Forest F.C.",
          "Huddersfield Town A.F.C.",
          "Sunderland A.F.C., Liverpool F.C.",
          "Everton F.C.",
          "Manchester City F.C.",
          "Wolverhampton Wanderers F.C.",
          "Chelsea F.C.",
          "Stoke City F.C.",
          "Aston Villa F.C.",
          "Norwich City F.C.",
          "Everton F.C.",
          "Liverpool F.C., Nottingham Forest F.C.",
          "Watford F.C.",
          "West Bromwich Albion F.C.",
          "Leicester City F.C.",
          "Coventry City F.C.",
          "Arsenal F.C., Crystal Palace F.C., Luton Town F.C.",
          "Nottingham Forest F.C.",
          "Derby County F.C.",
          "Leicester City F.C., Aston Villa F.C.",
          "Burnley F.C.",
          "Brighton & Hove Albion F.C., Arsenal F.C.",
          "Birmingham City F.C.",
          "Manchester City F.C.",
          "Southampton F.C., Wolverhampton Wanderers F.C.",
          "Portsmouth F.C.",
          "Arsenal F.C.",
          "Tottenham Hotspur F.C.",
          "Sheffield United F.C.",
          "Portsmouth F.C., Stoke City F.C., Chelsea F.C., AFC Bournemouth, Everton F.C.",
          "Everton F.C., Sheffield United F.C.",
          "Manchester City F.C.",
          "Arsenal F.C.",
          "Coventry City F.C.",
          "Norwich City F.C.",
          "Tottenham Hotspur F.C., Manchester United F.C., Fulham F.C.",
          "Manchester City F.C.",
          "Ipswich Town F.C.",
          "Charlton Athletic F.C.",
          "Fulham F.C.",
          "Manchester City F.C., Bolton Wanderers F.C.",
          "Aston Villa F.C.",
          "West Ham United F.C., Portsmouth F.C., Wigan Athletic F.C.",
          "Aston Villa F.C.",
          "Derby County F.C.",
          "Aston Villa F.C.",
          "West Ham United F.C., Everton F.C.",
          "Liverpool F.C.",
          "Middlesbrough F.C.",
          "Southampton F.C.",
          "Manchester City F.C., Tottenham Hotspur F.C.",
          "Arsenal F.C.",
          "Sheffield United F.C.",
          "Manchester City F.C.",
          "Everton F.C., Hull City A.F.C., West Ham United F.C.",
          "Nottingham Forest F.C.",
          "Blackburn Rovers F.C.",
          "Bolton Wanderers F.C.",
          "Chelsea F.C., Manchester City F.C.",
          "Leicester City F.C.",
          "Portsmouth F.C., Tottenham Hotspur F.C., Queens Park Rangers F.C.",
          "West Bromwich Albion F.C.",
          "Southampton F.C., Liverpool F.C.",
          "Newcastle United F.C.",
          "Tottenham Hotspur F.C.",
          "Portsmouth F.C.",
          "Southampton F.C.",
          "Tottenham Hotspur F.C.",
          "Fulham F.C., West Ham United F.C.",
          "Chelsea F.C.",
          "Derby County F.C., West Ham United F.C.",
          "Arsenal F.C., West Ham United F.C.",
          "Everton F.C., West Ham United F.C.",
          "Portsmouth F.C.",
          "Chelsea F.C.",
          "Newcastle United F.C.",
          "Sunderland A.F.C.",
          "Liverpool F.C., Aston Villa F.C., Portsmouth F.C.",
          "West Bromwich Albion F.C.",
          "Liverpool F.C., Portsmouth F.C., Aston Villa F.C.",
          "Chelsea F.C., Arsenal F.C.",
          "Sunderland A.F.C.",
          "Tottenham Hotspur F.C., Queens Park Rangers F.C.",
          "West Ham United F.C.",
          "Fulham F.C.",
          "Fulham F.C.",
          "Chelsea F.C., Birmingham City F.C.",
          "Birmingham City F.C.",
          "Chelsea F.C.",
          "West Ham United F.C.",
          "Aston Villa F.C.",
          "West Ham United F.C.",
          "Fulham F.C.",
          "Birmingham City F.C.",
          "Reading F.C.",
          "West Ham United F.C.",
          "Manchester United F.C.",
          "West Ham United F.C.",
          "Arsenal F.C.",
          "Newcastle United F.C.",
          "Liverpool F.C.",
          "West Ham United F.C.",
          "Newcastle United F.C., Sheffield Wednesday F.C., Portsmouth F.C.",
          "Queens Park Rangers F.C.",
          "West Bromwich Albion F.C., Watford F.C., Burnley F.C.",
          "Liverpool F.C.",
          "West Bromwich Albion F.C.",
          "Fulham F.C., Crystal Palace F.C.",
          "Luton Town F.C.",
          "Charlton Athletic F.C.",
          "Fulham F.C.",
          "Middlesbrough F.C., Derby County F.C.",
          "Arsenal F.C., Sunderland A.F.C.",
          "Brentford F.C.",
          "Huddersfield Town A.F.C., AFC Bournemouth",
          "Manchester City F.C.",
          "Burnley F.C.",
          "Wolverhampton Wanderers F.C.",
          "Chelsea F.C.",
          "Cardiff City F.C.",
          "Brentford F.C.",
          "Everton F.C.",
          "Southampton F.C., Manchester City F.C.",
          "Tottenham Hotspur F.C., Brentford F.C., Manchester United F.C.",
          "Middlesbrough F.C.",
          "Bolton Wanderers F.C.",
          "Sunderland A.F.C.",
          "Ipswich Town F.C., West Bromwich Albion F.C.",
          "Chelsea F.C., Fulham F.C.",
          "Everton F.C.",
          "Chelsea F.C., Birmingham City F.C.",
          "Bolton Wanderers F.C.",
          "Stoke City F.C.",
          "Aston Villa F.C.",
          "Norwich City F.C.",
          "Chelsea F.C.",
          "Southampton F.C., Tottenham Hotspur F.C.",
          "Manchester United F.C.",
          "Leicester City F.C.",
          "Everton F.C., Blackburn Rovers F.C., West Ham United F.C.",
          "Burnley F.C.",
          "Charlton Athletic F.C., Fulham F.C.",
          "Arsenal F.C.",
          "Brentford F.C.",
          "Manchester City F.C., Fulham F.C.",
          "Coventry City F.C.",
          "Bolton Wanderers F.C.",
          "Huddersfield Town A.F.C., Brentford F.C.",
          "Chelsea F.C.",
          "Leeds United F.C.",
          "Leicester City F.C.",
          "Everton F.C.",
          "Fulham F.C.",
          "Chelsea F.C.",
          "Derby County F.C., Leicester City F.C.",
          "Aston Villa F.C.",
          "Manchester United F.C.",
          "Huddersfield Town A.F.C., Brentford F.C.",
          "Newcastle United F.C.",
          "AFC Bournemouth",
          "Liverpool F.C.",
          "Tottenham Hotspur F.C.",
          "Brentford F.C.",
          "Aston Villa F.C.",
          "Sheffield United F.C.",
          "Bolton Wanderers F.C.",
          "Blackburn Rovers F.C.",
          "Liverpool F.C.",
          "Liverpool F.C.",
          "Portsmouth F.C.",
          "West Ham United F.C.",
          "Brentford F.C.",
          "Charlton Athletic F.C.",
          "Manchester City F.C., Leicester City F.C.",
          "Manchester United F.C., Aston Villa F.C., Manchester City F.C.",
          "Norwich City F.C.",
          "Stoke City F.C.",
          "Brentford F.C.",
          "Sunderland A.F.C., Aston Villa F.C., Stoke City F.C.",
          "Manchester City F.C.",
          "Ipswich Town F.C., Everton F.C.",
          "Bolton Wanderers F.C.",
          "Newcastle United F.C.",
          "Southampton F.C., Leicester City F.C.",
          "Cardiff City F.C.",
          "Liverpool F.C.",
          "Derby County F.C., Sunderland A.F.C., Arsenal F.C.",
          "Manchester City F.C.",
          "Aston Villa F.C., Blackburn Rovers F.C.",
          "Brentford F.C.",
          "Chelsea F.C., Birmingham City F.C.",
          "Liverpool F.C.",
          "Bolton Wanderers F.C., West Ham United F.C.",
          "Charlton Athletic F.C.",
          "Fulham F.C.",
          "Crystal Palace F.C.",
          "Blackburn Rovers F.C., Fulham F.C., Newcastle United F.C.",
          "Liverpool F.C.",
          "Southampton F.C., Fulham F.C.",
          "Bolton Wanderers F.C.",
          "Portsmouth F.C.",
          "Norwich City F.C.",
          "Crystal Palace F.C.",
          "Tottenham Hotspur F.C., Sunderland A.F.C., Birmingham City F.C.",
          "West Ham United F.C.",
          "Derby County F.C.",
          "West Ham United F.C.",
          "Aston Villa F.C.",
          "Crystal Palace F.C.",
          "Norwich City F.C.",
          "West Bromwich Albion F.C., West Ham United F.C.",
          "Aston Villa F.C.",
          "Arsenal F.C., West Ham United F.C., Middlesbrough F.C.",
          "Nottingham Forest F.C.",
          "Bolton Wanderers F.C.",
          "Arsenal F.C., Liverpool F.C., Manchester City F.C., Bolton Wanderers F.C., Chelsea F.C., West Bromwich Albion F.C.",
          "Fulham F.C., West Ham United F.C.",
          "Leicester City F.C., Liverpool F.C.",
          "Burnley F.C.",
          "Watford F.C.",
          "Bolton Wanderers F.C.",
          "Chelsea F.C.",
          "Chelsea F.C.",
          "Manchester United F.C.",
          "Wolverhampton Wanderers F.C.",
          "Sunderland A.F.C., Manchester United F.C., West Ham United F.C.",
          "Newcastle United F.C., Hull City A.F.C.",
          "Newcastle United F.C., Southampton F.C.",
          "Aston Villa F.C.",
          "Nottingham Forest F.C.",
          "Manchester United F.C.",
          "Sheffield Wednesday F.C.",
          "Nottingham Forest F.C.",
          "Fulham F.C.",
          "Watford F.C.",
          "Newcastle United F.C.",
          "Newcastle United F.C., Crystal Palace F.C.",
          "Newcastle United F.C.",
          "Leeds United F.C.",
          "Bolton Wanderers F.C.",
          "Leeds United F.C., Manchester United F.C.",
          "Tottenham Hotspur F.C., Watford F.C.",
          "Sunderland A.F.C.",
          "Watford F.C.",
          "Leeds United F.C.",
          "Chelsea F.C., Newcastle United F.C., Manchester City F.C.",
          "Liverpool F.C.",
          "Wigan Athletic F.C., Tottenham Hotspur F.C., Sunderland A.F.C., Blackburn Rovers F.C.",
          "Fulham F.C.",
          "Bolton Wanderers F.C.",
          "Liverpool F.C., Sunderland A.F.C., Queens Park Rangers F.C.",
          "West Ham United F.C.",
          "Liverpool F.C., Aston Villa F.C.",
          "Arsenal F.C., Manchester City F.C.",
          "Southampton F.C.",
          "Arsenal F.C.",
          "West Ham United F.C.",
          "Arsenal F.C.",
          "Manchester City F.C.",
          "Everton F.C., Leeds United F.C., Fulham F.C.",
          "Tottenham Hotspur F.C.",
          "Cardiff City F.C.",
          "Nottingham Forest F.C.",
          "Middlesbrough F.C.",
          "Newcastle United F.C., Arsenal F.C.",
          "Fulham F.C.",
          "Chelsea F.C.",
          "Chelsea F.C.",
          "Arsenal F.C.",
          "Aston Villa F.C.",
          "Huddersfield Town A.F.C.",
          "Sunderland A.F.C.",
          "Southampton F.C.",
          "West Ham United F.C.",
          "Chelsea F.C., Arsenal F.C., Portsmouth F.C.",
          "Middlesbrough F.C.",
          "Everton F.C., Aston Villa F.C.",
          "Liverpool F.C.",
          "West Ham United F.C., Fulham F.C.",
          "Chelsea F.C.",
          "Newcastle United F.C., Manchester City F.C., Portsmouth F.C., Everton F.C., AFC Bournemouth",
          "Fulham F.C., Bolton Wanderers F.C.",
          "Bolton Wanderers F.C., Blackburn Rovers F.C.",
          "Newcastle United F.C., Leeds United F.C.",
          "Derby County F.C.",
          "Birmingham City F.C.",
          "Newcastle United F.C.",
          "Crystal Palace F.C.",
          "Bolton Wanderers F.C.",
          "Burnley F.C.",
          "Manchester United F.C., West Ham United F.C.",
          "AFC Bournemouth",
          "West Ham United F.C.",
          "Southampton F.C., Bolton Wanderers F.C.",
          "Liverpool F.C.",
          "Arsenal F.C., Crystal Palace F.C.",
          "Leicester City F.C., Chelsea F.C.",
          "West Bromwich Albion F.C.",
          "Watford F.C.",
          "Chelsea F.C., Arsenal F.C., Tottenham Hotspur F.C.",
          "Arsenal F.C.",
          "Newcastle United F.C., Tottenham Hotspur F.C., Aston Villa F.C., Everton F.C.",
          "Arsenal F.C., Chelsea F.C.",
          "Blackburn Rovers F.C.",
          "Newcastle United F.C., Fulham F.C.",
          "Swansea City A.F.C.",
          "Newcastle United F.C.",
          "Blackburn Rovers F.C.",
          "Blackpool F.C.",
          "Watford F.C.",
          "Derby County F.C.",
          "Southampton F.C.",
          "Arsenal F.C.",
          "Arsenal F.C.",
          "Arsenal F.C.",
          "Aston Villa F.C.",
          "Newcastle United F.C.",
          "Chelsea F.C.",
          "Arsenal F.C.",
          "Crystal Palace F.C.",
          "Tottenham Hotspur F.C., Portsmouth F.C., Sunderland A.F.C., Watford F.C.",
          "Aston Villa F.C.",
          "Manchester United F.C.",
          "Leicester City F.C., Chelsea F.C.",
          "Birmingham City F.C., Wigan Athletic F.C.",
          "Middlesbrough F.C.",
          "West Ham United F.C.",
          "AFC Bournemouth",
          "Leicester City F.C., Brighton & Hove Albion F.C.",
          "Liverpool F.C.",
          "Arsenal F.C.",
          "Fulham F.C.",
          "Arsenal F.C.",
          "West Ham United F.C.",
          "Chelsea F.C.",
          "Sunderland A.F.C.",
          "Leeds United F.C.",
          "Bolton Wanderers F.C.",
          "Fulham F.C.",
          "Ipswich Town F.C.",
          "Liverpool F.C., Sunderland A.F.C.",
          "Chelsea F.C.",
          "Norwich City F.C.",
          "Fulham F.C.",
          "Newcastle United F.C.",
          "Tottenham Hotspur F.C., Aston Villa F.C.",
          "Tottenham Hotspur F.C.",
          "Nottingham Forest F.C.",
          "Liverpool F.C.",
          "Everton F.C.",
          "Chelsea F.C.",
          "Fulham F.C., Tottenham Hotspur F.C., Sunderland A.F.C.",
          "Chelsea F.C.",
          "Crystal Palace F.C.",
          "Sunderland A.F.C.",
          "Manchester City F.C., Everton F.C.",
          "Southampton F.C.",
          "Fulham F.C.",
          "Manchester United F.C.",
          "Derby County F.C.",
          "Newcastle United F.C.",
          "Burnley F.C.",
          "Crystal Palace F.C.",
          "Brighton & Hove Albion F.C., Everton F.C., Brentford F.C.",
          "Derby County F.C.",
          "Manchester City F.C.",
          "Bolton Wanderers F.C., Hull City A.F.C.",
          "Leeds United F.C.",
          "Blackburn Rovers F.C.",
          "AFC Bournemouth, Sheffield United F.C.",
          "Hull City A.F.C., Wolverhampton Wanderers F.C.",
          "Sunderland A.F.C.",
          "Sheffield United F.C.",
          "Leicester City F.C.",
          "Arsenal F.C., Manchester City F.C., West Ham United F.C.",
          "Tottenham Hotspur F.C.",
          "Manchester City F.C.",
          "Liverpool F.C., Bolton Wanderers F.C., Swansea City A.F.C.",
          "Bolton Wanderers F.C.",
          "Everton F.C.",
          "Chelsea F.C.",
          "Newcastle United F.C., Wigan Athletic F.C., Aston Villa F.C.",
          "Blackburn Rovers F.C., Stoke City F.C.",
          "Manchester United F.C., Newcastle United F.C.",
          "Burnley F.C.",
          "Crystal Palace F.C.",
          "Tottenham Hotspur F.C., Portsmouth F.C.",
          "West Ham United F.C.",
          "Sunderland A.F.C.",
          "Blackburn Rovers F.C.",
          "Portsmouth F.C., Stoke City F.C.",
          "Southampton F.C.",
          "Arsenal F.C., Chelsea F.C.",
          "Southampton F.C.",
          "Portsmouth F.C., West Ham United F.C.",
          "Arsenal F.C., Aston Villa F.C.",
          "Liverpool F.C.",
          "Manchester United F.C.",
          "Manchester United F.C.",
          "Bolton Wanderers F.C.",
          "Middlesbrough F.C., Fulham F.C., Birmingham City F.C.",
          "Queens Park Rangers F.C., Newcastle United F.C., Chelsea F.C., Crystal Palace F.C.",
          "Sunderland A.F.C.",
          "Newcastle United F.C.",
          "Newcastle United F.C., Portsmouth F.C., Derby County F.C.",
          "Bradford City A.F.C.",
          "Leicester City F.C.",
          "Sunderland A.F.C.",
          "Leeds United F.C.",
          "Arsenal F.C., Manchester City F.C.",
          "Arsenal F.C., Crystal Palace F.C.",
          "Newcastle United F.C., Fulham F.C., Manchester United F.C., Everton F.C., Tottenham Hotspur F.C., Sunderland A.F.C.",
          "Newcastle United F.C.",
          "Liverpool F.C., Crystal Palace F.C.",
          "Arsenal F.C.",
          "Aston Villa F.C.",
          "Chelsea F.C.",
          "West Ham United F.C., Portsmouth F.C.",
          "Southampton F.C., Manchester United F.C., Everton F.C.",
          "Manchester City F.C., Newcastle United F.C., Wigan Athletic F.C.",
          "Everton F.C.",
          "Manchester United F.C., Arsenal F.C.",
          "Liverpool F.C., Blackburn Rovers F.C.",
          "Newcastle United F.C., Tottenham Hotspur F.C., Watford F.C.",
          "Manchester City F.C., Sheffield United F.C.",
          "Leicester City F.C.",
          "Arsenal F.C.",
          "Tottenham Hotspur F.C.",
          "Blackpool F.C.",
          "Southampton F.C.",
          "West Ham United F.C.",
          "Newcastle United F.C.",
          "Cardiff City F.C.",
          "Chelsea F.C.",
          "Blackburn Rovers F.C.",
          "Manchester United F.C.",
          "Aston Villa F.C.",
          "Arsenal F.C., Manchester City F.C.",
          "Liverpool F.C., Portsmouth F.C., Birmingham City F.C.",
          "Coventry City F.C.",
          "Arsenal F.C.",
          "Newcastle United F.C.",
          "Chelsea F.C., Stoke City F.C., Everton F.C., West Ham United F.C.",
          "Wolverhampton Wanderers F.C.",
          "Chelsea F.C.",
          "Manchester City F.C.",
          "Newcastle United F.C.",
          "Blackburn Rovers F.C.",
          "Manchester City F.C., Derby County F.C.",
          "Liverpool F.C., Blackburn Rovers F.C.",
          "Chelsea F.C.",
          "Aston Villa F.C.",
          "Southampton F.C.",
          "Burnley F.C.",
          "Manchester City F.C.",
          "Bolton Wanderers F.C.",
          "Aston Villa F.C.",
          "Liverpool F.C.",
          "Liverpool F.C.",
          "Brighton & Hove Albion F.C.",
          "Huddersfield Town A.F.C.",
          "Norwich City F.C.",
          "Tottenham Hotspur F.C., Leicester City F.C.",
          "Manchester City F.C.",
          "Manchester City F.C.",
          "Arsenal F.C., West Bromwich Albion F.C.",
          "Brighton & Hove Albion F.C.",
          "Manchester City F.C.",
          "Newcastle United F.C., Liverpool F.C., Manchester City F.C.",
          "Chelsea F.C., Arsenal F.C.",
          "Huddersfield Town A.F.C.",
          "Sunderland A.F.C.",
          "Aston Villa F.C., West Ham United F.C., Everton F.C.",
          "Tottenham Hotspur F.C., Fulham F.C.",
          "Brighton & Hove Albion F.C.",
          "Chelsea F.C., Middlesbrough F.C., Stoke City F.C., Leicester City F.C.",
          "Manchester City F.C.",
          "Brentford F.C.",
          "Liverpool F.C., Newcastle United F.C.",
          "Manchester City F.C.",
          "West Ham United F.C.",
          "Brighton & Hove Albion F.C.",
          "Sunderland A.F.C.",
          "Tottenham Hotspur F.C.",
          "Leeds United F.C.",
          "Barnsley F.C.",
          "Arsenal F.C.",
          "Norwich City F.C.",
          "Arsenal F.C., Fulham F.C.",
          "Huddersfield Town A.F.C.",
          "Arsenal F.C.",
          "Chelsea F.C.",
          "Arsenal F.C.",
          "Arsenal F.C.",
          "Crystal Palace F.C.",
          "Arsenal F.C.",
          "Manchester City F.C.",
          "West Ham United F.C.",
          "Manchester City F.C.",
          "Arsenal F.C.",
          "Blackburn Rovers F.C.",
          "Arsenal F.C.",
          "Hull City A.F.C.",
          "Huddersfield Town A.F.C.",
          "Liverpool F.C.",
          "Fulham F.C.",
          "Manchester City F.C., Southampton F.C.",
          "Chelsea F.C.",
          "Norwich City F.C.",
          "Manchester City F.C.",
          "Brentford F.C.",
          "Huddersfield Town A.F.C.",
          "Derby County F.C.",
          "Chelsea F.C., Fulham F.C.",
          "Manchester United F.C.",
          "Portsmouth F.C.",
          "Norwich City F.C.",
          "Norwich City F.C.",
          "Manchester City F.C.",
          "Swansea City A.F.C.",
          "Norwich City F.C.",
          "Brighton & Hove Albion F.C.",
          "Fulham F.C.",
          "Chelsea F.C., Tottenham Hotspur F.C.",
          "Everton F.C.",
          "Stoke City F.C.",
          "Middlesbrough F.C., Liverpool F.C., Tottenham Hotspur F.C.",
          "Leicester City F.C.",
          "Norwich City F.C.",
          "Manchester United F.C., Derby County F.C., Southampton F.C., Sunderland A.F.C., Stoke City F.C.",
          "Sheffield United F.C.",
          "Portsmouth F.C.",
          "Derby County F.C.",
          "Portsmouth F.C.",
          "Newcastle United F.C., Leicester City F.C.",
          "Blackburn Rovers F.C.",
          "Portsmouth F.C.",
          "Newcastle United F.C.",
          "Bolton Wanderers F.C., Hull City A.F.C.",
          "Norwich City F.C.",
          "Watford F.C.",
          "Fulham F.C.",
          "Watford F.C.",
          "Bolton Wanderers F.C.",
          "Liverpool F.C., Sunderland A.F.C.",
          "Crystal Palace F.C.",
          "Sunderland A.F.C.",
          "Arsenal F.C., West Ham United F.C.",
          "Fulham F.C.",
          "Swansea City A.F.C.",
          "Arsenal F.C.",
          "Manchester City F.C., West Bromwich Albion F.C.",
          "Portsmouth F.C.",
          "Stoke City F.C.",
          "Arsenal F.C.",
          "Liverpool F.C.",
          "Norwich City F.C.",
          "Everton F.C.",
          "Nottingham Forest F.C.",
          "Leicester City F.C.",
          "Bolton Wanderers F.C., Liverpool F.C.",
          "Queens Park Rangers F.C.",
          "Sunderland A.F.C., Manchester City F.C., West Bromwich Albion F.C.",
          "West Bromwich Albion F.C., Fulham F.C.",
          "Hull City A.F.C.",
          "AFC Bournemouth",
          "Crystal Palace F.C., Aston Villa F.C.",
          "Liverpool F.C.",
          "West Ham United F.C.",
          "Watford F.C.",
          "Liverpool F.C.",
          "Crystal Palace F.C.",
          "Tottenham Hotspur F.C., Bolton Wanderers F.C.",
          "Chelsea F.C., Tottenham Hotspur F.C., Stoke City F.C., Fulham F.C.",
          "Aston Villa F.C., Wolverhampton Wanderers F.C., Burnley F.C.",
          "Derby County F.C.",
          "Burnley F.C.",
          "Watford F.C.",
          "Cardiff City F.C.",
          "Reading F.C.",
          "Bolton Wanderers F.C., Leicester City F.C.",
          "Watford F.C., Fulham F.C., Bolton Wanderers F.C., Queens Park Rangers F.C.",
          "Crystal Palace F.C., Wimbledon F.C., Ipswich Town F.C., Charlton Athletic F.C., Portsmouth F.C.",
          "Reading F.C.",
          "Wolverhampton Wanderers F.C.",
          "Nottingham Forest F.C.",
          "Arsenal F.C.",
          "Swansea City A.F.C., Tottenham Hotspur F.C., Everton F.C.",
          "West Bromwich Albion F.C.",
          "Bolton Wanderers F.C.",
          "Wimbledon F.C.",
          "West Ham United F.C., Liverpool F.C., Chelsea F.C., Arsenal F.C.",
          "Bolton Wanderers F.C., Chelsea F.C., Manchester City F.C., Sunderland A.F.C., Portsmouth F.C., West Ham United F.C., Queens Park Rangers F.C.",
          "Southampton F.C., West Ham United F.C., Manchester City F.C., Portsmouth F.C.",
          "Bolton Wanderers F.C.",
          "Aston Villa F.C.",
          "Brighton & Hove Albion F.C.",
          "West Ham United F.C.",
          "Brighton & Hove Albion F.C.",
          "Blackpool F.C.",
          "Derby County F.C.",
          "Liverpool F.C., Tottenham Hotspur F.C.",
          "Chelsea F.C.",
          "Swansea City A.F.C.",
          "Fulham F.C., Tottenham Hotspur F.C.",
          "Everton F.C., Bolton Wanderers F.C.",
          "Crystal Palace F.C.",
          "Chelsea F.C.",
          "Chelsea F.C.",
          "Blackburn Rovers F.C.",
          "Liverpool F.C.",
          "Blackburn Rovers F.C.",
          "Derby County F.C.",
          "Manchester City F.C., Liverpool F.C.",
          "Newcastle United F.C.",
          "Tottenham Hotspur F.C.",
          "Manchester City F.C.",
          "Crystal Palace F.C.",
          "Crystal Palace F.C.",
          "Chelsea F.C., Liverpool F.C., Sunderland A.F.C.",
          "West Ham United F.C.",
          "Middlesbrough F.C.",
          "Sheffield Wednesday F.C., Aston Villa F.C., Bradford City A.F.C., Derby County F.C., Middlesbrough F.C.",
          "Chelsea F.C.",
          "Chelsea F.C.",
          "Manchester City F.C.",
          "Chelsea F.C., Tottenham Hotspur F.C.",
          "Wolverhampton Wanderers F.C.",
          "Derby County F.C.",
          "Chelsea F.C.",
          "Manchester United F.C.",
          "Sheffield Wednesday F.C., West Ham United F.C., Charlton Athletic F.C.",
          "Chelsea F.C.",
          "West Ham United F.C.",
          "West Ham United F.C., Watford F.C.",
          "Liverpool F.C., Sunderland A.F.C.",
          "Chelsea F.C., West Ham United F.C.",
          "Derby County F.C.",
          "Everton F.C.",
          "Middlesbrough F.C.",
          "Southampton F.C.",
          "Sunderland A.F.C.",
          "Coventry City F.C.",
          "Leeds United F.C.",
          "Blackburn Rovers F.C.",
          "Chelsea F.C., Arsenal F.C.",
          "Everton F.C.",
          "Burnley F.C.",
          "Crystal Palace F.C.",
          "Arsenal F.C.",
          "Middlesbrough F.C.",
          "Manchester United F.C., Queens Park Rangers F.C.",
          "Leicester City F.C.",
          "Arsenal F.C., Sunderland A.F.C.",
          "Blackburn Rovers F.C.",
          "Everton F.C.",
          "Fulham F.C.",
          "West Ham United F.C.",
          "West Ham United F.C.",
          "Fulham F.C., Watford F.C.",
          "Southampton F.C.",
          "Liverpool F.C.",
          "Crystal Palace F.C.",
          "Liverpool F.C.",
          "Swansea City F.C.",
          "Chelsea F.C.",
          "Southampton F.C.",
          "Newcastle United F.C., Everton F.C.",
          "Manchester United F.C.",
          "Hull City A.F.C.",
          "Middlesbrough F.C., Derby County F.C.",
          "Manchester United F.C., Newcastle United F.C.",
          "Sheffield Wednesday F.C.",
          "Newcastle United F.C.",
          "West Ham United F.C.",
          "Brighton & Hove Albion F.C.",
          "Ipswich Town F.C.",
          "Nottingham Forest F.C.",
          "Manchester United F.C.",
          "Newcastle United F.C.",
          "Tottenham Hotspur F.C.",
          "Fulham F.C.",
          "Tottenham Hotspur F.C.",
          "Crystal Palace F.C.",
          "Chelsea F.C.",
          "Tottenham Hotspur F.C.",
          "Aston Villa F.C.",
          "Chelsea F.C.",
          "West Ham United F.C.",
          "Chelsea F.C.",
          "Manchester City F.C.",
          "Burnley F.C.",
          "Huddersfield Town A.F.C.",
          "Norwich City F.C.",
          "Southampton F.C.",
          "Reading F.C.",
          "Southampton F.C.",
          "Arsenal F.C.",
          "Fulham F.C.",
          "Watford F.C.",
          "Arsenal F.C.",
          "Leeds United F.C.",
          "Manchester City F.C.",
          "Manchester City F.C.",
          "Blackburn Rovers F.C.",
          "Fulham F.C.",
          "Chelsea F.C., Wigan Athletic F.C., Sunderland A.F.C., Crystal Palace F.C.",
          "Ipswich Town F.C.",
          "Stoke City F.C.",
          "Chelsea F.C., Watford F.C., AFC Bournemouth, Manchester City F.C.",
          "Liverpool F.C., Fulham F.C.",
          "Manchester United F.C., Everton F.C.",
          "Watford F.C.",
          "Arsenal F.C.",
          "Tottenham Hotspur F.C.",
          "Manchester United F.C.",
          "Sheffield Wednesday F.C.",
          "Coventry City F.C., Aston Villa F.C., Middlesbrough F.C., Hull City A.F.C.",
          "West Ham United F.C.",
          "Chelsea F.C.",
          "West Ham United F.C.",
          "Manchester City F.C.",
          "Newcastle United F.C.",
          "Chelsea F.C.",
          "Aston Villa F.C.",
          "Arsenal F.C.",
          "Chelsea F.C.",
          "Manchester United F.C.",
          "Manchester United F.C., Luton Town F.C.",
          "Southampton F.C.",
          "Manchester United F.C.",
          "AFC Bournemouth, Tottenham Hotspur F.C., Everton F.C.",
          "Fulham F.C.",
          "Tottenham Hotspur F.C.",
          "Manchester United F.C.",
          "Southampton F.C., Liverpool F.C.",
          "Queens Park Rangers F.C.",
          "Everton F.C.",
          "Aston Villa F.C., Everton F.C.",
          "Southampton F.C.",
          "Fulham F.C.",
          "Middlesbrough F.C., Swansea City A.F.C.",
          "Norwich City F.C., Queens Park Rangers F.C., Swansea City F.C.",
          "Brentford F.C.",
          "Manchester United F.C., Crystal Palace F.C., Fulham F.C.",
          "Bolton Wanderers F.C.",
          "Liverpool F.C.",
          "Chelsea F.C., Stoke City F.C.",
          "Southampton F.C.",
          "Chelsea F.C.",
          "Manchester United F.C.",
          "Liverpool F.C.",
          "Manchester City F.C.",
          "Chelsea F.C.",
          "Swansea City A.F.C.",
          "Sheffield United F.C.",
          "Leeds United F.C., Chelsea F.C., Middlesbrough F.C., Charlton Athletic F.C.",
          "Brighton & Hove Albion F.C.",
          "Everton F.C., Fulham F.C.",
          "Arsenal F.C.",
          "Barnsley F.C.",
          "Southampton F.C.",
          "Wolverhampton Wanderers F.C.",
          "Nottingham Forest F.C.",
          "Southampton F.C.",
          "Swansea City A.F.C.",
          "Newcastle United F.C., Watford F.C.",
          "Tottenham Hotspur F.C.",
          "Fulham F.C.",
          "Newcastle United F.C.",
          "Manchester City F.C.",
          "Newcastle United F.C.",
          "Sheffield Wednesday F.C.",
          "Newcastle United F.C.",
          "Oldham Athletic A.F.C.",
          "Everton F.C.",
          "AFC Bournemouth",
          "Newcastle United F.C.",
          "Huddersfield Town A.F.C., Fulham F.C.",
          "Leeds United F.C., Tottenham Hotspur F.C.",
          "Liverpool F.C.",
          "Newcastle United F.C., Norwich City F.C.",
          "Liverpool F.C.",
          "Derby County F.C.",
          "Wigan Athletic F.C.",
          "Huddersfield Town A.F.C.",
          "Sunderland A.F.C.",
          "Chelsea F.C.",
          "West Bromwich Albion F.C.",
          "Manchester United F.C.",
          "Stoke City F.C.",
          "Liverpool F.C.",
          "Chelsea F.C., Birmingham City F.C., Wigan Athletic F.C.",
          "Everton F.C.",
          "Leeds United F.C., Bradford City A.F.C.",
          "Southampton F.C.",
          "Manchester City F.C.",
          "Bolton Wanderers F.C.",
          "Swansea City A.F.C.",
          "Swindon Town F.C.",
          "Manchester United F.C.",
          "Blackburn Rovers F.C.",
          "Arsenal F.C.",
          "Arsenal F.C., Manchester United F.C.",
          "Fulham F.C.",
          "Stoke City F.C., Burnley F.C.",
          "Aston Villa F.C.",
          "Brighton & Hove Albion F.C.",
          "Middlesbrough F.C.",
          "Manchester City F.C.",
          "Ipswich Town F.C.",
          "Birmingham City F.C., Wigan Athletic F.C.",
          "Crystal Palace F.C.",
          "Blackburn Rovers F.C.",
          "Chelsea F.C.",
          "Middlesbrough F.C.",
          "Nottingham Forest F.C.",
          "Fulham F.C., Manchester United F.C.",
          "Wimbledon F.C., Tottenham Hotspur F.C.",
          "Sheffield Wednesday F.C.",
          "Bolton Wanderers F.C.",
          "Manchester United F.C.",
          "Wigan Athletic F.C.",
          "Fulham F.C., Southampton F.C., Everton F.C.",
          "Leeds United F.C.",
          "Leeds United F.C.",
          "Fulham F.C.",
          "Swansea City A.F.C.",
          "Arsenal F.C.",
          "Sheffield Wednesday F.C.",
          "Tottenham Hotspur F.C.",
          "Brighton & Hove Albion F.C.",
          "Tottenham Hotspur F.C.",
          "Hull City A.F.C.",
          "Brighton & Hove Albion F.C.",
          "Aston Villa F.C.",
          "Manchester City F.C.",
          "Swansea City A.F.C., Tottenham Hotspur F.C.",
          "Wolverhampton Wanderers F.C.",
          "Portsmouth F.C.",
          "Burnley F.C., Manchester United F.C.",
          "Liverpool F.C., Portsmouth F.C., Everton F.C.",
          "Manchester City F.C.",
          "Newcastle United F.C., Liverpool F.C.",
          "Leeds United F.C.",
          "Newcastle United F.C.",
          "Derby County F.C.",
          "Ipswich Town F.C.",
          "Blackburn Rovers F.C.",
          "Norwich City F.C.",
          "Watford F.C.",
          "Watford F.C.",
          "Barnsley F.C., Portsmouth F.C., Wigan Athletic F.C.",
          "Chelsea F.C., Middlesbrough F.C., Liverpool F.C., Sunderland A.F.C.",
          "West Bromwich Albion F.C.",
          "Leeds United F.C.",
          "Barnsley F.C.",
          "West Bromwich Albion F.C.",
          "West Bromwich Albion F.C.",
          "Sheffield Wednesday F.C.",
          "Brentford F.C.",
          "Wimbledon F.C.",
          "Wimbledon F.C., Blackburn Rovers F.C.",
          "Tottenham Hotspur F.C., Everton F.C.",
          "Leeds United F.C., Aston Villa F.C.",
          "Blackburn Rovers F.C., Manchester United F.C.",
          "Sheffield United F.C., Burnley F.C.",
          "Cardiff City F.C.",
          "Liverpool F.C., Blackburn Rovers F.C.",
          "Manchester City F.C.",
          "Nottingham Forest F.C., Blackburn Rovers F.C., Derby County F.C.",
          "Bolton Wanderers F.C.",
          "Derby County F.C.",
          "Aston Villa F.C., Stoke City F.C.",
          "Cardiff City F.C.",
          "Hull City A.F.C.",
          "Cardiff City F.C.",
          "Hull City A.F.C.",
          "Southampton F.C.",
          "Swindon Town F.C., Middlesbrough F.C., Barnsley F.C.",
          "Sheffield United F.C.",
          "Chelsea F.C., Sunderland A.F.C.",
          "Chelsea F.C.",
          "Nottingham Forest F.C., Leeds United F.C., Manchester City F.C.",
          "Manchester City F.C.",
          "Wigan Athletic F.C.",
          "Wigan Athletic F.C.",
          "Oldham Athletic A.F.C., Leeds United F.C., Bradford City A.F.C.",
          "Fulham F.C., Crystal Palace F.C.",
          "Liverpool F.C.",
          "Hull City A.F.C.",
          "Nottingham Forest F.C.",
          "Leeds United F.C.",
          "Manchester City F.C.",
          "Manchester City F.C.",
          "Tottenham Hotspur F.C., Wolverhampton Wanderers F.C.",
          "Fulham F.C.",
          "Southampton F.C.",
          "Chelsea F.C.",
          "Manchester United F.C., Aston Villa F.C., Newcastle United F.C.",
          "Burnley F.C.",
          "Portsmouth F.C.",
          "AFC Bournemouth, Everton F.C., Watford F.C.",
          "Leeds United F.C.",
          "Liverpool F.C.",
          "Wimbledon F.C., Liverpool F.C., Tottenham Hotspur F.C., Aston Villa F.C.",
          "Wimbledon F.C.",
          "Southampton F.C.",
          "Arsenal F.C.",
          "Everton F.C., Sunderland A.F.C., Charlton Athletic F.C.",
          "Manchester United F.C., Fulham F.C.",
          "Sheffield United F.C., Tottenham Hotspur F.C.",
          "West Ham United F.C., Fulham F.C.",
          "Norwich City F.C.",
          "Coventry City F.C.",
          "Aston Villa F.C.",
          "Arsenal F.C.",
          "Southampton F.C., Manchester City F.C., Blackburn Rovers F.C.",
          "Crystal Palace F.C.",
          "Blackburn Rovers F.C.",
          "Oldham Athletic A.F.C., Blackburn Rovers F.C., Wimbledon F.C.",
          "Fulham F.C.",
          "Liverpool F.C., Fulham F.C.",
          "Sheffield Wednesday F.C.",
          "Wimbledon F.C.",
          "Manchester United F.C.",
          "Coventry City F.C., Southampton F.C.",
          "West Ham United F.C.",
          "Crystal Palace F.C.",
          "Nottingham Forest F.C.",
          "Leeds United F.C.",
          "Southampton F.C.",
          "Norwich City F.C.",
          "Tottenham Hotspur F.C.",
          "Burnley F.C.",
          "Southampton F.C., Aston Villa F.C.",
          "Southampton F.C., AFC Bournemouth",
          "Aston Villa F.C.",
          "Liverpool F.C.",
          "Arsenal F.C., Swansea City A.F.C., West Ham United F.C.",
          "Bolton Wanderers F.C.",
          "Hull City A.F.C., West Bromwich Albion F.C.",
          "Arsenal F.C.",
          "Leeds United F.C.",
          "Coventry City F.C.",
          "West Bromwich Albion F.C.",
          "Aston Villa F.C., Sunderland A.F.C.",
          "West Bromwich Albion F.C., Manchester United F.C.",
          "Brighton & Hove Albion F.C.",
          "Portsmouth F.C.",
          "Norwich City F.C.",
          "Tottenham Hotspur F.C., Bolton Wanderers F.C.",
          "Bolton Wanderers F.C.",
          "Birmingham City F.C.",
          "Arsenal F.C.",
          "Everton F.C.",
          "Leicester City F.C.",
          "Southampton F.C.",
          "West Ham United F.C.",
          "Queens Park Rangers F.C.",
          "Everton F.C.",
          "Arsenal F.C.",
          "Arsenal F.C., Southampton F.C., Fulham F.C., West Ham United F.C.",
          "Chelsea F.C., Queens Park Rangers F.C.",
          "Bradford City A.F.C.",
          "Nottingham Forest F.C.",
          "Liverpool F.C.",
          "Manchester City F.C.",
          "Reading F.C.",
          "Liverpool F.C.",
          "Chelsea F.C.",
          "Wolverhampton Wanderers F.C., Fulham F.C.",
          "Southampton F.C., Arsenal F.C., Fulham F.C.",
          "Everton F.C.",
          "Wolverhampton Wanderers F.C.",
          "Charlton Athletic F.C.",
          "Manchester United F.C.",
          "West Ham United F.C.",
          "Chelsea F.C.",
          "Manchester City F.C.",
          "Tottenham Hotspur F.C.",
          "Swansea City A.F.C.",
          "Chelsea F.C.",
          "Manchester United F.C.",
          "Tottenham Hotspur F.C.",
          "Portsmouth F.C., Everton F.C.",
          "Chelsea F.C.",
          "Southampton F.C., West Ham United F.C.",
          "West Ham United F.C.",
          "Everton F.C.",
          "Wolverhampton Wanderers F.C.",
          "Newcastle United F.C.",
          "Chelsea F.C.",
          "West Ham United F.C.",
          "West Bromwich Albion F.C.",
          "Wolverhampton Wanderers F.C.",
          "Wolverhampton Wanderers F.C., Liverpool F.C.",
          "Bolton Wanderers F.C.",
          "Chelsea F.C.",
          "Liverpool F.C., Chelsea F.C.",
          "Tottenham Hotspur F.C., Portsmouth F.C.",
          "Chelsea F.C.",
          "Wolverhampton Wanderers F.C.",
          "Manchester United F.C.",
          "Aston Villa F.C.",
          "Wolverhampton Wanderers F.C.",
          "Wolverhampton Wanderers F.C.",
          "Wolverhampton Wanderers F.C., Manchester City F.C.",
          "Chelsea F.C.",
          "Swansea City A.F.C.",
          "Fulham F.C.",
          "Wolverhampton Wanderers F.C.",
          "Manchester United F.C.",
          "Leicester City F.C.",
          "Norwich City F.C.",
          "Wolverhampton Wanderers F.C.",
          "West Ham United F.C., Nottingham Forest F.C.",
          "Tottenham Hotspur F.C.",
          "Chelsea F.C.",
          "Watford F.C.",
          "Leeds United F.C.",
          "Nottingham Forest F.C.",
          "Tottenham Hotspur F.C., Portsmouth F.C.",
          "Southampton F.C.",
          "Manchester United F.C.",
          "Wolverhampton Wanderers F.C.",
          "Fulham F.C.",
          "Swansea City A.F.C.",
          "Wolverhampton Wanderers F.C.",
          "Wolverhampton Wanderers F.C.",
          "Leicester City F.C.",
          "Manchester City F.C.",
          "Wolverhampton Wanderers F.C.",
          "West Ham United F.C.",
          "Arsenal F.C., Nottingham Forest F.C.",
          "Leicester City F.C.",
          "West Bromwich Albion F.C.",
          "Liverpool F.C.",
          "Chelsea F.C.",
          "Wolverhampton Wanderers F.C.",
          "Wolverhampton Wanderers F.C.",
          "Everton F.C.",
          "West Bromwich Albion F.C.",
          "Bolton Wanderers F.C., West Ham United F.C.",
          "Newcastle United F.C.",
          "Arsenal F.C.",
          "Wolverhampton Wanderers F.C., Everton F.C.",
          "Everton F.C.",
          "Wolverhampton Wanderers F.C.",
          "Everton F.C., Liverpool F.C., Middlesbrough F.C.",
          "Wolverhampton Wanderers F.C., Blackburn Rovers F.C., West Bromwich Albion F.C.",
          "AFC Bournemouth, Cardiff City F.C.",
          "Coventry City F.C., Liverpool F.C., Sunderland A.F.C.",
          "Arsenal F.C.",
          "Southampton F.C.",
          "Southampton F.C., Newcastle United F.C.",
          "Coventry City F.C.",
          "Crystal Palace F.C.",
          "West Ham United F.C.",
          "Hull City A.F.C., Norwich City F.C., Burnley F.C.",
          "Bolton Wanderers F.C., Ipswich Town F.C.",
          "Coventry City F.C., West Ham United F.C., Sunderland A.F.C.",
          "Sunderland A.F.C., Wolverhampton Wanderers F.C.",
          "Sunderland A.F.C.",
          "West Ham United F.C.",
          "Everton F.C.",
          "Leicester City F.C.",
          "Tottenham Hotspur F.C., Newcastle United F.C., Birmingham City F.C.",
          "Aston Villa F.C.",
          "Derby County F.C., Blackburn Rovers F.C., Coventry City F.C., Everton F.C., Birmingham City F.C.",
          "Chelsea F.C.",
          "Fulham F.C.",
          "Aston Villa F.C., Newcastle United F.C.",
          "West Ham United F.C.",
          "Everton F.C.",
          "Chelsea F.C.",
          "Burnley F.C., Wolverhampton Wanderers F.C., Brentford F.C.",
          "Brighton & Hove Albion F.C.",
          "Wigan Athletic F.C., Sunderland A.F.C.",
          "West Ham United F.C.",
          "West Bromwich Albion F.C.",
          "Bolton Wanderers F.C.",
          "Newcastle United F.C.",
          "West Ham United F.C., Burnley F.C.",
          "Middlesbrough F.C.",
          "Manchester City F.C., Cardiff City F.C.",
          "Wimbledon F.C., Birmingham City F.C.",
          "Coventry City F.C.",
          "Leicester City F.C., Crystal Palace F.C.",
          "Derby County F.C., Southampton F.C., Sunderland A.F.C., Stoke City F.C.",
          "Tottenham Hotspur F.C., Norwich City F.C.",
          "Wolverhampton Wanderers F.C., Tottenham Hotspur F.C.",
          "Blackburn Rovers F.C.",
          "Blackburn Rovers F.C.",
          "Birmingham City F.C.",
          "Reading F.C., Wolverhampton Wanderers F.C., Crystal Palace F.C.",
          "Blackburn Rovers F.C., Chelsea F.C., Newcastle United F.C., Fulham F.C.",
          "Everton F.C., Brighton & Hove Albion F.C., Fulham F.C.",
          "Burnley F.C.",
          "Everton F.C., Manchester City F.C., Aston Villa F.C., Queens Park Rangers F.C.",
          "Sheffield United F.C.",
          "Newcastle United F.C.",
          "Manchester City F.C., Sunderland A.F.C.",
          "Southampton F.C.",
          "Birmingham City F.C.",
          "Aston Villa F.C., Everton F.C., Bolton Wanderers F.C.",
          "Tottenham Hotspur F.C.",
          "Brighton & Hove Albion F.C.",
          "Fulham F.C., Liverpool F.C., Portsmouth F.C.",
          "Wimbledon F.C.",
          "Middlesbrough F.C.",
          "Manchester City F.C.",
          "Wigan Athletic F.C., Hull City A.F.C.",
          "Crystal Palace F.C.",
          "Watford F.C.",
          "Wolverhampton Wanderers F.C.",
          "Wolverhampton Wanderers F.C.",
          "Wolverhampton Wanderers F.C.",
          "Crystal Palace F.C.",
          "Middlesbrough F.C.",
          "Sheffield United F.C.",
          "Manchester United F.C., Everton F.C., Sunderland A.F.C.",
          "Crystal Palace F.C.",
          "Blackburn Rovers F.C., Newcastle United F.C., Manchester City F.C., Aston Villa F.C., Stoke City F.C.",
          "Wimbledon F.C.",
          "Queens Park Rangers F.C.",
          "Queens Park Rangers F.C.",
          "Leeds United F.C., Sunderland A.F.C., Reading F.C.",
          "Burnley F.C., Newcastle United F.C.",
          "Wolverhampton Wanderers F.C.",
          "Ipswich Town F.C, Charlton Athletic F.C.",
          "Norwich City F.C.",
          "Aston Villa F.C., Crystal Palace F.C.",
          "Aston Villa F.C.",
          "Reading F.C.",
          "Reading F.C., Hull City A.F.C., Wolverhampton Wanderers F.C.",
          "Norwich City F.C.",
          "Manchester City F.C., Aston Villa F.C., Newcastle United F.C., Stoke City F.C.",
          "Manchester United F.C., Wolverhampton Wanderers F.C.",
          "Middlesbrough F.C., Wigan Athletic F.C.",
          "Coventry City F.C., Leeds United F.C., Tottenham Hotspur F.C., Liverpool F.C., West Ham United F.C., Aston Villa F.C.",
          "Nottingham Forest F.C., Manchester United F.C.",
          "Manchester United F.C., Hull City A.F.C.",
          "Liverpool F.C.",
          "Sheffield United F.C., Blackburn Rovers F.C.",
          "Sunderland A.F.C.",
          "Leeds United F.C.",
          "Tottenham Hotspur F.C., Birmingham City F.C., Stoke City F.C., Fulham F.C., Reading F.C.",
          "Southampton F.C., Blackburn Rovers F.C., Birmingham City F.C.",
          "Liverpool F.C., Wimbledon F.C., Manchester City F.C., Wolverhampton Wanderers F.C.",
          "Sheffield United F.C., Queens Park Rangers F.C.",
          "Wolverhampton Wanderers F.C.",
          "Middlesbrough F.C., Manchester City F.C.",
          "Charlton Athletic F.C., Portsmouth F.C., West Bromwich Albion F.C.",
          "Sunderland A.F.C., Everton F.C., Wigan Athletic F.C., Hull City A.F.C.",
          "Charlton Athletic F.C., Aston Villa F.C.",
          "Crystal Palace F.C., Derby County F.C.",
          "Sunderland A.F.C., Stoke City F.C.",
          "Burnley F.C.",
          "Reading F.C., West Bromwich Albion F.C., Hull City A.F.C., Southampton F.C.",
          "Manchester City F.C., Derby County F.C.",
          "Blackburn Rovers F.C., Wigan Athletic F.C.",
          "Leeds United F.C.",
          "Bolton Wanderers F.C., Liverpool F.C., Blackburn Rovers F.C., Sunderland A.F.C.",
          "Burnley F.C.",
          "Wigan Athletic F.C., Everton F.C., Crystal Palace F.C.",
          "Crystal Palace F.C.",
          "Sunderland A.F.C., West Bromwich Albion F.C.",
          "Tottenham Hotspur F.C.",
          "Everton F.C.",
          "Wimbledon F.C.",
          "Sheffield United F.C.",
          "Crystal Palace F.C., Arsenal F.C.",
          "Arsenal F.C.",
          "Aston Villa F.C., Derby County F.C.",
          "Aston Villa F.C.",
          "Sheffield Wednesday F.C.",
          "Leeds United F.C.",
          "Sunderland A.F.C., Hull City A.F.C.",
          "Sunderland A.F.C., Hull City A.F.C.",
          "Manchester United F.C., Sunderland A.F.C.",
          "Oldham Athletic F.C., Norwich City F.C.",
          "Sunderland A.F.C.",
          "Brighton & Hove Albion F.C.",
          "Middlesbrough F.C.",
          "Brighton & Hove Albion F.C.",
          "Blackburn Rovers F.C.",
          "Middlesbrough F.C.",
          "Crystal Palace F.C., Birmingham City F.C.",
          "Newcastle United F.C.",
          "Sunderland A.F.C.",
          "West Bromwich Albion F.C.",
          "Southampton F.C., Burnley F.C.",
          "Newcastle United F.C.",
          "Bradford City A.F.C., Newcastle United F.C., Portsmouth F.C., Bolton Wanderers F.C.",
          "Bolton Wanderers F.C., West Ham United F.C.",
          "Newcastle United F.C.",
          "Sunderland A.F.C.",
          "Luton Town F.C.",
          "Middlesbrough F.C.",
          "AFC Bournemouth",
          "Arsenal F.C., Leeds United F.C.",
          "Norwich City F.C., Nottingham Forest F.C.",
          "Norwich City F.C., Middlesbrough F.C.",
          "West Bromwich Albion F.C., Burnley F.C.",
          "Birmingham City F.C.",
          "Manchester United F.C., Sunderland A.F.C.",
          "Birmingham City F.C.",
          "Tottenham Hotspur F.C.",
          "Reading F.C.",
          "Chelsea F.C.",
          "Manchester City F.C., Chelsea F.C., Everton F.C.",
          "Norwich City F.C.",
          "Liverpool F.C.",
          "Norwich City F.C.",
          "Sheffield Wednesday F.C., Sheffield United F.C.",
          "Coventry City F.C.",
          "Manchester City F.C., Sunderland A.F.C.",
          "Crystal Palace F.C.",
          "Sheffield United F.C., Hull City A.F.C.",
          "Charlton Athletic F.C., West Ham United F.C.",
          "Sunderland A.F.C.",
          "Tottenham Hotspur F.C., Charlton Athletic F.C., Sunderland A.F.C., Blackpool F.C.",
          "Blackburn Rovers F.C., West Bromwich Albion F.C., Burnley F.C.",
          "Aston Villa F.C., Sheffield United F.C., West Bromwich Albion F.C.",
          "West Ham United F.C.",
          "Sunderland A.F.C.",
          "Wigan Athletic F.C.",
          "Sheffield Wednesday F.C., Bolton Wanderers F.C.",
          "Coventry City F.C.",
          "Middlesbrough F.C.",
          "Southampton F.C.",
          "Norwich City F.C.",
          "Aston Villa F.C., Liverpool F.C.",
          "Aston Villa F.C., Sheffield United F.C.",
          "Sunderland A.F.C.",
          "Reading F.C.",
          "Sunderland A.F.C.",
          "Aston Villa F.C.",
          "Chelsea F.C., Aston Villa F.C., Middlesbrough F.C.",
          "AFC Bournemouth",
          "Blackburn Rovers F.C.",
          "Tottenham Hotspur F.C.",
          "Bolton Wanderers F.C., Stoke City F.C., Burnley F.C.",
          "Wolverhampton Wanderers F.C., Burnley F.C.",
          "Sunderland A.F.C.",
          "Bradford City A.F.C.",
          "Stoke City F.C.",
          "Liverpool F.C.",
          "Aston Villa F.C.",
          "Portsmouth F.C., Stoke City F.C., West Bromwich Albion F.C.",
          "Tottenham Hotspur F.C.",
          "Brighton & Hove Albion F.C.",
          "Tottenham Hotspur F.C.",
          "West Bromwich Albion F.C.",
          "Tottenham Hotspur F.C.",
          "Tottenham Hotspur F.C., West Ham United F.C.",
          "Wolverhampton Wanderers F.C.",
          "Southampton F.C.",
          "Coventry City F.C.",
          "Chelsea F.C.",
          "Manchester City F.C., Sunderland A.F.C., Watford F.C.",
          "Sheffield Wednesday F.C., Chelsea F.C., Bradford City A.F.C., Southampton F.C.",
          "Tottenham Hotspur F.C.",
          "AFC Bournemouth",
          "West Ham United F.C.",
          "West Ham United F.C.",
          "West Bromwich Albion F.C.",
          "Arsenal F.C.",
          "Everton F.C.",
          "Manchester United F.C., Everton F.C., Manchester City F.C., Southampton F.C.",
          "Chelsea F.C.",
          "Tottenham Hotspur F.C.",
          "Fulham F.C., Reading F.C.",
          "Portsmouth F.C., Chelsea F.C., Charlton Athletic F.C., Fulham F.C.",
          "Chelsea F.C.",
          "Barnsley F.C.",
          "Tottenham Hotspur F.C.",
          "Bolton Wanderers F.C., Aston Villa F.C., Crystal Palace F.C.",
          "Southampton F.C.",
          "Liverpool F.C.",
          "Charlton Athletic F.C., West Ham United F.C.",
          "Chelsea F.C., West Bromwich Albion F.C.",
          "Chelsea F.C.",
          "Liverpool F.C.",
          "Chelsea F.C.",
          "Manchester City F.C.",
          "Portsmouth F.C.",
          "Sheffield Wednesday F.C.",
          "Fulham F.C.",
          "Liverpool F.C., Hull City A.F.C., Fulham F.C.",
          "Chelsea F.C., Manchester United F.C.",
          "Wolverhampton Wanderers F.C.",
          "Crystal Palace F.C.",
          "Aston Villa F.C.",
          "Newcastle United F.C., Fulham F.C.",
          "Manchester City F.C.",
          "Chelsea F.C.",
          "Blackburn Rovers F.C.",
          "Sheffield Wednesday F.C., Portsmouth F.C., Fulham F.C.",
          "Wigan Athletic F.C.",
          "Southampton F.C.",
          "Manchester United F.C.",
          "Tottenham Hotspur F.C.",
          "Manchester United F.C.",
          "Portsmouth F.C.",
          "Birmingham City F.C.",
          "West Bromwich Albion F.C.",
          "West Bromwich Albion F.C.",
          "Newcastle United F.C.",
          "Norwich City F.C.",
          "Blackburn Rovers F.C.",
          "Middlesbrough F.C.",
          "West Bromwich Albion F.C.",
          "Watford F.C.",
          "West Ham United F.C.",
          "Tottenham Hotspur F.C.",
          "Bolton Wanderers F.C.",
          "Everton F.C.",
          "Middlesbrough F.C.",
          "Fulham F.C.",
          "Liverpool F.C.",
          "Chelsea F.C.",
          "Stoke City F.C.",
          "Sunderland A.F.C.",
          "Manchester City F.C., Bolton Wanderers F.C.",
          "Tottenham Hotspur F.C.",
          "Huddersfield Town A.F.C.",
          "West Bromwich Albion F.C., Hull City A.F.C.",
          "Barnsley F.C.",
          "Portsmouth F.C.",
          "Newcastle United F.C.",
          "Aston Villa F.C., Middlesbrough F.C., Wolverhampton Wanderers F.C., Fulham F.C.",
          "West Ham United F.C., Liverpool F.C.",
          "Liverpool F.C.",
          "Arsenal F.C.",
          "Bolton Wanderers F.C., Sunderland A.F.C., Chelsea F.C.",
          "Bolton Wanderers F.C.",
          "Liverpool F.C.",
          "Manchester City F.C.",
          "Liverpool F.C., West Ham United F.C.",
          "Everton F.C., Arsenal F.C.",
          "Liverpool F.C.",
          "Liverpool F.C., Norwich City F.C., Middlesbrough F.C.",
          "Chelsea F.C.",
          "Liverpool F.C.",
          "Middlesbrough F.C.",
          "Arsenal F.C.",
          "Stoke City F.C.",
          "Swansea City A.F.C., Aston Villa F.C.",
          "Leeds United F.C.",
          "Brighton & Hove Albion F.C.",
          "Wolverhampton Wanderers F.C.",
          "Cardiff City F.C.",
          "Cardiff City F.C., Crystal Palace F.C.",
          "Wigan Athletic F.C.",
          "Crystal Palace F.C.",
          "Bolton Wanderers F.C.",
          "Swansea City A.F.C.",
          "Liverpool F.C., Brentford F.C.",
          "Leeds United F.C.",
          "Arsenal F.C.",
          "Arsenal F.C.",
          "Bolton Wanderers F.C.",
          "Liverpool F.C.",
          "Chelsea F.C., Wolverhampton Wanderers F.C.",
          "Ipswich Town F.C.",
          "Aston Villa F.C.",
          "Wigan Athletic F.C.",
          "Brighton & Hove Albion F.C., Chelsea F.C.",
          "Aston Villa F.C., Sunderland A.F.C.",
          "Everton F.C., Watford F.C.",
          "Manchester United F.C.",
          "Chelsea F.C.",
          "Blackburn Rovers F.C.",
          "Chelsea F.C.",
          "Manchester City F.C.",
          "Newcastle United F.C., Liverpool F.C.",
          "Arsenal F.C., Chelsea F.C.",
          "Fulham F.C.",
          "Tottenham Hotspur F.C.",
          "Brighton & Hove Albion F.C.",
          "Watford F.C.",
          "Brentford F.C.",
          "Chelsea F.C.",
          "Leeds United F.C.",
          "Swansea City A.F.C.",
          "West Ham United F.C.",
          "Newcastle United F.C.",
          "Manchester City F.C.",
          "Manchester City F.C.",
          "Manchester City F.C.",
          "Liverpool F.C.",
          "Manchester City F.C.",
          "Manchester City F.C., Norwich City F.C.",
          "Tottenham Hotspur F.C.",
          "Aston Villa F.C.",
          "Wigan Athletic F.C.",
          "Wigan Athletic F.C., Sunderland A.F.C.",
          "Manchester City F.C.",
          "Queens Park Rangers F.C.",
          "Crystal Palace F.C.",
          "Leicester City F.C.",
          "Swansea City A.F.C., Leeds United F.C.",
          "Manchester United F.C.",
          "Bolton Wanderers F.C.",
          "West Bromwich Albion F.C.",
          "Leicester City F.C.",
          "Stoke City F.C.",
          "Wolverhampton Wanderers F.C.",
          "Stoke City F.C., Newcastle United F.C.",
          "Liverpool F.C.",
          "Aston Villa F.C.",
          "Southampton F.C.",
          "Watford F.C.",
          "Chelsea F.C.",
          "West Ham United F.C.",
          "Manchester City F.C.",
          "Southampton F.C.",
          "Leeds United F.C.",
          "Swansea City A.F.C., Tottenham Hotspur F.C.",
          "Wigan Athletic F.C.",
          "Arsenal F.C., West Ham United F.C.",
          "Liverpool F.C.",
          "Aston Villa F.C.",
          "Newcastle United F.C.",
          "Liverpool F.C., Sunderland A.F.C., Newcastle United F.C.",
          "Newcastle United F.C.",
          "Arsenal F.C.",
          "Chelsea F.C., Manchester United F.C.",
          "Middlesbrough F.C.",
          "Arsenal F.C.",
          "Newcastle United F.C.",
          "Swansea City A.F.C.",
          "Birmingham City F.C.",
          "Swansea City A.F.C.",
          "Arsenal F.C.",
          "Arsenal F.C.",
          "Brighton & Hove Albion F.C.",
          "Chelsea F.C.",
          "Liverpool F.C.",
          "Aston Villa F.C.",
          "Bolton Wanderers F.C.",
          "Liverpool F.C.",
          "Stoke City F.C.",
          "Watford F.C.",
          "Manchester City F.C.",
          "Tottenham Hotspur F.C.",
          "Manchester City F.C., Middlesbrough F.C.",
          "Chelsea F.C.",
          "Manchester City F.C.",
          "Liverpool F.C.",
          "Swansea City A.F.C.",
          "Birmingham City F.C.",
          "Liverpool F.C.",
          "Chelsea F.C.",
          "Newcastle United F.C., Leicester City F.C.",
          "Manchester United F.C.",
          "Tottenham Hotspur F.C.",
          "Manchester City F.C.",
          "Swansea City A.F.C.",
          "Wigan Athletic F.C.",
          "Swansea City A.F.C.",
          "Brentford F.C., Arsenal F.C.",
          "Tottenham Hotspur F.C., Manchester United F.C., Brentford F.C.",
          "Liverpool F.C., Aston Villa F.C.",
          "Arsenal F.C.",
          "Manchester United F.C.",
          "AFC Bournemouth",
          "Fulham F.C.",
          "Manchester City F.C., Liverpool F.C.",
          "West Ham United F.C.",
          "Wigan Athletic F.C., Everton F.C., Leeds United F.C.",
          "Leeds United F.C.",
          "Blackburn Rovers F.C.",
          "Manchester City F.C.",
          "Bolton Wanderers F.C., Leeds United F.C.",
          "Chelsea F.C., Southampton F.C.",
          "Blackburn Rovers F.C.",
          "Bolton Wanderers F.C.",
          "Brighton & Hove Albion F.C., Chelsea F.C.",
          "Everton F.C.",
          "Wolverhampton Wanderers F.C.",
          "Manchester City F.C.",
          "Tottenham Hotspur F.C.",
          "Arsenal F.C.",
          "Watford F.C.",
          "Liverpool F.C.",
          "Liverpool F.C., Chelsea F.C.",
          "Manchester City F.C.",
          "Aston Villa F.C.",
          "West Ham United F.C.",
          "Manchester United F.C., Middlesbrough F.C.",
          "West Bromwich Albion F.C.",
          "Wolverhampton Wanderers F.C.",
          "Swansea City A.F.C.",
          "Newcastle United F.C.",
          "Blackburn Rovers F.C.",
          "Sheffield Wednesday F.C., Everton F.C.",
          "Aston Villa F.C.",
          "Blackburn Rovers F.C.",
          "Newcastle United F.C.",
          "Blackburn Rovers F.C.",
          "Sunderland A.F.C.",
          "Aston Villa F.C.",
          "Brighton & Hove Albion F.C.",
          "Sunderland A.F.C.",
          "Manchester United F.C., Everton F.C., Charlton Athletic F.C.",
          "Leeds United F.C., Crystal Palace F.C.",
          "Blackburn Rovers F.C.",
          "Manchester United F.C.",
          "Tottenham Hotspur F.C., Wigan Athletic F.C.",
          "Burnley F.C.",
          "Manchester United F.C., Nottingham Forest F.C.",
          "Fulham F.C.",
          "Bolton Wanderers F.C., Norwich City F.C.",
          "Sunderland A.F.C.",
          "Wigan Athletic F.C.",
          "Blackburn Rovers F.C.",
          "Stoke City F.C.",
          "Coventry City F.C.",
          "Coventry City F.C.",
          "Manchester United F.C.",
          "Sheffield Wednesday F.C.",
          "Newcastle United F.C.",
          "Manchester City F.C.",
          "Southampton F.C.",
          "Brentford F.C.",
          "Wigan Athletic F.C.",
          "Blackburn Rovers F.C.",
          "Norwich City F.C.",
          "Fulham F.C.",
          "Arsenal F.C.",
          "Leicester City F.C.",
          "Newcastle United F.C.",
          "Tottenham Hotspur F.C.",
          "Manchester United F.C.",
          "Arsenal F.C., Birmingham City F.C., Sunderland A.F.C.",
          "Arsenal F.C., Everton F.C.",
          "Manchester United F.C.",
          "Everton F.C.",
          "Arsenal F.C., West Ham United F.C.",
          "Leeds United F.C.",
          "Barnsley F.C.",
          "Nottingham Forest F.C.",
          "Aston Villa F.C.",
          "Burnley F.C.",
          "Southampton F.C.",
          "Sheffield Wednesday F.C., Coventry City F.C.",
          "Swansea City A.F.C.",
          "Everton F.C., Aston Villa F.C.",
          "West Bromwich Albion F.C.",
          "Blackburn Rovers F.C.",
          "Blackburn Rovers F.C., Norwich City F.C., Swansea City A.F.C.",
          "Sunderland A.F.C.",
          "Charlton Athletic F.C.",
          "Derby County F.C.",
          "West Bromwich Albion F.C.",
          "Fulham F.C.",
          "Arsenal F.C., Sunderland A.F.C.",
          "Watford F.C.",
          "Arsenal F.C.",
          "Fulham F.C.",
          "Southampton F.C.",
          "Charlton Athletic F.C., Norwich City F.C.",
          "Southampton F.C.",
          "Fulham F.C.",
          "Sunderland A.F.C.",
          "Bolton Wanderers F.C.",
          "Sheffield United F.C.",
          "Watford F.C.",
          "West Ham United F.C.",
          "Manchester City F.C.",
          "Burnley F.C.",
          "West Ham United F.C., Watford F.C.",
          "Leeds United F.C.",
          "Blackburn Rovers F.C.",
          "West Ham United F.C.",
          "Liverpool F.C.",
          "Arsenal F.C., Birmingham City F.C.",
          "Norwich City F.C.",
          "West Ham United F.C.",
          "Manchester City F.C.",
          "Derby County F.C.",
          "Nottingham Forest F.C.",
          "Bolton Wanderers F.C.",
          "Sunderland A.F.C., West Bromwich Albion F.C.",
          "Blackburn Rovers F.C., Liverpool F.C., Wigan Athletic F.C.",
          "Newcastle United F.C., Everton F.C.",
          "Leicester City F.C.",
          "Hull City A.F.C., Leicester City F.C.",
          "Southampton F.C.",
          "Fulham F.C.",
          "Norwich City F.C.",
          "Arsenal F.C.",
          "Manchester City F.C.",
          "Newcastle United F.C., Fulham F.C.",
          "Newcastle United F.C.",
          "Arsenal F.C., Everton F.C., Fulham F.C., Aston Villa F.C.",
          "Stoke City F.C., Liverpool F.C.",
          "Tottenham Hotspur F.C.",
          "Blackburn Rovers F.C.",
          "Arsenal F.C.",
          "Chelsea F.C.",
          "Brighton & Hove Albion F.C.",
          "Tottenham Hotspur F.C., Wigan Athletic F.C.",
          "Bolton Wanderers F.C.",
          "Blackburn Rovers F.C.",
          "Newcastle United F.C.",
          "Brentford F.C.",
          "Fulham F.C.",
          "Leicester City F.C., Birmingham City F.C.",
          "Liverpool F.C., Norwich City F.C.",
          "Reading F.C.",
          "Sheffield United F.C.",
          "Blackburn Rovers F.C.",
          "Aston Villa F.C.",
          "Liverpool F.C.",
          "Leicester City F.C.",
          "Blackburn Rovers F.C.",
          "West Ham United F.C.",
          "Everton F.C., Crystal Palace F.C.",
          "Watford F.C.",
          "Middlesbrough F.C., Stoke City F.C., Bolton Wanderers F.C.",
          "AFC Bournemouth",
          "Leicester City F.C.",
          "Blackburn Rovers F.C.",
          "West Bromwich Albion F.C.",
          "Coventry City F.C.",
          "Arsenal F.C., Wolverhampton Wanderers F.C.",
          "Chelsea F.C.",
          "Everton F.C.",
          "Tottenham Hotspur F.C.",
          "Chelsea F.C.",
          "Liverpool F.C.",
          "West Ham United F.C.",
          "Brentford F.C.",
          "AFC Bournemouth",
          "Manchester City F.C., Arsenal F.C."
         ],
         "legendgroup": "Europe",
         "marker": {
          "color": "#00cc96",
          "symbol": "circle"
         },
         "mode": "markers",
         "name": "Europe",
         "showlegend": true,
         "type": "scattergl",
         "x": [
          497,
          498,
          499,
          500,
          501,
          502,
          503,
          504,
          505,
          506,
          507,
          508,
          509,
          510,
          511,
          512,
          513,
          514,
          515,
          516,
          517,
          518,
          519,
          520,
          521,
          522,
          523,
          524,
          525,
          526,
          527,
          528,
          529,
          530,
          531,
          532,
          533,
          534,
          535,
          536,
          537,
          538,
          539,
          540,
          541,
          542,
          543,
          544,
          545,
          546,
          547,
          548,
          549,
          550,
          551,
          552,
          553,
          554,
          555,
          556,
          557,
          558,
          559,
          560,
          561,
          562,
          563,
          564,
          565,
          566,
          567,
          568,
          569,
          570,
          571,
          572,
          573,
          574,
          575,
          576,
          577,
          578,
          579,
          580,
          581,
          582,
          583,
          584,
          585,
          586,
          587,
          588,
          589,
          590,
          591,
          592,
          593,
          594,
          595,
          596,
          597,
          598,
          599,
          600,
          601,
          602,
          603,
          604,
          605,
          606,
          607,
          608,
          609,
          610,
          611,
          612,
          613,
          614,
          615,
          616,
          617,
          618,
          619,
          620,
          621,
          622,
          623,
          624,
          625,
          626,
          627,
          628,
          629,
          630,
          631,
          632,
          633,
          634,
          635,
          636,
          637,
          638,
          639,
          640,
          641,
          642,
          643,
          644,
          645,
          646,
          647,
          648,
          649,
          650,
          651,
          652,
          653,
          654,
          655,
          656,
          657,
          658,
          659,
          660,
          661,
          662,
          663,
          664,
          665,
          666,
          667,
          668,
          669,
          670,
          671,
          672,
          673,
          674,
          675,
          676,
          677,
          678,
          679,
          680,
          681,
          682,
          683,
          684,
          685,
          686,
          687,
          688,
          689,
          690,
          691,
          692,
          693,
          694,
          695,
          696,
          697,
          698,
          699,
          700,
          701,
          702,
          703,
          704,
          705,
          706,
          707,
          708,
          709,
          710,
          711,
          712,
          713,
          714,
          715,
          716,
          717,
          718,
          719,
          720,
          721,
          722,
          723,
          724,
          725,
          726,
          727,
          728,
          729,
          730,
          731,
          732,
          733,
          734,
          735,
          736,
          737,
          738,
          739,
          740,
          741,
          742,
          743,
          744,
          745,
          746,
          747,
          748,
          749,
          750,
          751,
          752,
          753,
          754,
          755,
          756,
          757,
          758,
          759,
          760,
          761,
          762,
          763,
          764,
          765,
          766,
          767,
          768,
          769,
          770,
          771,
          772,
          773,
          774,
          775,
          776,
          777,
          778,
          779,
          780,
          781,
          782,
          783,
          784,
          785,
          786,
          787,
          788,
          789,
          790,
          791,
          792,
          793,
          794,
          795,
          796,
          797,
          798,
          799,
          800,
          801,
          802,
          803,
          804,
          805,
          806,
          807,
          808,
          809,
          810,
          811,
          812,
          813,
          814,
          815,
          816,
          817,
          818,
          819,
          820,
          821,
          822,
          823,
          824,
          825,
          826,
          827,
          828,
          829,
          830,
          831,
          832,
          833,
          834,
          835,
          836,
          837,
          838,
          839,
          840,
          841,
          842,
          843,
          844,
          845,
          846,
          847,
          848,
          849,
          850,
          851,
          852,
          853,
          854,
          855,
          856,
          857,
          858,
          859,
          860,
          861,
          862,
          863,
          864,
          865,
          866,
          867,
          868,
          869,
          870,
          871,
          872,
          873,
          874,
          875,
          876,
          877,
          878,
          879,
          880,
          881,
          882,
          883,
          884,
          885,
          886,
          887,
          888,
          889,
          890,
          891,
          892,
          893,
          894,
          895,
          896,
          897,
          898,
          899,
          900,
          901,
          902,
          903,
          904,
          905,
          906,
          907,
          908,
          909,
          910,
          911,
          912,
          913,
          914,
          915,
          916,
          917,
          918,
          919,
          920,
          921,
          922,
          923,
          924,
          925,
          926,
          927,
          928,
          929,
          930,
          931,
          932,
          933,
          934,
          935,
          936,
          937,
          938,
          939,
          940,
          941,
          942,
          943,
          944,
          945,
          946,
          947,
          948,
          949,
          950,
          951,
          952,
          953,
          954,
          955,
          956,
          957,
          958,
          959,
          960,
          961,
          962,
          963,
          964,
          965,
          966,
          967,
          968,
          969,
          970,
          971,
          972,
          973,
          974,
          975,
          976,
          977,
          978,
          979,
          980,
          981,
          982,
          983,
          984,
          985,
          986,
          987,
          988,
          989,
          990,
          991,
          992,
          993,
          994,
          995,
          996,
          997,
          998,
          999,
          1000,
          1001,
          1002,
          1003,
          1004,
          1005,
          1006,
          1007,
          1008,
          1009,
          1010,
          1011,
          1012,
          1013,
          1014,
          1015,
          1016,
          1017,
          1018,
          1019,
          1020,
          1021,
          1022,
          1023,
          1024,
          1025,
          1026,
          1027,
          1028,
          1029,
          1030,
          1031,
          1032,
          1033,
          1034,
          1035,
          1036,
          1037,
          1038,
          1039,
          1040,
          1041,
          1042,
          1043,
          1044,
          1045,
          1046,
          1047,
          1048,
          1049,
          1050,
          1051,
          1052,
          1053,
          1054,
          1055,
          1056,
          1057,
          1058,
          1059,
          1060,
          1061,
          1062,
          1063,
          1064,
          1065,
          1066,
          1067,
          1068,
          1069,
          1070,
          1071,
          1072,
          1073,
          1074,
          1075,
          1076,
          1077,
          1078,
          1079,
          1080,
          1081,
          1082,
          1083,
          1084,
          1085,
          1086,
          1087,
          1088,
          1089,
          1090,
          1091,
          1092,
          1093,
          1094,
          1095,
          1096,
          1097,
          1098,
          1099,
          1100,
          1101,
          1102,
          1103,
          1104,
          1105,
          1106,
          1107,
          1108,
          1109,
          1110,
          1111,
          1112,
          1113,
          1114,
          1115,
          1116,
          1117,
          1118,
          1119,
          1120,
          1121,
          1122,
          1123,
          1124,
          1125,
          1126,
          1127,
          1128,
          1129,
          1130,
          1131,
          1132,
          1133,
          1134,
          1135,
          1136,
          1137,
          1138,
          1139,
          1140,
          1141,
          1142,
          1143,
          1144,
          1145,
          1146,
          1147,
          1148,
          1149,
          1150,
          1151,
          1152,
          1153,
          1154,
          1155,
          1156,
          1157,
          1158,
          1159,
          1160,
          1161,
          1162,
          1163,
          1164,
          1165,
          1166,
          1167,
          1168,
          1169,
          1170,
          1171,
          1172,
          1173,
          1174,
          1175,
          1176,
          1177,
          1178,
          1179,
          1180,
          1181,
          1182,
          1183,
          1184,
          1185,
          1186,
          1187,
          1188,
          1189,
          1190,
          1191,
          1192,
          1193,
          1194,
          1195,
          1196,
          1197,
          1198,
          1199,
          1200,
          1201,
          1202,
          1203,
          1204,
          1205,
          1206,
          1207,
          1208,
          1209,
          1210,
          1211,
          1212,
          1213,
          1214,
          1215,
          1216,
          1217,
          1218,
          1219,
          1220,
          1221,
          1222,
          1223,
          1224,
          1225,
          1226,
          1227,
          1228,
          1229,
          1230,
          1231,
          1232,
          1233,
          1234,
          1235,
          1236,
          1237,
          1238,
          1239,
          1240,
          1241,
          1242,
          1243,
          1244,
          1245,
          1246,
          1247,
          1248,
          1249,
          1250,
          1251,
          1252,
          1253,
          1254,
          1255,
          1256,
          1257,
          1258,
          1259,
          1260,
          1261,
          1262,
          1263,
          1264,
          1265,
          1266,
          1267,
          1268,
          1269,
          1270,
          1271,
          1272,
          1273,
          1274,
          1275,
          1276,
          1277,
          1278,
          1279,
          1280,
          1281,
          1282,
          1283,
          1284,
          1285,
          1286,
          1287,
          1288,
          1289,
          1290,
          1291,
          1292,
          1293,
          1294,
          1295,
          1296,
          1297,
          1298,
          1299,
          1300,
          1301,
          1302,
          1303,
          1304,
          1305,
          1306,
          1307,
          1308,
          1309,
          1310,
          1311,
          1312,
          1313,
          1314,
          1315,
          1316,
          1317,
          1318,
          1319,
          1320,
          1321,
          1322,
          1323,
          1324,
          1325,
          1326,
          1327,
          1328,
          1329,
          1330,
          1331,
          1332,
          1333,
          1334,
          1335,
          1336,
          1337,
          1338,
          1339,
          1340,
          1341,
          1342,
          1343,
          1344,
          1345,
          1346,
          1347,
          1348,
          1349,
          1350,
          1351,
          1352,
          1353,
          1354,
          1355,
          1356,
          1357,
          1358,
          1359,
          1360,
          1361,
          1362,
          1363,
          1364,
          1365,
          1366,
          1367,
          1368,
          1369,
          1370,
          1371,
          1372,
          1373,
          1374,
          1375,
          1376,
          1377,
          1378,
          1379,
          1380,
          1381,
          1382,
          1383,
          1384,
          1385,
          1386,
          1387,
          1388,
          1389,
          1390,
          1391,
          1392,
          1393,
          1394,
          1395,
          1396,
          1397,
          1398,
          1399,
          1400,
          1401,
          1402,
          1403,
          1404,
          1405,
          1406,
          1407,
          1408,
          1409,
          1410,
          1411,
          1412,
          1413,
          1414,
          1415,
          1416,
          1417,
          1418,
          1419,
          1420,
          1421,
          1422,
          1423,
          1424,
          1425,
          1426,
          1427,
          1428,
          1429,
          1430,
          1431,
          1432,
          1433,
          1434,
          1435,
          1436,
          1437,
          1438,
          1439,
          1440,
          1441,
          1442,
          1443,
          1444,
          1445,
          1446,
          1447,
          1448,
          1449,
          1450,
          1451,
          1452,
          1453,
          1454,
          1455,
          1456,
          1457,
          1458,
          1459,
          1460,
          1461,
          1462,
          1463,
          1464,
          1465,
          1466,
          1467,
          1468,
          1469,
          1470,
          1471,
          1472,
          1473,
          1474,
          1475,
          1476,
          1477,
          1478,
          1479,
          1480,
          1481,
          1482,
          1483,
          1484,
          1485,
          1486,
          1487,
          1488,
          1489,
          1490,
          1491,
          1492,
          1493,
          1494,
          1495,
          1496,
          1497,
          1498,
          1499,
          1500,
          1501,
          1502,
          1503,
          1504,
          1505,
          1506,
          1507,
          1508,
          1509,
          1510,
          1511,
          1512,
          1513,
          1514,
          1515,
          1516,
          1517,
          1518,
          1519,
          1520,
          1521,
          1522,
          1523,
          1524,
          1525,
          1526,
          1527,
          1528,
          1529,
          1530,
          1531,
          1532,
          1533,
          1534,
          1535,
          1536,
          1537,
          1538,
          1539,
          1540,
          1541,
          1542,
          1543,
          1544,
          1545,
          1546,
          1547,
          1548,
          1549,
          1550,
          1551,
          1552,
          1553,
          1554,
          1555,
          1556,
          1557,
          1558,
          1559,
          1560,
          1561,
          1562,
          1563,
          1564,
          1565,
          1566,
          1567,
          1568,
          1569,
          1570,
          1571,
          1572,
          1573,
          1574,
          1575,
          1576,
          1577,
          1578,
          1579,
          1580,
          1581,
          1582,
          1583,
          1584,
          1585,
          1586,
          1587,
          1588,
          1589,
          1590,
          1591,
          1592,
          1593,
          1594,
          1595,
          1596,
          1597,
          1598,
          1599,
          1600,
          1601,
          1602,
          1603,
          1604,
          1605,
          1606,
          1607,
          1608,
          1609,
          1610,
          1611,
          1612,
          1613,
          1614,
          1615,
          1616,
          1617,
          1618,
          1619,
          1620,
          1621,
          1622,
          1623,
          1624,
          1625,
          1626,
          1627,
          1628,
          1629,
          1630,
          1631,
          1632,
          1633,
          1634,
          1635,
          1636,
          1637,
          1638,
          1639,
          1640,
          1641,
          1642,
          1643,
          1644,
          1645,
          1646,
          1647,
          1648,
          1649,
          1650,
          1651,
          1652,
          1653,
          1654,
          1655,
          1656,
          1657,
          1658,
          1659,
          1660,
          1661,
          1662,
          1663,
          1664,
          1665,
          1666,
          1667,
          1668,
          1669,
          1670,
          1671,
          1672,
          1673,
          1674,
          1675,
          1676,
          1677,
          1678,
          1679,
          1680,
          1681,
          1682,
          1683,
          1684,
          1685,
          1686,
          1687,
          1688,
          1689,
          1690,
          1691,
          1692,
          1693,
          1694,
          1695,
          1696,
          1697,
          1698,
          1699,
          1700,
          1701,
          1702,
          1703,
          1704,
          1705,
          1706,
          1707,
          1708,
          1709,
          1710,
          1711,
          1712,
          1713,
          1714,
          1715,
          1716,
          1717,
          1718,
          1719,
          1720,
          1721,
          1722,
          1723,
          1724,
          1725,
          1726,
          1727,
          1728,
          1729,
          1730,
          1731,
          1732,
          1733,
          1734,
          1735,
          1736,
          1737,
          1738,
          1739,
          1740,
          1741,
          1742,
          1743,
          1744,
          1745,
          1746,
          1747,
          1748,
          1749,
          1750,
          1751,
          1752,
          1753,
          1754,
          1755,
          1756,
          1757,
          1758,
          1759,
          1760,
          1761,
          1762,
          1763,
          1764,
          1765,
          1766,
          1767,
          1768,
          1769,
          1770,
          1771,
          1772,
          1773,
          1774,
          1775,
          1776,
          1777,
          1778,
          1779,
          1780,
          1781,
          1782,
          1783,
          1784,
          1785,
          1786,
          1787,
          1788,
          1789,
          1790,
          1791,
          1792,
          1793,
          1794,
          1795,
          1796,
          1797,
          1798,
          1799,
          1800,
          1801,
          1802,
          1803,
          1804,
          1805,
          1806,
          1807,
          1808,
          1809,
          1810,
          1811,
          1812,
          1813,
          1814,
          1815,
          1816,
          1817,
          1818,
          1819,
          1820,
          1821,
          1822,
          1823,
          1824,
          1825,
          1826,
          1827,
          1828,
          1829,
          1830,
          1831,
          1832,
          1833,
          1834,
          1835,
          1836,
          1837,
          1838,
          1839,
          1840,
          1841,
          1842,
          1843,
          1844,
          1845,
          1846,
          1847,
          1848,
          1849,
          1850,
          1851,
          1852,
          1853,
          1854,
          1855,
          1856,
          1857,
          1858,
          1859,
          1860,
          1861,
          1862,
          1863,
          1864,
          1865,
          1866,
          1867,
          1868,
          1869,
          1870,
          1871,
          1872,
          1873,
          1874,
          1875,
          1876,
          1877,
          1878,
          1879,
          1880,
          1881,
          1882,
          1883,
          1884,
          1885,
          1886,
          1887,
          1888,
          1889,
          1890,
          1891,
          1892,
          1893,
          1894,
          1895,
          1896,
          1897,
          1898,
          1899,
          1900,
          1901,
          1902,
          1903,
          1904,
          1905,
          1906,
          1907,
          1908,
          1909,
          1910,
          1911,
          1912,
          1913,
          1914,
          1915,
          1916,
          1917,
          1918,
          1919,
          1920,
          1921,
          1922,
          1923,
          1924,
          1925,
          1926,
          1927,
          1928,
          1929,
          1930,
          1931,
          1932,
          1933,
          1934,
          1935,
          1936,
          1937,
          1938,
          1939,
          1940,
          1941,
          1942,
          1943,
          1944,
          1945,
          1946,
          1947,
          1948,
          1949,
          1950,
          1951,
          1952,
          1953,
          1954,
          1955,
          1956,
          1957,
          1958,
          1959,
          1960,
          1961,
          1962,
          1963,
          1964,
          1965,
          1966,
          1967,
          1968,
          1969,
          1970,
          1971,
          1972,
          1973,
          1974,
          1975,
          1976,
          1977,
          1978,
          1979,
          1980,
          1981,
          1982,
          1983,
          1984,
          1985,
          1986,
          1987,
          1988,
          1989,
          1990,
          1991,
          1992,
          1993,
          1994,
          1995,
          1996,
          1997,
          1998,
          1999,
          2000,
          2001,
          2002,
          2003,
          2004,
          2005,
          2006,
          2007,
          2008,
          2009,
          2010,
          2011,
          2012,
          2013,
          2014,
          2015,
          2016,
          2017,
          2018,
          2019,
          2020,
          2021,
          2022,
          2023,
          2024,
          2025,
          2026,
          2027,
          2028,
          2029,
          2030,
          2031,
          2032,
          2033,
          2034,
          2035,
          2036,
          2037,
          2038,
          2039,
          2040,
          2041,
          2042,
          2043,
          2044,
          2045,
          2046,
          2047,
          2048,
          2049,
          2050,
          2051,
          2052,
          2053,
          2054,
          2055,
          2056,
          2057,
          2058,
          2059,
          2060,
          2061,
          2062,
          2063,
          2064,
          2065,
          2066,
          2067,
          2068,
          2069,
          2070,
          2071,
          2072,
          2073,
          2074,
          2075,
          2076,
          2077,
          2078,
          2079,
          2080,
          2081,
          2082,
          2083,
          2084,
          2085,
          2086,
          2087,
          2088,
          2089,
          2090,
          2091,
          2092,
          2093,
          2094,
          2095,
          2096,
          2097,
          2098,
          2099,
          2100,
          2101,
          2102,
          2103,
          2104,
          2105,
          2106,
          2107,
          2108,
          2109,
          2110,
          2111,
          2112,
          2113,
          2114,
          2115,
          2116,
          2117,
          2118,
          2119,
          2120,
          2121,
          2122,
          2123,
          2124,
          2125,
          2126,
          2127,
          2128,
          2129,
          2130,
          2131,
          2132,
          2133,
          2134,
          2135,
          2136,
          2137,
          2138,
          2139,
          2140,
          2141,
          2142,
          2143,
          2144,
          2145,
          2146,
          2147,
          2148,
          2149,
          2150,
          2151,
          2152,
          2153,
          2154,
          2155,
          2156,
          2157,
          2158,
          2159,
          2160,
          2161,
          2162,
          2163,
          2164,
          2165,
          2166,
          2167,
          2168,
          2169,
          2170,
          2171,
          2172,
          2173,
          2174,
          2175,
          2176,
          2177,
          2178,
          2179,
          2180,
          2181,
          2182,
          2183,
          2184,
          2185,
          2186,
          2187,
          2188,
          2189,
          2190,
          2191,
          2192,
          2193,
          2194,
          2195,
          2196,
          2197,
          2198,
          2199,
          2200,
          2201,
          2202,
          2203
         ],
         "xaxis": "x",
         "y": [
          2019,
          2009,
          2023,
          2016,
          2013,
          2021,
          2017,
          2019,
          2017,
          2015,
          1997,
          2022,
          2019,
          2000,
          2009,
          1997,
          1997,
          2005,
          2015,
          2022,
          2005,
          2017,
          2010,
          2015,
          2022,
          2005,
          2010,
          1994,
          2023,
          2014,
          1999,
          2016,
          2023,
          2012,
          2016,
          2002,
          2010,
          2009,
          2020,
          2013,
          1998,
          2014,
          1999,
          2013,
          2016,
          1995,
          2008,
          2023,
          2010,
          2016,
          2018,
          2017,
          2012,
          2023,
          2019,
          2022,
          2008,
          1996,
          2012,
          2008,
          2013,
          2016,
          2023,
          2008,
          2012,
          2022,
          2011,
          2017,
          2022,
          2018,
          2010,
          2012,
          2006,
          2009,
          2017,
          2016,
          2000,
          2015,
          2022,
          2015,
          2015,
          2014,
          2019,
          1999,
          2021,
          2023,
          1999,
          2018,
          2023,
          2019,
          2002,
          2003,
          2004,
          2009,
          2009,
          2012,
          2023,
          2008,
          2014,
          2011,
          2017,
          1998,
          2019,
          2006,
          2007,
          1992,
          2000,
          2012,
          2007,
          2006,
          2000,
          2013,
          1996,
          2001,
          1995,
          2000,
          2000,
          2022,
          2007,
          2007,
          2023,
          2023,
          2011,
          1996,
          2009,
          2009,
          2018,
          2014,
          2006,
          2020,
          2013,
          1998,
          2008,
          2003,
          2022,
          2022,
          2012,
          2000,
          1996,
          1999,
          2017,
          2003,
          2003,
          1993,
          2013,
          2002,
          2008,
          1996,
          2004,
          2013,
          2004,
          2020,
          2011,
          2011,
          2004,
          2010,
          2013,
          2008,
          2013,
          2021,
          2006,
          2005,
          2007,
          1993,
          1996,
          2001,
          2006,
          2007,
          1999,
          2019,
          1993,
          1992,
          2013,
          2005,
          2004,
          2020,
          2023,
          2004,
          2007,
          1996,
          2007,
          2021,
          2017,
          2002,
          2023,
          2020,
          2014,
          2013,
          2022,
          1998,
          1994,
          2013,
          2016,
          1997,
          1999,
          2001,
          1998,
          2000,
          2000,
          2001,
          2015,
          2013,
          2004,
          1999,
          2016,
          2023,
          2022,
          2008,
          2009,
          2000,
          1992,
          2021,
          2002,
          1997,
          1997,
          2017,
          1993,
          2022,
          2022,
          2005,
          2013,
          1998,
          1996,
          2004,
          2011,
          2017,
          2008,
          2022,
          1992,
          1996,
          2021,
          2013,
          2023,
          2001,
          1996,
          1992,
          2010,
          2005,
          1994,
          2021,
          2004,
          2007,
          1992,
          2021,
          2017,
          2021,
          1999,
          2003,
          1994,
          2001,
          1997,
          2018,
          2018,
          2016,
          1997,
          2009,
          1999,
          2021,
          1998,
          1999,
          2001,
          2000,
          2008,
          2004,
          2005,
          2000,
          2002,
          1995,
          2003,
          2019,
          2004,
          2005,
          2000,
          2000,
          1997,
          2006,
          2022,
          2019,
          2013,
          2015,
          2001,
          1998,
          2002,
          1996,
          2020,
          1997,
          2023,
          2006,
          2003,
          2022,
          2017,
          2000,
          2023,
          2001,
          2010,
          2001,
          2004,
          2022,
          2001,
          1997,
          1998,
          2003,
          1999,
          2004,
          2011,
          2014,
          2003,
          2004,
          1992,
          2013,
          2000,
          2006,
          2003,
          1997,
          2002,
          2005,
          2005,
          2007,
          2004,
          2002,
          2013,
          2003,
          1998,
          2011,
          2001,
          2002,
          2006,
          1998,
          2003,
          2018,
          1998,
          2001,
          2012,
          2013,
          1998,
          1999,
          2005,
          2023,
          2018,
          2013,
          2020,
          2012,
          2005,
          2008,
          2018,
          2000,
          2018,
          2023,
          2001,
          2002,
          2001,
          1998,
          2001,
          2002,
          1999,
          2021,
          2001,
          2023,
          2005,
          2023,
          2007,
          2001,
          1998,
          2004,
          2020,
          2008,
          2019,
          2001,
          1996,
          1995,
          2012,
          2008,
          1999,
          2014,
          2012,
          2010,
          2010,
          1999,
          2001,
          2003,
          1997,
          1998,
          2018,
          2019,
          1998,
          2023,
          1999,
          1997,
          2007,
          2022,
          2023,
          2015,
          2007,
          2000,
          1998,
          2015,
          2014,
          2021,
          2010,
          2022,
          2017,
          1997,
          1997,
          2001,
          1996,
          2002,
          2018,
          2001,
          2003,
          1996,
          2021,
          2001,
          2017,
          2022,
          2012,
          1998,
          2003,
          1997,
          2003,
          2001,
          2007,
          2016,
          2012,
          2014,
          2022,
          2001,
          2015,
          2000,
          2011,
          2023,
          2020,
          2019,
          2000,
          2017,
          2002,
          2020,
          2011,
          2016,
          2009,
          2015,
          2006,
          2003,
          2008,
          2019,
          2004,
          2008,
          2001,
          2020,
          2023,
          2004,
          2009,
          2009,
          2023,
          2021,
          2004,
          2015,
          1996,
          1998,
          2003,
          2021,
          1997,
          2016,
          2009,
          2000,
          2007,
          2011,
          1995,
          2008,
          2001,
          2012,
          2014,
          2014,
          2001,
          1999,
          1996,
          1999,
          2022,
          2007,
          2013,
          1998,
          2019,
          2013,
          2022,
          2020,
          2021,
          2000,
          2012,
          2003,
          2019,
          1999,
          2003,
          2012,
          2002,
          2021,
          2010,
          2014,
          2010,
          2020,
          1997,
          2015,
          2013,
          2023,
          1997,
          2021,
          2015,
          1996,
          2000,
          1998,
          2000,
          2012,
          2014,
          2009,
          2000,
          1995,
          1997,
          2005,
          1995,
          2000,
          2006,
          1992,
          2022,
          2023,
          2010,
          2001,
          1992,
          2014,
          1998,
          2023,
          2018,
          2019,
          1998,
          1995,
          1994,
          2012,
          2017,
          2016,
          1998,
          2020,
          2017,
          1999,
          2000,
          2012,
          2017,
          2001,
          1995,
          2021,
          2016,
          1993,
          2022,
          2020,
          2015,
          1994,
          2020,
          1997,
          2003,
          2019,
          2018,
          2017,
          1999,
          2012,
          1997,
          2011,
          2018,
          2016,
          2017,
          2008,
          2022,
          2013,
          2005,
          2012,
          2013,
          2017,
          1997,
          2012,
          1993,
          2017,
          2019,
          2016,
          2022,
          2017,
          1998,
          2013,
          2015,
          2009,
          2019,
          2019,
          2003,
          2011,
          2019,
          2022,
          2003,
          2020,
          2007,
          2014,
          1999,
          2016,
          2019,
          1999,
          2019,
          2008,
          1998,
          2004,
          1997,
          1996,
          2008,
          1998,
          2003,
          2021,
          2015,
          2012,
          2017,
          2001,
          2009,
          2004,
          2013,
          2017,
          2013,
          2011,
          2018,
          2005,
          2004,
          2017,
          2002,
          2020,
          2021,
          2010,
          2023,
          1997,
          2010,
          2011,
          2007,
          2004,
          2008,
          2023,
          2004,
          1992,
          2009,
          2006,
          2023,
          2004,
          1992,
          2000,
          2002,
          2000,
          2016,
          1999,
          2013,
          2006,
          1997,
          1999,
          1997,
          2006,
          2011,
          1992,
          2020,
          2011,
          2002,
          2007,
          1999,
          2005,
          2004,
          1996,
          2007,
          1999,
          2017,
          2005,
          2017,
          2010,
          1999,
          1992,
          2006,
          2012,
          2022,
          2000,
          1997,
          1999,
          2003,
          2003,
          2009,
          2003,
          1997,
          2010,
          2018,
          1997,
          2007,
          1997,
          1997,
          2009,
          2013,
          1998,
          1996,
          2023,
          1998,
          2006,
          1999,
          2019,
          2001,
          1999,
          2015,
          1997,
          1996,
          2008,
          2008,
          2008,
          2017,
          1997,
          2005,
          1996,
          2016,
          2013,
          1998,
          2022,
          2001,
          2018,
          2019,
          2023,
          1997,
          2005,
          2002,
          2008,
          2000,
          2008,
          1998,
          1998,
          2006,
          2013,
          2015,
          2009,
          2013,
          2006,
          1997,
          2006,
          2015,
          2000,
          2014,
          1997,
          2008,
          2016,
          1996,
          2005,
          1997,
          2011,
          2022,
          2017,
          2001,
          1995,
          1999,
          2023,
          1998,
          2011,
          2023,
          2004,
          1996,
          2023,
          2023,
          2017,
          2016,
          1996,
          2015,
          2023,
          2017,
          2021,
          2000,
          2012,
          1998,
          2000,
          2001,
          2015,
          2000,
          1992,
          2013,
          2011,
          2011,
          2013,
          2009,
          2000,
          2015,
          2012,
          2007,
          2020,
          2015,
          1995,
          2019,
          2014,
          1995,
          1997,
          1993,
          2000,
          1995,
          2003,
          2022,
          2006,
          2005,
          2001,
          2009,
          2012,
          2018,
          2015,
          1996,
          2019,
          2013,
          2005,
          2015,
          2015,
          1994,
          2011,
          2019,
          2014,
          2012,
          2008,
          2013,
          2023,
          2015,
          1995,
          2022,
          2013,
          1996,
          1997,
          1996,
          2023,
          1993,
          1995,
          2012,
          2023,
          1997,
          2022,
          2009,
          1994,
          1997,
          2017,
          2020,
          1996,
          2012,
          2016,
          2014,
          2016,
          2003,
          2013,
          2008,
          2014,
          1998,
          1999,
          1992,
          2017,
          2023,
          2004,
          2017,
          1998,
          2005,
          2010,
          2006,
          1996,
          2006,
          2017,
          2015,
          2023,
          2008,
          2022,
          2016,
          1999,
          1999,
          2005,
          1996,
          1992,
          2004,
          2008,
          2016,
          1993,
          2001,
          2006,
          1997,
          2004,
          2003,
          2013,
          2002,
          2017,
          2004,
          2012,
          2000,
          2007,
          2017,
          2007,
          2004,
          2016,
          1994,
          2001,
          1992,
          1999,
          1995,
          1998,
          2010,
          2013,
          2020,
          2021,
          2020,
          2012,
          2023,
          1996,
          2010,
          2020,
          2023,
          2009,
          2023,
          2012,
          1992,
          2011,
          2011,
          2003,
          2021,
          1999,
          2000,
          2015,
          1998,
          2019,
          1996,
          2000,
          1994,
          2013,
          1999,
          2017,
          1997,
          2001,
          2008,
          2020,
          1997,
          2012,
          2004,
          1997,
          2021,
          1999,
          1999,
          1996,
          1999,
          1992,
          2019,
          2013,
          1992,
          2023,
          1994,
          2007,
          2000,
          2006,
          2013,
          2016,
          2013,
          2016,
          2018,
          1993,
          1993,
          1997,
          1996,
          1994,
          2022,
          2006,
          2007,
          1992,
          2007,
          1998,
          2016,
          1998,
          2021,
          2009,
          1992,
          1996,
          2018,
          1997,
          1992,
          1996,
          2009,
          2005,
          2015,
          2021,
          1996,
          1994,
          1999,
          1996,
          1992,
          1997,
          1997,
          1993,
          2016,
          2021,
          1999,
          2019,
          2020,
          1996,
          2013,
          2004,
          1993,
          2009,
          2001,
          1997,
          1997,
          1996,
          1997,
          2000,
          2017,
          1998,
          1992,
          1999,
          2012,
          1992,
          2014,
          2017,
          2012,
          2020,
          2001,
          2007,
          2005,
          2016,
          2022,
          2020,
          1993,
          2017,
          1993,
          2004,
          2020,
          2005,
          2021,
          2005,
          2008,
          2002,
          2010,
          1992,
          2014,
          1999,
          1997,
          2011,
          2023,
          2008,
          1997,
          2008,
          1999,
          2022,
          2018,
          2019,
          2012,
          2022,
          2004,
          2018,
          2015,
          2023,
          2021,
          2001,
          2018,
          1995,
          2008,
          2020,
          1997,
          2015,
          2022,
          2019,
          2019,
          2006,
          2004,
          2012,
          1996,
          2018,
          2022,
          1999,
          2006,
          2017,
          2002,
          2019,
          2018,
          2008,
          2005,
          2010,
          2004,
          2004,
          2018,
          2007,
          1996,
          2019,
          2018,
          2022,
          2002,
          2014,
          2022,
          2018,
          2016,
          2018,
          2015,
          2019,
          1996,
          2003,
          2008,
          2018,
          1997,
          2023,
          2006,
          1999,
          2003,
          2021,
          2011,
          2017,
          2020,
          2003,
          2017,
          2017,
          2020,
          2018,
          2021,
          2020,
          2008,
          2013,
          2004,
          2021,
          2021,
          2005,
          2014,
          2003,
          2002,
          2022,
          2018,
          2020,
          2020,
          1999,
          2003,
          2015,
          1992,
          1999,
          2022,
          2004,
          1992,
          1997,
          1996,
          2013,
          1995,
          1996,
          1999,
          1999,
          1999,
          2022,
          1994,
          1993,
          2011,
          1996,
          1992,
          2018,
          2009,
          2005,
          2009,
          1996,
          2021,
          2019,
          2005,
          2022,
          2010,
          1995,
          1996,
          2015,
          1998,
          2009,
          1994,
          1995,
          2000,
          1997,
          1999,
          2011,
          2008,
          2002,
          2007,
          2006,
          1996,
          2011,
          2020,
          1996,
          2019,
          2012,
          2003,
          1996,
          2009,
          1995,
          1996,
          2021,
          2001,
          1992,
          1992,
          2004,
          2006,
          1997,
          1999,
          2009,
          2011,
          2023,
          2013,
          1998,
          2006,
          2008,
          1997,
          1996,
          1994,
          2014,
          2011,
          1995,
          2016,
          2022,
          2000,
          2011,
          1992,
          2019,
          2012,
          2006,
          2019,
          2005,
          1992,
          1992,
          1999,
          1992,
          2011,
          2020,
          1992,
          1996,
          1993,
          2003,
          1992,
          1994,
          2006,
          2009,
          1992,
          2000,
          1999,
          1998,
          1994,
          2005,
          2014,
          2006,
          2002,
          2001,
          1995,
          1995,
          2009,
          2009,
          2013,
          2011,
          1992,
          2013,
          1992,
          2019,
          1992,
          1999,
          1992,
          2000,
          1998,
          1997,
          2007,
          2009,
          2004,
          1992,
          2012,
          2020,
          1992,
          2022,
          1992,
          1992,
          1997,
          2023,
          2005,
          2002,
          2017,
          2005,
          1999,
          2004,
          1993,
          2007,
          2023,
          1995,
          2015,
          1992,
          2021,
          1994,
          2020,
          2009,
          2001,
          2005,
          2019,
          2012,
          1992,
          1992,
          2011,
          2004,
          1992,
          1997,
          1998,
          1992,
          1997,
          2006,
          2006,
          1999,
          2004,
          2003,
          2013,
          1993,
          2002,
          2010,
          1992,
          1992,
          1992,
          2019,
          2021,
          1992,
          2012,
          2007,
          2012,
          2002,
          2015,
          1992,
          2018,
          2008,
          1992,
          2002,
          2009,
          2011,
          1999,
          2008,
          1992,
          2012,
          2008,
          2003,
          2018,
          2013,
          2004,
          2023,
          1994,
          2003,
          2014,
          1997,
          2003,
          2013,
          1994,
          1994,
          2023,
          1996,
          2013,
          2010,
          2008,
          2009,
          1992,
          1992,
          2008,
          2011,
          2003,
          2009,
          1997,
          2001,
          1995,
          2014,
          2016,
          1998,
          2008,
          2000,
          2010,
          2004,
          2010,
          2005,
          1995,
          2022,
          2014,
          2009,
          2009,
          2016,
          1995,
          2015,
          2012,
          2023,
          2011,
          1995,
          2009,
          2014,
          2008,
          2013,
          2005,
          2005,
          2010,
          2002,
          2008,
          2017,
          2019,
          2002,
          1996,
          2005,
          2021,
          2001,
          2016,
          2006,
          2012,
          2001,
          2020,
          2007,
          2008,
          2014,
          2000,
          2008,
          2002,
          2018,
          2008,
          1997,
          2004,
          2011,
          2015,
          2013,
          2020,
          2004,
          2010,
          2007,
          2004,
          2019,
          2006,
          2004,
          2013,
          2009,
          2012,
          2022,
          2016,
          2014,
          2014,
          2016,
          2002,
          2017,
          2022,
          2013,
          2018,
          2012,
          2013,
          2002,
          2013,
          2015,
          2020,
          2012,
          2019,
          2006,
          2015,
          2014,
          2001,
          2015,
          2011,
          2021,
          2008,
          2013,
          2011,
          2002,
          2004,
          2005,
          2017,
          2007,
          2004,
          2018,
          2012,
          2023,
          2017,
          2021,
          1998,
          2021,
          2012,
          2019,
          2017,
          2016,
          2019,
          2012,
          2004,
          2015,
          2007,
          2021,
          2014,
          2012,
          2009,
          2022,
          2012,
          2018,
          2016,
          2012,
          2014,
          2004,
          2010,
          2017,
          2017,
          2018,
          2015,
          2004,
          2019,
          2015,
          2015,
          2018,
          2006,
          2017,
          2022,
          2020,
          2016,
          2010,
          2016,
          2013,
          2013,
          2005,
          2014,
          1999,
          2019,
          2011,
          2003,
          2008,
          2017,
          2017,
          2009,
          2012,
          2011,
          2012,
          2018,
          2017,
          2014,
          2022,
          2003,
          2004,
          2013,
          2018,
          2013,
          1992,
          2013,
          2021,
          2016,
          2004,
          2011,
          2007,
          2009,
          2015,
          2014,
          2005,
          2022,
          2014,
          2013,
          2012,
          2011,
          2021,
          2020,
          2005,
          2003,
          2002,
          2018,
          2018,
          2005,
          2019,
          2012,
          2022,
          2010,
          2019,
          2010,
          2011,
          2009,
          2002,
          2020,
          2017,
          2022,
          2010,
          2013,
          2018,
          2015,
          2012,
          2007,
          2020,
          2023,
          2008,
          2014,
          2008,
          2019,
          2013,
          2008,
          2001,
          1997,
          2002,
          1997,
          1997,
          1992,
          2016,
          2022,
          2022,
          2001,
          1998,
          1995,
          1997,
          2000,
          2004,
          2023,
          2020,
          2009,
          2008,
          1996,
          2007,
          1995,
          2013,
          1999,
          1997,
          2016,
          1994,
          2022,
          2006,
          2004,
          2021,
          2005,
          2001,
          2004,
          2011,
          2013,
          1996,
          2019,
          2021,
          2006,
          2005,
          1992,
          2017,
          2001,
          1998,
          2002,
          1997,
          1998,
          2001,
          2020,
          2004,
          1992,
          2015,
          2020,
          2008,
          2011,
          2007,
          2007,
          1998,
          1996,
          2012,
          2006,
          1994,
          2018,
          2002,
          2008,
          2001,
          2000,
          2002,
          2013,
          2015,
          2007,
          1993,
          2015,
          2019,
          2022,
          2023,
          2008,
          2020,
          2006,
          2009,
          2009,
          2005,
          2019,
          2016,
          2007,
          2001,
          2022,
          1997,
          2001,
          1997,
          1994,
          2015,
          2013,
          2020,
          2011,
          2015,
          2018,
          1995,
          2015,
          2018,
          2004,
          2015,
          1996,
          2007,
          2016,
          2022,
          2020,
          2004,
          2002,
          2009,
          2005,
          2022,
          2011,
          1996,
          2020,
          2012,
          2006,
          2001,
          2000,
          2012,
          2018,
          2002,
          2016,
          2017,
          2021,
          2007,
          2023,
          2020,
          2001,
          2020,
          1996,
          1999,
          2022,
          2021,
          2000,
          2006,
          2007,
          2018,
          2023,
          2022,
          2017
         ],
         "yaxis": "y"
        },
        {
         "hovertemplate": "<b>%{hovertext}</b><br><br>Region=North, Central America and Caribbean<br>index=%{x}<br>First Year=%{y}<extra></extra>",
         "hovertext": [
          "Watford F.C.",
          "Southampton F.C.",
          "Crystal Palace F.C., Sheffield United F.C., Reading F.C.",
          "Watford F.C.",
          "Blackburn Rovers F.C., Reading F.C.",
          "Crystal Palace F.C., Wigan Athletic F.C.",
          "Queens Park Rangers F.C.",
          "Sheffield United F.C.",
          "Manchester City F.C.",
          "Coventry City F.C.",
          "Burnley F.C.",
          "Burnley F.C.",
          "Norwich City F.C.",
          "Wolverhampton Wanderers F.C.",
          "Manchester City F.C.",
          "Newcastle United F.C., Burnley F.C.",
          "Ipswich Town F.C., Chelsea F.C., West Ham United F.C.",
          "Blackburn Rovers F.C., Queens Park Rangers F.C., Cardiff City F.C.",
          "Norwich City F.C.",
          "Everton F.C., Fulham F.C.",
          "Tottenham Hotspur F.C., Fulham F.C.",
          "Ipswich Town F.C.",
          "Nottingham Forest F.C.",
          "Arsenal F.C.",
          "West Bromwich Albion F.C.",
          "Nottingham Forest F.C.",
          "Everton F.C., Sunderland A.F.C.",
          "Fulham F.C.",
          "Derby County F.C.",
          "Derby County F.C., West Ham United F.C., Manchester City F.C.",
          "Norwich City F.C.",
          "Swansea City A.F.C.",
          "Newcastle United F.C.",
          "Huddersfield Town A.F.C.",
          "Aston Villa F.C., Cardiff City F.C.",
          "Swansea City A.F.C.",
          "Brighton & Hove Albion F.C.",
          "Southampton F.C., Everton F.C.",
          "West Bromwich Albion F.C.",
          "Sheffield United F.C.",
          "Brentford F.C.",
          "Bolton Wanderers F.C.",
          "West Bromwich Albion F.C., Portsmouth F.C., Wigan Athletic F.C., Blackburn Rovers F.C., Reading F.C.",
          "Cardiff City F.C.",
          "Fulham F.C.",
          "Wimbledon F.C., Newcastle United F.C., Wolverhampton Wanderers F.C.",
          "Stoke City F.C., Burnley F.C.",
          "Blackburn Rovers F.C., Birmingham City F.C.",
          "Wigan Athletic F.C.",
          "Wigan Athletic F.C., Hull City A.F.C.",
          "Coventry City F.C.",
          "Sunderland A.F.C.",
          "Birmingham City F.C., Wigan Athletic F.C., Tottenham Hotspur F.C., Stoke City F.C.",
          "Wigan Athletic F.C.",
          "Newcastle United F.C.",
          "West Ham United F.C.",
          "Aston Villa F.C.",
          "Derby County F.C., West Bromwich Albion F.C.",
          "Everton F.C.",
          "Luton Town F.C.",
          "Leicester City F.C.",
          "Norwich City F.C.",
          "Derby County F.C., Portsmouth F.C.",
          "Aston Villa F.C.",
          "Charlton Athletic F.C.",
          "Reading F.C.",
          "Sheffield United F.C., Derby County F.C.",
          "Aston Villa F.C.",
          "Cardiff City F.C., Fulham F.C.",
          "Watford F.C.",
          "Wimbledon F.C.",
          "Wimbledon F.C., Charlton Athletic F.C., Middlesbrough F.C., Blackpool F.C.",
          "Wimbledon F.C., Norwich City F.C., Wigan Athletic F.C., Watford F.C.",
          "Portsmouth F.C., Stoke City F.C.",
          "Bolton Wanderers F.C.",
          "Wimbledon F.C.",
          "Norwich City F.C., AFC Bournemouth",
          "Chelsea F.C.",
          "Burnley F.C., Watford F.C.",
          "Leicester City F.C., Everton F.C.",
          "Coventry City F.C.",
          "Fulham F.C.",
          "Fulham F.C.",
          "Chelsea F.C.",
          "Watford F.C.",
          "Ipswich Town F.C.",
          "Bolton Wanderers F.C.",
          "Birmingham City F.C., Derby County F.C.",
          "Watford F.C., Wigan Athletic F.C., Hull City A.F.C., Middlesbrough F.C.",
          "Leicester City F.C., Bradford City A.F.C.",
          "Wolverhampton Wanderers F.C.",
          "Charlton Athletic F.C.",
          "AFC Bournemouth",
          "Norwich City F.C.",
          "Queens Park Rangers F.C.",
          "Watford F.C., Reading F.C., Crystal Palace F.C.",
          "Reading F.C.",
          "Reading F.C.",
          "West Bromwich Albion F.C., Derby County F.C.",
          "Leicester City F.C.",
          "Leicester City F.C.",
          "West Ham United F.C., Sheffield United F.C.",
          "Sunderland A.F.C.",
          "Huddersfield Town A.F.C.",
          "Brentford F.C.",
          "Derby County F.C., Birmingham City F.C.",
          "Derby County F.C.",
          "Watford F.C.",
          "Sheffield United F.C.",
          "Manchester City F.C.",
          "Chelsea F.C., Leicester City F.C.",
          "Liverpool F.C.",
          "Watford F.C.",
          "West Ham United F.C.",
          "West Ham United F.C.",
          "Bolton Wanderers F.C.",
          "Manchester City F.C.",
          "Tottenham Hotspur F.C.",
          "West Ham United F.C.",
          "Manchester United F.C., West Ham United F.C.",
          "Wolverhampton Wanderers F.C., Fulham F.C.",
          "Watford F.C.",
          "Fulham F.C.",
          "Arsenal F.C., West Bromwich Albion F.C.",
          "Queens Park Rangers F.C.",
          "Crystal Palace F.C.",
          "Norwich City F.C., Newcastle United F.C., Tottenham Hotspur F.C.",
          "Crystal Palace F.C.",
          "Crystal Palace F.C.",
          "West Ham United F.C.",
          "West Bromwich Albion F.C.",
          "Fulham F.C.",
          "West Bromwich Albion F.C.",
          "Crystal Palace F.C.",
          "Sunderland A.F.C.",
          "Newcastle United F.C., West Ham United F.C., Portsmouth F.C.",
          "Arsenal F.C.",
          "Arsenal F.C., Sunderland A.F.C., Middlesbrough F.C.",
          "Birmingham City F.C., Sunderland A.F.C.",
          "Southampton F.C., Sunderland A.F.C., Stoke City F.C., Cardiff City F.C.",
          "Barnsley F.C.",
          "Aston Villa F.C., Bolton Wanderers F.C.",
          "Wigan Athletic F.C.",
          "Fulham F.C.",
          "Aston Villa F.C., Manchester United F.C., Blackburn Rovers F.C., Birmingham City F.C., Sunderland A.F.C.",
          "Leeds United F.C.",
          "Leeds United F.C.",
          "Hull City A.F.C., Sunderland A.F.C.",
          "Arsenal F.C.",
          "Manchester City F.C.",
          "Fulham F.C.",
          "Aston Villa F.C.",
          "Stoke City F.C.",
          "Reading F.C.",
          "Watford F.C.",
          "Fulham F.C., Tottenham Hotspur F.C.",
          "Everton F.C.",
          "Stoke City F.C.",
          "Derby County F.C.",
          "West Ham United F.C., Derby County F.C.",
          "Liverpool F.C., Blackburn Rovers F.C., Aston Villa F.C., Tottenham Hotspur F.C.",
          "Sunderland A.F.C.",
          "Aston Villa F.C., Middlesbrough F.C.",
          "Reading F.C., Wolverhampton Wanderers F.C.",
          "Sheffield Wednesday F.C., West Ham United F.C., Nottingham Forest F.C.",
          "Bolton Wanderers F.C.",
          "Manchester United F.C., Everton F.C.",
          "AFC Bournemouth",
          "Fulham F.C.",
          "Blackburn Rovers F.C.",
          "Coventry City F.C.",
          "Blackburn Rovers F.C.",
          "Leicester City F.C., Tottenham Hotspur F.C., Southampton F.C., Fulham F.C.",
          "Birmingham City F.C.",
          "Fulham F.C., Derby County F.C.",
          "Aston Villa F.C.",
          "Chelsea F.C.",
          "Everton F.C., Fulham F.C.",
          "Leeds United F.C.",
          "Everton F.C.",
          "Newcastle United F.C.",
          "Wolverhampton Wanderers F.C.",
          "Everton F.C.",
          "Chelsea F.C.",
          "Bolton Wanderers F.C., Fulham F.C.",
          "Sunderland A.F.C., Manchester City F.C.",
          "Nottingham Forest F.C.",
          "Crystal Palace F.C.",
          "Fulham F.C.",
          "Norwich City F.C.",
          "Stoke City F.C.",
          "Bolton Wanderers F.C.",
          "Queens Park Rangers F.C.",
          "Manchester United F.C., Charlton Athletic F.C., West Ham United F.C.",
          "Manchester City F.C.",
          "Sheffield United F.C.",
          "Nottingham Forest F.C.",
          "Aston Villa F.C.",
          "Blackburn Rovers F.C., Coventry City F.C.",
          "Norwich City F.C.",
          "Huddersfield Town A.F.C.",
          "Tottenham Hotspur F.C., Sunderland A.F.C., Newcastle United F.C."
         ],
         "ids": [
          "Watford F.C.",
          "Southampton F.C.",
          "Crystal Palace F.C., Sheffield United F.C., Reading F.C.",
          "Watford F.C.",
          "Blackburn Rovers F.C., Reading F.C.",
          "Crystal Palace F.C., Wigan Athletic F.C.",
          "Queens Park Rangers F.C.",
          "Sheffield United F.C.",
          "Manchester City F.C.",
          "Coventry City F.C.",
          "Burnley F.C.",
          "Burnley F.C.",
          "Norwich City F.C.",
          "Wolverhampton Wanderers F.C.",
          "Manchester City F.C.",
          "Newcastle United F.C., Burnley F.C.",
          "Ipswich Town F.C., Chelsea F.C., West Ham United F.C.",
          "Blackburn Rovers F.C., Queens Park Rangers F.C., Cardiff City F.C.",
          "Norwich City F.C.",
          "Everton F.C., Fulham F.C.",
          "Tottenham Hotspur F.C., Fulham F.C.",
          "Ipswich Town F.C.",
          "Nottingham Forest F.C.",
          "Arsenal F.C.",
          "West Bromwich Albion F.C.",
          "Nottingham Forest F.C.",
          "Everton F.C., Sunderland A.F.C.",
          "Fulham F.C.",
          "Derby County F.C.",
          "Derby County F.C., West Ham United F.C., Manchester City F.C.",
          "Norwich City F.C.",
          "Swansea City A.F.C.",
          "Newcastle United F.C.",
          "Huddersfield Town A.F.C.",
          "Aston Villa F.C., Cardiff City F.C.",
          "Swansea City A.F.C.",
          "Brighton & Hove Albion F.C.",
          "Southampton F.C., Everton F.C.",
          "West Bromwich Albion F.C.",
          "Sheffield United F.C.",
          "Brentford F.C.",
          "Bolton Wanderers F.C.",
          "West Bromwich Albion F.C., Portsmouth F.C., Wigan Athletic F.C., Blackburn Rovers F.C., Reading F.C.",
          "Cardiff City F.C.",
          "Fulham F.C.",
          "Wimbledon F.C., Newcastle United F.C., Wolverhampton Wanderers F.C.",
          "Stoke City F.C., Burnley F.C.",
          "Blackburn Rovers F.C., Birmingham City F.C.",
          "Wigan Athletic F.C.",
          "Wigan Athletic F.C., Hull City A.F.C.",
          "Coventry City F.C.",
          "Sunderland A.F.C.",
          "Birmingham City F.C., Wigan Athletic F.C., Tottenham Hotspur F.C., Stoke City F.C.",
          "Wigan Athletic F.C.",
          "Newcastle United F.C.",
          "West Ham United F.C.",
          "Aston Villa F.C.",
          "Derby County F.C., West Bromwich Albion F.C.",
          "Everton F.C.",
          "Luton Town F.C.",
          "Leicester City F.C.",
          "Norwich City F.C.",
          "Derby County F.C., Portsmouth F.C.",
          "Aston Villa F.C.",
          "Charlton Athletic F.C.",
          "Reading F.C.",
          "Sheffield United F.C., Derby County F.C.",
          "Aston Villa F.C.",
          "Cardiff City F.C., Fulham F.C.",
          "Watford F.C.",
          "Wimbledon F.C.",
          "Wimbledon F.C., Charlton Athletic F.C., Middlesbrough F.C., Blackpool F.C.",
          "Wimbledon F.C., Norwich City F.C., Wigan Athletic F.C., Watford F.C.",
          "Portsmouth F.C., Stoke City F.C.",
          "Bolton Wanderers F.C.",
          "Wimbledon F.C.",
          "Norwich City F.C., AFC Bournemouth",
          "Chelsea F.C.",
          "Burnley F.C., Watford F.C.",
          "Leicester City F.C., Everton F.C.",
          "Coventry City F.C.",
          "Fulham F.C.",
          "Fulham F.C.",
          "Chelsea F.C.",
          "Watford F.C.",
          "Ipswich Town F.C.",
          "Bolton Wanderers F.C.",
          "Birmingham City F.C., Derby County F.C.",
          "Watford F.C., Wigan Athletic F.C., Hull City A.F.C., Middlesbrough F.C.",
          "Leicester City F.C., Bradford City A.F.C.",
          "Wolverhampton Wanderers F.C.",
          "Charlton Athletic F.C.",
          "AFC Bournemouth",
          "Norwich City F.C.",
          "Queens Park Rangers F.C.",
          "Watford F.C., Reading F.C., Crystal Palace F.C.",
          "Reading F.C.",
          "Reading F.C.",
          "West Bromwich Albion F.C., Derby County F.C.",
          "Leicester City F.C.",
          "Leicester City F.C.",
          "West Ham United F.C., Sheffield United F.C.",
          "Sunderland A.F.C.",
          "Huddersfield Town A.F.C.",
          "Brentford F.C.",
          "Derby County F.C., Birmingham City F.C.",
          "Derby County F.C.",
          "Watford F.C.",
          "Sheffield United F.C.",
          "Manchester City F.C.",
          "Chelsea F.C., Leicester City F.C.",
          "Liverpool F.C.",
          "Watford F.C.",
          "West Ham United F.C.",
          "West Ham United F.C.",
          "Bolton Wanderers F.C.",
          "Manchester City F.C.",
          "Tottenham Hotspur F.C.",
          "West Ham United F.C.",
          "Manchester United F.C., West Ham United F.C.",
          "Wolverhampton Wanderers F.C., Fulham F.C.",
          "Watford F.C.",
          "Fulham F.C.",
          "Arsenal F.C., West Bromwich Albion F.C.",
          "Queens Park Rangers F.C.",
          "Crystal Palace F.C.",
          "Norwich City F.C., Newcastle United F.C., Tottenham Hotspur F.C.",
          "Crystal Palace F.C.",
          "Crystal Palace F.C.",
          "West Ham United F.C.",
          "West Bromwich Albion F.C.",
          "Fulham F.C.",
          "West Bromwich Albion F.C.",
          "Crystal Palace F.C.",
          "Sunderland A.F.C.",
          "Newcastle United F.C., West Ham United F.C., Portsmouth F.C.",
          "Arsenal F.C.",
          "Arsenal F.C., Sunderland A.F.C., Middlesbrough F.C.",
          "Birmingham City F.C., Sunderland A.F.C.",
          "Southampton F.C., Sunderland A.F.C., Stoke City F.C., Cardiff City F.C.",
          "Barnsley F.C.",
          "Aston Villa F.C., Bolton Wanderers F.C.",
          "Wigan Athletic F.C.",
          "Fulham F.C.",
          "Aston Villa F.C., Manchester United F.C., Blackburn Rovers F.C., Birmingham City F.C., Sunderland A.F.C.",
          "Leeds United F.C.",
          "Leeds United F.C.",
          "Hull City A.F.C., Sunderland A.F.C.",
          "Arsenal F.C.",
          "Manchester City F.C.",
          "Fulham F.C.",
          "Aston Villa F.C.",
          "Stoke City F.C.",
          "Reading F.C.",
          "Watford F.C.",
          "Fulham F.C., Tottenham Hotspur F.C.",
          "Everton F.C.",
          "Stoke City F.C.",
          "Derby County F.C.",
          "West Ham United F.C., Derby County F.C.",
          "Liverpool F.C., Blackburn Rovers F.C., Aston Villa F.C., Tottenham Hotspur F.C.",
          "Sunderland A.F.C.",
          "Aston Villa F.C., Middlesbrough F.C.",
          "Reading F.C., Wolverhampton Wanderers F.C.",
          "Sheffield Wednesday F.C., West Ham United F.C., Nottingham Forest F.C.",
          "Bolton Wanderers F.C.",
          "Manchester United F.C., Everton F.C.",
          "AFC Bournemouth",
          "Fulham F.C.",
          "Blackburn Rovers F.C.",
          "Coventry City F.C.",
          "Blackburn Rovers F.C.",
          "Leicester City F.C., Tottenham Hotspur F.C., Southampton F.C., Fulham F.C.",
          "Birmingham City F.C.",
          "Fulham F.C., Derby County F.C.",
          "Aston Villa F.C.",
          "Chelsea F.C.",
          "Everton F.C., Fulham F.C.",
          "Leeds United F.C.",
          "Everton F.C.",
          "Newcastle United F.C.",
          "Wolverhampton Wanderers F.C.",
          "Everton F.C.",
          "Chelsea F.C.",
          "Bolton Wanderers F.C., Fulham F.C.",
          "Sunderland A.F.C., Manchester City F.C.",
          "Nottingham Forest F.C.",
          "Crystal Palace F.C.",
          "Fulham F.C.",
          "Norwich City F.C.",
          "Stoke City F.C.",
          "Bolton Wanderers F.C.",
          "Queens Park Rangers F.C.",
          "Manchester United F.C., Charlton Athletic F.C., West Ham United F.C.",
          "Manchester City F.C.",
          "Sheffield United F.C.",
          "Nottingham Forest F.C.",
          "Aston Villa F.C.",
          "Blackburn Rovers F.C., Coventry City F.C.",
          "Norwich City F.C.",
          "Huddersfield Town A.F.C.",
          "Tottenham Hotspur F.C., Sunderland A.F.C., Newcastle United F.C."
         ],
         "legendgroup": "North, Central America and Caribbean",
         "marker": {
          "color": "#ab63fa",
          "symbol": "circle"
         },
         "mode": "markers",
         "name": "North, Central America and Caribbean",
         "showlegend": true,
         "type": "scattergl",
         "x": [
          2204,
          2205,
          2206,
          2207,
          2208,
          2209,
          2210,
          2211,
          2212,
          2213,
          2214,
          2215,
          2216,
          2217,
          2218,
          2219,
          2220,
          2221,
          2222,
          2223,
          2224,
          2225,
          2226,
          2227,
          2228,
          2229,
          2230,
          2231,
          2232,
          2233,
          2234,
          2235,
          2236,
          2237,
          2238,
          2239,
          2240,
          2241,
          2242,
          2243,
          2244,
          2245,
          2246,
          2247,
          2248,
          2249,
          2250,
          2251,
          2252,
          2253,
          2254,
          2255,
          2256,
          2257,
          2258,
          2259,
          2260,
          2261,
          2262,
          2263,
          2264,
          2265,
          2266,
          2267,
          2268,
          2269,
          2270,
          2271,
          2272,
          2273,
          2274,
          2275,
          2276,
          2277,
          2278,
          2279,
          2280,
          2281,
          2282,
          2283,
          2284,
          2285,
          2286,
          2287,
          2288,
          2289,
          2290,
          2291,
          2292,
          2293,
          2294,
          2295,
          2296,
          2297,
          2298,
          2299,
          2300,
          2301,
          2302,
          2303,
          2304,
          2305,
          2306,
          2307,
          2308,
          2309,
          2310,
          2311,
          2312,
          2313,
          2314,
          2315,
          2316,
          2317,
          2318,
          2319,
          2320,
          2321,
          2322,
          2323,
          2324,
          2325,
          2326,
          2327,
          2328,
          2329,
          2330,
          2331,
          2332,
          2333,
          2334,
          2335,
          2336,
          2337,
          2338,
          2339,
          2340,
          2341,
          2342,
          2343,
          2344,
          2345,
          2346,
          2347,
          2348,
          2349,
          2350,
          2351,
          2352,
          2353,
          2354,
          2355,
          2356,
          2357,
          2358,
          2359,
          2360,
          2361,
          2362,
          2363,
          2364,
          2365,
          2366,
          2367,
          2368,
          2369,
          2370,
          2371,
          2372,
          2373,
          2374,
          2375,
          2376,
          2377,
          2378,
          2379,
          2380,
          2381,
          2382,
          2383,
          2384,
          2385,
          2386,
          2387,
          2388,
          2389,
          2390,
          2391,
          2392,
          2393,
          2394,
          2395,
          2396,
          2397,
          2398,
          2399,
          2400,
          2401,
          2402,
          2403,
          2404,
          2405
         ],
         "xaxis": "x",
         "y": [
          2006,
          2004,
          2004,
          2016,
          2011,
          2004,
          1995,
          2006,
          2000,
          1997,
          2017,
          2014,
          2004,
          2020,
          2000,
          2006,
          1992,
          2009,
          2011,
          2001,
          2005,
          1992,
          2023,
          2014,
          2014,
          2022,
          2012,
          2011,
          1996,
          1996,
          2019,
          2011,
          2012,
          2018,
          2013,
          2014,
          2017,
          2015,
          2008,
          2019,
          2021,
          2002,
          2002,
          2018,
          2006,
          1996,
          2008,
          2002,
          2012,
          2007,
          2000,
          1999,
          2007,
          2009,
          2014,
          2015,
          2021,
          2007,
          2010,
          2023,
          2000,
          2011,
          1997,
          1997,
          2002,
          2012,
          2006,
          2012,
          2018,
          2006,
          1992,
          1995,
          1997,
          2004,
          2001,
          1993,
          2015,
          2004,
          2016,
          2015,
          1998,
          2001,
          2020,
          2022,
          1999,
          2000,
          2001,
          2002,
          2006,
          1994,
          2022,
          1998,
          2022,
          2013,
          1992,
          2006,
          2012,
          2012,
          2002,
          2014,
          2014,
          2013,
          2005,
          2017,
          2021,
          1996,
          1998,
          2006,
          2006,
          1992,
          1992,
          2015,
          2006,
          2023,
          2010,
          2005,
          2007,
          2008,
          2009,
          2010,
          2018,
          2015,
          2010,
          2008,
          2014,
          1994,
          1992,
          1992,
          1997,
          1999,
          2020,
          2001,
          2008,
          1994,
          2007,
          1995,
          2008,
          2002,
          2002,
          2004,
          1997,
          1999,
          2009,
          2005,
          1992,
          2022,
          2022,
          2009,
          2021,
          2006,
          2003,
          2010,
          2012,
          2006,
          2006,
          2006,
          2009,
          2012,
          2007,
          1999,
          1997,
          2016,
          2008,
          2006,
          1992,
          2009,
          2003,
          2017,
          2007,
          2004,
          1994,
          2010,
          1996,
          2002,
          2001,
          2010,
          2015,
          2002,
          2022,
          1999,
          2006,
          2020,
          1992,
          2019,
          2011,
          2001,
          2023,
          2022,
          2020,
          2021,
          2012,
          2006,
          1995,
          2004,
          2020,
          2023,
          2023,
          2019,
          1992,
          2011,
          2017,
          2014
         ],
         "yaxis": "y"
        },
        {
         "hovertemplate": "<b>%{hovertext}</b><br><br>Region=Oceania<br>index=%{x}<br>First Year=%{y}<extra></extra>",
         "hovertext": [
          "Fulham F.C.",
          "Leeds United F.C.",
          "Blackburn Rovers F.C., Tottenham Hotspur F.C., Queens Park Rangers F.C.",
          "Ipswich Town F.C.",
          "West Ham United F.C.",
          "West Bromwich Albion F.C., Leicester City F.C., Burnley F.C., Newcastle United F.C., Nottingham Forest F.C."
         ],
         "ids": [
          "Fulham F.C.",
          "Leeds United F.C.",
          "Blackburn Rovers F.C., Tottenham Hotspur F.C., Queens Park Rangers F.C.",
          "Ipswich Town F.C.",
          "West Ham United F.C.",
          "West Bromwich Albion F.C., Leicester City F.C., Burnley F.C., Newcastle United F.C., Nottingham Forest F.C."
         ],
         "legendgroup": "Oceania",
         "marker": {
          "color": "#FFA15A",
          "symbol": "circle"
         },
         "mode": "markers",
         "name": "Oceania",
         "showlegend": true,
         "type": "scattergl",
         "x": [
          2406,
          2407,
          2408,
          2409,
          2410,
          2411
         ],
         "xaxis": "x",
         "y": [
          2005,
          2000,
          2004,
          1994,
          2010,
          2008
         ],
         "yaxis": "y"
        },
        {
         "hovertemplate": "<b>%{hovertext}</b><br><br>Region=South America<br>index=%{x}<br>First Year=%{y}<extra></extra>",
         "hovertext": [
          "Manchester City F.C.",
          "Southampton F.C.",
          "Manchester City F.C.",
          "Sunderland A.F.C.",
          "Sunderland A.F.C.",
          "Sunderland A.F.C., Middlesbrough F.C.",
          "Newcastle United F.C.",
          "Norwich City F.C.",
          "Swansea City A.F.C.",
          "West Bromwich Albion F.C.",
          "Wigan Athletic F.C.",
          "Norwich City F.C., Aston Villa F.C.",
          "Brighton & Hove Albion F.C.",
          "Arsenal F.C.",
          "Manchester City F.C., Chelsea F.C., Southampton F.C.",
          "West Ham United F.C.",
          "Leicester City F.C.",
          "Derby County F.C.",
          "Southampton F.C.",
          "Sheffield Wednesday F.C.",
          "Newcastle United F.C.",
          "Newcastle United F.C.",
          "Chelsea F.C.",
          "Portsmouth F.C.",
          "Manchester City F.C.",
          "Manchester United F.C.",
          "Chelsea F.C., Blackburn Rovers F.C., Wigan Athletic F.C.",
          "Nottingham Forest F.C.",
          "Queens Park Rangers F.C.",
          "Tottenham Hotspur F.C.",
          "Chelsea F.C.",
          "Swansea City A.F.C., Newcastle United F.C.",
          "Blackburn Rovers F.C.",
          "Tottenham Hotspur F.C.",
          "Derby County F.C.",
          "Everton F.C.",
          "Manchester United F.C.",
          "Southampton F.C., Tottenham Hotspur F.C.",
          "Newcastle United F.C., Norwich City F.C.",
          "Manchester United F.C.",
          "Fulham F.C.",
          "Chelsea F.C.",
          "Liverpool F.C.",
          "Tottenham Hotspur F.C.",
          "West Ham United F.C.",
          "Tottenham Hotspur F.C.",
          "Brighton & Hove Albion F.C., Liverpool F.C.",
          "Middlesbrough F.C.",
          "Arsenal F.C., Aston Villa F.C.",
          "Manchester United F.C.",
          "West Ham United F.C., Liverpool F.C.",
          "West Bromwich Albion F.C.",
          "Nottingham Forest F.C.",
          "Manchester City F.C.",
          "Liverpool F.C.",
          "Ipswich Town F.C.",
          "Watford F.C.",
          "Manchester City F.C.",
          "Watford F.C.",
          "Liverpool F.C.",
          "Manchester United F.C.",
          "Tottenham Hotspur F.C.",
          "Manchester United F.C.",
          "Fulham F.C.",
          "West Ham United F.C.",
          "Sunderland A.F.C.",
          "AFC Bournemouth",
          "Crystal Palace F.C.",
          "Everton F.C.",
          "Tottenham Hotspur F.C.",
          "West Ham United F.C., Manchester United F.C., Manchester City F.C.",
          "Leicester City F.C., Brighton & Hove Albion F.C.",
          "Tottenham Hotspur F.C.",
          "Sunderland A.F.C.",
          "Manchester United F.C., Chelsea F.C.",
          "Fulham F.C.",
          "Derby County F.C.",
          "Arsenal F.C.",
          "West Bromwich Albion F.C.",
          "Manchester City F.C., West Ham United F.C.",
          "Birmingham City F.C., West Ham United F.C., Queens Park Rangers F.C., Watford F.C.",
          "Derby County F.C.",
          "Middlesbrough F.C.",
          "Wigan Athletic F.C.",
          "Chelsea F.C.",
          "Liverpool F.C.",
          "Everton F.C.",
          "Middlesbrough F.C.",
          "Manchester United F.C.",
          "Everton F.C.",
          "Manchester United F.C.",
          "Liverpool F.C.",
          "Arsenal F.C.",
          "Chelsea F.C.",
          "Everton F.C.",
          "Brighton & Hove Albion F.C.",
          "Wolverhampton Wanderers F.C.",
          "Middlesbrough F.C.",
          "Newcastle United F.C.",
          "Tottenham Hotspur F.C., Fulham F.C.",
          "Manchester United F.C.",
          "Liverpool F.C., Aston Villa F.C.",
          "Manchester City F.C.",
          "Nottingham Forest F.C.",
          "Chelsea F.C., Arsenal F.C.",
          "Arsenal F.C.",
          "Aston Villa F.C.",
          "Liverpool F.C.",
          "Middlesbrough F.C.",
          "Aston Villa F.C.",
          "Manchester City F.C.",
          "Arsenal F.C.",
          "Manchester City F.C.",
          "Middlesbrough F.C.",
          "Tottenham Hotspur F.C.",
          "Hull City A.F.C.",
          "Liverpool F.C.",
          "Manchester United F.C., Queens Park Rangers F.C., Cardiff City F.C., Middlesbrough F.C.",
          "Nottingham Forest F.C.",
          "West Ham United F.C.",
          "Manchester City F.C.",
          "Manchester City F.C.",
          "Chelsea F.C.",
          "Crystal Palace F.C.",
          "Liverpool F.C.",
          "Manchester United F.C.",
          "Newcastle United F.C.",
          "Manchester City F.C., Arsenal F.C.",
          "Arsenal F.C.",
          "Arsenal F.C.",
          "Arsenal F.C.",
          "Manchester City F.C., Hull City A.F.C.",
          "Tottenham Hotspur F.C.",
          "Arsenal F.C.",
          "Manchester City F.C.",
          "Tottenham Hotspur F.C., Watford F.C.",
          "Newcastle United F.C.",
          "Southampton F.C.",
          "Nottingham Forest F.C.",
          "West Ham United F.C.",
          "Coventry City F.C.",
          "Bolton Wanderers F.C.",
          "Manchester City F.C., Everton F.C.",
          "Wolverhampton Wanderers F.C.",
          "Watford F.C., Brighton & Hove Albion F.C.",
          "Newcastle United F.C.",
          "Brighton & Hove Albion F.C.",
          "Bolton Wanderers F.C.",
          "Queens Park Rangers F.C.",
          "Middlesbrough F.C.",
          "Manchester City F.C.",
          "Chelsea F.C., Watford F.C., Newcastle United F.C.",
          "Manchester United F.C.",
          "Nottingham Forest F.C.",
          "Liverpool F.C.",
          "Tottenham Hotspur F.C.",
          "West Ham United F.C.",
          "Southampton F.C.",
          "Manchester City F.C.",
          "Wolverhampton Wanderers F.C.",
          "Arsenal F.C.",
          "Wolverhampton Wanderers F.C.",
          "Chelsea F.C.",
          "Fulham F.C.",
          "Nottingham Forest F.C.",
          "West Ham United F.C.",
          "AFC Bournemouth",
          "Chelsea F.C.",
          "Chelsea F.C.",
          "Tottenham Hotspur F.C.",
          "Manchester United F.C., Fulham F.C.",
          "West Bromwich Albion F.C.",
          "Queens Park Rangers F.C.",
          "Chelsea F.C.",
          "Manchester United F.C.",
          "Chelsea F.C.",
          "Leeds United F.C.",
          "Watford F.C., Everton F.C., Tottenham Hotspur F.C.",
          "Watford F.C.",
          "Manchester City F.C.",
          "Middlesbrough F.C.",
          "Everton F.C.",
          "Leeds United F.C.",
          "Watford F.C.",
          "Tottenham Hotspur F.C., Queens Park Rangers F.C., West Bromwich Albion F.C.",
          "Arsenal F.C.",
          "Nottingham Forest F.C.",
          "Birmingham City F.C.",
          "Chelsea F.C.",
          "Sheffield United F.C.",
          "Arsenal F.C., Manchester City F.C.",
          "Manchester United F.C.",
          "Leicester City F.C.",
          "Sheffield Wednesday F.C., Chelsea F.C., Sunderland A.F.C., Bolton Wanderers F.C.",
          "Burnley F.C.",
          "Chelsea F.C.",
          "Aston Villa F.C.",
          "Chelsea F.C., Arsenal F.C., Fulham F.C.",
          "Wolverhampton Wanderers F.C.",
          "Newcastle United F.C.",
          "Birmingham City F.C., Wigan Athletic F.C.",
          "Manchester City F.C.",
          "Sheffield United F.C.",
          "Liverpool F.C.",
          "Wigan Athletic F.C.",
          "Queens Park Rangers F.C.",
          "West Bromwich Albion F.C.",
          "West Ham United F.C.",
          "West Ham United F.C.",
          "Cardiff City F.C.",
          "Manchester City F.C.",
          "Arsenal F.C., Manchester United F.C.",
          "Watford F.C.",
          "Queens Park Rangers F.C.",
          "Blackburn Rovers F.C.",
          "Brighton & Hove Albion F.C.",
          "Aston Villa F.C.",
          "West Ham United F.C.",
          "Newcastle United F.C.",
          "Chelsea F.C.",
          "Liverpool F.C.",
          "Aston Villa F.C.",
          "Middlesbrough F.C.",
          "Manchester United F.C., Chelsea F.C.",
          "Watford F.C.",
          "Watford F.C.",
          "Brighton & Hove Albion F.C.",
          "AFC Bournemouth, Crystal Palace F.C.",
          "Everton F.C.",
          "Crystal Palace F.C.",
          "Arsenal F.C.",
          "Leeds United F.C.",
          "Middlesbrough F.C.",
          "Wigan Athletic F.C., Fulham F.C.",
          "Everton F.C.",
          "Aston Villa F.C., West Ham United F.C.",
          "Tottenham Hotspur F.C.",
          "Leeds United F.C., AFC Bournemouth",
          "Portsmouth F.C.",
          "Watford F.C.",
          "Birmingham City F.C.",
          "Manchester City F.C.",
          "Brighton & Hove Albion F.C., Chelsea F.C.",
          "Everton F.C., Wolverhampton Wanderers F.C.",
          "Aston Villa F.C., Reading F.C.",
          "Southampton F.C.",
          "Brighton & Hove Albion F.C.",
          "Burnley F.C.",
          "Crystal Palace F.C.",
          "Swansea City A.F.C.",
          "Watford F.C.",
          "Brighton & Hove Albion F.C.",
          "Wigan Athletic F.C., Manchester United F.C.",
          "West Ham United F.C., Everton F.C.",
          "Wigan Athletic F.C., Everton F.C.",
          "Newcastle United F.C.",
          "West Ham United F.C.",
          "Sunderland A.F.C.",
          "Brighton & Hove Albion F.C.",
          "Newcastle United F.C.",
          "AFC Bournemouth",
          "Sunderland A.F.C.",
          "Blackburn Rovers F.C., Manchester City F.C.",
          "Watford F.C.",
          "Burnley F.C.",
          "Chelsea F.C.",
          "Newcastle United F.C., Aston Villa F.C., West Ham United F.C.",
          "Coventry City F.C.",
          "Tottenham Hotspur F.C.",
          "Watford F.C.",
          "Wolverhampton Wanderers F.C.",
          "Southampton F.C.",
          "Manchester United F.C.",
          "Liverpool F.C., Sunderland A.F.C.",
          "Manchester United F.C.",
          "Newcastle United F.C.",
          "Hull City A.F.C.",
          "West Ham United F.C.",
          "West Bromwich Albion F.C.",
          "West Bromwich Albion F.C.",
          "Liverpool F.C.",
          "Birmingham City F.C.",
          "Ipswich Town F.C.",
          "Manchester United F.C.",
          "Charlton Athletic F.C.",
          "West Ham United F.C.",
          "Chelsea F.C., Tottenham Hotspur F.C.",
          "Southampton F.C., Hull City A.F.C., Middlesbrough F.C.",
          "Portsmouth F.C.",
          "Crystal Palace F.C., Charlton Athletic F.C.",
          "Middlesbrough F.C.",
          "Liverpool F.C.",
          "Arsenal F.C.",
          "Manchester United F.C.",
          "AFC Bournemouth",
          "Fulham F.C.",
          "West Bromwich Albion F.C., Newcastle United F.C., Everton F.C."
         ],
         "ids": [
          "Manchester City F.C.",
          "Southampton F.C.",
          "Manchester City F.C.",
          "Sunderland A.F.C.",
          "Sunderland A.F.C.",
          "Sunderland A.F.C., Middlesbrough F.C.",
          "Newcastle United F.C.",
          "Norwich City F.C.",
          "Swansea City A.F.C.",
          "West Bromwich Albion F.C.",
          "Wigan Athletic F.C.",
          "Norwich City F.C., Aston Villa F.C.",
          "Brighton & Hove Albion F.C.",
          "Arsenal F.C.",
          "Manchester City F.C., Chelsea F.C., Southampton F.C.",
          "West Ham United F.C.",
          "Leicester City F.C.",
          "Derby County F.C.",
          "Southampton F.C.",
          "Sheffield Wednesday F.C.",
          "Newcastle United F.C.",
          "Newcastle United F.C.",
          "Chelsea F.C.",
          "Portsmouth F.C.",
          "Manchester City F.C.",
          "Manchester United F.C.",
          "Chelsea F.C., Blackburn Rovers F.C., Wigan Athletic F.C.",
          "Nottingham Forest F.C.",
          "Queens Park Rangers F.C.",
          "Tottenham Hotspur F.C.",
          "Chelsea F.C.",
          "Swansea City A.F.C., Newcastle United F.C.",
          "Blackburn Rovers F.C.",
          "Tottenham Hotspur F.C.",
          "Derby County F.C.",
          "Everton F.C.",
          "Manchester United F.C.",
          "Southampton F.C., Tottenham Hotspur F.C.",
          "Newcastle United F.C., Norwich City F.C.",
          "Manchester United F.C.",
          "Fulham F.C.",
          "Chelsea F.C.",
          "Liverpool F.C.",
          "Tottenham Hotspur F.C.",
          "West Ham United F.C.",
          "Tottenham Hotspur F.C.",
          "Brighton & Hove Albion F.C., Liverpool F.C.",
          "Middlesbrough F.C.",
          "Arsenal F.C., Aston Villa F.C.",
          "Manchester United F.C.",
          "West Ham United F.C., Liverpool F.C.",
          "West Bromwich Albion F.C.",
          "Nottingham Forest F.C.",
          "Manchester City F.C.",
          "Liverpool F.C.",
          "Ipswich Town F.C.",
          "Watford F.C.",
          "Manchester City F.C.",
          "Watford F.C.",
          "Liverpool F.C.",
          "Manchester United F.C.",
          "Tottenham Hotspur F.C.",
          "Manchester United F.C.",
          "Fulham F.C.",
          "West Ham United F.C.",
          "Sunderland A.F.C.",
          "AFC Bournemouth",
          "Crystal Palace F.C.",
          "Everton F.C.",
          "Tottenham Hotspur F.C.",
          "West Ham United F.C., Manchester United F.C., Manchester City F.C.",
          "Leicester City F.C., Brighton & Hove Albion F.C.",
          "Tottenham Hotspur F.C.",
          "Sunderland A.F.C.",
          "Manchester United F.C., Chelsea F.C.",
          "Fulham F.C.",
          "Derby County F.C.",
          "Arsenal F.C.",
          "West Bromwich Albion F.C.",
          "Manchester City F.C., West Ham United F.C.",
          "Birmingham City F.C., West Ham United F.C., Queens Park Rangers F.C., Watford F.C.",
          "Derby County F.C.",
          "Middlesbrough F.C.",
          "Wigan Athletic F.C.",
          "Chelsea F.C.",
          "Liverpool F.C.",
          "Everton F.C.",
          "Middlesbrough F.C.",
          "Manchester United F.C.",
          "Everton F.C.",
          "Manchester United F.C.",
          "Liverpool F.C.",
          "Arsenal F.C.",
          "Chelsea F.C.",
          "Everton F.C.",
          "Brighton & Hove Albion F.C.",
          "Wolverhampton Wanderers F.C.",
          "Middlesbrough F.C.",
          "Newcastle United F.C.",
          "Tottenham Hotspur F.C., Fulham F.C.",
          "Manchester United F.C.",
          "Liverpool F.C., Aston Villa F.C.",
          "Manchester City F.C.",
          "Nottingham Forest F.C.",
          "Chelsea F.C., Arsenal F.C.",
          "Arsenal F.C.",
          "Aston Villa F.C.",
          "Liverpool F.C.",
          "Middlesbrough F.C.",
          "Aston Villa F.C.",
          "Manchester City F.C.",
          "Arsenal F.C.",
          "Manchester City F.C.",
          "Middlesbrough F.C.",
          "Tottenham Hotspur F.C.",
          "Hull City A.F.C.",
          "Liverpool F.C.",
          "Manchester United F.C., Queens Park Rangers F.C., Cardiff City F.C., Middlesbrough F.C.",
          "Nottingham Forest F.C.",
          "West Ham United F.C.",
          "Manchester City F.C.",
          "Manchester City F.C.",
          "Chelsea F.C.",
          "Crystal Palace F.C.",
          "Liverpool F.C.",
          "Manchester United F.C.",
          "Newcastle United F.C.",
          "Manchester City F.C., Arsenal F.C.",
          "Arsenal F.C.",
          "Arsenal F.C.",
          "Arsenal F.C.",
          "Manchester City F.C., Hull City A.F.C.",
          "Tottenham Hotspur F.C.",
          "Arsenal F.C.",
          "Manchester City F.C.",
          "Tottenham Hotspur F.C., Watford F.C.",
          "Newcastle United F.C.",
          "Southampton F.C.",
          "Nottingham Forest F.C.",
          "West Ham United F.C.",
          "Coventry City F.C.",
          "Bolton Wanderers F.C.",
          "Manchester City F.C., Everton F.C.",
          "Wolverhampton Wanderers F.C.",
          "Watford F.C., Brighton & Hove Albion F.C.",
          "Newcastle United F.C.",
          "Brighton & Hove Albion F.C.",
          "Bolton Wanderers F.C.",
          "Queens Park Rangers F.C.",
          "Middlesbrough F.C.",
          "Manchester City F.C.",
          "Chelsea F.C., Watford F.C., Newcastle United F.C.",
          "Manchester United F.C.",
          "Nottingham Forest F.C.",
          "Liverpool F.C.",
          "Tottenham Hotspur F.C.",
          "West Ham United F.C.",
          "Southampton F.C.",
          "Manchester City F.C.",
          "Wolverhampton Wanderers F.C.",
          "Arsenal F.C.",
          "Wolverhampton Wanderers F.C.",
          "Chelsea F.C.",
          "Fulham F.C.",
          "Nottingham Forest F.C.",
          "West Ham United F.C.",
          "AFC Bournemouth",
          "Chelsea F.C.",
          "Chelsea F.C.",
          "Tottenham Hotspur F.C.",
          "Manchester United F.C., Fulham F.C.",
          "West Bromwich Albion F.C.",
          "Queens Park Rangers F.C.",
          "Chelsea F.C.",
          "Manchester United F.C.",
          "Chelsea F.C.",
          "Leeds United F.C.",
          "Watford F.C., Everton F.C., Tottenham Hotspur F.C.",
          "Watford F.C.",
          "Manchester City F.C.",
          "Middlesbrough F.C.",
          "Everton F.C.",
          "Leeds United F.C.",
          "Watford F.C.",
          "Tottenham Hotspur F.C., Queens Park Rangers F.C., West Bromwich Albion F.C.",
          "Arsenal F.C.",
          "Nottingham Forest F.C.",
          "Birmingham City F.C.",
          "Chelsea F.C.",
          "Sheffield United F.C.",
          "Arsenal F.C., Manchester City F.C.",
          "Manchester United F.C.",
          "Leicester City F.C.",
          "Sheffield Wednesday F.C., Chelsea F.C., Sunderland A.F.C., Bolton Wanderers F.C.",
          "Burnley F.C.",
          "Chelsea F.C.",
          "Aston Villa F.C.",
          "Chelsea F.C., Arsenal F.C., Fulham F.C.",
          "Wolverhampton Wanderers F.C.",
          "Newcastle United F.C.",
          "Birmingham City F.C., Wigan Athletic F.C.",
          "Manchester City F.C.",
          "Sheffield United F.C.",
          "Liverpool F.C.",
          "Wigan Athletic F.C.",
          "Queens Park Rangers F.C.",
          "West Bromwich Albion F.C.",
          "West Ham United F.C.",
          "West Ham United F.C.",
          "Cardiff City F.C.",
          "Manchester City F.C.",
          "Arsenal F.C., Manchester United F.C.",
          "Watford F.C.",
          "Queens Park Rangers F.C.",
          "Blackburn Rovers F.C.",
          "Brighton & Hove Albion F.C.",
          "Aston Villa F.C.",
          "West Ham United F.C.",
          "Newcastle United F.C.",
          "Chelsea F.C.",
          "Liverpool F.C.",
          "Aston Villa F.C.",
          "Middlesbrough F.C.",
          "Manchester United F.C., Chelsea F.C.",
          "Watford F.C.",
          "Watford F.C.",
          "Brighton & Hove Albion F.C.",
          "AFC Bournemouth, Crystal Palace F.C.",
          "Everton F.C.",
          "Crystal Palace F.C.",
          "Arsenal F.C.",
          "Leeds United F.C.",
          "Middlesbrough F.C.",
          "Wigan Athletic F.C., Fulham F.C.",
          "Everton F.C.",
          "Aston Villa F.C., West Ham United F.C.",
          "Tottenham Hotspur F.C.",
          "Leeds United F.C., AFC Bournemouth",
          "Portsmouth F.C.",
          "Watford F.C.",
          "Birmingham City F.C.",
          "Manchester City F.C.",
          "Brighton & Hove Albion F.C., Chelsea F.C.",
          "Everton F.C., Wolverhampton Wanderers F.C.",
          "Aston Villa F.C., Reading F.C.",
          "Southampton F.C.",
          "Brighton & Hove Albion F.C.",
          "Burnley F.C.",
          "Crystal Palace F.C.",
          "Swansea City A.F.C.",
          "Watford F.C.",
          "Brighton & Hove Albion F.C.",
          "Wigan Athletic F.C., Manchester United F.C.",
          "West Ham United F.C., Everton F.C.",
          "Wigan Athletic F.C., Everton F.C.",
          "Newcastle United F.C.",
          "West Ham United F.C.",
          "Sunderland A.F.C.",
          "Brighton & Hove Albion F.C.",
          "Newcastle United F.C.",
          "AFC Bournemouth",
          "Sunderland A.F.C.",
          "Blackburn Rovers F.C., Manchester City F.C.",
          "Watford F.C.",
          "Burnley F.C.",
          "Chelsea F.C.",
          "Newcastle United F.C., Aston Villa F.C., West Ham United F.C.",
          "Coventry City F.C.",
          "Tottenham Hotspur F.C.",
          "Watford F.C.",
          "Wolverhampton Wanderers F.C.",
          "Southampton F.C.",
          "Manchester United F.C.",
          "Liverpool F.C., Sunderland A.F.C.",
          "Manchester United F.C.",
          "Newcastle United F.C.",
          "Hull City A.F.C.",
          "West Ham United F.C.",
          "West Bromwich Albion F.C.",
          "West Bromwich Albion F.C.",
          "Liverpool F.C.",
          "Birmingham City F.C.",
          "Ipswich Town F.C.",
          "Manchester United F.C.",
          "Charlton Athletic F.C.",
          "West Ham United F.C.",
          "Chelsea F.C., Tottenham Hotspur F.C.",
          "Southampton F.C., Hull City A.F.C., Middlesbrough F.C.",
          "Portsmouth F.C.",
          "Crystal Palace F.C., Charlton Athletic F.C.",
          "Middlesbrough F.C.",
          "Liverpool F.C.",
          "Arsenal F.C.",
          "Manchester United F.C.",
          "AFC Bournemouth",
          "Fulham F.C.",
          "West Bromwich Albion F.C., Newcastle United F.C., Everton F.C."
         ],
         "legendgroup": "South America",
         "marker": {
          "color": "#19d3f3",
          "symbol": "circle"
         },
         "mode": "markers",
         "name": "South America",
         "showlegend": true,
         "type": "scattergl",
         "x": [
          2412,
          2413,
          2414,
          2415,
          2416,
          2417,
          2418,
          2419,
          2420,
          2421,
          2422,
          2423,
          2424,
          2425,
          2426,
          2427,
          2428,
          2429,
          2430,
          2431,
          2432,
          2433,
          2434,
          2435,
          2436,
          2437,
          2438,
          2439,
          2440,
          2441,
          2442,
          2443,
          2444,
          2445,
          2446,
          2447,
          2448,
          2449,
          2450,
          2451,
          2452,
          2453,
          2454,
          2455,
          2456,
          2457,
          2458,
          2459,
          2460,
          2461,
          2462,
          2463,
          2464,
          2465,
          2466,
          2467,
          2468,
          2469,
          2470,
          2471,
          2472,
          2473,
          2474,
          2475,
          2476,
          2477,
          2478,
          2479,
          2480,
          2481,
          2482,
          2483,
          2484,
          2485,
          2486,
          2487,
          2488,
          2489,
          2490,
          2491,
          2492,
          2493,
          2494,
          2495,
          2496,
          2497,
          2498,
          2499,
          2500,
          2501,
          2502,
          2503,
          2504,
          2505,
          2506,
          2507,
          2508,
          2509,
          2510,
          2511,
          2512,
          2513,
          2514,
          2515,
          2516,
          2517,
          2518,
          2519,
          2520,
          2521,
          2522,
          2523,
          2524,
          2525,
          2526,
          2527,
          2528,
          2529,
          2530,
          2531,
          2532,
          2533,
          2534,
          2535,
          2536,
          2537,
          2538,
          2539,
          2540,
          2541,
          2542,
          2543,
          2544,
          2545,
          2546,
          2547,
          2548,
          2549,
          2550,
          2551,
          2552,
          2553,
          2554,
          2555,
          2556,
          2557,
          2558,
          2559,
          2560,
          2561,
          2562,
          2563,
          2564,
          2565,
          2566,
          2567,
          2568,
          2569,
          2570,
          2571,
          2572,
          2573,
          2574,
          2575,
          2576,
          2577,
          2578,
          2579,
          2580,
          2581,
          2582,
          2583,
          2584,
          2585,
          2586,
          2587,
          2588,
          2589,
          2590,
          2591,
          2592,
          2593,
          2594,
          2595,
          2596,
          2597,
          2598,
          2599,
          2600,
          2601,
          2602,
          2603,
          2604,
          2605,
          2606,
          2607,
          2608,
          2609,
          2610,
          2611,
          2612,
          2613,
          2614,
          2615,
          2616,
          2617,
          2618,
          2619,
          2620,
          2621,
          2622,
          2623,
          2624,
          2625,
          2626,
          2627,
          2628,
          2629,
          2630,
          2631,
          2632,
          2633,
          2634,
          2635,
          2636,
          2637,
          2638,
          2639,
          2640,
          2641,
          2642,
          2643,
          2644,
          2645,
          2646,
          2647,
          2648,
          2649,
          2650,
          2651,
          2652,
          2653,
          2654,
          2655,
          2656,
          2657,
          2658,
          2659,
          2660,
          2661,
          2662,
          2663,
          2664,
          2665,
          2666,
          2667,
          2668,
          2669,
          2670,
          2671,
          2672,
          2673,
          2674,
          2675,
          2676,
          2677,
          2678,
          2679,
          2680,
          2681,
          2682,
          2683,
          2684,
          2685,
          2686,
          2687,
          2688,
          2689,
          2690,
          2691,
          2692,
          2693,
          2694,
          2695,
          2696,
          2697,
          2698,
          2699,
          2700,
          2701,
          2702,
          2703,
          2704,
          2705,
          2706,
          2707,
          2708
         ],
         "xaxis": "x",
         "y": [
          2011,
          2022,
          2022,
          2014,
          2010,
          2000,
          2000,
          2012,
          2011,
          2014,
          2010,
          2019,
          2022,
          1998,
          2014,
          2016,
          2014,
          1998,
          2017,
          1998,
          2008,
          2000,
          2003,
          2005,
          2013,
          2014,
          2008,
          2023,
          2011,
          2014,
          2022,
          2014,
          2011,
          2018,
          1999,
          2015,
          2021,
          2012,
          2008,
          2004,
          2002,
          2018,
          2006,
          2013,
          2015,
          2019,
          2019,
          1999,
          2014,
          2022,
          2006,
          2008,
          2023,
          2015,
          2004,
          2001,
          2016,
          2022,
          2019,
          2009,
          2014,
          2021,
          2015,
          2002,
          2005,
          2013,
          2022,
          2004,
          2011,
          1998,
          2006,
          2014,
          2023,
          2013,
          2001,
          2018,
          2007,
          1998,
          2012,
          2008,
          2007,
          2001,
          1995,
          2009,
          2007,
          2018,
          2020,
          2007,
          2007,
          2006,
          2022,
          2006,
          2006,
          2007,
          2018,
          2018,
          2018,
          1995,
          2007,
          2020,
          2022,
          2012,
          2017,
          2022,
          2011,
          2006,
          2022,
          2011,
          2002,
          2019,
          2017,
          2000,
          2007,
          1996,
          2021,
          2016,
          2018,
          2009,
          2022,
          2018,
          2013,
          2014,
          2014,
          2023,
          2015,
          2018,
          1999,
          2016,
          2020,
          2019,
          2014,
          2007,
          2007,
          2002,
          2008,
          2008,
          2021,
          2012,
          2022,
          2009,
          1995,
          2003,
          2008,
          2022,
          2019,
          2019,
          2023,
          2004,
          2012,
          1995,
          2021,
          2015,
          2003,
          2022,
          2007,
          2017,
          2022,
          2021,
          2012,
          2020,
          2022,
          2022,
          2008,
          2023,
          2023,
          2014,
          2022,
          2012,
          2015,
          2013,
          2014,
          2020,
          2011,
          2012,
          2008,
          2010,
          2020,
          2017,
          2006,
          2008,
          2005,
          2002,
          2003,
          2021,
          2010,
          2011,
          2023,
          2007,
          2020,
          2023,
          1999,
          2020,
          2022,
          1997,
          2023,
          2023,
          2019,
          2013,
          2020,
          2000,
          2010,
          2016,
          2023,
          2006,
          2012,
          2014,
          2010,
          2009,
          1998,
          2013,
          2011,
          2014,
          2021,
          2014,
          2008,
          2019,
          2000,
          2013,
          1995,
          2014,
          2021,
          2022,
          2016,
          2014,
          2021,
          2015,
          2017,
          2018,
          2018,
          2023,
          2014,
          2020,
          1998,
          2008,
          2020,
          2014,
          2017,
          2022,
          2005,
          2016,
          2009,
          2007,
          2021,
          2008,
          2002,
          2001,
          2022,
          2009,
          2004,
          2014,
          2015,
          2021,
          2006,
          2014,
          2010,
          2018,
          2018,
          2009,
          2022,
          1999,
          2015,
          2010,
          2007,
          2017,
          2008,
          2007,
          1998,
          1999,
          2021,
          2015,
          2023,
          2016,
          2020,
          2011,
          2001,
          2008,
          2014,
          2008,
          2013,
          2005,
          2022,
          2004,
          1994,
          2022,
          2006,
          2014,
          1997,
          2012,
          2005,
          2004,
          2016,
          2010,
          2018,
          2015,
          2022,
          2013,
          2015
         ],
         "yaxis": "y"
        }
       ],
       "layout": {
        "height": 500,
        "legend": {
         "title": {
          "text": "Region"
         },
         "tracegroupgap": 0
        },
        "template": {
         "data": {
          "bar": [
           {
            "error_x": {
             "color": "#2a3f5f"
            },
            "error_y": {
             "color": "#2a3f5f"
            },
            "marker": {
             "line": {
              "color": "#E5ECF6",
              "width": 0.5
             },
             "pattern": {
              "fillmode": "overlay",
              "size": 10,
              "solidity": 0.2
             }
            },
            "type": "bar"
           }
          ],
          "barpolar": [
           {
            "marker": {
             "line": {
              "color": "#E5ECF6",
              "width": 0.5
             },
             "pattern": {
              "fillmode": "overlay",
              "size": 10,
              "solidity": 0.2
             }
            },
            "type": "barpolar"
           }
          ],
          "carpet": [
           {
            "aaxis": {
             "endlinecolor": "#2a3f5f",
             "gridcolor": "white",
             "linecolor": "white",
             "minorgridcolor": "white",
             "startlinecolor": "#2a3f5f"
            },
            "baxis": {
             "endlinecolor": "#2a3f5f",
             "gridcolor": "white",
             "linecolor": "white",
             "minorgridcolor": "white",
             "startlinecolor": "#2a3f5f"
            },
            "type": "carpet"
           }
          ],
          "choropleth": [
           {
            "colorbar": {
             "outlinewidth": 0,
             "ticks": ""
            },
            "type": "choropleth"
           }
          ],
          "contour": [
           {
            "colorbar": {
             "outlinewidth": 0,
             "ticks": ""
            },
            "colorscale": [
             [
              0,
              "#0d0887"
             ],
             [
              0.1111111111111111,
              "#46039f"
             ],
             [
              0.2222222222222222,
              "#7201a8"
             ],
             [
              0.3333333333333333,
              "#9c179e"
             ],
             [
              0.4444444444444444,
              "#bd3786"
             ],
             [
              0.5555555555555556,
              "#d8576b"
             ],
             [
              0.6666666666666666,
              "#ed7953"
             ],
             [
              0.7777777777777778,
              "#fb9f3a"
             ],
             [
              0.8888888888888888,
              "#fdca26"
             ],
             [
              1,
              "#f0f921"
             ]
            ],
            "type": "contour"
           }
          ],
          "contourcarpet": [
           {
            "colorbar": {
             "outlinewidth": 0,
             "ticks": ""
            },
            "type": "contourcarpet"
           }
          ],
          "heatmap": [
           {
            "colorbar": {
             "outlinewidth": 0,
             "ticks": ""
            },
            "colorscale": [
             [
              0,
              "#0d0887"
             ],
             [
              0.1111111111111111,
              "#46039f"
             ],
             [
              0.2222222222222222,
              "#7201a8"
             ],
             [
              0.3333333333333333,
              "#9c179e"
             ],
             [
              0.4444444444444444,
              "#bd3786"
             ],
             [
              0.5555555555555556,
              "#d8576b"
             ],
             [
              0.6666666666666666,
              "#ed7953"
             ],
             [
              0.7777777777777778,
              "#fb9f3a"
             ],
             [
              0.8888888888888888,
              "#fdca26"
             ],
             [
              1,
              "#f0f921"
             ]
            ],
            "type": "heatmap"
           }
          ],
          "heatmapgl": [
           {
            "colorbar": {
             "outlinewidth": 0,
             "ticks": ""
            },
            "colorscale": [
             [
              0,
              "#0d0887"
             ],
             [
              0.1111111111111111,
              "#46039f"
             ],
             [
              0.2222222222222222,
              "#7201a8"
             ],
             [
              0.3333333333333333,
              "#9c179e"
             ],
             [
              0.4444444444444444,
              "#bd3786"
             ],
             [
              0.5555555555555556,
              "#d8576b"
             ],
             [
              0.6666666666666666,
              "#ed7953"
             ],
             [
              0.7777777777777778,
              "#fb9f3a"
             ],
             [
              0.8888888888888888,
              "#fdca26"
             ],
             [
              1,
              "#f0f921"
             ]
            ],
            "type": "heatmapgl"
           }
          ],
          "histogram": [
           {
            "marker": {
             "pattern": {
              "fillmode": "overlay",
              "size": 10,
              "solidity": 0.2
             }
            },
            "type": "histogram"
           }
          ],
          "histogram2d": [
           {
            "colorbar": {
             "outlinewidth": 0,
             "ticks": ""
            },
            "colorscale": [
             [
              0,
              "#0d0887"
             ],
             [
              0.1111111111111111,
              "#46039f"
             ],
             [
              0.2222222222222222,
              "#7201a8"
             ],
             [
              0.3333333333333333,
              "#9c179e"
             ],
             [
              0.4444444444444444,
              "#bd3786"
             ],
             [
              0.5555555555555556,
              "#d8576b"
             ],
             [
              0.6666666666666666,
              "#ed7953"
             ],
             [
              0.7777777777777778,
              "#fb9f3a"
             ],
             [
              0.8888888888888888,
              "#fdca26"
             ],
             [
              1,
              "#f0f921"
             ]
            ],
            "type": "histogram2d"
           }
          ],
          "histogram2dcontour": [
           {
            "colorbar": {
             "outlinewidth": 0,
             "ticks": ""
            },
            "colorscale": [
             [
              0,
              "#0d0887"
             ],
             [
              0.1111111111111111,
              "#46039f"
             ],
             [
              0.2222222222222222,
              "#7201a8"
             ],
             [
              0.3333333333333333,
              "#9c179e"
             ],
             [
              0.4444444444444444,
              "#bd3786"
             ],
             [
              0.5555555555555556,
              "#d8576b"
             ],
             [
              0.6666666666666666,
              "#ed7953"
             ],
             [
              0.7777777777777778,
              "#fb9f3a"
             ],
             [
              0.8888888888888888,
              "#fdca26"
             ],
             [
              1,
              "#f0f921"
             ]
            ],
            "type": "histogram2dcontour"
           }
          ],
          "mesh3d": [
           {
            "colorbar": {
             "outlinewidth": 0,
             "ticks": ""
            },
            "type": "mesh3d"
           }
          ],
          "parcoords": [
           {
            "line": {
             "colorbar": {
              "outlinewidth": 0,
              "ticks": ""
             }
            },
            "type": "parcoords"
           }
          ],
          "pie": [
           {
            "automargin": true,
            "type": "pie"
           }
          ],
          "scatter": [
           {
            "fillpattern": {
             "fillmode": "overlay",
             "size": 10,
             "solidity": 0.2
            },
            "type": "scatter"
           }
          ],
          "scatter3d": [
           {
            "line": {
             "colorbar": {
              "outlinewidth": 0,
              "ticks": ""
             }
            },
            "marker": {
             "colorbar": {
              "outlinewidth": 0,
              "ticks": ""
             }
            },
            "type": "scatter3d"
           }
          ],
          "scattercarpet": [
           {
            "marker": {
             "colorbar": {
              "outlinewidth": 0,
              "ticks": ""
             }
            },
            "type": "scattercarpet"
           }
          ],
          "scattergeo": [
           {
            "marker": {
             "colorbar": {
              "outlinewidth": 0,
              "ticks": ""
             }
            },
            "type": "scattergeo"
           }
          ],
          "scattergl": [
           {
            "marker": {
             "colorbar": {
              "outlinewidth": 0,
              "ticks": ""
             }
            },
            "type": "scattergl"
           }
          ],
          "scattermapbox": [
           {
            "marker": {
             "colorbar": {
              "outlinewidth": 0,
              "ticks": ""
             }
            },
            "type": "scattermapbox"
           }
          ],
          "scatterpolar": [
           {
            "marker": {
             "colorbar": {
              "outlinewidth": 0,
              "ticks": ""
             }
            },
            "type": "scatterpolar"
           }
          ],
          "scatterpolargl": [
           {
            "marker": {
             "colorbar": {
              "outlinewidth": 0,
              "ticks": ""
             }
            },
            "type": "scatterpolargl"
           }
          ],
          "scatterternary": [
           {
            "marker": {
             "colorbar": {
              "outlinewidth": 0,
              "ticks": ""
             }
            },
            "type": "scatterternary"
           }
          ],
          "surface": [
           {
            "colorbar": {
             "outlinewidth": 0,
             "ticks": ""
            },
            "colorscale": [
             [
              0,
              "#0d0887"
             ],
             [
              0.1111111111111111,
              "#46039f"
             ],
             [
              0.2222222222222222,
              "#7201a8"
             ],
             [
              0.3333333333333333,
              "#9c179e"
             ],
             [
              0.4444444444444444,
              "#bd3786"
             ],
             [
              0.5555555555555556,
              "#d8576b"
             ],
             [
              0.6666666666666666,
              "#ed7953"
             ],
             [
              0.7777777777777778,
              "#fb9f3a"
             ],
             [
              0.8888888888888888,
              "#fdca26"
             ],
             [
              1,
              "#f0f921"
             ]
            ],
            "type": "surface"
           }
          ],
          "table": [
           {
            "cells": {
             "fill": {
              "color": "#EBF0F8"
             },
             "line": {
              "color": "white"
             }
            },
            "header": {
             "fill": {
              "color": "#C8D4E3"
             },
             "line": {
              "color": "white"
             }
            },
            "type": "table"
           }
          ]
         },
         "layout": {
          "annotationdefaults": {
           "arrowcolor": "#2a3f5f",
           "arrowhead": 0,
           "arrowwidth": 1
          },
          "autotypenumbers": "strict",
          "coloraxis": {
           "colorbar": {
            "outlinewidth": 0,
            "ticks": ""
           }
          },
          "colorscale": {
           "diverging": [
            [
             0,
             "#8e0152"
            ],
            [
             0.1,
             "#c51b7d"
            ],
            [
             0.2,
             "#de77ae"
            ],
            [
             0.3,
             "#f1b6da"
            ],
            [
             0.4,
             "#fde0ef"
            ],
            [
             0.5,
             "#f7f7f7"
            ],
            [
             0.6,
             "#e6f5d0"
            ],
            [
             0.7,
             "#b8e186"
            ],
            [
             0.8,
             "#7fbc41"
            ],
            [
             0.9,
             "#4d9221"
            ],
            [
             1,
             "#276419"
            ]
           ],
           "sequential": [
            [
             0,
             "#0d0887"
            ],
            [
             0.1111111111111111,
             "#46039f"
            ],
            [
             0.2222222222222222,
             "#7201a8"
            ],
            [
             0.3333333333333333,
             "#9c179e"
            ],
            [
             0.4444444444444444,
             "#bd3786"
            ],
            [
             0.5555555555555556,
             "#d8576b"
            ],
            [
             0.6666666666666666,
             "#ed7953"
            ],
            [
             0.7777777777777778,
             "#fb9f3a"
            ],
            [
             0.8888888888888888,
             "#fdca26"
            ],
            [
             1,
             "#f0f921"
            ]
           ],
           "sequentialminus": [
            [
             0,
             "#0d0887"
            ],
            [
             0.1111111111111111,
             "#46039f"
            ],
            [
             0.2222222222222222,
             "#7201a8"
            ],
            [
             0.3333333333333333,
             "#9c179e"
            ],
            [
             0.4444444444444444,
             "#bd3786"
            ],
            [
             0.5555555555555556,
             "#d8576b"
            ],
            [
             0.6666666666666666,
             "#ed7953"
            ],
            [
             0.7777777777777778,
             "#fb9f3a"
            ],
            [
             0.8888888888888888,
             "#fdca26"
            ],
            [
             1,
             "#f0f921"
            ]
           ]
          },
          "colorway": [
           "#636efa",
           "#EF553B",
           "#00cc96",
           "#ab63fa",
           "#FFA15A",
           "#19d3f3",
           "#FF6692",
           "#B6E880",
           "#FF97FF",
           "#FECB52"
          ],
          "font": {
           "color": "#2a3f5f"
          },
          "geo": {
           "bgcolor": "white",
           "lakecolor": "white",
           "landcolor": "#E5ECF6",
           "showlakes": true,
           "showland": true,
           "subunitcolor": "white"
          },
          "hoverlabel": {
           "align": "left"
          },
          "hovermode": "closest",
          "mapbox": {
           "style": "light"
          },
          "paper_bgcolor": "white",
          "plot_bgcolor": "#E5ECF6",
          "polar": {
           "angularaxis": {
            "gridcolor": "white",
            "linecolor": "white",
            "ticks": ""
           },
           "bgcolor": "#E5ECF6",
           "radialaxis": {
            "gridcolor": "white",
            "linecolor": "white",
            "ticks": ""
           }
          },
          "scene": {
           "xaxis": {
            "backgroundcolor": "#E5ECF6",
            "gridcolor": "white",
            "gridwidth": 2,
            "linecolor": "white",
            "showbackground": true,
            "ticks": "",
            "zerolinecolor": "white"
           },
           "yaxis": {
            "backgroundcolor": "#E5ECF6",
            "gridcolor": "white",
            "gridwidth": 2,
            "linecolor": "white",
            "showbackground": true,
            "ticks": "",
            "zerolinecolor": "white"
           },
           "zaxis": {
            "backgroundcolor": "#E5ECF6",
            "gridcolor": "white",
            "gridwidth": 2,
            "linecolor": "white",
            "showbackground": true,
            "ticks": "",
            "zerolinecolor": "white"
           }
          },
          "shapedefaults": {
           "line": {
            "color": "#2a3f5f"
           }
          },
          "ternary": {
           "aaxis": {
            "gridcolor": "white",
            "linecolor": "white",
            "ticks": ""
           },
           "baxis": {
            "gridcolor": "white",
            "linecolor": "white",
            "ticks": ""
           },
           "bgcolor": "#E5ECF6",
           "caxis": {
            "gridcolor": "white",
            "linecolor": "white",
            "ticks": ""
           }
          },
          "title": {
           "x": 0.05
          },
          "xaxis": {
           "automargin": true,
           "gridcolor": "white",
           "linecolor": "white",
           "ticks": "",
           "title": {
            "standoff": 15
           },
           "zerolinecolor": "white",
           "zerolinewidth": 2
          },
          "yaxis": {
           "automargin": true,
           "gridcolor": "white",
           "linecolor": "white",
           "ticks": "",
           "title": {
            "standoff": 15
           },
           "zerolinecolor": "white",
           "zerolinewidth": 2
          }
         }
        },
        "title": {
         "text": "Overall Trend (2709 Players)"
        },
        "xaxis": {
         "anchor": "y",
         "domain": [
          0,
          1
         ],
         "title": {
          "text": " Player Index"
         }
        },
        "yaxis": {
         "anchor": "x",
         "domain": [
          0,
          1
         ],
         "title": {
          "text": "Joining Year"
         }
        }
       }
      }
     },
     "metadata": {},
     "output_type": "display_data"
    },
    {
     "data": {
      "application/vnd.plotly.v1+json": {
       "config": {
        "plotlyServerURL": "https://plot.ly"
       },
       "data": [
        {
         "hovertemplate": "<b>%{hovertext}</b><br><br>Region=Africa<br>_index=%{x}<br>First Year=%{y}<extra></extra>",
         "hovertext": [
          "Arsenal F.C., Portsmouth F.C.",
          "Charlton Athletic F.C., Arsenal F.C., West Ham United F.C.",
          "Arsenal F.C.",
          "Arsenal F.C., Chelsea F.C.",
          "Arsenal F.C., Wolverhampton Wanderers F.C., Fulham F.C.",
          "Arsenal F.C., Portsmouth F.C.",
          "Arsenal F.C.",
          "Arsenal F.C., West Ham United F.C.",
          "Arsenal F.C.",
          "Arsenal F.C.",
          "Arsenal F.C.",
          "Arsenal F.C., Manchester City F.C., Liverpool F.C.",
          "Arsenal F.C.",
          "Arsenal F.C., West Ham United F.C., Crystal Palace F.C.",
          "Arsenal F.C.",
          "Arsenal F.C., Everton F.C., Fulham F.C.",
          "Arsenal F.C., West Bromwich Albion F.C., Portsmouth F.C.",
          "Arsenal F.C., Portsmouth F.C., Queens Park Rangers F.C.",
          "Arsenal F.C., Manchester City F.C., Tottenham Hotspur F.C., Crystal Palace F.C."
         ],
         "ids": [
          "Arsenal F.C., Portsmouth F.C.",
          "Charlton Athletic F.C., Arsenal F.C., West Ham United F.C.",
          "Arsenal F.C.",
          "Arsenal F.C., Chelsea F.C.",
          "Arsenal F.C., Wolverhampton Wanderers F.C., Fulham F.C.",
          "Arsenal F.C., Portsmouth F.C.",
          "Arsenal F.C.",
          "Arsenal F.C., West Ham United F.C.",
          "Arsenal F.C.",
          "Arsenal F.C.",
          "Arsenal F.C.",
          "Arsenal F.C., Manchester City F.C., Liverpool F.C.",
          "Arsenal F.C.",
          "Arsenal F.C., West Ham United F.C., Crystal Palace F.C.",
          "Arsenal F.C.",
          "Arsenal F.C., Everton F.C., Fulham F.C.",
          "Arsenal F.C., West Bromwich Albion F.C., Portsmouth F.C.",
          "Arsenal F.C., Portsmouth F.C., Queens Park Rangers F.C.",
          "Arsenal F.C., Manchester City F.C., Tottenham Hotspur F.C., Crystal Palace F.C."
         ],
         "legendgroup": "Africa",
         "marker": {
          "color": "#636efa",
          "symbol": "circle"
         },
         "mode": "markers",
         "name": "Africa",
         "orientation": "v",
         "showlegend": true,
         "type": "scatter",
         "x": [
          0,
          1,
          2,
          3,
          4,
          5,
          6,
          7,
          8,
          9,
          10,
          11,
          12,
          13,
          14,
          15,
          16,
          17,
          18
         ],
         "xaxis": "x",
         "y": [
          2000,
          2005,
          2015,
          2017,
          2011,
          2004,
          2020,
          1998,
          2004,
          2011,
          2019,
          2002,
          1997,
          2010,
          2013,
          2015,
          1998,
          2007,
          2005
         ],
         "yaxis": "y"
        },
        {
         "hovertemplate": "<b>%{hovertext}</b><br><br>Region=Asia<br>_index=%{x}<br>First Year=%{y}<extra></extra>",
         "hovertext": [
          "Brighton & Hove Albion F.C., Arsenal F.C.",
          "Arsenal F.C.",
          "Bolton Wanderers F.C., Wigan Athletic F.C., Arsenal F.C.",
          "Arsenal F.C.",
          "Arsenal F.C."
         ],
         "ids": [
          "Brighton & Hove Albion F.C., Arsenal F.C.",
          "Arsenal F.C.",
          "Bolton Wanderers F.C., Wigan Athletic F.C., Arsenal F.C.",
          "Arsenal F.C.",
          "Arsenal F.C."
         ],
         "legendgroup": "Asia",
         "marker": {
          "color": "#EF553B",
          "symbol": "circle"
         },
         "mode": "markers",
         "name": "Asia",
         "orientation": "v",
         "showlegend": true,
         "type": "scatter",
         "x": [
          19,
          20,
          21,
          22,
          23
         ],
         "xaxis": "x",
         "y": [
          2017,
          2011,
          2011,
          2021,
          2011
         ],
         "yaxis": "y"
        },
        {
         "hovertemplate": "<b>%{hovertext}</b><br><br>Region=Europe<br>_index=%{x}<br>First Year=%{y}<extra></extra>",
         "hovertext": [
          "Manchester United F.C., Arsenal F.C.",
          "Arsenal F.C.",
          "Arsenal F.C., Birmingham City F.C.",
          "Arsenal F.C., Crystal Palace F.C., Luton Town F.C.",
          "Brighton & Hove Albion F.C., Arsenal F.C.",
          "Arsenal F.C.",
          "Arsenal F.C.",
          "Arsenal F.C.",
          "Arsenal F.C., West Ham United F.C.",
          "Chelsea F.C., Arsenal F.C.",
          "Arsenal F.C.",
          "Arsenal F.C., Sunderland A.F.C.",
          "Arsenal F.C.",
          "Derby County F.C., Sunderland A.F.C., Arsenal F.C.",
          "Arsenal F.C., West Ham United F.C., Middlesbrough F.C.",
          "Arsenal F.C., Liverpool F.C., Manchester City F.C., Bolton Wanderers F.C., Chelsea F.C., West Bromwich Albion F.C.",
          "Arsenal F.C., Manchester City F.C.",
          "Arsenal F.C.",
          "Arsenal F.C.",
          "Newcastle United F.C., Arsenal F.C.",
          "Arsenal F.C.",
          "Chelsea F.C., Arsenal F.C., Portsmouth F.C.",
          "Arsenal F.C., Crystal Palace F.C.",
          "Chelsea F.C., Arsenal F.C., Tottenham Hotspur F.C.",
          "Arsenal F.C.",
          "Arsenal F.C., Chelsea F.C.",
          "Arsenal F.C.",
          "Arsenal F.C.",
          "Arsenal F.C.",
          "Arsenal F.C.",
          "Arsenal F.C.",
          "Arsenal F.C.",
          "Arsenal F.C., Manchester City F.C., West Ham United F.C.",
          "Arsenal F.C., Chelsea F.C.",
          "Arsenal F.C., Aston Villa F.C.",
          "Arsenal F.C., Manchester City F.C.",
          "Arsenal F.C., Crystal Palace F.C.",
          "Arsenal F.C.",
          "Manchester United F.C., Arsenal F.C.",
          "Arsenal F.C.",
          "Arsenal F.C., Manchester City F.C.",
          "Arsenal F.C.",
          "Arsenal F.C., West Bromwich Albion F.C.",
          "Chelsea F.C., Arsenal F.C.",
          "Arsenal F.C.",
          "Arsenal F.C., Fulham F.C.",
          "Arsenal F.C.",
          "Arsenal F.C.",
          "Arsenal F.C.",
          "Arsenal F.C.",
          "Arsenal F.C.",
          "Arsenal F.C.",
          "Arsenal F.C., West Ham United F.C.",
          "Arsenal F.C.",
          "Arsenal F.C.",
          "Arsenal F.C.",
          "West Ham United F.C., Liverpool F.C., Chelsea F.C., Arsenal F.C.",
          "Chelsea F.C., Arsenal F.C.",
          "Arsenal F.C.",
          "Arsenal F.C., Sunderland A.F.C.",
          "Arsenal F.C.",
          "Arsenal F.C.",
          "Arsenal F.C.",
          "Arsenal F.C.",
          "Arsenal F.C.",
          "Arsenal F.C.",
          "Arsenal F.C., Manchester United F.C.",
          "Arsenal F.C.",
          "Arsenal F.C.",
          "Arsenal F.C.",
          "Arsenal F.C., Swansea City A.F.C., West Ham United F.C.",
          "Arsenal F.C.",
          "Arsenal F.C.",
          "Arsenal F.C.",
          "Arsenal F.C., Southampton F.C., Fulham F.C., West Ham United F.C.",
          "Southampton F.C., Arsenal F.C., Fulham F.C.",
          "Arsenal F.C., Nottingham Forest F.C.",
          "Arsenal F.C.",
          "Arsenal F.C.",
          "Crystal Palace F.C., Arsenal F.C.",
          "Arsenal F.C.",
          "Arsenal F.C., Leeds United F.C.",
          "Arsenal F.C.",
          "Arsenal F.C.",
          "Everton F.C., Arsenal F.C.",
          "Arsenal F.C.",
          "Arsenal F.C.",
          "Arsenal F.C.",
          "Arsenal F.C., Chelsea F.C.",
          "Arsenal F.C., West Ham United F.C.",
          "Arsenal F.C.",
          "Arsenal F.C.",
          "Arsenal F.C.",
          "Arsenal F.C.",
          "Brentford F.C., Arsenal F.C.",
          "Arsenal F.C.",
          "Arsenal F.C.",
          "Arsenal F.C.",
          "Arsenal F.C., Birmingham City F.C., Sunderland A.F.C.",
          "Arsenal F.C., Everton F.C.",
          "Arsenal F.C., West Ham United F.C.",
          "Arsenal F.C., Sunderland A.F.C.",
          "Arsenal F.C.",
          "Arsenal F.C., Birmingham City F.C.",
          "Arsenal F.C.",
          "Arsenal F.C., Everton F.C., Fulham F.C., Aston Villa F.C.",
          "Arsenal F.C.",
          "Arsenal F.C., Wolverhampton Wanderers F.C.",
          "Manchester City F.C., Arsenal F.C."
         ],
         "ids": [
          "Manchester United F.C., Arsenal F.C.",
          "Arsenal F.C.",
          "Arsenal F.C., Birmingham City F.C.",
          "Arsenal F.C., Crystal Palace F.C., Luton Town F.C.",
          "Brighton & Hove Albion F.C., Arsenal F.C.",
          "Arsenal F.C.",
          "Arsenal F.C.",
          "Arsenal F.C.",
          "Arsenal F.C., West Ham United F.C.",
          "Chelsea F.C., Arsenal F.C.",
          "Arsenal F.C.",
          "Arsenal F.C., Sunderland A.F.C.",
          "Arsenal F.C.",
          "Derby County F.C., Sunderland A.F.C., Arsenal F.C.",
          "Arsenal F.C., West Ham United F.C., Middlesbrough F.C.",
          "Arsenal F.C., Liverpool F.C., Manchester City F.C., Bolton Wanderers F.C., Chelsea F.C., West Bromwich Albion F.C.",
          "Arsenal F.C., Manchester City F.C.",
          "Arsenal F.C.",
          "Arsenal F.C.",
          "Newcastle United F.C., Arsenal F.C.",
          "Arsenal F.C.",
          "Chelsea F.C., Arsenal F.C., Portsmouth F.C.",
          "Arsenal F.C., Crystal Palace F.C.",
          "Chelsea F.C., Arsenal F.C., Tottenham Hotspur F.C.",
          "Arsenal F.C.",
          "Arsenal F.C., Chelsea F.C.",
          "Arsenal F.C.",
          "Arsenal F.C.",
          "Arsenal F.C.",
          "Arsenal F.C.",
          "Arsenal F.C.",
          "Arsenal F.C.",
          "Arsenal F.C., Manchester City F.C., West Ham United F.C.",
          "Arsenal F.C., Chelsea F.C.",
          "Arsenal F.C., Aston Villa F.C.",
          "Arsenal F.C., Manchester City F.C.",
          "Arsenal F.C., Crystal Palace F.C.",
          "Arsenal F.C.",
          "Manchester United F.C., Arsenal F.C.",
          "Arsenal F.C.",
          "Arsenal F.C., Manchester City F.C.",
          "Arsenal F.C.",
          "Arsenal F.C., West Bromwich Albion F.C.",
          "Chelsea F.C., Arsenal F.C.",
          "Arsenal F.C.",
          "Arsenal F.C., Fulham F.C.",
          "Arsenal F.C.",
          "Arsenal F.C.",
          "Arsenal F.C.",
          "Arsenal F.C.",
          "Arsenal F.C.",
          "Arsenal F.C.",
          "Arsenal F.C., West Ham United F.C.",
          "Arsenal F.C.",
          "Arsenal F.C.",
          "Arsenal F.C.",
          "West Ham United F.C., Liverpool F.C., Chelsea F.C., Arsenal F.C.",
          "Chelsea F.C., Arsenal F.C.",
          "Arsenal F.C.",
          "Arsenal F.C., Sunderland A.F.C.",
          "Arsenal F.C.",
          "Arsenal F.C.",
          "Arsenal F.C.",
          "Arsenal F.C.",
          "Arsenal F.C.",
          "Arsenal F.C.",
          "Arsenal F.C., Manchester United F.C.",
          "Arsenal F.C.",
          "Arsenal F.C.",
          "Arsenal F.C.",
          "Arsenal F.C., Swansea City A.F.C., West Ham United F.C.",
          "Arsenal F.C.",
          "Arsenal F.C.",
          "Arsenal F.C.",
          "Arsenal F.C., Southampton F.C., Fulham F.C., West Ham United F.C.",
          "Southampton F.C., Arsenal F.C., Fulham F.C.",
          "Arsenal F.C., Nottingham Forest F.C.",
          "Arsenal F.C.",
          "Arsenal F.C.",
          "Crystal Palace F.C., Arsenal F.C.",
          "Arsenal F.C.",
          "Arsenal F.C., Leeds United F.C.",
          "Arsenal F.C.",
          "Arsenal F.C.",
          "Everton F.C., Arsenal F.C.",
          "Arsenal F.C.",
          "Arsenal F.C.",
          "Arsenal F.C.",
          "Arsenal F.C., Chelsea F.C.",
          "Arsenal F.C., West Ham United F.C.",
          "Arsenal F.C.",
          "Arsenal F.C.",
          "Arsenal F.C.",
          "Arsenal F.C.",
          "Brentford F.C., Arsenal F.C.",
          "Arsenal F.C.",
          "Arsenal F.C.",
          "Arsenal F.C.",
          "Arsenal F.C., Birmingham City F.C., Sunderland A.F.C.",
          "Arsenal F.C., Everton F.C.",
          "Arsenal F.C., West Ham United F.C.",
          "Arsenal F.C., Sunderland A.F.C.",
          "Arsenal F.C.",
          "Arsenal F.C., Birmingham City F.C.",
          "Arsenal F.C.",
          "Arsenal F.C., Everton F.C., Fulham F.C., Aston Villa F.C.",
          "Arsenal F.C.",
          "Arsenal F.C., Wolverhampton Wanderers F.C.",
          "Manchester City F.C., Arsenal F.C."
         ],
         "legendgroup": "Europe",
         "marker": {
          "color": "#00cc96",
          "symbol": "circle"
         },
         "mode": "markers",
         "name": "Europe",
         "orientation": "v",
         "showlegend": true,
         "type": "scatter",
         "x": [
          24,
          25,
          26,
          27,
          28,
          29,
          30,
          31,
          32,
          33,
          34,
          35,
          36,
          37,
          38,
          39,
          40,
          41,
          42,
          43,
          44,
          45,
          46,
          47,
          48,
          49,
          50,
          51,
          52,
          53,
          54,
          55,
          56,
          57,
          58,
          59,
          60,
          61,
          62,
          63,
          64,
          65,
          66,
          67,
          68,
          69,
          70,
          71,
          72,
          73,
          74,
          75,
          76,
          77,
          78,
          79,
          80,
          81,
          82,
          83,
          84,
          85,
          86,
          87,
          88,
          89,
          90,
          91,
          92,
          93,
          94,
          95,
          96,
          97,
          98,
          99,
          100,
          101,
          102,
          103,
          104,
          105,
          106,
          107,
          108,
          109,
          110,
          111,
          112,
          113,
          114,
          115,
          116,
          117,
          118,
          119,
          120,
          121,
          122,
          123,
          124,
          125,
          126,
          127,
          128,
          129,
          130,
          131,
          132
         ],
         "xaxis": "x",
         "y": [
          2016,
          1997,
          2005,
          2021,
          2019,
          2009,
          2017,
          2007,
          1999,
          2004,
          2006,
          2007,
          1992,
          1997,
          2001,
          1996,
          2003,
          2011,
          2002,
          2012,
          2005,
          2005,
          2004,
          2001,
          1996,
          2012,
          1997,
          1998,
          2018,
          1999,
          2010,
          2017,
          2008,
          1997,
          2000,
          2007,
          2013,
          2022,
          1999,
          2010,
          1996,
          2000,
          2012,
          2020,
          2003,
          2018,
          1999,
          1997,
          2011,
          2016,
          2013,
          2012,
          2017,
          2018,
          2002,
          2020,
          2005,
          2018,
          2005,
          2008,
          2000,
          2000,
          1995,
          2001,
          1994,
          1997,
          2004,
          2023,
          1992,
          2020,
          2007,
          2022,
          2010,
          2008,
          1997,
          2015,
          2021,
          2022,
          1999,
          1992,
          1999,
          1992,
          2008,
          2004,
          2004,
          2014,
          2012,
          2019,
          2004,
          2016,
          2019,
          2008,
          2011,
          2012,
          2021,
          2003,
          2018,
          2013,
          2005,
          1992,
          1998,
          1994,
          2002,
          2005,
          2018,
          2004,
          2016,
          1999,
          2017
         ],
         "yaxis": "y"
        },
        {
         "hovertemplate": "<b>%{hovertext}</b><br><br>Region=North, Central America and Caribbean<br>_index=%{x}<br>First Year=%{y}<extra></extra>",
         "hovertext": [
          "Arsenal F.C.",
          "Arsenal F.C., West Bromwich Albion F.C.",
          "Arsenal F.C.",
          "Arsenal F.C., Sunderland A.F.C., Middlesbrough F.C.",
          "Arsenal F.C."
         ],
         "ids": [
          "Arsenal F.C.",
          "Arsenal F.C., West Bromwich Albion F.C.",
          "Arsenal F.C.",
          "Arsenal F.C., Sunderland A.F.C., Middlesbrough F.C.",
          "Arsenal F.C."
         ],
         "legendgroup": "North, Central America and Caribbean",
         "marker": {
          "color": "#ab63fa",
          "symbol": "circle"
         },
         "mode": "markers",
         "name": "North, Central America and Caribbean",
         "orientation": "v",
         "showlegend": true,
         "type": "scatter",
         "x": [
          133,
          134,
          135,
          136,
          137
         ],
         "xaxis": "x",
         "y": [
          2014,
          2008,
          2008,
          2002,
          2021
         ],
         "yaxis": "y"
        },
        {
         "hovertemplate": "<b>%{hovertext}</b><br><br>Region=South America<br>_index=%{x}<br>First Year=%{y}<extra></extra>",
         "hovertext": [
          "Arsenal F.C.",
          "Arsenal F.C., Aston Villa F.C.",
          "Arsenal F.C.",
          "Arsenal F.C.",
          "Chelsea F.C., Arsenal F.C.",
          "Arsenal F.C.",
          "Arsenal F.C.",
          "Manchester City F.C., Arsenal F.C.",
          "Arsenal F.C.",
          "Arsenal F.C.",
          "Arsenal F.C.",
          "Arsenal F.C.",
          "Arsenal F.C.",
          "Arsenal F.C.",
          "Arsenal F.C., Manchester City F.C.",
          "Chelsea F.C., Arsenal F.C., Fulham F.C.",
          "Arsenal F.C., Manchester United F.C.",
          "Arsenal F.C.",
          "Arsenal F.C."
         ],
         "ids": [
          "Arsenal F.C.",
          "Arsenal F.C., Aston Villa F.C.",
          "Arsenal F.C.",
          "Arsenal F.C.",
          "Chelsea F.C., Arsenal F.C.",
          "Arsenal F.C.",
          "Arsenal F.C.",
          "Manchester City F.C., Arsenal F.C.",
          "Arsenal F.C.",
          "Arsenal F.C.",
          "Arsenal F.C.",
          "Arsenal F.C.",
          "Arsenal F.C.",
          "Arsenal F.C.",
          "Arsenal F.C., Manchester City F.C.",
          "Chelsea F.C., Arsenal F.C., Fulham F.C.",
          "Arsenal F.C., Manchester United F.C.",
          "Arsenal F.C.",
          "Arsenal F.C."
         ],
         "legendgroup": "South America",
         "marker": {
          "color": "#FFA15A",
          "symbol": "circle"
         },
         "mode": "markers",
         "name": "South America",
         "orientation": "v",
         "showlegend": true,
         "type": "scatter",
         "x": [
          138,
          139,
          140,
          141,
          142,
          143,
          144,
          145,
          146,
          147,
          148,
          149,
          150,
          151,
          152,
          153,
          154,
          155,
          156
         ],
         "xaxis": "x",
         "y": [
          1998,
          2014,
          1998,
          2006,
          2011,
          2006,
          2000,
          2016,
          2020,
          2019,
          2014,
          2002,
          2022,
          2011,
          1999,
          2013,
          2014,
          2014,
          2018
         ],
         "yaxis": "y"
        }
       ],
       "layout": {
        "height": 500,
        "legend": {
         "title": {
          "text": "Region"
         },
         "tracegroupgap": 0
        },
        "template": {
         "data": {
          "bar": [
           {
            "error_x": {
             "color": "#2a3f5f"
            },
            "error_y": {
             "color": "#2a3f5f"
            },
            "marker": {
             "line": {
              "color": "#E5ECF6",
              "width": 0.5
             },
             "pattern": {
              "fillmode": "overlay",
              "size": 10,
              "solidity": 0.2
             }
            },
            "type": "bar"
           }
          ],
          "barpolar": [
           {
            "marker": {
             "line": {
              "color": "#E5ECF6",
              "width": 0.5
             },
             "pattern": {
              "fillmode": "overlay",
              "size": 10,
              "solidity": 0.2
             }
            },
            "type": "barpolar"
           }
          ],
          "carpet": [
           {
            "aaxis": {
             "endlinecolor": "#2a3f5f",
             "gridcolor": "white",
             "linecolor": "white",
             "minorgridcolor": "white",
             "startlinecolor": "#2a3f5f"
            },
            "baxis": {
             "endlinecolor": "#2a3f5f",
             "gridcolor": "white",
             "linecolor": "white",
             "minorgridcolor": "white",
             "startlinecolor": "#2a3f5f"
            },
            "type": "carpet"
           }
          ],
          "choropleth": [
           {
            "colorbar": {
             "outlinewidth": 0,
             "ticks": ""
            },
            "type": "choropleth"
           }
          ],
          "contour": [
           {
            "colorbar": {
             "outlinewidth": 0,
             "ticks": ""
            },
            "colorscale": [
             [
              0,
              "#0d0887"
             ],
             [
              0.1111111111111111,
              "#46039f"
             ],
             [
              0.2222222222222222,
              "#7201a8"
             ],
             [
              0.3333333333333333,
              "#9c179e"
             ],
             [
              0.4444444444444444,
              "#bd3786"
             ],
             [
              0.5555555555555556,
              "#d8576b"
             ],
             [
              0.6666666666666666,
              "#ed7953"
             ],
             [
              0.7777777777777778,
              "#fb9f3a"
             ],
             [
              0.8888888888888888,
              "#fdca26"
             ],
             [
              1,
              "#f0f921"
             ]
            ],
            "type": "contour"
           }
          ],
          "contourcarpet": [
           {
            "colorbar": {
             "outlinewidth": 0,
             "ticks": ""
            },
            "type": "contourcarpet"
           }
          ],
          "heatmap": [
           {
            "colorbar": {
             "outlinewidth": 0,
             "ticks": ""
            },
            "colorscale": [
             [
              0,
              "#0d0887"
             ],
             [
              0.1111111111111111,
              "#46039f"
             ],
             [
              0.2222222222222222,
              "#7201a8"
             ],
             [
              0.3333333333333333,
              "#9c179e"
             ],
             [
              0.4444444444444444,
              "#bd3786"
             ],
             [
              0.5555555555555556,
              "#d8576b"
             ],
             [
              0.6666666666666666,
              "#ed7953"
             ],
             [
              0.7777777777777778,
              "#fb9f3a"
             ],
             [
              0.8888888888888888,
              "#fdca26"
             ],
             [
              1,
              "#f0f921"
             ]
            ],
            "type": "heatmap"
           }
          ],
          "heatmapgl": [
           {
            "colorbar": {
             "outlinewidth": 0,
             "ticks": ""
            },
            "colorscale": [
             [
              0,
              "#0d0887"
             ],
             [
              0.1111111111111111,
              "#46039f"
             ],
             [
              0.2222222222222222,
              "#7201a8"
             ],
             [
              0.3333333333333333,
              "#9c179e"
             ],
             [
              0.4444444444444444,
              "#bd3786"
             ],
             [
              0.5555555555555556,
              "#d8576b"
             ],
             [
              0.6666666666666666,
              "#ed7953"
             ],
             [
              0.7777777777777778,
              "#fb9f3a"
             ],
             [
              0.8888888888888888,
              "#fdca26"
             ],
             [
              1,
              "#f0f921"
             ]
            ],
            "type": "heatmapgl"
           }
          ],
          "histogram": [
           {
            "marker": {
             "pattern": {
              "fillmode": "overlay",
              "size": 10,
              "solidity": 0.2
             }
            },
            "type": "histogram"
           }
          ],
          "histogram2d": [
           {
            "colorbar": {
             "outlinewidth": 0,
             "ticks": ""
            },
            "colorscale": [
             [
              0,
              "#0d0887"
             ],
             [
              0.1111111111111111,
              "#46039f"
             ],
             [
              0.2222222222222222,
              "#7201a8"
             ],
             [
              0.3333333333333333,
              "#9c179e"
             ],
             [
              0.4444444444444444,
              "#bd3786"
             ],
             [
              0.5555555555555556,
              "#d8576b"
             ],
             [
              0.6666666666666666,
              "#ed7953"
             ],
             [
              0.7777777777777778,
              "#fb9f3a"
             ],
             [
              0.8888888888888888,
              "#fdca26"
             ],
             [
              1,
              "#f0f921"
             ]
            ],
            "type": "histogram2d"
           }
          ],
          "histogram2dcontour": [
           {
            "colorbar": {
             "outlinewidth": 0,
             "ticks": ""
            },
            "colorscale": [
             [
              0,
              "#0d0887"
             ],
             [
              0.1111111111111111,
              "#46039f"
             ],
             [
              0.2222222222222222,
              "#7201a8"
             ],
             [
              0.3333333333333333,
              "#9c179e"
             ],
             [
              0.4444444444444444,
              "#bd3786"
             ],
             [
              0.5555555555555556,
              "#d8576b"
             ],
             [
              0.6666666666666666,
              "#ed7953"
             ],
             [
              0.7777777777777778,
              "#fb9f3a"
             ],
             [
              0.8888888888888888,
              "#fdca26"
             ],
             [
              1,
              "#f0f921"
             ]
            ],
            "type": "histogram2dcontour"
           }
          ],
          "mesh3d": [
           {
            "colorbar": {
             "outlinewidth": 0,
             "ticks": ""
            },
            "type": "mesh3d"
           }
          ],
          "parcoords": [
           {
            "line": {
             "colorbar": {
              "outlinewidth": 0,
              "ticks": ""
             }
            },
            "type": "parcoords"
           }
          ],
          "pie": [
           {
            "automargin": true,
            "type": "pie"
           }
          ],
          "scatter": [
           {
            "fillpattern": {
             "fillmode": "overlay",
             "size": 10,
             "solidity": 0.2
            },
            "type": "scatter"
           }
          ],
          "scatter3d": [
           {
            "line": {
             "colorbar": {
              "outlinewidth": 0,
              "ticks": ""
             }
            },
            "marker": {
             "colorbar": {
              "outlinewidth": 0,
              "ticks": ""
             }
            },
            "type": "scatter3d"
           }
          ],
          "scattercarpet": [
           {
            "marker": {
             "colorbar": {
              "outlinewidth": 0,
              "ticks": ""
             }
            },
            "type": "scattercarpet"
           }
          ],
          "scattergeo": [
           {
            "marker": {
             "colorbar": {
              "outlinewidth": 0,
              "ticks": ""
             }
            },
            "type": "scattergeo"
           }
          ],
          "scattergl": [
           {
            "marker": {
             "colorbar": {
              "outlinewidth": 0,
              "ticks": ""
             }
            },
            "type": "scattergl"
           }
          ],
          "scattermapbox": [
           {
            "marker": {
             "colorbar": {
              "outlinewidth": 0,
              "ticks": ""
             }
            },
            "type": "scattermapbox"
           }
          ],
          "scatterpolar": [
           {
            "marker": {
             "colorbar": {
              "outlinewidth": 0,
              "ticks": ""
             }
            },
            "type": "scatterpolar"
           }
          ],
          "scatterpolargl": [
           {
            "marker": {
             "colorbar": {
              "outlinewidth": 0,
              "ticks": ""
             }
            },
            "type": "scatterpolargl"
           }
          ],
          "scatterternary": [
           {
            "marker": {
             "colorbar": {
              "outlinewidth": 0,
              "ticks": ""
             }
            },
            "type": "scatterternary"
           }
          ],
          "surface": [
           {
            "colorbar": {
             "outlinewidth": 0,
             "ticks": ""
            },
            "colorscale": [
             [
              0,
              "#0d0887"
             ],
             [
              0.1111111111111111,
              "#46039f"
             ],
             [
              0.2222222222222222,
              "#7201a8"
             ],
             [
              0.3333333333333333,
              "#9c179e"
             ],
             [
              0.4444444444444444,
              "#bd3786"
             ],
             [
              0.5555555555555556,
              "#d8576b"
             ],
             [
              0.6666666666666666,
              "#ed7953"
             ],
             [
              0.7777777777777778,
              "#fb9f3a"
             ],
             [
              0.8888888888888888,
              "#fdca26"
             ],
             [
              1,
              "#f0f921"
             ]
            ],
            "type": "surface"
           }
          ],
          "table": [
           {
            "cells": {
             "fill": {
              "color": "#EBF0F8"
             },
             "line": {
              "color": "white"
             }
            },
            "header": {
             "fill": {
              "color": "#C8D4E3"
             },
             "line": {
              "color": "white"
             }
            },
            "type": "table"
           }
          ]
         },
         "layout": {
          "annotationdefaults": {
           "arrowcolor": "#2a3f5f",
           "arrowhead": 0,
           "arrowwidth": 1
          },
          "autotypenumbers": "strict",
          "coloraxis": {
           "colorbar": {
            "outlinewidth": 0,
            "ticks": ""
           }
          },
          "colorscale": {
           "diverging": [
            [
             0,
             "#8e0152"
            ],
            [
             0.1,
             "#c51b7d"
            ],
            [
             0.2,
             "#de77ae"
            ],
            [
             0.3,
             "#f1b6da"
            ],
            [
             0.4,
             "#fde0ef"
            ],
            [
             0.5,
             "#f7f7f7"
            ],
            [
             0.6,
             "#e6f5d0"
            ],
            [
             0.7,
             "#b8e186"
            ],
            [
             0.8,
             "#7fbc41"
            ],
            [
             0.9,
             "#4d9221"
            ],
            [
             1,
             "#276419"
            ]
           ],
           "sequential": [
            [
             0,
             "#0d0887"
            ],
            [
             0.1111111111111111,
             "#46039f"
            ],
            [
             0.2222222222222222,
             "#7201a8"
            ],
            [
             0.3333333333333333,
             "#9c179e"
            ],
            [
             0.4444444444444444,
             "#bd3786"
            ],
            [
             0.5555555555555556,
             "#d8576b"
            ],
            [
             0.6666666666666666,
             "#ed7953"
            ],
            [
             0.7777777777777778,
             "#fb9f3a"
            ],
            [
             0.8888888888888888,
             "#fdca26"
            ],
            [
             1,
             "#f0f921"
            ]
           ],
           "sequentialminus": [
            [
             0,
             "#0d0887"
            ],
            [
             0.1111111111111111,
             "#46039f"
            ],
            [
             0.2222222222222222,
             "#7201a8"
            ],
            [
             0.3333333333333333,
             "#9c179e"
            ],
            [
             0.4444444444444444,
             "#bd3786"
            ],
            [
             0.5555555555555556,
             "#d8576b"
            ],
            [
             0.6666666666666666,
             "#ed7953"
            ],
            [
             0.7777777777777778,
             "#fb9f3a"
            ],
            [
             0.8888888888888888,
             "#fdca26"
            ],
            [
             1,
             "#f0f921"
            ]
           ]
          },
          "colorway": [
           "#636efa",
           "#EF553B",
           "#00cc96",
           "#ab63fa",
           "#FFA15A",
           "#19d3f3",
           "#FF6692",
           "#B6E880",
           "#FF97FF",
           "#FECB52"
          ],
          "font": {
           "color": "#2a3f5f"
          },
          "geo": {
           "bgcolor": "white",
           "lakecolor": "white",
           "landcolor": "#E5ECF6",
           "showlakes": true,
           "showland": true,
           "subunitcolor": "white"
          },
          "hoverlabel": {
           "align": "left"
          },
          "hovermode": "closest",
          "mapbox": {
           "style": "light"
          },
          "paper_bgcolor": "white",
          "plot_bgcolor": "#E5ECF6",
          "polar": {
           "angularaxis": {
            "gridcolor": "white",
            "linecolor": "white",
            "ticks": ""
           },
           "bgcolor": "#E5ECF6",
           "radialaxis": {
            "gridcolor": "white",
            "linecolor": "white",
            "ticks": ""
           }
          },
          "scene": {
           "xaxis": {
            "backgroundcolor": "#E5ECF6",
            "gridcolor": "white",
            "gridwidth": 2,
            "linecolor": "white",
            "showbackground": true,
            "ticks": "",
            "zerolinecolor": "white"
           },
           "yaxis": {
            "backgroundcolor": "#E5ECF6",
            "gridcolor": "white",
            "gridwidth": 2,
            "linecolor": "white",
            "showbackground": true,
            "ticks": "",
            "zerolinecolor": "white"
           },
           "zaxis": {
            "backgroundcolor": "#E5ECF6",
            "gridcolor": "white",
            "gridwidth": 2,
            "linecolor": "white",
            "showbackground": true,
            "ticks": "",
            "zerolinecolor": "white"
           }
          },
          "shapedefaults": {
           "line": {
            "color": "#2a3f5f"
           }
          },
          "ternary": {
           "aaxis": {
            "gridcolor": "white",
            "linecolor": "white",
            "ticks": ""
           },
           "baxis": {
            "gridcolor": "white",
            "linecolor": "white",
            "ticks": ""
           },
           "bgcolor": "#E5ECF6",
           "caxis": {
            "gridcolor": "white",
            "linecolor": "white",
            "ticks": ""
           }
          },
          "title": {
           "x": 0.05
          },
          "xaxis": {
           "automargin": true,
           "gridcolor": "white",
           "linecolor": "white",
           "ticks": "",
           "title": {
            "standoff": 15
           },
           "zerolinecolor": "white",
           "zerolinewidth": 2
          },
          "yaxis": {
           "automargin": true,
           "gridcolor": "white",
           "linecolor": "white",
           "ticks": "",
           "title": {
            "standoff": 15
           },
           "zerolinecolor": "white",
           "zerolinewidth": 2
          }
         }
        },
        "title": {
         "text": "Arsenal Trend (157 Players)"
        },
        "xaxis": {
         "anchor": "y",
         "domain": [
          0,
          1
         ],
         "title": {
          "text": " Player Index"
         }
        },
        "yaxis": {
         "anchor": "x",
         "domain": [
          0,
          1
         ],
         "title": {
          "text": "Joining Year"
         }
        }
       }
      }
     },
     "metadata": {},
     "output_type": "display_data"
    }
   ],
   "source": [
    "fig = px.scatter(df, x=df.index, y=\"First Year\", animation_group = 'Clubs',\n",
    "                 color='Region', hover_name='Clubs', title=\"Overall Trend (2709 Players)\")\n",
    "\n",
    "fig.update_layout(\n",
    "    xaxis_title=\" Player Index\",\n",
    "    yaxis_title=\"Joining Year\",\n",
    "    height=500\n",
    ")\n",
    "\n",
    "fig.show()\n",
    "\n",
    "fig = px.scatter(df_Arsenal, x=df_Arsenal.index, y=\"First Year\", animation_group = 'Clubs',\n",
    "                 color='Region', hover_name='Clubs', title=\"Arsenal Trend (157 Players)\")\n",
    "\n",
    "fig.update_layout(\n",
    "    xaxis_title=\" Player Index\",\n",
    "    yaxis_title=\"Joining Year\",\n",
    "    height=500\n",
    ")\n",
    "\n",
    "fig.show()"
   ]
  },
  {
   "cell_type": "code",
   "execution_count": 101,
   "metadata": {},
   "outputs": [
    {
     "data": {
      "text/plain": [
       "Index(['Region', 'Association', 'Country', 'Player', 'Clubs', 'Periods',\n",
       "       'Number of Clubs', 'First Year', 'Final Year', 'Total Years', 'Active'],\n",
       "      dtype='object')"
      ]
     },
     "execution_count": 101,
     "metadata": {},
     "output_type": "execute_result"
    }
   ],
   "source": [
    "df.columns"
   ]
  },
  {
   "cell_type": "code",
   "execution_count": 102,
   "metadata": {},
   "outputs": [
    {
     "name": "stderr",
     "output_type": "stream",
     "text": [
      "C:\\Users\\USER\\AppData\\Local\\Temp\\ipykernel_7072\\1951201081.py:4: SettingWithCopyWarning:\n",
      "\n",
      "\n",
      "A value is trying to be set on a copy of a slice from a DataFrame.\n",
      "Try using .loc[row_indexer,col_indexer] = value instead\n",
      "\n",
      "See the caveats in the documentation: https://pandas.pydata.org/pandas-docs/stable/user_guide/indexing.html#returning-a-view-versus-a-copy\n",
      "\n"
     ]
    },
    {
     "data": {
      "text/html": [
       "<div>\n",
       "<style scoped>\n",
       "    .dataframe tbody tr th:only-of-type {\n",
       "        vertical-align: middle;\n",
       "    }\n",
       "\n",
       "    .dataframe tbody tr th {\n",
       "        vertical-align: top;\n",
       "    }\n",
       "\n",
       "    .dataframe thead th {\n",
       "        text-align: right;\n",
       "    }\n",
       "</style>\n",
       "<table border=\"1\" class=\"dataframe\">\n",
       "  <thead>\n",
       "    <tr style=\"text-align: right;\">\n",
       "      <th></th>\n",
       "      <th>Region</th>\n",
       "      <th>Association</th>\n",
       "      <th>Country</th>\n",
       "      <th>Player</th>\n",
       "      <th>Clubs</th>\n",
       "    </tr>\n",
       "  </thead>\n",
       "  <tbody>\n",
       "    <tr>\n",
       "      <th>0</th>\n",
       "      <td>Africa</td>\n",
       "      <td>CAF</td>\n",
       "      <td>Algeria</td>\n",
       "      <td>Mehdi Abeid</td>\n",
       "      <td>Newcastle United F.C.</td>\n",
       "    </tr>\n",
       "    <tr>\n",
       "      <th>1</th>\n",
       "      <td>Africa</td>\n",
       "      <td>CAF</td>\n",
       "      <td>Algeria</td>\n",
       "      <td>Rayan Aït-Nouri</td>\n",
       "      <td>Wolverhampton Wanderers F.C.</td>\n",
       "    </tr>\n",
       "    <tr>\n",
       "      <th>2</th>\n",
       "      <td>Africa</td>\n",
       "      <td>CAF</td>\n",
       "      <td>Algeria</td>\n",
       "      <td>Nadir Belhadj</td>\n",
       "      <td>Portsmouth F.C.</td>\n",
       "    </tr>\n",
       "    <tr>\n",
       "      <th>3</th>\n",
       "      <td>Africa</td>\n",
       "      <td>CAF</td>\n",
       "      <td>Algeria</td>\n",
       "      <td>Djamel Belmadi</td>\n",
       "      <td>Manchester City F.C.</td>\n",
       "    </tr>\n",
       "    <tr>\n",
       "      <th>4</th>\n",
       "      <td>Africa</td>\n",
       "      <td>CAF</td>\n",
       "      <td>Algeria</td>\n",
       "      <td>Ali Benarbia</td>\n",
       "      <td>Manchester City F.C.</td>\n",
       "    </tr>\n",
       "    <tr>\n",
       "      <th>...</th>\n",
       "      <td>...</td>\n",
       "      <td>...</td>\n",
       "      <td>...</td>\n",
       "      <td>...</td>\n",
       "      <td>...</td>\n",
       "    </tr>\n",
       "    <tr>\n",
       "      <th>2706</th>\n",
       "      <td>South America</td>\n",
       "      <td>CONMEBOL</td>\n",
       "      <td>Uruguay</td>\n",
       "      <td>Matías Viña</td>\n",
       "      <td>AFC Bournemouth</td>\n",
       "    </tr>\n",
       "    <tr>\n",
       "      <th>2707</th>\n",
       "      <td>South America</td>\n",
       "      <td>CONMEBOL</td>\n",
       "      <td>Venezuela</td>\n",
       "      <td>Fernando Amorebieta</td>\n",
       "      <td>Fulham F.C.</td>\n",
       "    </tr>\n",
       "    <tr>\n",
       "      <th>2708</th>\n",
       "      <td>South America</td>\n",
       "      <td>CONMEBOL</td>\n",
       "      <td>Venezuela</td>\n",
       "      <td>Salomón Rondón</td>\n",
       "      <td>West Bromwich Albion F.C.</td>\n",
       "    </tr>\n",
       "    <tr>\n",
       "      <th>2708</th>\n",
       "      <td>South America</td>\n",
       "      <td>CONMEBOL</td>\n",
       "      <td>Venezuela</td>\n",
       "      <td>Salomón Rondón</td>\n",
       "      <td>Newcastle United F.C.</td>\n",
       "    </tr>\n",
       "    <tr>\n",
       "      <th>2708</th>\n",
       "      <td>South America</td>\n",
       "      <td>CONMEBOL</td>\n",
       "      <td>Venezuela</td>\n",
       "      <td>Salomón Rondón</td>\n",
       "      <td>Everton F.C.</td>\n",
       "    </tr>\n",
       "  </tbody>\n",
       "</table>\n",
       "<p>3767 rows × 5 columns</p>\n",
       "</div>"
      ],
      "text/plain": [
       "             Region Association    Country               Player  \\\n",
       "0            Africa         CAF    Algeria          Mehdi Abeid   \n",
       "1            Africa         CAF    Algeria      Rayan Aït-Nouri   \n",
       "2            Africa         CAF    Algeria        Nadir Belhadj   \n",
       "3            Africa         CAF    Algeria       Djamel Belmadi   \n",
       "4            Africa         CAF    Algeria         Ali Benarbia   \n",
       "...             ...         ...        ...                  ...   \n",
       "2706  South America    CONMEBOL    Uruguay          Matías Viña   \n",
       "2707  South America    CONMEBOL  Venezuela  Fernando Amorebieta   \n",
       "2708  South America    CONMEBOL  Venezuela       Salomón Rondón   \n",
       "2708  South America    CONMEBOL  Venezuela       Salomón Rondón   \n",
       "2708  South America    CONMEBOL  Venezuela       Salomón Rondón   \n",
       "\n",
       "                             Clubs  \n",
       "0            Newcastle United F.C.  \n",
       "1     Wolverhampton Wanderers F.C.  \n",
       "2                  Portsmouth F.C.  \n",
       "3             Manchester City F.C.  \n",
       "4             Manchester City F.C.  \n",
       "...                            ...  \n",
       "2706               AFC Bournemouth  \n",
       "2707                   Fulham F.C.  \n",
       "2708     West Bromwich Albion F.C.  \n",
       "2708         Newcastle United F.C.  \n",
       "2708                  Everton F.C.  \n",
       "\n",
       "[3767 rows x 5 columns]"
      ]
     },
     "execution_count": 102,
     "metadata": {},
     "output_type": "execute_result"
    }
   ],
   "source": [
    "df_clubs = df[['Region', 'Association', 'Country', 'Player', 'Clubs']]\n",
    "\n",
    "# split the values in the Clubs column by the delimeter ','\n",
    "df_clubs['Clubs'] = df_clubs['Clubs'].str.split(',')\n",
    "\n",
    "# Explode the Clubs column to create separate rows for each value\n",
    "df_clubs = df_clubs.explode('Clubs')\n",
    "df_clubs['Clubs'] = df_clubs['Clubs'].str.strip(' ')\n",
    "\n",
    "df_clubs"
   ]
  },
  {
   "cell_type": "code",
   "execution_count": 103,
   "metadata": {},
   "outputs": [
    {
     "data": {
      "text/html": [
       "<div>\n",
       "<style scoped>\n",
       "    .dataframe tbody tr th:only-of-type {\n",
       "        vertical-align: middle;\n",
       "    }\n",
       "\n",
       "    .dataframe tbody tr th {\n",
       "        vertical-align: top;\n",
       "    }\n",
       "\n",
       "    .dataframe thead th {\n",
       "        text-align: right;\n",
       "    }\n",
       "</style>\n",
       "<table border=\"1\" class=\"dataframe\">\n",
       "  <thead>\n",
       "    <tr style=\"text-align: right;\">\n",
       "      <th></th>\n",
       "      <th>index</th>\n",
       "      <th>Region</th>\n",
       "      <th>Association</th>\n",
       "      <th>Country</th>\n",
       "      <th>Player</th>\n",
       "      <th>Clubs</th>\n",
       "    </tr>\n",
       "  </thead>\n",
       "  <tbody>\n",
       "    <tr>\n",
       "      <th>0</th>\n",
       "      <td>44</td>\n",
       "      <td>Africa</td>\n",
       "      <td>CAF</td>\n",
       "      <td>Cameroon</td>\n",
       "      <td>Lauren</td>\n",
       "      <td>Arsenal F.C.</td>\n",
       "    </tr>\n",
       "    <tr>\n",
       "      <th>1</th>\n",
       "      <td>58</td>\n",
       "      <td>Africa</td>\n",
       "      <td>CAF</td>\n",
       "      <td>Cameroon</td>\n",
       "      <td>Alex Song</td>\n",
       "      <td>Arsenal F.C.</td>\n",
       "    </tr>\n",
       "    <tr>\n",
       "      <th>2</th>\n",
       "      <td>95</td>\n",
       "      <td>Africa</td>\n",
       "      <td>CAF</td>\n",
       "      <td>Egypt</td>\n",
       "      <td>Mohamed Elneny</td>\n",
       "      <td>Arsenal F.C.</td>\n",
       "    </tr>\n",
       "    <tr>\n",
       "      <th>3</th>\n",
       "      <td>108</td>\n",
       "      <td>Africa</td>\n",
       "      <td>CAF</td>\n",
       "      <td>Gabon</td>\n",
       "      <td>Pierre-Emerick Aubameyang</td>\n",
       "      <td>Arsenal F.C.</td>\n",
       "    </tr>\n",
       "    <tr>\n",
       "      <th>4</th>\n",
       "      <td>127</td>\n",
       "      <td>Africa</td>\n",
       "      <td>CAF</td>\n",
       "      <td>Ghana</td>\n",
       "      <td>Emmanuel Frimpong</td>\n",
       "      <td>Arsenal F.C.</td>\n",
       "    </tr>\n",
       "    <tr>\n",
       "      <th>...</th>\n",
       "      <td>...</td>\n",
       "      <td>...</td>\n",
       "      <td>...</td>\n",
       "      <td>...</td>\n",
       "      <td>...</td>\n",
       "      <td>...</td>\n",
       "    </tr>\n",
       "    <tr>\n",
       "      <th>152</th>\n",
       "      <td>2602</td>\n",
       "      <td>South America</td>\n",
       "      <td>CONMEBOL</td>\n",
       "      <td>Brazil</td>\n",
       "      <td>Sylvinho</td>\n",
       "      <td>Arsenal F.C.</td>\n",
       "    </tr>\n",
       "    <tr>\n",
       "      <th>153</th>\n",
       "      <td>2609</td>\n",
       "      <td>South America</td>\n",
       "      <td>CONMEBOL</td>\n",
       "      <td>Brazil</td>\n",
       "      <td>Willian</td>\n",
       "      <td>Arsenal F.C.</td>\n",
       "    </tr>\n",
       "    <tr>\n",
       "      <th>154</th>\n",
       "      <td>2623</td>\n",
       "      <td>South America</td>\n",
       "      <td>CONMEBOL</td>\n",
       "      <td>Chile</td>\n",
       "      <td>Alexis Sánchez</td>\n",
       "      <td>Arsenal F.C.</td>\n",
       "    </tr>\n",
       "    <tr>\n",
       "      <th>155</th>\n",
       "      <td>2642</td>\n",
       "      <td>South America</td>\n",
       "      <td>CONMEBOL</td>\n",
       "      <td>Colombia</td>\n",
       "      <td>David Ospina</td>\n",
       "      <td>Arsenal F.C.</td>\n",
       "    </tr>\n",
       "    <tr>\n",
       "      <th>156</th>\n",
       "      <td>2704</td>\n",
       "      <td>South America</td>\n",
       "      <td>CONMEBOL</td>\n",
       "      <td>Uruguay</td>\n",
       "      <td>Lucas Torreira</td>\n",
       "      <td>Arsenal F.C.</td>\n",
       "    </tr>\n",
       "  </tbody>\n",
       "</table>\n",
       "<p>157 rows × 6 columns</p>\n",
       "</div>"
      ],
      "text/plain": [
       "     index         Region Association   Country                     Player  \\\n",
       "0       44         Africa         CAF  Cameroon                     Lauren   \n",
       "1       58         Africa         CAF  Cameroon                  Alex Song   \n",
       "2       95         Africa         CAF     Egypt             Mohamed Elneny   \n",
       "3      108         Africa         CAF     Gabon  Pierre-Emerick Aubameyang   \n",
       "4      127         Africa         CAF     Ghana          Emmanuel Frimpong   \n",
       "..     ...            ...         ...       ...                        ...   \n",
       "152   2602  South America    CONMEBOL    Brazil                   Sylvinho   \n",
       "153   2609  South America    CONMEBOL    Brazil                    Willian   \n",
       "154   2623  South America    CONMEBOL     Chile             Alexis Sánchez   \n",
       "155   2642  South America    CONMEBOL  Colombia               David Ospina   \n",
       "156   2704  South America    CONMEBOL   Uruguay             Lucas Torreira   \n",
       "\n",
       "            Clubs  \n",
       "0    Arsenal F.C.  \n",
       "1    Arsenal F.C.  \n",
       "2    Arsenal F.C.  \n",
       "3    Arsenal F.C.  \n",
       "4    Arsenal F.C.  \n",
       "..            ...  \n",
       "152  Arsenal F.C.  \n",
       "153  Arsenal F.C.  \n",
       "154  Arsenal F.C.  \n",
       "155  Arsenal F.C.  \n",
       "156  Arsenal F.C.  \n",
       "\n",
       "[157 rows x 6 columns]"
      ]
     },
     "execution_count": 103,
     "metadata": {},
     "output_type": "execute_result"
    }
   ],
   "source": [
    "df_clubs_Arsenal = df_clubs[df_clubs['Clubs']==\"Arsenal F.C.\"].reset_index()\n",
    "\n",
    "df_clubs_Arsenal"
   ]
  },
  {
   "cell_type": "code",
   "execution_count": 104,
   "metadata": {},
   "outputs": [
    {
     "name": "stdout",
     "output_type": "stream",
     "text": [
      "Number of clubs in the Premier League since 1992:  54\n"
     ]
    }
   ],
   "source": [
    "print(\"Number of clubs in the Premier League since 1992: \",\n",
    "      len(set(df_clubs[\"Clubs\"])))"
   ]
  },
  {
   "cell_type": "code",
   "execution_count": 105,
   "metadata": {},
   "outputs": [],
   "source": [
    "# group the dataframe by clubs, and then region \n",
    "df_club_counts = df_clubs.groupby('Clubs')['Region'].value_counts().unstack(fill_value=0)\n",
    "df_club_counts = df_club_counts.astype(\"Int64\")\n",
    "df_club_counts[\"Total\"] = df_club_counts.sum(axis=1)\n",
    "\n",
    "# sort the clubs in alphabetical order\n",
    "df_clubs_sorted = df_club_counts.sort_values(by=\"Total\", ascending=False)\n",
    "\n",
    "# divide the clubs into two groups for better visualization\n",
    "df_clubs_group1 = df_clubs_sorted.iloc[0:28]\n",
    "df_clubs_group2 = df_clubs_sorted.iloc[28:]"
   ]
  },
  {
   "cell_type": "code",
   "execution_count": 106,
   "metadata": {},
   "outputs": [
    {
     "data": {
      "application/vnd.plotly.v1+json": {
       "config": {
        "plotlyServerURL": "https://plot.ly"
       },
       "data": [
        {
         "alignmentgroup": "True",
         "hovertemplate": "Region=Africa<br>Clubs=%{x}<br>value=%{y}<extra></extra>",
         "legendgroup": "Africa",
         "marker": {
          "color": "#636efa",
          "pattern": {
           "shape": ""
          }
         },
         "name": "Africa",
         "offsetgroup": "Africa",
         "orientation": "v",
         "showlegend": true,
         "textposition": "auto",
         "type": "bar",
         "x": [
          "Chelsea F.C.",
          "West Ham United F.C.",
          "Fulham F.C.",
          "Manchester City F.C.",
          "Arsenal F.C.",
          "Liverpool F.C.",
          "Tottenham Hotspur F.C.",
          "Newcastle United F.C.",
          "Aston Villa F.C.",
          "Everton F.C.",
          "Sunderland A.F.C.",
          "Manchester United F.C.",
          "Southampton F.C.",
          "Bolton Wanderers F.C.",
          "Blackburn Rovers F.C.",
          "Watford F.C.",
          "West Bromwich Albion F.C.",
          "Crystal Palace F.C.",
          "Wolverhampton Wanderers F.C.",
          "Portsmouth F.C.",
          "Middlesbrough F.C.",
          "Leicester City F.C.",
          "Norwich City F.C.",
          "Wigan Athletic F.C.",
          "Leeds United F.C.",
          "Stoke City F.C.",
          "Brighton & Hove Albion F.C.",
          "Derby County F.C."
         ],
         "xaxis": "x",
         "y": [
          24,
          33,
          33,
          16,
          19,
          16,
          22,
          26,
          19,
          21,
          22,
          12,
          19,
          12,
          9,
          23,
          20,
          17,
          15,
          26,
          9,
          16,
          8,
          10,
          6,
          17,
          8,
          3
         ],
         "yaxis": "y"
        },
        {
         "alignmentgroup": "True",
         "hovertemplate": "Region=Asia<br>Clubs=%{x}<br>value=%{y}<extra></extra>",
         "legendgroup": "Asia",
         "marker": {
          "color": "#EF553B",
          "pattern": {
           "shape": ""
          }
         },
         "name": "Asia",
         "offsetgroup": "Asia",
         "orientation": "v",
         "showlegend": true,
         "textposition": "auto",
         "type": "bar",
         "x": [
          "Chelsea F.C.",
          "West Ham United F.C.",
          "Fulham F.C.",
          "Manchester City F.C.",
          "Arsenal F.C.",
          "Liverpool F.C.",
          "Tottenham Hotspur F.C.",
          "Newcastle United F.C.",
          "Aston Villa F.C.",
          "Everton F.C.",
          "Sunderland A.F.C.",
          "Manchester United F.C.",
          "Southampton F.C.",
          "Bolton Wanderers F.C.",
          "Blackburn Rovers F.C.",
          "Watford F.C.",
          "West Bromwich Albion F.C.",
          "Crystal Palace F.C.",
          "Wolverhampton Wanderers F.C.",
          "Portsmouth F.C.",
          "Middlesbrough F.C.",
          "Leicester City F.C.",
          "Norwich City F.C.",
          "Wigan Athletic F.C.",
          "Leeds United F.C.",
          "Stoke City F.C.",
          "Brighton & Hove Albion F.C.",
          "Derby County F.C."
         ],
         "xaxis": "x",
         "y": [
          2,
          7,
          8,
          3,
          5,
          5,
          3,
          4,
          4,
          6,
          2,
          4,
          5,
          5,
          5,
          1,
          3,
          5,
          1,
          1,
          7,
          3,
          0,
          5,
          5,
          0,
          5,
          2
         ],
         "yaxis": "y"
        },
        {
         "alignmentgroup": "True",
         "hovertemplate": "Region=Europe<br>Clubs=%{x}<br>value=%{y}<extra></extra>",
         "legendgroup": "Europe",
         "marker": {
          "color": "#00cc96",
          "pattern": {
           "shape": ""
          }
         },
         "name": "Europe",
         "offsetgroup": "Europe",
         "orientation": "v",
         "showlegend": true,
         "textposition": "auto",
         "type": "bar",
         "x": [
          "Chelsea F.C.",
          "West Ham United F.C.",
          "Fulham F.C.",
          "Manchester City F.C.",
          "Arsenal F.C.",
          "Liverpool F.C.",
          "Tottenham Hotspur F.C.",
          "Newcastle United F.C.",
          "Aston Villa F.C.",
          "Everton F.C.",
          "Sunderland A.F.C.",
          "Manchester United F.C.",
          "Southampton F.C.",
          "Bolton Wanderers F.C.",
          "Blackburn Rovers F.C.",
          "Watford F.C.",
          "West Bromwich Albion F.C.",
          "Crystal Palace F.C.",
          "Wolverhampton Wanderers F.C.",
          "Portsmouth F.C.",
          "Middlesbrough F.C.",
          "Leicester City F.C.",
          "Norwich City F.C.",
          "Wigan Athletic F.C.",
          "Leeds United F.C.",
          "Stoke City F.C.",
          "Brighton & Hove Albion F.C.",
          "Derby County F.C."
         ],
         "xaxis": "x",
         "y": [
          135,
          100,
          95,
          112,
          109,
          113,
          97,
          90,
          91,
          83,
          86,
          80,
          74,
          68,
          66,
          42,
          51,
          55,
          57,
          45,
          44,
          42,
          45,
          34,
          46,
          37,
          30,
          34
         ],
         "yaxis": "y"
        },
        {
         "alignmentgroup": "True",
         "hovertemplate": "Region=North, Central America and Caribbean<br>Clubs=%{x}<br>value=%{y}<extra></extra>",
         "legendgroup": "North, Central America and Caribbean",
         "marker": {
          "color": "#ab63fa",
          "pattern": {
           "shape": ""
          }
         },
         "name": "North, Central America and Caribbean",
         "offsetgroup": "North, Central America and Caribbean",
         "orientation": "v",
         "showlegend": true,
         "textposition": "auto",
         "type": "bar",
         "x": [
          "Chelsea F.C.",
          "West Ham United F.C.",
          "Fulham F.C.",
          "Manchester City F.C.",
          "Arsenal F.C.",
          "Liverpool F.C.",
          "Tottenham Hotspur F.C.",
          "Newcastle United F.C.",
          "Aston Villa F.C.",
          "Everton F.C.",
          "Sunderland A.F.C.",
          "Manchester United F.C.",
          "Southampton F.C.",
          "Bolton Wanderers F.C.",
          "Blackburn Rovers F.C.",
          "Watford F.C.",
          "West Bromwich Albion F.C.",
          "Crystal Palace F.C.",
          "Wolverhampton Wanderers F.C.",
          "Portsmouth F.C.",
          "Middlesbrough F.C.",
          "Leicester City F.C.",
          "Norwich City F.C.",
          "Wigan Athletic F.C.",
          "Leeds United F.C.",
          "Stoke City F.C.",
          "Brighton & Hove Albion F.C.",
          "Derby County F.C."
         ],
         "xaxis": "x",
         "y": [
          6,
          13,
          19,
          8,
          5,
          2,
          8,
          8,
          11,
          10,
          12,
          4,
          4,
          8,
          9,
          12,
          8,
          8,
          6,
          4,
          4,
          7,
          10,
          9,
          3,
          7,
          1,
          12
         ],
         "yaxis": "y"
        },
        {
         "alignmentgroup": "True",
         "hovertemplate": "Region=Oceania<br>Clubs=%{x}<br>value=%{y}<extra></extra>",
         "legendgroup": "Oceania",
         "marker": {
          "color": "#FFA15A",
          "pattern": {
           "shape": ""
          }
         },
         "name": "Oceania",
         "offsetgroup": "Oceania",
         "orientation": "v",
         "showlegend": true,
         "textposition": "auto",
         "type": "bar",
         "x": [
          "Chelsea F.C.",
          "West Ham United F.C.",
          "Fulham F.C.",
          "Manchester City F.C.",
          "Arsenal F.C.",
          "Liverpool F.C.",
          "Tottenham Hotspur F.C.",
          "Newcastle United F.C.",
          "Aston Villa F.C.",
          "Everton F.C.",
          "Sunderland A.F.C.",
          "Manchester United F.C.",
          "Southampton F.C.",
          "Bolton Wanderers F.C.",
          "Blackburn Rovers F.C.",
          "Watford F.C.",
          "West Bromwich Albion F.C.",
          "Crystal Palace F.C.",
          "Wolverhampton Wanderers F.C.",
          "Portsmouth F.C.",
          "Middlesbrough F.C.",
          "Leicester City F.C.",
          "Norwich City F.C.",
          "Wigan Athletic F.C.",
          "Leeds United F.C.",
          "Stoke City F.C.",
          "Brighton & Hove Albion F.C.",
          "Derby County F.C."
         ],
         "xaxis": "x",
         "y": [
          0,
          1,
          1,
          0,
          0,
          0,
          1,
          1,
          0,
          0,
          0,
          0,
          0,
          0,
          1,
          0,
          1,
          0,
          0,
          0,
          0,
          1,
          0,
          0,
          1,
          0,
          0,
          0
         ],
         "yaxis": "y"
        },
        {
         "alignmentgroup": "True",
         "hovertemplate": "Region=South America<br>Clubs=%{x}<br>value=%{y}<extra></extra>",
         "legendgroup": "South America",
         "marker": {
          "color": "#19d3f3",
          "pattern": {
           "shape": ""
          }
         },
         "name": "South America",
         "offsetgroup": "South America",
         "orientation": "v",
         "showlegend": true,
         "textposition": "auto",
         "type": "bar",
         "x": [
          "Chelsea F.C.",
          "West Ham United F.C.",
          "Fulham F.C.",
          "Manchester City F.C.",
          "Arsenal F.C.",
          "Liverpool F.C.",
          "Tottenham Hotspur F.C.",
          "Newcastle United F.C.",
          "Aston Villa F.C.",
          "Everton F.C.",
          "Sunderland A.F.C.",
          "Manchester United F.C.",
          "Southampton F.C.",
          "Bolton Wanderers F.C.",
          "Blackburn Rovers F.C.",
          "Watford F.C.",
          "West Bromwich Albion F.C.",
          "Crystal Palace F.C.",
          "Wolverhampton Wanderers F.C.",
          "Portsmouth F.C.",
          "Middlesbrough F.C.",
          "Leicester City F.C.",
          "Norwich City F.C.",
          "Wigan Athletic F.C.",
          "Leeds United F.C.",
          "Stoke City F.C.",
          "Brighton & Hove Albion F.C.",
          "Derby County F.C."
         ],
         "xaxis": "x",
         "y": [
          25,
          20,
          9,
          25,
          19,
          17,
          19,
          17,
          11,
          14,
          9,
          24,
          9,
          3,
          4,
          16,
          9,
          6,
          7,
          3,
          14,
          3,
          3,
          8,
          4,
          0,
          12,
          4
         ],
         "yaxis": "y"
        }
       ],
       "layout": {
        "barmode": "stack",
        "legend": {
         "title": {
          "text": "Region"
         },
         "tracegroupgap": 0
        },
        "template": {
         "data": {
          "bar": [
           {
            "error_x": {
             "color": "#2a3f5f"
            },
            "error_y": {
             "color": "#2a3f5f"
            },
            "marker": {
             "line": {
              "color": "#E5ECF6",
              "width": 0.5
             },
             "pattern": {
              "fillmode": "overlay",
              "size": 10,
              "solidity": 0.2
             }
            },
            "type": "bar"
           }
          ],
          "barpolar": [
           {
            "marker": {
             "line": {
              "color": "#E5ECF6",
              "width": 0.5
             },
             "pattern": {
              "fillmode": "overlay",
              "size": 10,
              "solidity": 0.2
             }
            },
            "type": "barpolar"
           }
          ],
          "carpet": [
           {
            "aaxis": {
             "endlinecolor": "#2a3f5f",
             "gridcolor": "white",
             "linecolor": "white",
             "minorgridcolor": "white",
             "startlinecolor": "#2a3f5f"
            },
            "baxis": {
             "endlinecolor": "#2a3f5f",
             "gridcolor": "white",
             "linecolor": "white",
             "minorgridcolor": "white",
             "startlinecolor": "#2a3f5f"
            },
            "type": "carpet"
           }
          ],
          "choropleth": [
           {
            "colorbar": {
             "outlinewidth": 0,
             "ticks": ""
            },
            "type": "choropleth"
           }
          ],
          "contour": [
           {
            "colorbar": {
             "outlinewidth": 0,
             "ticks": ""
            },
            "colorscale": [
             [
              0,
              "#0d0887"
             ],
             [
              0.1111111111111111,
              "#46039f"
             ],
             [
              0.2222222222222222,
              "#7201a8"
             ],
             [
              0.3333333333333333,
              "#9c179e"
             ],
             [
              0.4444444444444444,
              "#bd3786"
             ],
             [
              0.5555555555555556,
              "#d8576b"
             ],
             [
              0.6666666666666666,
              "#ed7953"
             ],
             [
              0.7777777777777778,
              "#fb9f3a"
             ],
             [
              0.8888888888888888,
              "#fdca26"
             ],
             [
              1,
              "#f0f921"
             ]
            ],
            "type": "contour"
           }
          ],
          "contourcarpet": [
           {
            "colorbar": {
             "outlinewidth": 0,
             "ticks": ""
            },
            "type": "contourcarpet"
           }
          ],
          "heatmap": [
           {
            "colorbar": {
             "outlinewidth": 0,
             "ticks": ""
            },
            "colorscale": [
             [
              0,
              "#0d0887"
             ],
             [
              0.1111111111111111,
              "#46039f"
             ],
             [
              0.2222222222222222,
              "#7201a8"
             ],
             [
              0.3333333333333333,
              "#9c179e"
             ],
             [
              0.4444444444444444,
              "#bd3786"
             ],
             [
              0.5555555555555556,
              "#d8576b"
             ],
             [
              0.6666666666666666,
              "#ed7953"
             ],
             [
              0.7777777777777778,
              "#fb9f3a"
             ],
             [
              0.8888888888888888,
              "#fdca26"
             ],
             [
              1,
              "#f0f921"
             ]
            ],
            "type": "heatmap"
           }
          ],
          "heatmapgl": [
           {
            "colorbar": {
             "outlinewidth": 0,
             "ticks": ""
            },
            "colorscale": [
             [
              0,
              "#0d0887"
             ],
             [
              0.1111111111111111,
              "#46039f"
             ],
             [
              0.2222222222222222,
              "#7201a8"
             ],
             [
              0.3333333333333333,
              "#9c179e"
             ],
             [
              0.4444444444444444,
              "#bd3786"
             ],
             [
              0.5555555555555556,
              "#d8576b"
             ],
             [
              0.6666666666666666,
              "#ed7953"
             ],
             [
              0.7777777777777778,
              "#fb9f3a"
             ],
             [
              0.8888888888888888,
              "#fdca26"
             ],
             [
              1,
              "#f0f921"
             ]
            ],
            "type": "heatmapgl"
           }
          ],
          "histogram": [
           {
            "marker": {
             "pattern": {
              "fillmode": "overlay",
              "size": 10,
              "solidity": 0.2
             }
            },
            "type": "histogram"
           }
          ],
          "histogram2d": [
           {
            "colorbar": {
             "outlinewidth": 0,
             "ticks": ""
            },
            "colorscale": [
             [
              0,
              "#0d0887"
             ],
             [
              0.1111111111111111,
              "#46039f"
             ],
             [
              0.2222222222222222,
              "#7201a8"
             ],
             [
              0.3333333333333333,
              "#9c179e"
             ],
             [
              0.4444444444444444,
              "#bd3786"
             ],
             [
              0.5555555555555556,
              "#d8576b"
             ],
             [
              0.6666666666666666,
              "#ed7953"
             ],
             [
              0.7777777777777778,
              "#fb9f3a"
             ],
             [
              0.8888888888888888,
              "#fdca26"
             ],
             [
              1,
              "#f0f921"
             ]
            ],
            "type": "histogram2d"
           }
          ],
          "histogram2dcontour": [
           {
            "colorbar": {
             "outlinewidth": 0,
             "ticks": ""
            },
            "colorscale": [
             [
              0,
              "#0d0887"
             ],
             [
              0.1111111111111111,
              "#46039f"
             ],
             [
              0.2222222222222222,
              "#7201a8"
             ],
             [
              0.3333333333333333,
              "#9c179e"
             ],
             [
              0.4444444444444444,
              "#bd3786"
             ],
             [
              0.5555555555555556,
              "#d8576b"
             ],
             [
              0.6666666666666666,
              "#ed7953"
             ],
             [
              0.7777777777777778,
              "#fb9f3a"
             ],
             [
              0.8888888888888888,
              "#fdca26"
             ],
             [
              1,
              "#f0f921"
             ]
            ],
            "type": "histogram2dcontour"
           }
          ],
          "mesh3d": [
           {
            "colorbar": {
             "outlinewidth": 0,
             "ticks": ""
            },
            "type": "mesh3d"
           }
          ],
          "parcoords": [
           {
            "line": {
             "colorbar": {
              "outlinewidth": 0,
              "ticks": ""
             }
            },
            "type": "parcoords"
           }
          ],
          "pie": [
           {
            "automargin": true,
            "type": "pie"
           }
          ],
          "scatter": [
           {
            "fillpattern": {
             "fillmode": "overlay",
             "size": 10,
             "solidity": 0.2
            },
            "type": "scatter"
           }
          ],
          "scatter3d": [
           {
            "line": {
             "colorbar": {
              "outlinewidth": 0,
              "ticks": ""
             }
            },
            "marker": {
             "colorbar": {
              "outlinewidth": 0,
              "ticks": ""
             }
            },
            "type": "scatter3d"
           }
          ],
          "scattercarpet": [
           {
            "marker": {
             "colorbar": {
              "outlinewidth": 0,
              "ticks": ""
             }
            },
            "type": "scattercarpet"
           }
          ],
          "scattergeo": [
           {
            "marker": {
             "colorbar": {
              "outlinewidth": 0,
              "ticks": ""
             }
            },
            "type": "scattergeo"
           }
          ],
          "scattergl": [
           {
            "marker": {
             "colorbar": {
              "outlinewidth": 0,
              "ticks": ""
             }
            },
            "type": "scattergl"
           }
          ],
          "scattermapbox": [
           {
            "marker": {
             "colorbar": {
              "outlinewidth": 0,
              "ticks": ""
             }
            },
            "type": "scattermapbox"
           }
          ],
          "scatterpolar": [
           {
            "marker": {
             "colorbar": {
              "outlinewidth": 0,
              "ticks": ""
             }
            },
            "type": "scatterpolar"
           }
          ],
          "scatterpolargl": [
           {
            "marker": {
             "colorbar": {
              "outlinewidth": 0,
              "ticks": ""
             }
            },
            "type": "scatterpolargl"
           }
          ],
          "scatterternary": [
           {
            "marker": {
             "colorbar": {
              "outlinewidth": 0,
              "ticks": ""
             }
            },
            "type": "scatterternary"
           }
          ],
          "surface": [
           {
            "colorbar": {
             "outlinewidth": 0,
             "ticks": ""
            },
            "colorscale": [
             [
              0,
              "#0d0887"
             ],
             [
              0.1111111111111111,
              "#46039f"
             ],
             [
              0.2222222222222222,
              "#7201a8"
             ],
             [
              0.3333333333333333,
              "#9c179e"
             ],
             [
              0.4444444444444444,
              "#bd3786"
             ],
             [
              0.5555555555555556,
              "#d8576b"
             ],
             [
              0.6666666666666666,
              "#ed7953"
             ],
             [
              0.7777777777777778,
              "#fb9f3a"
             ],
             [
              0.8888888888888888,
              "#fdca26"
             ],
             [
              1,
              "#f0f921"
             ]
            ],
            "type": "surface"
           }
          ],
          "table": [
           {
            "cells": {
             "fill": {
              "color": "#EBF0F8"
             },
             "line": {
              "color": "white"
             }
            },
            "header": {
             "fill": {
              "color": "#C8D4E3"
             },
             "line": {
              "color": "white"
             }
            },
            "type": "table"
           }
          ]
         },
         "layout": {
          "annotationdefaults": {
           "arrowcolor": "#2a3f5f",
           "arrowhead": 0,
           "arrowwidth": 1
          },
          "autotypenumbers": "strict",
          "coloraxis": {
           "colorbar": {
            "outlinewidth": 0,
            "ticks": ""
           }
          },
          "colorscale": {
           "diverging": [
            [
             0,
             "#8e0152"
            ],
            [
             0.1,
             "#c51b7d"
            ],
            [
             0.2,
             "#de77ae"
            ],
            [
             0.3,
             "#f1b6da"
            ],
            [
             0.4,
             "#fde0ef"
            ],
            [
             0.5,
             "#f7f7f7"
            ],
            [
             0.6,
             "#e6f5d0"
            ],
            [
             0.7,
             "#b8e186"
            ],
            [
             0.8,
             "#7fbc41"
            ],
            [
             0.9,
             "#4d9221"
            ],
            [
             1,
             "#276419"
            ]
           ],
           "sequential": [
            [
             0,
             "#0d0887"
            ],
            [
             0.1111111111111111,
             "#46039f"
            ],
            [
             0.2222222222222222,
             "#7201a8"
            ],
            [
             0.3333333333333333,
             "#9c179e"
            ],
            [
             0.4444444444444444,
             "#bd3786"
            ],
            [
             0.5555555555555556,
             "#d8576b"
            ],
            [
             0.6666666666666666,
             "#ed7953"
            ],
            [
             0.7777777777777778,
             "#fb9f3a"
            ],
            [
             0.8888888888888888,
             "#fdca26"
            ],
            [
             1,
             "#f0f921"
            ]
           ],
           "sequentialminus": [
            [
             0,
             "#0d0887"
            ],
            [
             0.1111111111111111,
             "#46039f"
            ],
            [
             0.2222222222222222,
             "#7201a8"
            ],
            [
             0.3333333333333333,
             "#9c179e"
            ],
            [
             0.4444444444444444,
             "#bd3786"
            ],
            [
             0.5555555555555556,
             "#d8576b"
            ],
            [
             0.6666666666666666,
             "#ed7953"
            ],
            [
             0.7777777777777778,
             "#fb9f3a"
            ],
            [
             0.8888888888888888,
             "#fdca26"
            ],
            [
             1,
             "#f0f921"
            ]
           ]
          },
          "colorway": [
           "#636efa",
           "#EF553B",
           "#00cc96",
           "#ab63fa",
           "#FFA15A",
           "#19d3f3",
           "#FF6692",
           "#B6E880",
           "#FF97FF",
           "#FECB52"
          ],
          "font": {
           "color": "#2a3f5f"
          },
          "geo": {
           "bgcolor": "white",
           "lakecolor": "white",
           "landcolor": "#E5ECF6",
           "showlakes": true,
           "showland": true,
           "subunitcolor": "white"
          },
          "hoverlabel": {
           "align": "left"
          },
          "hovermode": "closest",
          "mapbox": {
           "style": "light"
          },
          "paper_bgcolor": "white",
          "plot_bgcolor": "#E5ECF6",
          "polar": {
           "angularaxis": {
            "gridcolor": "white",
            "linecolor": "white",
            "ticks": ""
           },
           "bgcolor": "#E5ECF6",
           "radialaxis": {
            "gridcolor": "white",
            "linecolor": "white",
            "ticks": ""
           }
          },
          "scene": {
           "xaxis": {
            "backgroundcolor": "#E5ECF6",
            "gridcolor": "white",
            "gridwidth": 2,
            "linecolor": "white",
            "showbackground": true,
            "ticks": "",
            "zerolinecolor": "white"
           },
           "yaxis": {
            "backgroundcolor": "#E5ECF6",
            "gridcolor": "white",
            "gridwidth": 2,
            "linecolor": "white",
            "showbackground": true,
            "ticks": "",
            "zerolinecolor": "white"
           },
           "zaxis": {
            "backgroundcolor": "#E5ECF6",
            "gridcolor": "white",
            "gridwidth": 2,
            "linecolor": "white",
            "showbackground": true,
            "ticks": "",
            "zerolinecolor": "white"
           }
          },
          "shapedefaults": {
           "line": {
            "color": "#2a3f5f"
           }
          },
          "ternary": {
           "aaxis": {
            "gridcolor": "white",
            "linecolor": "white",
            "ticks": ""
           },
           "baxis": {
            "gridcolor": "white",
            "linecolor": "white",
            "ticks": ""
           },
           "bgcolor": "#E5ECF6",
           "caxis": {
            "gridcolor": "white",
            "linecolor": "white",
            "ticks": ""
           }
          },
          "title": {
           "x": 0.05
          },
          "xaxis": {
           "automargin": true,
           "gridcolor": "white",
           "linecolor": "white",
           "ticks": "",
           "title": {
            "standoff": 15
           },
           "zerolinecolor": "white",
           "zerolinewidth": 2
          },
          "yaxis": {
           "automargin": true,
           "gridcolor": "white",
           "linecolor": "white",
           "ticks": "",
           "title": {
            "standoff": 15
           },
           "zerolinecolor": "white",
           "zerolinewidth": 2
          }
         }
        },
        "title": {
         "text": "Top 27 Clubs"
        },
        "xaxis": {
         "anchor": "y",
         "domain": [
          0,
          1
         ],
         "title": {
          "text": "Clubs"
         }
        },
        "yaxis": {
         "anchor": "x",
         "domain": [
          0,
          1
         ],
         "title": {
          "text": "Player Count"
         }
        }
       }
      }
     },
     "metadata": {},
     "output_type": "display_data"
    }
   ],
   "source": [
    "# Create the stacked bar chart\n",
    "fig = px.bar(df_clubs_group1.iloc[:, :-1],\n",
    "             title='Top 27 Clubs',\n",
    "             orientation='v')\n",
    "\n",
    "fig.update_layout(barmode='stack',\n",
    "                xaxis_title=\"Clubs\",\n",
    "                yaxis_title=\"Player Count\",)\n",
    "\n",
    "fig.show()"
   ]
  },
  {
   "cell_type": "code",
   "execution_count": 107,
   "metadata": {},
   "outputs": [
    {
     "data": {
      "application/vnd.plotly.v1+json": {
       "config": {
        "plotlyServerURL": "https://plot.ly"
       },
       "data": [
        {
         "alignmentgroup": "True",
         "hovertemplate": "Region=Africa<br>Clubs=%{x}<br>value=%{y}<extra></extra>",
         "legendgroup": "Africa",
         "marker": {
          "color": "#636efa",
          "pattern": {
           "shape": ""
          }
         },
         "name": "Africa",
         "offsetgroup": "Africa",
         "orientation": "v",
         "showlegend": true,
         "textposition": "auto",
         "type": "bar",
         "x": [
          "Burnley F.C.",
          "Birmingham City F.C.",
          "Hull City A.F.C.",
          "Nottingham Forest F.C.",
          "Queens Park Rangers F.C.",
          "Swansea City A.F.C.",
          "AFC Bournemouth",
          "Charlton Athletic F.C.",
          "Sheffield United F.C.",
          "Coventry City F.C.",
          "Reading F.C.",
          "Brentford F.C.",
          "Cardiff City F.C.",
          "Sheffield Wednesday F.C.",
          "Huddersfield Town A.F.C.",
          "Ipswich Town F.C.",
          "Wimbledon F.C.",
          "Barnsley F.C.",
          "Luton Town F.C.",
          "Bradford City A.F.C.",
          "Blackpool F.C.",
          "Oldham Athletic A.F.C.",
          "Swindon Town F.C.",
          "Swansea City F.C.",
          "Ipswich Town F.C",
          "Oldham Athletic F.C."
         ],
         "xaxis": "x",
         "y": [
          7,
          9,
          18,
          9,
          8,
          5,
          8,
          10,
          6,
          4,
          7,
          4,
          7,
          1,
          4,
          2,
          1,
          1,
          3,
          0,
          1,
          0,
          0,
          0,
          0,
          0
         ],
         "yaxis": "y"
        },
        {
         "alignmentgroup": "True",
         "hovertemplate": "Region=Asia<br>Clubs=%{x}<br>value=%{y}<extra></extra>",
         "legendgroup": "Asia",
         "marker": {
          "color": "#EF553B",
          "pattern": {
           "shape": ""
          }
         },
         "name": "Asia",
         "offsetgroup": "Asia",
         "orientation": "v",
         "showlegend": true,
         "textposition": "auto",
         "type": "bar",
         "x": [
          "Burnley F.C.",
          "Birmingham City F.C.",
          "Hull City A.F.C.",
          "Nottingham Forest F.C.",
          "Queens Park Rangers F.C.",
          "Swansea City A.F.C.",
          "AFC Bournemouth",
          "Charlton Athletic F.C.",
          "Sheffield United F.C.",
          "Coventry City F.C.",
          "Reading F.C.",
          "Brentford F.C.",
          "Cardiff City F.C.",
          "Sheffield Wednesday F.C.",
          "Huddersfield Town A.F.C.",
          "Ipswich Town F.C.",
          "Wimbledon F.C.",
          "Barnsley F.C.",
          "Luton Town F.C.",
          "Bradford City A.F.C.",
          "Blackpool F.C.",
          "Oldham Athletic A.F.C.",
          "Swindon Town F.C.",
          "Swansea City F.C.",
          "Ipswich Town F.C",
          "Oldham Athletic F.C."
         ],
         "xaxis": "x",
         "y": [
          1,
          2,
          1,
          0,
          3,
          2,
          2,
          3,
          0,
          2,
          2,
          1,
          2,
          1,
          1,
          2,
          0,
          0,
          1,
          0,
          1,
          0,
          0,
          0,
          0,
          0
         ],
         "yaxis": "y"
        },
        {
         "alignmentgroup": "True",
         "hovertemplate": "Region=Europe<br>Clubs=%{x}<br>value=%{y}<extra></extra>",
         "legendgroup": "Europe",
         "marker": {
          "color": "#00cc96",
          "pattern": {
           "shape": ""
          }
         },
         "name": "Europe",
         "offsetgroup": "Europe",
         "orientation": "v",
         "showlegend": true,
         "textposition": "auto",
         "type": "bar",
         "x": [
          "Burnley F.C.",
          "Birmingham City F.C.",
          "Hull City A.F.C.",
          "Nottingham Forest F.C.",
          "Queens Park Rangers F.C.",
          "Swansea City A.F.C.",
          "AFC Bournemouth",
          "Charlton Athletic F.C.",
          "Sheffield United F.C.",
          "Coventry City F.C.",
          "Reading F.C.",
          "Brentford F.C.",
          "Cardiff City F.C.",
          "Sheffield Wednesday F.C.",
          "Huddersfield Town A.F.C.",
          "Ipswich Town F.C.",
          "Wimbledon F.C.",
          "Barnsley F.C.",
          "Luton Town F.C.",
          "Bradford City A.F.C.",
          "Blackpool F.C.",
          "Oldham Athletic A.F.C.",
          "Swindon Town F.C.",
          "Swansea City F.C.",
          "Ipswich Town F.C",
          "Oldham Athletic F.C."
         ],
         "xaxis": "x",
         "y": [
          37,
          31,
          26,
          27,
          18,
          30,
          20,
          20,
          23,
          24,
          15,
          24,
          12,
          23,
          15,
          11,
          14,
          8,
          5,
          8,
          5,
          3,
          2,
          2,
          1,
          1
         ],
         "yaxis": "y"
        },
        {
         "alignmentgroup": "True",
         "hovertemplate": "Region=North, Central America and Caribbean<br>Clubs=%{x}<br>value=%{y}<extra></extra>",
         "legendgroup": "North, Central America and Caribbean",
         "marker": {
          "color": "#ab63fa",
          "pattern": {
           "shape": ""
          }
         },
         "name": "North, Central America and Caribbean",
         "offsetgroup": "North, Central America and Caribbean",
         "orientation": "v",
         "showlegend": true,
         "textposition": "auto",
         "type": "bar",
         "x": [
          "Burnley F.C.",
          "Birmingham City F.C.",
          "Hull City A.F.C.",
          "Nottingham Forest F.C.",
          "Queens Park Rangers F.C.",
          "Swansea City A.F.C.",
          "AFC Bournemouth",
          "Charlton Athletic F.C.",
          "Sheffield United F.C.",
          "Coventry City F.C.",
          "Reading F.C.",
          "Brentford F.C.",
          "Cardiff City F.C.",
          "Sheffield Wednesday F.C.",
          "Huddersfield Town A.F.C.",
          "Ipswich Town F.C.",
          "Wimbledon F.C.",
          "Barnsley F.C.",
          "Luton Town F.C.",
          "Bradford City A.F.C.",
          "Blackpool F.C.",
          "Oldham Athletic A.F.C.",
          "Swindon Town F.C.",
          "Swansea City F.C.",
          "Ipswich Town F.C",
          "Oldham Athletic F.C."
         ],
         "xaxis": "x",
         "y": [
          5,
          7,
          3,
          5,
          5,
          2,
          3,
          4,
          7,
          5,
          9,
          2,
          5,
          1,
          3,
          3,
          5,
          1,
          1,
          1,
          1,
          0,
          0,
          0,
          0,
          0
         ],
         "yaxis": "y"
        },
        {
         "alignmentgroup": "True",
         "hovertemplate": "Region=Oceania<br>Clubs=%{x}<br>value=%{y}<extra></extra>",
         "legendgroup": "Oceania",
         "marker": {
          "color": "#FFA15A",
          "pattern": {
           "shape": ""
          }
         },
         "name": "Oceania",
         "offsetgroup": "Oceania",
         "orientation": "v",
         "showlegend": true,
         "textposition": "auto",
         "type": "bar",
         "x": [
          "Burnley F.C.",
          "Birmingham City F.C.",
          "Hull City A.F.C.",
          "Nottingham Forest F.C.",
          "Queens Park Rangers F.C.",
          "Swansea City A.F.C.",
          "AFC Bournemouth",
          "Charlton Athletic F.C.",
          "Sheffield United F.C.",
          "Coventry City F.C.",
          "Reading F.C.",
          "Brentford F.C.",
          "Cardiff City F.C.",
          "Sheffield Wednesday F.C.",
          "Huddersfield Town A.F.C.",
          "Ipswich Town F.C.",
          "Wimbledon F.C.",
          "Barnsley F.C.",
          "Luton Town F.C.",
          "Bradford City A.F.C.",
          "Blackpool F.C.",
          "Oldham Athletic A.F.C.",
          "Swindon Town F.C.",
          "Swansea City F.C.",
          "Ipswich Town F.C",
          "Oldham Athletic F.C."
         ],
         "xaxis": "x",
         "y": [
          1,
          0,
          0,
          1,
          1,
          0,
          0,
          0,
          0,
          0,
          0,
          0,
          0,
          0,
          0,
          1,
          0,
          0,
          0,
          0,
          0,
          0,
          0,
          0,
          0,
          0
         ],
         "yaxis": "y"
        },
        {
         "alignmentgroup": "True",
         "hovertemplate": "Region=South America<br>Clubs=%{x}<br>value=%{y}<extra></extra>",
         "legendgroup": "South America",
         "marker": {
          "color": "#19d3f3",
          "pattern": {
           "shape": ""
          }
         },
         "name": "South America",
         "offsetgroup": "South America",
         "orientation": "v",
         "showlegend": true,
         "textposition": "auto",
         "type": "bar",
         "x": [
          "Burnley F.C.",
          "Birmingham City F.C.",
          "Hull City A.F.C.",
          "Nottingham Forest F.C.",
          "Queens Park Rangers F.C.",
          "Swansea City A.F.C.",
          "AFC Bournemouth",
          "Charlton Athletic F.C.",
          "Sheffield United F.C.",
          "Coventry City F.C.",
          "Reading F.C.",
          "Brentford F.C.",
          "Cardiff City F.C.",
          "Sheffield Wednesday F.C.",
          "Huddersfield Town A.F.C.",
          "Ipswich Town F.C.",
          "Wimbledon F.C.",
          "Barnsley F.C.",
          "Luton Town F.C.",
          "Bradford City A.F.C.",
          "Blackpool F.C.",
          "Oldham Athletic A.F.C.",
          "Swindon Town F.C.",
          "Swansea City F.C.",
          "Ipswich Town F.C",
          "Oldham Athletic F.C."
         ],
         "xaxis": "x",
         "y": [
          3,
          5,
          4,
          8,
          8,
          3,
          6,
          2,
          2,
          2,
          1,
          0,
          2,
          2,
          0,
          2,
          0,
          0,
          0,
          0,
          0,
          0,
          0,
          0,
          0,
          0
         ],
         "yaxis": "y"
        }
       ],
       "layout": {
        "barmode": "stack",
        "legend": {
         "title": {
          "text": "Region"
         },
         "tracegroupgap": 0
        },
        "template": {
         "data": {
          "bar": [
           {
            "error_x": {
             "color": "#2a3f5f"
            },
            "error_y": {
             "color": "#2a3f5f"
            },
            "marker": {
             "line": {
              "color": "#E5ECF6",
              "width": 0.5
             },
             "pattern": {
              "fillmode": "overlay",
              "size": 10,
              "solidity": 0.2
             }
            },
            "type": "bar"
           }
          ],
          "barpolar": [
           {
            "marker": {
             "line": {
              "color": "#E5ECF6",
              "width": 0.5
             },
             "pattern": {
              "fillmode": "overlay",
              "size": 10,
              "solidity": 0.2
             }
            },
            "type": "barpolar"
           }
          ],
          "carpet": [
           {
            "aaxis": {
             "endlinecolor": "#2a3f5f",
             "gridcolor": "white",
             "linecolor": "white",
             "minorgridcolor": "white",
             "startlinecolor": "#2a3f5f"
            },
            "baxis": {
             "endlinecolor": "#2a3f5f",
             "gridcolor": "white",
             "linecolor": "white",
             "minorgridcolor": "white",
             "startlinecolor": "#2a3f5f"
            },
            "type": "carpet"
           }
          ],
          "choropleth": [
           {
            "colorbar": {
             "outlinewidth": 0,
             "ticks": ""
            },
            "type": "choropleth"
           }
          ],
          "contour": [
           {
            "colorbar": {
             "outlinewidth": 0,
             "ticks": ""
            },
            "colorscale": [
             [
              0,
              "#0d0887"
             ],
             [
              0.1111111111111111,
              "#46039f"
             ],
             [
              0.2222222222222222,
              "#7201a8"
             ],
             [
              0.3333333333333333,
              "#9c179e"
             ],
             [
              0.4444444444444444,
              "#bd3786"
             ],
             [
              0.5555555555555556,
              "#d8576b"
             ],
             [
              0.6666666666666666,
              "#ed7953"
             ],
             [
              0.7777777777777778,
              "#fb9f3a"
             ],
             [
              0.8888888888888888,
              "#fdca26"
             ],
             [
              1,
              "#f0f921"
             ]
            ],
            "type": "contour"
           }
          ],
          "contourcarpet": [
           {
            "colorbar": {
             "outlinewidth": 0,
             "ticks": ""
            },
            "type": "contourcarpet"
           }
          ],
          "heatmap": [
           {
            "colorbar": {
             "outlinewidth": 0,
             "ticks": ""
            },
            "colorscale": [
             [
              0,
              "#0d0887"
             ],
             [
              0.1111111111111111,
              "#46039f"
             ],
             [
              0.2222222222222222,
              "#7201a8"
             ],
             [
              0.3333333333333333,
              "#9c179e"
             ],
             [
              0.4444444444444444,
              "#bd3786"
             ],
             [
              0.5555555555555556,
              "#d8576b"
             ],
             [
              0.6666666666666666,
              "#ed7953"
             ],
             [
              0.7777777777777778,
              "#fb9f3a"
             ],
             [
              0.8888888888888888,
              "#fdca26"
             ],
             [
              1,
              "#f0f921"
             ]
            ],
            "type": "heatmap"
           }
          ],
          "heatmapgl": [
           {
            "colorbar": {
             "outlinewidth": 0,
             "ticks": ""
            },
            "colorscale": [
             [
              0,
              "#0d0887"
             ],
             [
              0.1111111111111111,
              "#46039f"
             ],
             [
              0.2222222222222222,
              "#7201a8"
             ],
             [
              0.3333333333333333,
              "#9c179e"
             ],
             [
              0.4444444444444444,
              "#bd3786"
             ],
             [
              0.5555555555555556,
              "#d8576b"
             ],
             [
              0.6666666666666666,
              "#ed7953"
             ],
             [
              0.7777777777777778,
              "#fb9f3a"
             ],
             [
              0.8888888888888888,
              "#fdca26"
             ],
             [
              1,
              "#f0f921"
             ]
            ],
            "type": "heatmapgl"
           }
          ],
          "histogram": [
           {
            "marker": {
             "pattern": {
              "fillmode": "overlay",
              "size": 10,
              "solidity": 0.2
             }
            },
            "type": "histogram"
           }
          ],
          "histogram2d": [
           {
            "colorbar": {
             "outlinewidth": 0,
             "ticks": ""
            },
            "colorscale": [
             [
              0,
              "#0d0887"
             ],
             [
              0.1111111111111111,
              "#46039f"
             ],
             [
              0.2222222222222222,
              "#7201a8"
             ],
             [
              0.3333333333333333,
              "#9c179e"
             ],
             [
              0.4444444444444444,
              "#bd3786"
             ],
             [
              0.5555555555555556,
              "#d8576b"
             ],
             [
              0.6666666666666666,
              "#ed7953"
             ],
             [
              0.7777777777777778,
              "#fb9f3a"
             ],
             [
              0.8888888888888888,
              "#fdca26"
             ],
             [
              1,
              "#f0f921"
             ]
            ],
            "type": "histogram2d"
           }
          ],
          "histogram2dcontour": [
           {
            "colorbar": {
             "outlinewidth": 0,
             "ticks": ""
            },
            "colorscale": [
             [
              0,
              "#0d0887"
             ],
             [
              0.1111111111111111,
              "#46039f"
             ],
             [
              0.2222222222222222,
              "#7201a8"
             ],
             [
              0.3333333333333333,
              "#9c179e"
             ],
             [
              0.4444444444444444,
              "#bd3786"
             ],
             [
              0.5555555555555556,
              "#d8576b"
             ],
             [
              0.6666666666666666,
              "#ed7953"
             ],
             [
              0.7777777777777778,
              "#fb9f3a"
             ],
             [
              0.8888888888888888,
              "#fdca26"
             ],
             [
              1,
              "#f0f921"
             ]
            ],
            "type": "histogram2dcontour"
           }
          ],
          "mesh3d": [
           {
            "colorbar": {
             "outlinewidth": 0,
             "ticks": ""
            },
            "type": "mesh3d"
           }
          ],
          "parcoords": [
           {
            "line": {
             "colorbar": {
              "outlinewidth": 0,
              "ticks": ""
             }
            },
            "type": "parcoords"
           }
          ],
          "pie": [
           {
            "automargin": true,
            "type": "pie"
           }
          ],
          "scatter": [
           {
            "fillpattern": {
             "fillmode": "overlay",
             "size": 10,
             "solidity": 0.2
            },
            "type": "scatter"
           }
          ],
          "scatter3d": [
           {
            "line": {
             "colorbar": {
              "outlinewidth": 0,
              "ticks": ""
             }
            },
            "marker": {
             "colorbar": {
              "outlinewidth": 0,
              "ticks": ""
             }
            },
            "type": "scatter3d"
           }
          ],
          "scattercarpet": [
           {
            "marker": {
             "colorbar": {
              "outlinewidth": 0,
              "ticks": ""
             }
            },
            "type": "scattercarpet"
           }
          ],
          "scattergeo": [
           {
            "marker": {
             "colorbar": {
              "outlinewidth": 0,
              "ticks": ""
             }
            },
            "type": "scattergeo"
           }
          ],
          "scattergl": [
           {
            "marker": {
             "colorbar": {
              "outlinewidth": 0,
              "ticks": ""
             }
            },
            "type": "scattergl"
           }
          ],
          "scattermapbox": [
           {
            "marker": {
             "colorbar": {
              "outlinewidth": 0,
              "ticks": ""
             }
            },
            "type": "scattermapbox"
           }
          ],
          "scatterpolar": [
           {
            "marker": {
             "colorbar": {
              "outlinewidth": 0,
              "ticks": ""
             }
            },
            "type": "scatterpolar"
           }
          ],
          "scatterpolargl": [
           {
            "marker": {
             "colorbar": {
              "outlinewidth": 0,
              "ticks": ""
             }
            },
            "type": "scatterpolargl"
           }
          ],
          "scatterternary": [
           {
            "marker": {
             "colorbar": {
              "outlinewidth": 0,
              "ticks": ""
             }
            },
            "type": "scatterternary"
           }
          ],
          "surface": [
           {
            "colorbar": {
             "outlinewidth": 0,
             "ticks": ""
            },
            "colorscale": [
             [
              0,
              "#0d0887"
             ],
             [
              0.1111111111111111,
              "#46039f"
             ],
             [
              0.2222222222222222,
              "#7201a8"
             ],
             [
              0.3333333333333333,
              "#9c179e"
             ],
             [
              0.4444444444444444,
              "#bd3786"
             ],
             [
              0.5555555555555556,
              "#d8576b"
             ],
             [
              0.6666666666666666,
              "#ed7953"
             ],
             [
              0.7777777777777778,
              "#fb9f3a"
             ],
             [
              0.8888888888888888,
              "#fdca26"
             ],
             [
              1,
              "#f0f921"
             ]
            ],
            "type": "surface"
           }
          ],
          "table": [
           {
            "cells": {
             "fill": {
              "color": "#EBF0F8"
             },
             "line": {
              "color": "white"
             }
            },
            "header": {
             "fill": {
              "color": "#C8D4E3"
             },
             "line": {
              "color": "white"
             }
            },
            "type": "table"
           }
          ]
         },
         "layout": {
          "annotationdefaults": {
           "arrowcolor": "#2a3f5f",
           "arrowhead": 0,
           "arrowwidth": 1
          },
          "autotypenumbers": "strict",
          "coloraxis": {
           "colorbar": {
            "outlinewidth": 0,
            "ticks": ""
           }
          },
          "colorscale": {
           "diverging": [
            [
             0,
             "#8e0152"
            ],
            [
             0.1,
             "#c51b7d"
            ],
            [
             0.2,
             "#de77ae"
            ],
            [
             0.3,
             "#f1b6da"
            ],
            [
             0.4,
             "#fde0ef"
            ],
            [
             0.5,
             "#f7f7f7"
            ],
            [
             0.6,
             "#e6f5d0"
            ],
            [
             0.7,
             "#b8e186"
            ],
            [
             0.8,
             "#7fbc41"
            ],
            [
             0.9,
             "#4d9221"
            ],
            [
             1,
             "#276419"
            ]
           ],
           "sequential": [
            [
             0,
             "#0d0887"
            ],
            [
             0.1111111111111111,
             "#46039f"
            ],
            [
             0.2222222222222222,
             "#7201a8"
            ],
            [
             0.3333333333333333,
             "#9c179e"
            ],
            [
             0.4444444444444444,
             "#bd3786"
            ],
            [
             0.5555555555555556,
             "#d8576b"
            ],
            [
             0.6666666666666666,
             "#ed7953"
            ],
            [
             0.7777777777777778,
             "#fb9f3a"
            ],
            [
             0.8888888888888888,
             "#fdca26"
            ],
            [
             1,
             "#f0f921"
            ]
           ],
           "sequentialminus": [
            [
             0,
             "#0d0887"
            ],
            [
             0.1111111111111111,
             "#46039f"
            ],
            [
             0.2222222222222222,
             "#7201a8"
            ],
            [
             0.3333333333333333,
             "#9c179e"
            ],
            [
             0.4444444444444444,
             "#bd3786"
            ],
            [
             0.5555555555555556,
             "#d8576b"
            ],
            [
             0.6666666666666666,
             "#ed7953"
            ],
            [
             0.7777777777777778,
             "#fb9f3a"
            ],
            [
             0.8888888888888888,
             "#fdca26"
            ],
            [
             1,
             "#f0f921"
            ]
           ]
          },
          "colorway": [
           "#636efa",
           "#EF553B",
           "#00cc96",
           "#ab63fa",
           "#FFA15A",
           "#19d3f3",
           "#FF6692",
           "#B6E880",
           "#FF97FF",
           "#FECB52"
          ],
          "font": {
           "color": "#2a3f5f"
          },
          "geo": {
           "bgcolor": "white",
           "lakecolor": "white",
           "landcolor": "#E5ECF6",
           "showlakes": true,
           "showland": true,
           "subunitcolor": "white"
          },
          "hoverlabel": {
           "align": "left"
          },
          "hovermode": "closest",
          "mapbox": {
           "style": "light"
          },
          "paper_bgcolor": "white",
          "plot_bgcolor": "#E5ECF6",
          "polar": {
           "angularaxis": {
            "gridcolor": "white",
            "linecolor": "white",
            "ticks": ""
           },
           "bgcolor": "#E5ECF6",
           "radialaxis": {
            "gridcolor": "white",
            "linecolor": "white",
            "ticks": ""
           }
          },
          "scene": {
           "xaxis": {
            "backgroundcolor": "#E5ECF6",
            "gridcolor": "white",
            "gridwidth": 2,
            "linecolor": "white",
            "showbackground": true,
            "ticks": "",
            "zerolinecolor": "white"
           },
           "yaxis": {
            "backgroundcolor": "#E5ECF6",
            "gridcolor": "white",
            "gridwidth": 2,
            "linecolor": "white",
            "showbackground": true,
            "ticks": "",
            "zerolinecolor": "white"
           },
           "zaxis": {
            "backgroundcolor": "#E5ECF6",
            "gridcolor": "white",
            "gridwidth": 2,
            "linecolor": "white",
            "showbackground": true,
            "ticks": "",
            "zerolinecolor": "white"
           }
          },
          "shapedefaults": {
           "line": {
            "color": "#2a3f5f"
           }
          },
          "ternary": {
           "aaxis": {
            "gridcolor": "white",
            "linecolor": "white",
            "ticks": ""
           },
           "baxis": {
            "gridcolor": "white",
            "linecolor": "white",
            "ticks": ""
           },
           "bgcolor": "#E5ECF6",
           "caxis": {
            "gridcolor": "white",
            "linecolor": "white",
            "ticks": ""
           }
          },
          "title": {
           "x": 0.05
          },
          "xaxis": {
           "automargin": true,
           "gridcolor": "white",
           "linecolor": "white",
           "ticks": "",
           "title": {
            "standoff": 15
           },
           "zerolinecolor": "white",
           "zerolinewidth": 2
          },
          "yaxis": {
           "automargin": true,
           "gridcolor": "white",
           "linecolor": "white",
           "ticks": "",
           "title": {
            "standoff": 15
           },
           "zerolinecolor": "white",
           "zerolinewidth": 2
          }
         }
        },
        "title": {
         "text": "Bottom 27 Clubs"
        },
        "xaxis": {
         "anchor": "y",
         "domain": [
          0,
          1
         ],
         "title": {
          "text": "Clubs"
         }
        },
        "yaxis": {
         "anchor": "x",
         "domain": [
          0,
          1
         ],
         "title": {
          "text": "Player Count"
         }
        }
       }
      }
     },
     "metadata": {},
     "output_type": "display_data"
    }
   ],
   "source": [
    "# Create the stacked bar chart\n",
    "fig = px.bar(df_clubs_group2.iloc[:, :-1],\n",
    "             title='Bottom 27 Clubs',\n",
    "             orientation='v')\n",
    "\n",
    "fig.update_layout(barmode='stack',\n",
    "                xaxis_title=\"Clubs\",\n",
    "                yaxis_title=\"Player Count\",)\n",
    "\n",
    "fig.show()"
   ]
  },
  {
   "cell_type": "code",
   "execution_count": 108,
   "metadata": {},
   "outputs": [
    {
     "data": {
      "application/vnd.plotly.v1+json": {
       "config": {
        "plotlyServerURL": "https://plot.ly"
       },
       "data": [
        {
         "alignmentgroup": "True",
         "bingroup": "x",
         "hovertemplate": "Region=%{x}<br>count=%{y}<extra></extra>",
         "legendgroup": "",
         "marker": {
          "color": "indianred",
          "pattern": {
           "shape": ""
          }
         },
         "name": "",
         "offsetgroup": "",
         "orientation": "v",
         "showlegend": false,
         "type": "histogram",
         "x": [
          "Africa",
          "Africa",
          "Africa",
          "Africa",
          "Africa",
          "Africa",
          "Africa",
          "Africa",
          "Africa",
          "Africa",
          "Africa",
          "Africa",
          "Africa",
          "Africa",
          "Africa",
          "Africa",
          "Africa",
          "Africa",
          "Africa",
          "Asia",
          "Asia",
          "Asia",
          "Asia",
          "Asia",
          "Europe",
          "Europe",
          "Europe",
          "Europe",
          "Europe",
          "Europe",
          "Europe",
          "Europe",
          "Europe",
          "Europe",
          "Europe",
          "Europe",
          "Europe",
          "Europe",
          "Europe",
          "Europe",
          "Europe",
          "Europe",
          "Europe",
          "Europe",
          "Europe",
          "Europe",
          "Europe",
          "Europe",
          "Europe",
          "Europe",
          "Europe",
          "Europe",
          "Europe",
          "Europe",
          "Europe",
          "Europe",
          "Europe",
          "Europe",
          "Europe",
          "Europe",
          "Europe",
          "Europe",
          "Europe",
          "Europe",
          "Europe",
          "Europe",
          "Europe",
          "Europe",
          "Europe",
          "Europe",
          "Europe",
          "Europe",
          "Europe",
          "Europe",
          "Europe",
          "Europe",
          "Europe",
          "Europe",
          "Europe",
          "Europe",
          "Europe",
          "Europe",
          "Europe",
          "Europe",
          "Europe",
          "Europe",
          "Europe",
          "Europe",
          "Europe",
          "Europe",
          "Europe",
          "Europe",
          "Europe",
          "Europe",
          "Europe",
          "Europe",
          "Europe",
          "Europe",
          "Europe",
          "Europe",
          "Europe",
          "Europe",
          "Europe",
          "Europe",
          "Europe",
          "Europe",
          "Europe",
          "Europe",
          "Europe",
          "Europe",
          "Europe",
          "Europe",
          "Europe",
          "Europe",
          "Europe",
          "Europe",
          "Europe",
          "Europe",
          "Europe",
          "Europe",
          "Europe",
          "Europe",
          "Europe",
          "Europe",
          "Europe",
          "Europe",
          "Europe",
          "Europe",
          "Europe",
          "Europe",
          "Europe",
          "Europe",
          "Europe",
          "North, Central America and Caribbean",
          "North, Central America and Caribbean",
          "North, Central America and Caribbean",
          "North, Central America and Caribbean",
          "North, Central America and Caribbean",
          "South America",
          "South America",
          "South America",
          "South America",
          "South America",
          "South America",
          "South America",
          "South America",
          "South America",
          "South America",
          "South America",
          "South America",
          "South America",
          "South America",
          "South America",
          "South America",
          "South America",
          "South America",
          "South America"
         ],
         "xaxis": "x",
         "yaxis": "y"
        }
       ],
       "layout": {
        "barmode": "relative",
        "height": 500,
        "legend": {
         "tracegroupgap": 0
        },
        "template": {
         "data": {
          "bar": [
           {
            "error_x": {
             "color": "#2a3f5f"
            },
            "error_y": {
             "color": "#2a3f5f"
            },
            "marker": {
             "line": {
              "color": "#E5ECF6",
              "width": 0.5
             },
             "pattern": {
              "fillmode": "overlay",
              "size": 10,
              "solidity": 0.2
             }
            },
            "type": "bar"
           }
          ],
          "barpolar": [
           {
            "marker": {
             "line": {
              "color": "#E5ECF6",
              "width": 0.5
             },
             "pattern": {
              "fillmode": "overlay",
              "size": 10,
              "solidity": 0.2
             }
            },
            "type": "barpolar"
           }
          ],
          "carpet": [
           {
            "aaxis": {
             "endlinecolor": "#2a3f5f",
             "gridcolor": "white",
             "linecolor": "white",
             "minorgridcolor": "white",
             "startlinecolor": "#2a3f5f"
            },
            "baxis": {
             "endlinecolor": "#2a3f5f",
             "gridcolor": "white",
             "linecolor": "white",
             "minorgridcolor": "white",
             "startlinecolor": "#2a3f5f"
            },
            "type": "carpet"
           }
          ],
          "choropleth": [
           {
            "colorbar": {
             "outlinewidth": 0,
             "ticks": ""
            },
            "type": "choropleth"
           }
          ],
          "contour": [
           {
            "colorbar": {
             "outlinewidth": 0,
             "ticks": ""
            },
            "colorscale": [
             [
              0,
              "#0d0887"
             ],
             [
              0.1111111111111111,
              "#46039f"
             ],
             [
              0.2222222222222222,
              "#7201a8"
             ],
             [
              0.3333333333333333,
              "#9c179e"
             ],
             [
              0.4444444444444444,
              "#bd3786"
             ],
             [
              0.5555555555555556,
              "#d8576b"
             ],
             [
              0.6666666666666666,
              "#ed7953"
             ],
             [
              0.7777777777777778,
              "#fb9f3a"
             ],
             [
              0.8888888888888888,
              "#fdca26"
             ],
             [
              1,
              "#f0f921"
             ]
            ],
            "type": "contour"
           }
          ],
          "contourcarpet": [
           {
            "colorbar": {
             "outlinewidth": 0,
             "ticks": ""
            },
            "type": "contourcarpet"
           }
          ],
          "heatmap": [
           {
            "colorbar": {
             "outlinewidth": 0,
             "ticks": ""
            },
            "colorscale": [
             [
              0,
              "#0d0887"
             ],
             [
              0.1111111111111111,
              "#46039f"
             ],
             [
              0.2222222222222222,
              "#7201a8"
             ],
             [
              0.3333333333333333,
              "#9c179e"
             ],
             [
              0.4444444444444444,
              "#bd3786"
             ],
             [
              0.5555555555555556,
              "#d8576b"
             ],
             [
              0.6666666666666666,
              "#ed7953"
             ],
             [
              0.7777777777777778,
              "#fb9f3a"
             ],
             [
              0.8888888888888888,
              "#fdca26"
             ],
             [
              1,
              "#f0f921"
             ]
            ],
            "type": "heatmap"
           }
          ],
          "heatmapgl": [
           {
            "colorbar": {
             "outlinewidth": 0,
             "ticks": ""
            },
            "colorscale": [
             [
              0,
              "#0d0887"
             ],
             [
              0.1111111111111111,
              "#46039f"
             ],
             [
              0.2222222222222222,
              "#7201a8"
             ],
             [
              0.3333333333333333,
              "#9c179e"
             ],
             [
              0.4444444444444444,
              "#bd3786"
             ],
             [
              0.5555555555555556,
              "#d8576b"
             ],
             [
              0.6666666666666666,
              "#ed7953"
             ],
             [
              0.7777777777777778,
              "#fb9f3a"
             ],
             [
              0.8888888888888888,
              "#fdca26"
             ],
             [
              1,
              "#f0f921"
             ]
            ],
            "type": "heatmapgl"
           }
          ],
          "histogram": [
           {
            "marker": {
             "pattern": {
              "fillmode": "overlay",
              "size": 10,
              "solidity": 0.2
             }
            },
            "type": "histogram"
           }
          ],
          "histogram2d": [
           {
            "colorbar": {
             "outlinewidth": 0,
             "ticks": ""
            },
            "colorscale": [
             [
              0,
              "#0d0887"
             ],
             [
              0.1111111111111111,
              "#46039f"
             ],
             [
              0.2222222222222222,
              "#7201a8"
             ],
             [
              0.3333333333333333,
              "#9c179e"
             ],
             [
              0.4444444444444444,
              "#bd3786"
             ],
             [
              0.5555555555555556,
              "#d8576b"
             ],
             [
              0.6666666666666666,
              "#ed7953"
             ],
             [
              0.7777777777777778,
              "#fb9f3a"
             ],
             [
              0.8888888888888888,
              "#fdca26"
             ],
             [
              1,
              "#f0f921"
             ]
            ],
            "type": "histogram2d"
           }
          ],
          "histogram2dcontour": [
           {
            "colorbar": {
             "outlinewidth": 0,
             "ticks": ""
            },
            "colorscale": [
             [
              0,
              "#0d0887"
             ],
             [
              0.1111111111111111,
              "#46039f"
             ],
             [
              0.2222222222222222,
              "#7201a8"
             ],
             [
              0.3333333333333333,
              "#9c179e"
             ],
             [
              0.4444444444444444,
              "#bd3786"
             ],
             [
              0.5555555555555556,
              "#d8576b"
             ],
             [
              0.6666666666666666,
              "#ed7953"
             ],
             [
              0.7777777777777778,
              "#fb9f3a"
             ],
             [
              0.8888888888888888,
              "#fdca26"
             ],
             [
              1,
              "#f0f921"
             ]
            ],
            "type": "histogram2dcontour"
           }
          ],
          "mesh3d": [
           {
            "colorbar": {
             "outlinewidth": 0,
             "ticks": ""
            },
            "type": "mesh3d"
           }
          ],
          "parcoords": [
           {
            "line": {
             "colorbar": {
              "outlinewidth": 0,
              "ticks": ""
             }
            },
            "type": "parcoords"
           }
          ],
          "pie": [
           {
            "automargin": true,
            "type": "pie"
           }
          ],
          "scatter": [
           {
            "fillpattern": {
             "fillmode": "overlay",
             "size": 10,
             "solidity": 0.2
            },
            "type": "scatter"
           }
          ],
          "scatter3d": [
           {
            "line": {
             "colorbar": {
              "outlinewidth": 0,
              "ticks": ""
             }
            },
            "marker": {
             "colorbar": {
              "outlinewidth": 0,
              "ticks": ""
             }
            },
            "type": "scatter3d"
           }
          ],
          "scattercarpet": [
           {
            "marker": {
             "colorbar": {
              "outlinewidth": 0,
              "ticks": ""
             }
            },
            "type": "scattercarpet"
           }
          ],
          "scattergeo": [
           {
            "marker": {
             "colorbar": {
              "outlinewidth": 0,
              "ticks": ""
             }
            },
            "type": "scattergeo"
           }
          ],
          "scattergl": [
           {
            "marker": {
             "colorbar": {
              "outlinewidth": 0,
              "ticks": ""
             }
            },
            "type": "scattergl"
           }
          ],
          "scattermapbox": [
           {
            "marker": {
             "colorbar": {
              "outlinewidth": 0,
              "ticks": ""
             }
            },
            "type": "scattermapbox"
           }
          ],
          "scatterpolar": [
           {
            "marker": {
             "colorbar": {
              "outlinewidth": 0,
              "ticks": ""
             }
            },
            "type": "scatterpolar"
           }
          ],
          "scatterpolargl": [
           {
            "marker": {
             "colorbar": {
              "outlinewidth": 0,
              "ticks": ""
             }
            },
            "type": "scatterpolargl"
           }
          ],
          "scatterternary": [
           {
            "marker": {
             "colorbar": {
              "outlinewidth": 0,
              "ticks": ""
             }
            },
            "type": "scatterternary"
           }
          ],
          "surface": [
           {
            "colorbar": {
             "outlinewidth": 0,
             "ticks": ""
            },
            "colorscale": [
             [
              0,
              "#0d0887"
             ],
             [
              0.1111111111111111,
              "#46039f"
             ],
             [
              0.2222222222222222,
              "#7201a8"
             ],
             [
              0.3333333333333333,
              "#9c179e"
             ],
             [
              0.4444444444444444,
              "#bd3786"
             ],
             [
              0.5555555555555556,
              "#d8576b"
             ],
             [
              0.6666666666666666,
              "#ed7953"
             ],
             [
              0.7777777777777778,
              "#fb9f3a"
             ],
             [
              0.8888888888888888,
              "#fdca26"
             ],
             [
              1,
              "#f0f921"
             ]
            ],
            "type": "surface"
           }
          ],
          "table": [
           {
            "cells": {
             "fill": {
              "color": "#EBF0F8"
             },
             "line": {
              "color": "white"
             }
            },
            "header": {
             "fill": {
              "color": "#C8D4E3"
             },
             "line": {
              "color": "white"
             }
            },
            "type": "table"
           }
          ]
         },
         "layout": {
          "annotationdefaults": {
           "arrowcolor": "#2a3f5f",
           "arrowhead": 0,
           "arrowwidth": 1
          },
          "autotypenumbers": "strict",
          "coloraxis": {
           "colorbar": {
            "outlinewidth": 0,
            "ticks": ""
           }
          },
          "colorscale": {
           "diverging": [
            [
             0,
             "#8e0152"
            ],
            [
             0.1,
             "#c51b7d"
            ],
            [
             0.2,
             "#de77ae"
            ],
            [
             0.3,
             "#f1b6da"
            ],
            [
             0.4,
             "#fde0ef"
            ],
            [
             0.5,
             "#f7f7f7"
            ],
            [
             0.6,
             "#e6f5d0"
            ],
            [
             0.7,
             "#b8e186"
            ],
            [
             0.8,
             "#7fbc41"
            ],
            [
             0.9,
             "#4d9221"
            ],
            [
             1,
             "#276419"
            ]
           ],
           "sequential": [
            [
             0,
             "#0d0887"
            ],
            [
             0.1111111111111111,
             "#46039f"
            ],
            [
             0.2222222222222222,
             "#7201a8"
            ],
            [
             0.3333333333333333,
             "#9c179e"
            ],
            [
             0.4444444444444444,
             "#bd3786"
            ],
            [
             0.5555555555555556,
             "#d8576b"
            ],
            [
             0.6666666666666666,
             "#ed7953"
            ],
            [
             0.7777777777777778,
             "#fb9f3a"
            ],
            [
             0.8888888888888888,
             "#fdca26"
            ],
            [
             1,
             "#f0f921"
            ]
           ],
           "sequentialminus": [
            [
             0,
             "#0d0887"
            ],
            [
             0.1111111111111111,
             "#46039f"
            ],
            [
             0.2222222222222222,
             "#7201a8"
            ],
            [
             0.3333333333333333,
             "#9c179e"
            ],
            [
             0.4444444444444444,
             "#bd3786"
            ],
            [
             0.5555555555555556,
             "#d8576b"
            ],
            [
             0.6666666666666666,
             "#ed7953"
            ],
            [
             0.7777777777777778,
             "#fb9f3a"
            ],
            [
             0.8888888888888888,
             "#fdca26"
            ],
            [
             1,
             "#f0f921"
            ]
           ]
          },
          "colorway": [
           "#636efa",
           "#EF553B",
           "#00cc96",
           "#ab63fa",
           "#FFA15A",
           "#19d3f3",
           "#FF6692",
           "#B6E880",
           "#FF97FF",
           "#FECB52"
          ],
          "font": {
           "color": "#2a3f5f"
          },
          "geo": {
           "bgcolor": "white",
           "lakecolor": "white",
           "landcolor": "#E5ECF6",
           "showlakes": true,
           "showland": true,
           "subunitcolor": "white"
          },
          "hoverlabel": {
           "align": "left"
          },
          "hovermode": "closest",
          "mapbox": {
           "style": "light"
          },
          "paper_bgcolor": "white",
          "plot_bgcolor": "#E5ECF6",
          "polar": {
           "angularaxis": {
            "gridcolor": "white",
            "linecolor": "white",
            "ticks": ""
           },
           "bgcolor": "#E5ECF6",
           "radialaxis": {
            "gridcolor": "white",
            "linecolor": "white",
            "ticks": ""
           }
          },
          "scene": {
           "xaxis": {
            "backgroundcolor": "#E5ECF6",
            "gridcolor": "white",
            "gridwidth": 2,
            "linecolor": "white",
            "showbackground": true,
            "ticks": "",
            "zerolinecolor": "white"
           },
           "yaxis": {
            "backgroundcolor": "#E5ECF6",
            "gridcolor": "white",
            "gridwidth": 2,
            "linecolor": "white",
            "showbackground": true,
            "ticks": "",
            "zerolinecolor": "white"
           },
           "zaxis": {
            "backgroundcolor": "#E5ECF6",
            "gridcolor": "white",
            "gridwidth": 2,
            "linecolor": "white",
            "showbackground": true,
            "ticks": "",
            "zerolinecolor": "white"
           }
          },
          "shapedefaults": {
           "line": {
            "color": "#2a3f5f"
           }
          },
          "ternary": {
           "aaxis": {
            "gridcolor": "white",
            "linecolor": "white",
            "ticks": ""
           },
           "baxis": {
            "gridcolor": "white",
            "linecolor": "white",
            "ticks": ""
           },
           "bgcolor": "#E5ECF6",
           "caxis": {
            "gridcolor": "white",
            "linecolor": "white",
            "ticks": ""
           }
          },
          "title": {
           "x": 0.05
          },
          "xaxis": {
           "automargin": true,
           "gridcolor": "white",
           "linecolor": "white",
           "ticks": "",
           "title": {
            "standoff": 15
           },
           "zerolinecolor": "white",
           "zerolinewidth": 2
          },
          "yaxis": {
           "automargin": true,
           "gridcolor": "white",
           "linecolor": "white",
           "ticks": "",
           "title": {
            "standoff": 15
           },
           "zerolinecolor": "white",
           "zerolinewidth": 2
          }
         }
        },
        "title": {
         "text": "Foreign Players at Arsenal (157)"
        },
        "width": 800,
        "xaxis": {
         "anchor": "y",
         "domain": [
          0,
          1
         ],
         "title": {
          "text": "Clubs"
         }
        },
        "yaxis": {
         "anchor": "x",
         "domain": [
          0,
          1
         ],
         "title": {
          "text": "Player Count"
         }
        }
       }
      }
     },
     "metadata": {},
     "output_type": "display_data"
    }
   ],
   "source": [
    "# Create the stacked bar chart for Arsenal players from different regions\n",
    "fig = px.histogram(df_clubs_Arsenal, x=df_clubs_Arsenal.Region,\n",
    "             title='Foreign Players at Arsenal (157)',\n",
    "             orientation='v',\n",
    "             color_discrete_sequence=['indianred']\n",
    ")\n",
    "\n",
    "fig.update_layout(xaxis_title=\"Clubs\",\n",
    "                yaxis_title=\"Player Count\",\n",
    "                height=500,\n",
    "                width=800)\n",
    "\n",
    "fig.show()"
   ]
  },
  {
   "cell_type": "code",
   "execution_count": 109,
   "metadata": {},
   "outputs": [
    {
     "data": {
      "application/vnd.plotly.v1+json": {
       "config": {
        "plotlyServerURL": "https://plot.ly"
       },
       "data": [
        {
         "alignmentgroup": "True",
         "bingroup": "x",
         "histfunc": "sum",
         "hovertemplate": "Country=%{x}<br>sum of Count=%{y}<extra></extra>",
         "legendgroup": "",
         "marker": {
          "color": "indianred",
          "pattern": {
           "shape": ""
          }
         },
         "name": "",
         "offsetgroup": "",
         "orientation": "v",
         "showlegend": false,
         "type": "histogram",
         "x": [
          "France",
          "Spain",
          "Brazil",
          "Germany",
          "Netherlands",
          "Sweden",
          "Portugal",
          "Ivory Coast",
          "Switzerland",
          "Republic of Ireland"
         ],
         "xaxis": "x",
         "y": [
          28,
          14,
          13,
          10,
          6,
          6,
          5,
          4,
          4,
          4
         ],
         "yaxis": "y"
        }
       ],
       "layout": {
        "barmode": "stack",
        "legend": {
         "tracegroupgap": 0
        },
        "template": {
         "data": {
          "bar": [
           {
            "error_x": {
             "color": "#2a3f5f"
            },
            "error_y": {
             "color": "#2a3f5f"
            },
            "marker": {
             "line": {
              "color": "#E5ECF6",
              "width": 0.5
             },
             "pattern": {
              "fillmode": "overlay",
              "size": 10,
              "solidity": 0.2
             }
            },
            "type": "bar"
           }
          ],
          "barpolar": [
           {
            "marker": {
             "line": {
              "color": "#E5ECF6",
              "width": 0.5
             },
             "pattern": {
              "fillmode": "overlay",
              "size": 10,
              "solidity": 0.2
             }
            },
            "type": "barpolar"
           }
          ],
          "carpet": [
           {
            "aaxis": {
             "endlinecolor": "#2a3f5f",
             "gridcolor": "white",
             "linecolor": "white",
             "minorgridcolor": "white",
             "startlinecolor": "#2a3f5f"
            },
            "baxis": {
             "endlinecolor": "#2a3f5f",
             "gridcolor": "white",
             "linecolor": "white",
             "minorgridcolor": "white",
             "startlinecolor": "#2a3f5f"
            },
            "type": "carpet"
           }
          ],
          "choropleth": [
           {
            "colorbar": {
             "outlinewidth": 0,
             "ticks": ""
            },
            "type": "choropleth"
           }
          ],
          "contour": [
           {
            "colorbar": {
             "outlinewidth": 0,
             "ticks": ""
            },
            "colorscale": [
             [
              0,
              "#0d0887"
             ],
             [
              0.1111111111111111,
              "#46039f"
             ],
             [
              0.2222222222222222,
              "#7201a8"
             ],
             [
              0.3333333333333333,
              "#9c179e"
             ],
             [
              0.4444444444444444,
              "#bd3786"
             ],
             [
              0.5555555555555556,
              "#d8576b"
             ],
             [
              0.6666666666666666,
              "#ed7953"
             ],
             [
              0.7777777777777778,
              "#fb9f3a"
             ],
             [
              0.8888888888888888,
              "#fdca26"
             ],
             [
              1,
              "#f0f921"
             ]
            ],
            "type": "contour"
           }
          ],
          "contourcarpet": [
           {
            "colorbar": {
             "outlinewidth": 0,
             "ticks": ""
            },
            "type": "contourcarpet"
           }
          ],
          "heatmap": [
           {
            "colorbar": {
             "outlinewidth": 0,
             "ticks": ""
            },
            "colorscale": [
             [
              0,
              "#0d0887"
             ],
             [
              0.1111111111111111,
              "#46039f"
             ],
             [
              0.2222222222222222,
              "#7201a8"
             ],
             [
              0.3333333333333333,
              "#9c179e"
             ],
             [
              0.4444444444444444,
              "#bd3786"
             ],
             [
              0.5555555555555556,
              "#d8576b"
             ],
             [
              0.6666666666666666,
              "#ed7953"
             ],
             [
              0.7777777777777778,
              "#fb9f3a"
             ],
             [
              0.8888888888888888,
              "#fdca26"
             ],
             [
              1,
              "#f0f921"
             ]
            ],
            "type": "heatmap"
           }
          ],
          "heatmapgl": [
           {
            "colorbar": {
             "outlinewidth": 0,
             "ticks": ""
            },
            "colorscale": [
             [
              0,
              "#0d0887"
             ],
             [
              0.1111111111111111,
              "#46039f"
             ],
             [
              0.2222222222222222,
              "#7201a8"
             ],
             [
              0.3333333333333333,
              "#9c179e"
             ],
             [
              0.4444444444444444,
              "#bd3786"
             ],
             [
              0.5555555555555556,
              "#d8576b"
             ],
             [
              0.6666666666666666,
              "#ed7953"
             ],
             [
              0.7777777777777778,
              "#fb9f3a"
             ],
             [
              0.8888888888888888,
              "#fdca26"
             ],
             [
              1,
              "#f0f921"
             ]
            ],
            "type": "heatmapgl"
           }
          ],
          "histogram": [
           {
            "marker": {
             "pattern": {
              "fillmode": "overlay",
              "size": 10,
              "solidity": 0.2
             }
            },
            "type": "histogram"
           }
          ],
          "histogram2d": [
           {
            "colorbar": {
             "outlinewidth": 0,
             "ticks": ""
            },
            "colorscale": [
             [
              0,
              "#0d0887"
             ],
             [
              0.1111111111111111,
              "#46039f"
             ],
             [
              0.2222222222222222,
              "#7201a8"
             ],
             [
              0.3333333333333333,
              "#9c179e"
             ],
             [
              0.4444444444444444,
              "#bd3786"
             ],
             [
              0.5555555555555556,
              "#d8576b"
             ],
             [
              0.6666666666666666,
              "#ed7953"
             ],
             [
              0.7777777777777778,
              "#fb9f3a"
             ],
             [
              0.8888888888888888,
              "#fdca26"
             ],
             [
              1,
              "#f0f921"
             ]
            ],
            "type": "histogram2d"
           }
          ],
          "histogram2dcontour": [
           {
            "colorbar": {
             "outlinewidth": 0,
             "ticks": ""
            },
            "colorscale": [
             [
              0,
              "#0d0887"
             ],
             [
              0.1111111111111111,
              "#46039f"
             ],
             [
              0.2222222222222222,
              "#7201a8"
             ],
             [
              0.3333333333333333,
              "#9c179e"
             ],
             [
              0.4444444444444444,
              "#bd3786"
             ],
             [
              0.5555555555555556,
              "#d8576b"
             ],
             [
              0.6666666666666666,
              "#ed7953"
             ],
             [
              0.7777777777777778,
              "#fb9f3a"
             ],
             [
              0.8888888888888888,
              "#fdca26"
             ],
             [
              1,
              "#f0f921"
             ]
            ],
            "type": "histogram2dcontour"
           }
          ],
          "mesh3d": [
           {
            "colorbar": {
             "outlinewidth": 0,
             "ticks": ""
            },
            "type": "mesh3d"
           }
          ],
          "parcoords": [
           {
            "line": {
             "colorbar": {
              "outlinewidth": 0,
              "ticks": ""
             }
            },
            "type": "parcoords"
           }
          ],
          "pie": [
           {
            "automargin": true,
            "type": "pie"
           }
          ],
          "scatter": [
           {
            "fillpattern": {
             "fillmode": "overlay",
             "size": 10,
             "solidity": 0.2
            },
            "type": "scatter"
           }
          ],
          "scatter3d": [
           {
            "line": {
             "colorbar": {
              "outlinewidth": 0,
              "ticks": ""
             }
            },
            "marker": {
             "colorbar": {
              "outlinewidth": 0,
              "ticks": ""
             }
            },
            "type": "scatter3d"
           }
          ],
          "scattercarpet": [
           {
            "marker": {
             "colorbar": {
              "outlinewidth": 0,
              "ticks": ""
             }
            },
            "type": "scattercarpet"
           }
          ],
          "scattergeo": [
           {
            "marker": {
             "colorbar": {
              "outlinewidth": 0,
              "ticks": ""
             }
            },
            "type": "scattergeo"
           }
          ],
          "scattergl": [
           {
            "marker": {
             "colorbar": {
              "outlinewidth": 0,
              "ticks": ""
             }
            },
            "type": "scattergl"
           }
          ],
          "scattermapbox": [
           {
            "marker": {
             "colorbar": {
              "outlinewidth": 0,
              "ticks": ""
             }
            },
            "type": "scattermapbox"
           }
          ],
          "scatterpolar": [
           {
            "marker": {
             "colorbar": {
              "outlinewidth": 0,
              "ticks": ""
             }
            },
            "type": "scatterpolar"
           }
          ],
          "scatterpolargl": [
           {
            "marker": {
             "colorbar": {
              "outlinewidth": 0,
              "ticks": ""
             }
            },
            "type": "scatterpolargl"
           }
          ],
          "scatterternary": [
           {
            "marker": {
             "colorbar": {
              "outlinewidth": 0,
              "ticks": ""
             }
            },
            "type": "scatterternary"
           }
          ],
          "surface": [
           {
            "colorbar": {
             "outlinewidth": 0,
             "ticks": ""
            },
            "colorscale": [
             [
              0,
              "#0d0887"
             ],
             [
              0.1111111111111111,
              "#46039f"
             ],
             [
              0.2222222222222222,
              "#7201a8"
             ],
             [
              0.3333333333333333,
              "#9c179e"
             ],
             [
              0.4444444444444444,
              "#bd3786"
             ],
             [
              0.5555555555555556,
              "#d8576b"
             ],
             [
              0.6666666666666666,
              "#ed7953"
             ],
             [
              0.7777777777777778,
              "#fb9f3a"
             ],
             [
              0.8888888888888888,
              "#fdca26"
             ],
             [
              1,
              "#f0f921"
             ]
            ],
            "type": "surface"
           }
          ],
          "table": [
           {
            "cells": {
             "fill": {
              "color": "#EBF0F8"
             },
             "line": {
              "color": "white"
             }
            },
            "header": {
             "fill": {
              "color": "#C8D4E3"
             },
             "line": {
              "color": "white"
             }
            },
            "type": "table"
           }
          ]
         },
         "layout": {
          "annotationdefaults": {
           "arrowcolor": "#2a3f5f",
           "arrowhead": 0,
           "arrowwidth": 1
          },
          "autotypenumbers": "strict",
          "coloraxis": {
           "colorbar": {
            "outlinewidth": 0,
            "ticks": ""
           }
          },
          "colorscale": {
           "diverging": [
            [
             0,
             "#8e0152"
            ],
            [
             0.1,
             "#c51b7d"
            ],
            [
             0.2,
             "#de77ae"
            ],
            [
             0.3,
             "#f1b6da"
            ],
            [
             0.4,
             "#fde0ef"
            ],
            [
             0.5,
             "#f7f7f7"
            ],
            [
             0.6,
             "#e6f5d0"
            ],
            [
             0.7,
             "#b8e186"
            ],
            [
             0.8,
             "#7fbc41"
            ],
            [
             0.9,
             "#4d9221"
            ],
            [
             1,
             "#276419"
            ]
           ],
           "sequential": [
            [
             0,
             "#0d0887"
            ],
            [
             0.1111111111111111,
             "#46039f"
            ],
            [
             0.2222222222222222,
             "#7201a8"
            ],
            [
             0.3333333333333333,
             "#9c179e"
            ],
            [
             0.4444444444444444,
             "#bd3786"
            ],
            [
             0.5555555555555556,
             "#d8576b"
            ],
            [
             0.6666666666666666,
             "#ed7953"
            ],
            [
             0.7777777777777778,
             "#fb9f3a"
            ],
            [
             0.8888888888888888,
             "#fdca26"
            ],
            [
             1,
             "#f0f921"
            ]
           ],
           "sequentialminus": [
            [
             0,
             "#0d0887"
            ],
            [
             0.1111111111111111,
             "#46039f"
            ],
            [
             0.2222222222222222,
             "#7201a8"
            ],
            [
             0.3333333333333333,
             "#9c179e"
            ],
            [
             0.4444444444444444,
             "#bd3786"
            ],
            [
             0.5555555555555556,
             "#d8576b"
            ],
            [
             0.6666666666666666,
             "#ed7953"
            ],
            [
             0.7777777777777778,
             "#fb9f3a"
            ],
            [
             0.8888888888888888,
             "#fdca26"
            ],
            [
             1,
             "#f0f921"
            ]
           ]
          },
          "colorway": [
           "#636efa",
           "#EF553B",
           "#00cc96",
           "#ab63fa",
           "#FFA15A",
           "#19d3f3",
           "#FF6692",
           "#B6E880",
           "#FF97FF",
           "#FECB52"
          ],
          "font": {
           "color": "#2a3f5f"
          },
          "geo": {
           "bgcolor": "white",
           "lakecolor": "white",
           "landcolor": "#E5ECF6",
           "showlakes": true,
           "showland": true,
           "subunitcolor": "white"
          },
          "hoverlabel": {
           "align": "left"
          },
          "hovermode": "closest",
          "mapbox": {
           "style": "light"
          },
          "paper_bgcolor": "white",
          "plot_bgcolor": "#E5ECF6",
          "polar": {
           "angularaxis": {
            "gridcolor": "white",
            "linecolor": "white",
            "ticks": ""
           },
           "bgcolor": "#E5ECF6",
           "radialaxis": {
            "gridcolor": "white",
            "linecolor": "white",
            "ticks": ""
           }
          },
          "scene": {
           "xaxis": {
            "backgroundcolor": "#E5ECF6",
            "gridcolor": "white",
            "gridwidth": 2,
            "linecolor": "white",
            "showbackground": true,
            "ticks": "",
            "zerolinecolor": "white"
           },
           "yaxis": {
            "backgroundcolor": "#E5ECF6",
            "gridcolor": "white",
            "gridwidth": 2,
            "linecolor": "white",
            "showbackground": true,
            "ticks": "",
            "zerolinecolor": "white"
           },
           "zaxis": {
            "backgroundcolor": "#E5ECF6",
            "gridcolor": "white",
            "gridwidth": 2,
            "linecolor": "white",
            "showbackground": true,
            "ticks": "",
            "zerolinecolor": "white"
           }
          },
          "shapedefaults": {
           "line": {
            "color": "#2a3f5f"
           }
          },
          "ternary": {
           "aaxis": {
            "gridcolor": "white",
            "linecolor": "white",
            "ticks": ""
           },
           "baxis": {
            "gridcolor": "white",
            "linecolor": "white",
            "ticks": ""
           },
           "bgcolor": "#E5ECF6",
           "caxis": {
            "gridcolor": "white",
            "linecolor": "white",
            "ticks": ""
           }
          },
          "title": {
           "x": 0.05
          },
          "xaxis": {
           "automargin": true,
           "gridcolor": "white",
           "linecolor": "white",
           "ticks": "",
           "title": {
            "standoff": 15
           },
           "zerolinecolor": "white",
           "zerolinewidth": 2
          },
          "yaxis": {
           "automargin": true,
           "gridcolor": "white",
           "linecolor": "white",
           "ticks": "",
           "title": {
            "standoff": 15
           },
           "zerolinecolor": "white",
           "zerolinewidth": 2
          }
         }
        },
        "title": {
         "text": "Top 10 Foreign Countries Represented at Arsenal"
        },
        "xaxis": {
         "anchor": "y",
         "domain": [
          0,
          1
         ],
         "title": {
          "text": "Countries"
         }
        },
        "yaxis": {
         "anchor": "x",
         "domain": [
          0,
          1
         ],
         "title": {
          "text": "Player Count"
         }
        }
       }
      }
     },
     "metadata": {},
     "output_type": "display_data"
    }
   ],
   "source": [
    "df_clubs_Arsenal_counts = df_clubs_Arsenal.value_counts(\"Country\").head(10).reset_index()\n",
    "df_clubs_Arsenal_counts.columns = ['Country', 'Count']\n",
    "\n",
    "fig1 = px.histogram(df_clubs_Arsenal_counts,\n",
    "                   x='Country',\n",
    "                   y=\"Count\",\n",
    "             title='Top 10 Foreign Countries Represented at Arsenal',\n",
    "             color_discrete_sequence=['indianred'],\n",
    "             orientation='v')\n",
    "\n",
    "fig1.update_layout(barmode='stack',\n",
    "                xaxis_title=\"Countries\",\n",
    "                yaxis_title=\"Player Count\",)\n",
    "\n",
    "fig1.show()"
   ]
  },
  {
   "cell_type": "code",
   "execution_count": 110,
   "metadata": {},
   "outputs": [
    {
     "data": {
      "application/vnd.plotly.v1+json": {
       "config": {
        "plotlyServerURL": "https://plot.ly"
       },
       "data": [
        {
         "alignmentgroup": "True",
         "bingroup": "x",
         "histfunc": "sum",
         "hovertemplate": "Country=%{x}<br>sum of Count=%{y}<extra></extra>",
         "legendgroup": "",
         "marker": {
          "color": "#636efa",
          "pattern": {
           "shape": ""
          }
         },
         "name": "",
         "offsetgroup": "",
         "orientation": "v",
         "showlegend": false,
         "type": "histogram",
         "x": [
          "France",
          "Republic of Ireland",
          "Spain",
          "Netherlands",
          "Brazil",
          "Portugal",
          "Norway",
          "Denmark",
          "Italy",
          "Argentina"
         ],
         "xaxis": "x",
         "y": [
          349,
          345,
          208,
          199,
          139,
          113,
          111,
          105,
          103,
          102
         ],
         "yaxis": "y"
        }
       ],
       "layout": {
        "barmode": "stack",
        "legend": {
         "tracegroupgap": 0
        },
        "template": {
         "data": {
          "bar": [
           {
            "error_x": {
             "color": "#2a3f5f"
            },
            "error_y": {
             "color": "#2a3f5f"
            },
            "marker": {
             "line": {
              "color": "#E5ECF6",
              "width": 0.5
             },
             "pattern": {
              "fillmode": "overlay",
              "size": 10,
              "solidity": 0.2
             }
            },
            "type": "bar"
           }
          ],
          "barpolar": [
           {
            "marker": {
             "line": {
              "color": "#E5ECF6",
              "width": 0.5
             },
             "pattern": {
              "fillmode": "overlay",
              "size": 10,
              "solidity": 0.2
             }
            },
            "type": "barpolar"
           }
          ],
          "carpet": [
           {
            "aaxis": {
             "endlinecolor": "#2a3f5f",
             "gridcolor": "white",
             "linecolor": "white",
             "minorgridcolor": "white",
             "startlinecolor": "#2a3f5f"
            },
            "baxis": {
             "endlinecolor": "#2a3f5f",
             "gridcolor": "white",
             "linecolor": "white",
             "minorgridcolor": "white",
             "startlinecolor": "#2a3f5f"
            },
            "type": "carpet"
           }
          ],
          "choropleth": [
           {
            "colorbar": {
             "outlinewidth": 0,
             "ticks": ""
            },
            "type": "choropleth"
           }
          ],
          "contour": [
           {
            "colorbar": {
             "outlinewidth": 0,
             "ticks": ""
            },
            "colorscale": [
             [
              0,
              "#0d0887"
             ],
             [
              0.1111111111111111,
              "#46039f"
             ],
             [
              0.2222222222222222,
              "#7201a8"
             ],
             [
              0.3333333333333333,
              "#9c179e"
             ],
             [
              0.4444444444444444,
              "#bd3786"
             ],
             [
              0.5555555555555556,
              "#d8576b"
             ],
             [
              0.6666666666666666,
              "#ed7953"
             ],
             [
              0.7777777777777778,
              "#fb9f3a"
             ],
             [
              0.8888888888888888,
              "#fdca26"
             ],
             [
              1,
              "#f0f921"
             ]
            ],
            "type": "contour"
           }
          ],
          "contourcarpet": [
           {
            "colorbar": {
             "outlinewidth": 0,
             "ticks": ""
            },
            "type": "contourcarpet"
           }
          ],
          "heatmap": [
           {
            "colorbar": {
             "outlinewidth": 0,
             "ticks": ""
            },
            "colorscale": [
             [
              0,
              "#0d0887"
             ],
             [
              0.1111111111111111,
              "#46039f"
             ],
             [
              0.2222222222222222,
              "#7201a8"
             ],
             [
              0.3333333333333333,
              "#9c179e"
             ],
             [
              0.4444444444444444,
              "#bd3786"
             ],
             [
              0.5555555555555556,
              "#d8576b"
             ],
             [
              0.6666666666666666,
              "#ed7953"
             ],
             [
              0.7777777777777778,
              "#fb9f3a"
             ],
             [
              0.8888888888888888,
              "#fdca26"
             ],
             [
              1,
              "#f0f921"
             ]
            ],
            "type": "heatmap"
           }
          ],
          "heatmapgl": [
           {
            "colorbar": {
             "outlinewidth": 0,
             "ticks": ""
            },
            "colorscale": [
             [
              0,
              "#0d0887"
             ],
             [
              0.1111111111111111,
              "#46039f"
             ],
             [
              0.2222222222222222,
              "#7201a8"
             ],
             [
              0.3333333333333333,
              "#9c179e"
             ],
             [
              0.4444444444444444,
              "#bd3786"
             ],
             [
              0.5555555555555556,
              "#d8576b"
             ],
             [
              0.6666666666666666,
              "#ed7953"
             ],
             [
              0.7777777777777778,
              "#fb9f3a"
             ],
             [
              0.8888888888888888,
              "#fdca26"
             ],
             [
              1,
              "#f0f921"
             ]
            ],
            "type": "heatmapgl"
           }
          ],
          "histogram": [
           {
            "marker": {
             "pattern": {
              "fillmode": "overlay",
              "size": 10,
              "solidity": 0.2
             }
            },
            "type": "histogram"
           }
          ],
          "histogram2d": [
           {
            "colorbar": {
             "outlinewidth": 0,
             "ticks": ""
            },
            "colorscale": [
             [
              0,
              "#0d0887"
             ],
             [
              0.1111111111111111,
              "#46039f"
             ],
             [
              0.2222222222222222,
              "#7201a8"
             ],
             [
              0.3333333333333333,
              "#9c179e"
             ],
             [
              0.4444444444444444,
              "#bd3786"
             ],
             [
              0.5555555555555556,
              "#d8576b"
             ],
             [
              0.6666666666666666,
              "#ed7953"
             ],
             [
              0.7777777777777778,
              "#fb9f3a"
             ],
             [
              0.8888888888888888,
              "#fdca26"
             ],
             [
              1,
              "#f0f921"
             ]
            ],
            "type": "histogram2d"
           }
          ],
          "histogram2dcontour": [
           {
            "colorbar": {
             "outlinewidth": 0,
             "ticks": ""
            },
            "colorscale": [
             [
              0,
              "#0d0887"
             ],
             [
              0.1111111111111111,
              "#46039f"
             ],
             [
              0.2222222222222222,
              "#7201a8"
             ],
             [
              0.3333333333333333,
              "#9c179e"
             ],
             [
              0.4444444444444444,
              "#bd3786"
             ],
             [
              0.5555555555555556,
              "#d8576b"
             ],
             [
              0.6666666666666666,
              "#ed7953"
             ],
             [
              0.7777777777777778,
              "#fb9f3a"
             ],
             [
              0.8888888888888888,
              "#fdca26"
             ],
             [
              1,
              "#f0f921"
             ]
            ],
            "type": "histogram2dcontour"
           }
          ],
          "mesh3d": [
           {
            "colorbar": {
             "outlinewidth": 0,
             "ticks": ""
            },
            "type": "mesh3d"
           }
          ],
          "parcoords": [
           {
            "line": {
             "colorbar": {
              "outlinewidth": 0,
              "ticks": ""
             }
            },
            "type": "parcoords"
           }
          ],
          "pie": [
           {
            "automargin": true,
            "type": "pie"
           }
          ],
          "scatter": [
           {
            "fillpattern": {
             "fillmode": "overlay",
             "size": 10,
             "solidity": 0.2
            },
            "type": "scatter"
           }
          ],
          "scatter3d": [
           {
            "line": {
             "colorbar": {
              "outlinewidth": 0,
              "ticks": ""
             }
            },
            "marker": {
             "colorbar": {
              "outlinewidth": 0,
              "ticks": ""
             }
            },
            "type": "scatter3d"
           }
          ],
          "scattercarpet": [
           {
            "marker": {
             "colorbar": {
              "outlinewidth": 0,
              "ticks": ""
             }
            },
            "type": "scattercarpet"
           }
          ],
          "scattergeo": [
           {
            "marker": {
             "colorbar": {
              "outlinewidth": 0,
              "ticks": ""
             }
            },
            "type": "scattergeo"
           }
          ],
          "scattergl": [
           {
            "marker": {
             "colorbar": {
              "outlinewidth": 0,
              "ticks": ""
             }
            },
            "type": "scattergl"
           }
          ],
          "scattermapbox": [
           {
            "marker": {
             "colorbar": {
              "outlinewidth": 0,
              "ticks": ""
             }
            },
            "type": "scattermapbox"
           }
          ],
          "scatterpolar": [
           {
            "marker": {
             "colorbar": {
              "outlinewidth": 0,
              "ticks": ""
             }
            },
            "type": "scatterpolar"
           }
          ],
          "scatterpolargl": [
           {
            "marker": {
             "colorbar": {
              "outlinewidth": 0,
              "ticks": ""
             }
            },
            "type": "scatterpolargl"
           }
          ],
          "scatterternary": [
           {
            "marker": {
             "colorbar": {
              "outlinewidth": 0,
              "ticks": ""
             }
            },
            "type": "scatterternary"
           }
          ],
          "surface": [
           {
            "colorbar": {
             "outlinewidth": 0,
             "ticks": ""
            },
            "colorscale": [
             [
              0,
              "#0d0887"
             ],
             [
              0.1111111111111111,
              "#46039f"
             ],
             [
              0.2222222222222222,
              "#7201a8"
             ],
             [
              0.3333333333333333,
              "#9c179e"
             ],
             [
              0.4444444444444444,
              "#bd3786"
             ],
             [
              0.5555555555555556,
              "#d8576b"
             ],
             [
              0.6666666666666666,
              "#ed7953"
             ],
             [
              0.7777777777777778,
              "#fb9f3a"
             ],
             [
              0.8888888888888888,
              "#fdca26"
             ],
             [
              1,
              "#f0f921"
             ]
            ],
            "type": "surface"
           }
          ],
          "table": [
           {
            "cells": {
             "fill": {
              "color": "#EBF0F8"
             },
             "line": {
              "color": "white"
             }
            },
            "header": {
             "fill": {
              "color": "#C8D4E3"
             },
             "line": {
              "color": "white"
             }
            },
            "type": "table"
           }
          ]
         },
         "layout": {
          "annotationdefaults": {
           "arrowcolor": "#2a3f5f",
           "arrowhead": 0,
           "arrowwidth": 1
          },
          "autotypenumbers": "strict",
          "coloraxis": {
           "colorbar": {
            "outlinewidth": 0,
            "ticks": ""
           }
          },
          "colorscale": {
           "diverging": [
            [
             0,
             "#8e0152"
            ],
            [
             0.1,
             "#c51b7d"
            ],
            [
             0.2,
             "#de77ae"
            ],
            [
             0.3,
             "#f1b6da"
            ],
            [
             0.4,
             "#fde0ef"
            ],
            [
             0.5,
             "#f7f7f7"
            ],
            [
             0.6,
             "#e6f5d0"
            ],
            [
             0.7,
             "#b8e186"
            ],
            [
             0.8,
             "#7fbc41"
            ],
            [
             0.9,
             "#4d9221"
            ],
            [
             1,
             "#276419"
            ]
           ],
           "sequential": [
            [
             0,
             "#0d0887"
            ],
            [
             0.1111111111111111,
             "#46039f"
            ],
            [
             0.2222222222222222,
             "#7201a8"
            ],
            [
             0.3333333333333333,
             "#9c179e"
            ],
            [
             0.4444444444444444,
             "#bd3786"
            ],
            [
             0.5555555555555556,
             "#d8576b"
            ],
            [
             0.6666666666666666,
             "#ed7953"
            ],
            [
             0.7777777777777778,
             "#fb9f3a"
            ],
            [
             0.8888888888888888,
             "#fdca26"
            ],
            [
             1,
             "#f0f921"
            ]
           ],
           "sequentialminus": [
            [
             0,
             "#0d0887"
            ],
            [
             0.1111111111111111,
             "#46039f"
            ],
            [
             0.2222222222222222,
             "#7201a8"
            ],
            [
             0.3333333333333333,
             "#9c179e"
            ],
            [
             0.4444444444444444,
             "#bd3786"
            ],
            [
             0.5555555555555556,
             "#d8576b"
            ],
            [
             0.6666666666666666,
             "#ed7953"
            ],
            [
             0.7777777777777778,
             "#fb9f3a"
            ],
            [
             0.8888888888888888,
             "#fdca26"
            ],
            [
             1,
             "#f0f921"
            ]
           ]
          },
          "colorway": [
           "#636efa",
           "#EF553B",
           "#00cc96",
           "#ab63fa",
           "#FFA15A",
           "#19d3f3",
           "#FF6692",
           "#B6E880",
           "#FF97FF",
           "#FECB52"
          ],
          "font": {
           "color": "#2a3f5f"
          },
          "geo": {
           "bgcolor": "white",
           "lakecolor": "white",
           "landcolor": "#E5ECF6",
           "showlakes": true,
           "showland": true,
           "subunitcolor": "white"
          },
          "hoverlabel": {
           "align": "left"
          },
          "hovermode": "closest",
          "mapbox": {
           "style": "light"
          },
          "paper_bgcolor": "white",
          "plot_bgcolor": "#E5ECF6",
          "polar": {
           "angularaxis": {
            "gridcolor": "white",
            "linecolor": "white",
            "ticks": ""
           },
           "bgcolor": "#E5ECF6",
           "radialaxis": {
            "gridcolor": "white",
            "linecolor": "white",
            "ticks": ""
           }
          },
          "scene": {
           "xaxis": {
            "backgroundcolor": "#E5ECF6",
            "gridcolor": "white",
            "gridwidth": 2,
            "linecolor": "white",
            "showbackground": true,
            "ticks": "",
            "zerolinecolor": "white"
           },
           "yaxis": {
            "backgroundcolor": "#E5ECF6",
            "gridcolor": "white",
            "gridwidth": 2,
            "linecolor": "white",
            "showbackground": true,
            "ticks": "",
            "zerolinecolor": "white"
           },
           "zaxis": {
            "backgroundcolor": "#E5ECF6",
            "gridcolor": "white",
            "gridwidth": 2,
            "linecolor": "white",
            "showbackground": true,
            "ticks": "",
            "zerolinecolor": "white"
           }
          },
          "shapedefaults": {
           "line": {
            "color": "#2a3f5f"
           }
          },
          "ternary": {
           "aaxis": {
            "gridcolor": "white",
            "linecolor": "white",
            "ticks": ""
           },
           "baxis": {
            "gridcolor": "white",
            "linecolor": "white",
            "ticks": ""
           },
           "bgcolor": "#E5ECF6",
           "caxis": {
            "gridcolor": "white",
            "linecolor": "white",
            "ticks": ""
           }
          },
          "title": {
           "x": 0.05
          },
          "xaxis": {
           "automargin": true,
           "gridcolor": "white",
           "linecolor": "white",
           "ticks": "",
           "title": {
            "standoff": 15
           },
           "zerolinecolor": "white",
           "zerolinewidth": 2
          },
          "yaxis": {
           "automargin": true,
           "gridcolor": "white",
           "linecolor": "white",
           "ticks": "",
           "title": {
            "standoff": 15
           },
           "zerolinecolor": "white",
           "zerolinewidth": 2
          }
         }
        },
        "title": {
         "text": "Top 10 Foreign Countries Represented in the Premier League"
        },
        "xaxis": {
         "anchor": "y",
         "domain": [
          0,
          1
         ],
         "title": {
          "text": "Countries"
         }
        },
        "yaxis": {
         "anchor": "x",
         "domain": [
          0,
          1
         ],
         "title": {
          "text": "Player Count"
         }
        }
       }
      }
     },
     "metadata": {},
     "output_type": "display_data"
    }
   ],
   "source": [
    "# top 10 foreign countries represented at the PL\n",
    "df_clubs_country_counts = df_clubs.value_counts(\"Country\").head(10).reset_index()\n",
    "df_clubs_country_counts.columns = ['Country', 'Count']\n",
    "\n",
    "fig2 = px.histogram(df_clubs_country_counts,\n",
    "                   x='Country',\n",
    "                   y=\"Count\",\n",
    "             title='Top 10 Foreign Countries Represented in the Premier League',\n",
    "             orientation='v')\n",
    "\n",
    "fig2.update_layout(barmode='stack',\n",
    "                xaxis_title=\"Countries\",\n",
    "                yaxis_title=\"Player Count\",)\n",
    "\n",
    "fig2.show()"
   ]
  },
  {
   "cell_type": "code",
   "execution_count": 150,
   "metadata": {},
   "outputs": [
    {
     "name": "stdout",
     "output_type": "stream",
     "text": [
      "[['Premier League', 3.145441122185308], ['Arsenal', 5.127388535031847]]\n"
     ]
    },
    {
     "data": {
      "application/vnd.plotly.v1+json": {
       "config": {
        "plotlyServerURL": "https://plot.ly"
       },
       "data": [
        {
         "alignmentgroup": "True",
         "hovertemplate": "Entity=%{x}<br>Mean=%{y}<extra></extra>",
         "legendgroup": "Premier League",
         "marker": {
          "color": "#636EFA",
          "pattern": {
           "shape": ""
          }
         },
         "name": "Premier League",
         "offsetgroup": "Premier League",
         "orientation": "v",
         "showlegend": true,
         "textposition": "auto",
         "type": "bar",
         "x": [
          "Premier League"
         ],
         "xaxis": "x",
         "y": [
          3.145441122185308
         ],
         "yaxis": "y"
        },
        {
         "alignmentgroup": "True",
         "hovertemplate": "Entity=%{x}<br>Mean=%{y}<extra></extra>",
         "legendgroup": "Arsenal",
         "marker": {
          "color": "indianred",
          "pattern": {
           "shape": ""
          }
         },
         "name": "Arsenal",
         "offsetgroup": "Arsenal",
         "orientation": "v",
         "showlegend": true,
         "textposition": "auto",
         "type": "bar",
         "x": [
          "Arsenal"
         ],
         "xaxis": "x",
         "y": [
          5.127388535031847
         ],
         "yaxis": "y"
        }
       ],
       "layout": {
        "barmode": "relative",
        "legend": {
         "title": {
          "text": "Entity"
         },
         "tracegroupgap": 0
        },
        "showlegend": false,
        "template": {
         "data": {
          "bar": [
           {
            "error_x": {
             "color": "#2a3f5f"
            },
            "error_y": {
             "color": "#2a3f5f"
            },
            "marker": {
             "line": {
              "color": "#E5ECF6",
              "width": 0.5
             },
             "pattern": {
              "fillmode": "overlay",
              "size": 10,
              "solidity": 0.2
             }
            },
            "type": "bar"
           }
          ],
          "barpolar": [
           {
            "marker": {
             "line": {
              "color": "#E5ECF6",
              "width": 0.5
             },
             "pattern": {
              "fillmode": "overlay",
              "size": 10,
              "solidity": 0.2
             }
            },
            "type": "barpolar"
           }
          ],
          "carpet": [
           {
            "aaxis": {
             "endlinecolor": "#2a3f5f",
             "gridcolor": "white",
             "linecolor": "white",
             "minorgridcolor": "white",
             "startlinecolor": "#2a3f5f"
            },
            "baxis": {
             "endlinecolor": "#2a3f5f",
             "gridcolor": "white",
             "linecolor": "white",
             "minorgridcolor": "white",
             "startlinecolor": "#2a3f5f"
            },
            "type": "carpet"
           }
          ],
          "choropleth": [
           {
            "colorbar": {
             "outlinewidth": 0,
             "ticks": ""
            },
            "type": "choropleth"
           }
          ],
          "contour": [
           {
            "colorbar": {
             "outlinewidth": 0,
             "ticks": ""
            },
            "colorscale": [
             [
              0,
              "#0d0887"
             ],
             [
              0.1111111111111111,
              "#46039f"
             ],
             [
              0.2222222222222222,
              "#7201a8"
             ],
             [
              0.3333333333333333,
              "#9c179e"
             ],
             [
              0.4444444444444444,
              "#bd3786"
             ],
             [
              0.5555555555555556,
              "#d8576b"
             ],
             [
              0.6666666666666666,
              "#ed7953"
             ],
             [
              0.7777777777777778,
              "#fb9f3a"
             ],
             [
              0.8888888888888888,
              "#fdca26"
             ],
             [
              1,
              "#f0f921"
             ]
            ],
            "type": "contour"
           }
          ],
          "contourcarpet": [
           {
            "colorbar": {
             "outlinewidth": 0,
             "ticks": ""
            },
            "type": "contourcarpet"
           }
          ],
          "heatmap": [
           {
            "colorbar": {
             "outlinewidth": 0,
             "ticks": ""
            },
            "colorscale": [
             [
              0,
              "#0d0887"
             ],
             [
              0.1111111111111111,
              "#46039f"
             ],
             [
              0.2222222222222222,
              "#7201a8"
             ],
             [
              0.3333333333333333,
              "#9c179e"
             ],
             [
              0.4444444444444444,
              "#bd3786"
             ],
             [
              0.5555555555555556,
              "#d8576b"
             ],
             [
              0.6666666666666666,
              "#ed7953"
             ],
             [
              0.7777777777777778,
              "#fb9f3a"
             ],
             [
              0.8888888888888888,
              "#fdca26"
             ],
             [
              1,
              "#f0f921"
             ]
            ],
            "type": "heatmap"
           }
          ],
          "heatmapgl": [
           {
            "colorbar": {
             "outlinewidth": 0,
             "ticks": ""
            },
            "colorscale": [
             [
              0,
              "#0d0887"
             ],
             [
              0.1111111111111111,
              "#46039f"
             ],
             [
              0.2222222222222222,
              "#7201a8"
             ],
             [
              0.3333333333333333,
              "#9c179e"
             ],
             [
              0.4444444444444444,
              "#bd3786"
             ],
             [
              0.5555555555555556,
              "#d8576b"
             ],
             [
              0.6666666666666666,
              "#ed7953"
             ],
             [
              0.7777777777777778,
              "#fb9f3a"
             ],
             [
              0.8888888888888888,
              "#fdca26"
             ],
             [
              1,
              "#f0f921"
             ]
            ],
            "type": "heatmapgl"
           }
          ],
          "histogram": [
           {
            "marker": {
             "pattern": {
              "fillmode": "overlay",
              "size": 10,
              "solidity": 0.2
             }
            },
            "type": "histogram"
           }
          ],
          "histogram2d": [
           {
            "colorbar": {
             "outlinewidth": 0,
             "ticks": ""
            },
            "colorscale": [
             [
              0,
              "#0d0887"
             ],
             [
              0.1111111111111111,
              "#46039f"
             ],
             [
              0.2222222222222222,
              "#7201a8"
             ],
             [
              0.3333333333333333,
              "#9c179e"
             ],
             [
              0.4444444444444444,
              "#bd3786"
             ],
             [
              0.5555555555555556,
              "#d8576b"
             ],
             [
              0.6666666666666666,
              "#ed7953"
             ],
             [
              0.7777777777777778,
              "#fb9f3a"
             ],
             [
              0.8888888888888888,
              "#fdca26"
             ],
             [
              1,
              "#f0f921"
             ]
            ],
            "type": "histogram2d"
           }
          ],
          "histogram2dcontour": [
           {
            "colorbar": {
             "outlinewidth": 0,
             "ticks": ""
            },
            "colorscale": [
             [
              0,
              "#0d0887"
             ],
             [
              0.1111111111111111,
              "#46039f"
             ],
             [
              0.2222222222222222,
              "#7201a8"
             ],
             [
              0.3333333333333333,
              "#9c179e"
             ],
             [
              0.4444444444444444,
              "#bd3786"
             ],
             [
              0.5555555555555556,
              "#d8576b"
             ],
             [
              0.6666666666666666,
              "#ed7953"
             ],
             [
              0.7777777777777778,
              "#fb9f3a"
             ],
             [
              0.8888888888888888,
              "#fdca26"
             ],
             [
              1,
              "#f0f921"
             ]
            ],
            "type": "histogram2dcontour"
           }
          ],
          "mesh3d": [
           {
            "colorbar": {
             "outlinewidth": 0,
             "ticks": ""
            },
            "type": "mesh3d"
           }
          ],
          "parcoords": [
           {
            "line": {
             "colorbar": {
              "outlinewidth": 0,
              "ticks": ""
             }
            },
            "type": "parcoords"
           }
          ],
          "pie": [
           {
            "automargin": true,
            "type": "pie"
           }
          ],
          "scatter": [
           {
            "fillpattern": {
             "fillmode": "overlay",
             "size": 10,
             "solidity": 0.2
            },
            "type": "scatter"
           }
          ],
          "scatter3d": [
           {
            "line": {
             "colorbar": {
              "outlinewidth": 0,
              "ticks": ""
             }
            },
            "marker": {
             "colorbar": {
              "outlinewidth": 0,
              "ticks": ""
             }
            },
            "type": "scatter3d"
           }
          ],
          "scattercarpet": [
           {
            "marker": {
             "colorbar": {
              "outlinewidth": 0,
              "ticks": ""
             }
            },
            "type": "scattercarpet"
           }
          ],
          "scattergeo": [
           {
            "marker": {
             "colorbar": {
              "outlinewidth": 0,
              "ticks": ""
             }
            },
            "type": "scattergeo"
           }
          ],
          "scattergl": [
           {
            "marker": {
             "colorbar": {
              "outlinewidth": 0,
              "ticks": ""
             }
            },
            "type": "scattergl"
           }
          ],
          "scattermapbox": [
           {
            "marker": {
             "colorbar": {
              "outlinewidth": 0,
              "ticks": ""
             }
            },
            "type": "scattermapbox"
           }
          ],
          "scatterpolar": [
           {
            "marker": {
             "colorbar": {
              "outlinewidth": 0,
              "ticks": ""
             }
            },
            "type": "scatterpolar"
           }
          ],
          "scatterpolargl": [
           {
            "marker": {
             "colorbar": {
              "outlinewidth": 0,
              "ticks": ""
             }
            },
            "type": "scatterpolargl"
           }
          ],
          "scatterternary": [
           {
            "marker": {
             "colorbar": {
              "outlinewidth": 0,
              "ticks": ""
             }
            },
            "type": "scatterternary"
           }
          ],
          "surface": [
           {
            "colorbar": {
             "outlinewidth": 0,
             "ticks": ""
            },
            "colorscale": [
             [
              0,
              "#0d0887"
             ],
             [
              0.1111111111111111,
              "#46039f"
             ],
             [
              0.2222222222222222,
              "#7201a8"
             ],
             [
              0.3333333333333333,
              "#9c179e"
             ],
             [
              0.4444444444444444,
              "#bd3786"
             ],
             [
              0.5555555555555556,
              "#d8576b"
             ],
             [
              0.6666666666666666,
              "#ed7953"
             ],
             [
              0.7777777777777778,
              "#fb9f3a"
             ],
             [
              0.8888888888888888,
              "#fdca26"
             ],
             [
              1,
              "#f0f921"
             ]
            ],
            "type": "surface"
           }
          ],
          "table": [
           {
            "cells": {
             "fill": {
              "color": "#EBF0F8"
             },
             "line": {
              "color": "white"
             }
            },
            "header": {
             "fill": {
              "color": "#C8D4E3"
             },
             "line": {
              "color": "white"
             }
            },
            "type": "table"
           }
          ]
         },
         "layout": {
          "annotationdefaults": {
           "arrowcolor": "#2a3f5f",
           "arrowhead": 0,
           "arrowwidth": 1
          },
          "autotypenumbers": "strict",
          "coloraxis": {
           "colorbar": {
            "outlinewidth": 0,
            "ticks": ""
           }
          },
          "colorscale": {
           "diverging": [
            [
             0,
             "#8e0152"
            ],
            [
             0.1,
             "#c51b7d"
            ],
            [
             0.2,
             "#de77ae"
            ],
            [
             0.3,
             "#f1b6da"
            ],
            [
             0.4,
             "#fde0ef"
            ],
            [
             0.5,
             "#f7f7f7"
            ],
            [
             0.6,
             "#e6f5d0"
            ],
            [
             0.7,
             "#b8e186"
            ],
            [
             0.8,
             "#7fbc41"
            ],
            [
             0.9,
             "#4d9221"
            ],
            [
             1,
             "#276419"
            ]
           ],
           "sequential": [
            [
             0,
             "#0d0887"
            ],
            [
             0.1111111111111111,
             "#46039f"
            ],
            [
             0.2222222222222222,
             "#7201a8"
            ],
            [
             0.3333333333333333,
             "#9c179e"
            ],
            [
             0.4444444444444444,
             "#bd3786"
            ],
            [
             0.5555555555555556,
             "#d8576b"
            ],
            [
             0.6666666666666666,
             "#ed7953"
            ],
            [
             0.7777777777777778,
             "#fb9f3a"
            ],
            [
             0.8888888888888888,
             "#fdca26"
            ],
            [
             1,
             "#f0f921"
            ]
           ],
           "sequentialminus": [
            [
             0,
             "#0d0887"
            ],
            [
             0.1111111111111111,
             "#46039f"
            ],
            [
             0.2222222222222222,
             "#7201a8"
            ],
            [
             0.3333333333333333,
             "#9c179e"
            ],
            [
             0.4444444444444444,
             "#bd3786"
            ],
            [
             0.5555555555555556,
             "#d8576b"
            ],
            [
             0.6666666666666666,
             "#ed7953"
            ],
            [
             0.7777777777777778,
             "#fb9f3a"
            ],
            [
             0.8888888888888888,
             "#fdca26"
            ],
            [
             1,
             "#f0f921"
            ]
           ]
          },
          "colorway": [
           "#636efa",
           "#EF553B",
           "#00cc96",
           "#ab63fa",
           "#FFA15A",
           "#19d3f3",
           "#FF6692",
           "#B6E880",
           "#FF97FF",
           "#FECB52"
          ],
          "font": {
           "color": "#2a3f5f"
          },
          "geo": {
           "bgcolor": "white",
           "lakecolor": "white",
           "landcolor": "#E5ECF6",
           "showlakes": true,
           "showland": true,
           "subunitcolor": "white"
          },
          "hoverlabel": {
           "align": "left"
          },
          "hovermode": "closest",
          "mapbox": {
           "style": "light"
          },
          "paper_bgcolor": "white",
          "plot_bgcolor": "#E5ECF6",
          "polar": {
           "angularaxis": {
            "gridcolor": "white",
            "linecolor": "white",
            "ticks": ""
           },
           "bgcolor": "#E5ECF6",
           "radialaxis": {
            "gridcolor": "white",
            "linecolor": "white",
            "ticks": ""
           }
          },
          "scene": {
           "xaxis": {
            "backgroundcolor": "#E5ECF6",
            "gridcolor": "white",
            "gridwidth": 2,
            "linecolor": "white",
            "showbackground": true,
            "ticks": "",
            "zerolinecolor": "white"
           },
           "yaxis": {
            "backgroundcolor": "#E5ECF6",
            "gridcolor": "white",
            "gridwidth": 2,
            "linecolor": "white",
            "showbackground": true,
            "ticks": "",
            "zerolinecolor": "white"
           },
           "zaxis": {
            "backgroundcolor": "#E5ECF6",
            "gridcolor": "white",
            "gridwidth": 2,
            "linecolor": "white",
            "showbackground": true,
            "ticks": "",
            "zerolinecolor": "white"
           }
          },
          "shapedefaults": {
           "line": {
            "color": "#2a3f5f"
           }
          },
          "ternary": {
           "aaxis": {
            "gridcolor": "white",
            "linecolor": "white",
            "ticks": ""
           },
           "baxis": {
            "gridcolor": "white",
            "linecolor": "white",
            "ticks": ""
           },
           "bgcolor": "#E5ECF6",
           "caxis": {
            "gridcolor": "white",
            "linecolor": "white",
            "ticks": ""
           }
          },
          "title": {
           "x": 0.05
          },
          "xaxis": {
           "automargin": true,
           "gridcolor": "white",
           "linecolor": "white",
           "ticks": "",
           "title": {
            "standoff": 15
           },
           "zerolinecolor": "white",
           "zerolinewidth": 2
          },
          "yaxis": {
           "automargin": true,
           "gridcolor": "white",
           "linecolor": "white",
           "ticks": "",
           "title": {
            "standoff": 15
           },
           "zerolinecolor": "white",
           "zerolinewidth": 2
          }
         }
        },
        "title": {
         "text": "Average Career Length in the League"
        },
        "xaxis": {
         "anchor": "y",
         "categoryarray": [
          "Premier League",
          "Arsenal"
         ],
         "categoryorder": "array",
         "domain": [
          0,
          1
         ],
         "title": {
          "text": ""
         }
        },
        "yaxis": {
         "anchor": "x",
         "domain": [
          0,
          1
         ],
         "title": {
          "text": "Mean (Years)"
         }
        }
       }
      }
     },
     "metadata": {},
     "output_type": "display_data"
    }
   ],
   "source": [
    "PL_mean = df[\"Total Years\"].mean()\n",
    "Arsenal_mean = df_Arsenal[\"Total Years\"].mean()\n",
    "df_mean = [[\"Premier League\", PL_mean],\n",
    "           [\"Arsenal\", Arsenal_mean]]\n",
    "\n",
    "print(df_mean)\n",
    "df_mean = pd.DataFrame(df_mean, columns=[\"Entity\", \"Mean\"])\n",
    "\n",
    "fig = px.bar(df_mean, \n",
    "                   x=\"Entity\",\n",
    "                   y=\"Mean\",\n",
    "                title='Average Career Length in the League',\n",
    "                color=\"Entity\",\n",
    "                color_discrete_map={\"Premier League\": \"#636EFA\", \"Arsenal\": \"indianred\"},\n",
    "                orientation='v')\n",
    "\n",
    "fig.update_layout(xaxis_title = '',\n",
    "    yaxis_title=\"Mean (Years)\",\n",
    "    showlegend=False)\n",
    "\n",
    "fig.show()"
   ]
  },
  {
   "cell_type": "code",
   "execution_count": 112,
   "metadata": {},
   "outputs": [
    {
     "data": {
      "application/vnd.plotly.v1+json": {
       "config": {
        "plotlyServerURL": "https://plot.ly"
       },
       "data": [
        {
         "alignmentgroup": "True",
         "hovertemplate": "nYears=%{x}<br>Count=%{y}<extra></extra>",
         "legendgroup": "",
         "marker": {
          "color": "#636efa",
          "pattern": {
           "shape": ""
          }
         },
         "name": "",
         "offsetgroup": "",
         "orientation": "v",
         "showlegend": false,
         "textposition": "auto",
         "type": "bar",
         "x": [
          1,
          2,
          3,
          4,
          5,
          6,
          7,
          8,
          9,
          10,
          11,
          12,
          13,
          14,
          16,
          15,
          18,
          19
         ],
         "xaxis": "x",
         "y": [
          1037,
          513,
          329,
          198,
          167,
          120,
          104,
          72,
          61,
          38,
          23,
          18,
          9,
          8,
          6,
          4,
          1,
          1
         ],
         "yaxis": "y"
        }
       ],
       "layout": {
        "barmode": "relative",
        "legend": {
         "tracegroupgap": 0
        },
        "template": {
         "data": {
          "bar": [
           {
            "error_x": {
             "color": "#2a3f5f"
            },
            "error_y": {
             "color": "#2a3f5f"
            },
            "marker": {
             "line": {
              "color": "#E5ECF6",
              "width": 0.5
             },
             "pattern": {
              "fillmode": "overlay",
              "size": 10,
              "solidity": 0.2
             }
            },
            "type": "bar"
           }
          ],
          "barpolar": [
           {
            "marker": {
             "line": {
              "color": "#E5ECF6",
              "width": 0.5
             },
             "pattern": {
              "fillmode": "overlay",
              "size": 10,
              "solidity": 0.2
             }
            },
            "type": "barpolar"
           }
          ],
          "carpet": [
           {
            "aaxis": {
             "endlinecolor": "#2a3f5f",
             "gridcolor": "white",
             "linecolor": "white",
             "minorgridcolor": "white",
             "startlinecolor": "#2a3f5f"
            },
            "baxis": {
             "endlinecolor": "#2a3f5f",
             "gridcolor": "white",
             "linecolor": "white",
             "minorgridcolor": "white",
             "startlinecolor": "#2a3f5f"
            },
            "type": "carpet"
           }
          ],
          "choropleth": [
           {
            "colorbar": {
             "outlinewidth": 0,
             "ticks": ""
            },
            "type": "choropleth"
           }
          ],
          "contour": [
           {
            "colorbar": {
             "outlinewidth": 0,
             "ticks": ""
            },
            "colorscale": [
             [
              0,
              "#0d0887"
             ],
             [
              0.1111111111111111,
              "#46039f"
             ],
             [
              0.2222222222222222,
              "#7201a8"
             ],
             [
              0.3333333333333333,
              "#9c179e"
             ],
             [
              0.4444444444444444,
              "#bd3786"
             ],
             [
              0.5555555555555556,
              "#d8576b"
             ],
             [
              0.6666666666666666,
              "#ed7953"
             ],
             [
              0.7777777777777778,
              "#fb9f3a"
             ],
             [
              0.8888888888888888,
              "#fdca26"
             ],
             [
              1,
              "#f0f921"
             ]
            ],
            "type": "contour"
           }
          ],
          "contourcarpet": [
           {
            "colorbar": {
             "outlinewidth": 0,
             "ticks": ""
            },
            "type": "contourcarpet"
           }
          ],
          "heatmap": [
           {
            "colorbar": {
             "outlinewidth": 0,
             "ticks": ""
            },
            "colorscale": [
             [
              0,
              "#0d0887"
             ],
             [
              0.1111111111111111,
              "#46039f"
             ],
             [
              0.2222222222222222,
              "#7201a8"
             ],
             [
              0.3333333333333333,
              "#9c179e"
             ],
             [
              0.4444444444444444,
              "#bd3786"
             ],
             [
              0.5555555555555556,
              "#d8576b"
             ],
             [
              0.6666666666666666,
              "#ed7953"
             ],
             [
              0.7777777777777778,
              "#fb9f3a"
             ],
             [
              0.8888888888888888,
              "#fdca26"
             ],
             [
              1,
              "#f0f921"
             ]
            ],
            "type": "heatmap"
           }
          ],
          "heatmapgl": [
           {
            "colorbar": {
             "outlinewidth": 0,
             "ticks": ""
            },
            "colorscale": [
             [
              0,
              "#0d0887"
             ],
             [
              0.1111111111111111,
              "#46039f"
             ],
             [
              0.2222222222222222,
              "#7201a8"
             ],
             [
              0.3333333333333333,
              "#9c179e"
             ],
             [
              0.4444444444444444,
              "#bd3786"
             ],
             [
              0.5555555555555556,
              "#d8576b"
             ],
             [
              0.6666666666666666,
              "#ed7953"
             ],
             [
              0.7777777777777778,
              "#fb9f3a"
             ],
             [
              0.8888888888888888,
              "#fdca26"
             ],
             [
              1,
              "#f0f921"
             ]
            ],
            "type": "heatmapgl"
           }
          ],
          "histogram": [
           {
            "marker": {
             "pattern": {
              "fillmode": "overlay",
              "size": 10,
              "solidity": 0.2
             }
            },
            "type": "histogram"
           }
          ],
          "histogram2d": [
           {
            "colorbar": {
             "outlinewidth": 0,
             "ticks": ""
            },
            "colorscale": [
             [
              0,
              "#0d0887"
             ],
             [
              0.1111111111111111,
              "#46039f"
             ],
             [
              0.2222222222222222,
              "#7201a8"
             ],
             [
              0.3333333333333333,
              "#9c179e"
             ],
             [
              0.4444444444444444,
              "#bd3786"
             ],
             [
              0.5555555555555556,
              "#d8576b"
             ],
             [
              0.6666666666666666,
              "#ed7953"
             ],
             [
              0.7777777777777778,
              "#fb9f3a"
             ],
             [
              0.8888888888888888,
              "#fdca26"
             ],
             [
              1,
              "#f0f921"
             ]
            ],
            "type": "histogram2d"
           }
          ],
          "histogram2dcontour": [
           {
            "colorbar": {
             "outlinewidth": 0,
             "ticks": ""
            },
            "colorscale": [
             [
              0,
              "#0d0887"
             ],
             [
              0.1111111111111111,
              "#46039f"
             ],
             [
              0.2222222222222222,
              "#7201a8"
             ],
             [
              0.3333333333333333,
              "#9c179e"
             ],
             [
              0.4444444444444444,
              "#bd3786"
             ],
             [
              0.5555555555555556,
              "#d8576b"
             ],
             [
              0.6666666666666666,
              "#ed7953"
             ],
             [
              0.7777777777777778,
              "#fb9f3a"
             ],
             [
              0.8888888888888888,
              "#fdca26"
             ],
             [
              1,
              "#f0f921"
             ]
            ],
            "type": "histogram2dcontour"
           }
          ],
          "mesh3d": [
           {
            "colorbar": {
             "outlinewidth": 0,
             "ticks": ""
            },
            "type": "mesh3d"
           }
          ],
          "parcoords": [
           {
            "line": {
             "colorbar": {
              "outlinewidth": 0,
              "ticks": ""
             }
            },
            "type": "parcoords"
           }
          ],
          "pie": [
           {
            "automargin": true,
            "type": "pie"
           }
          ],
          "scatter": [
           {
            "fillpattern": {
             "fillmode": "overlay",
             "size": 10,
             "solidity": 0.2
            },
            "type": "scatter"
           }
          ],
          "scatter3d": [
           {
            "line": {
             "colorbar": {
              "outlinewidth": 0,
              "ticks": ""
             }
            },
            "marker": {
             "colorbar": {
              "outlinewidth": 0,
              "ticks": ""
             }
            },
            "type": "scatter3d"
           }
          ],
          "scattercarpet": [
           {
            "marker": {
             "colorbar": {
              "outlinewidth": 0,
              "ticks": ""
             }
            },
            "type": "scattercarpet"
           }
          ],
          "scattergeo": [
           {
            "marker": {
             "colorbar": {
              "outlinewidth": 0,
              "ticks": ""
             }
            },
            "type": "scattergeo"
           }
          ],
          "scattergl": [
           {
            "marker": {
             "colorbar": {
              "outlinewidth": 0,
              "ticks": ""
             }
            },
            "type": "scattergl"
           }
          ],
          "scattermapbox": [
           {
            "marker": {
             "colorbar": {
              "outlinewidth": 0,
              "ticks": ""
             }
            },
            "type": "scattermapbox"
           }
          ],
          "scatterpolar": [
           {
            "marker": {
             "colorbar": {
              "outlinewidth": 0,
              "ticks": ""
             }
            },
            "type": "scatterpolar"
           }
          ],
          "scatterpolargl": [
           {
            "marker": {
             "colorbar": {
              "outlinewidth": 0,
              "ticks": ""
             }
            },
            "type": "scatterpolargl"
           }
          ],
          "scatterternary": [
           {
            "marker": {
             "colorbar": {
              "outlinewidth": 0,
              "ticks": ""
             }
            },
            "type": "scatterternary"
           }
          ],
          "surface": [
           {
            "colorbar": {
             "outlinewidth": 0,
             "ticks": ""
            },
            "colorscale": [
             [
              0,
              "#0d0887"
             ],
             [
              0.1111111111111111,
              "#46039f"
             ],
             [
              0.2222222222222222,
              "#7201a8"
             ],
             [
              0.3333333333333333,
              "#9c179e"
             ],
             [
              0.4444444444444444,
              "#bd3786"
             ],
             [
              0.5555555555555556,
              "#d8576b"
             ],
             [
              0.6666666666666666,
              "#ed7953"
             ],
             [
              0.7777777777777778,
              "#fb9f3a"
             ],
             [
              0.8888888888888888,
              "#fdca26"
             ],
             [
              1,
              "#f0f921"
             ]
            ],
            "type": "surface"
           }
          ],
          "table": [
           {
            "cells": {
             "fill": {
              "color": "#EBF0F8"
             },
             "line": {
              "color": "white"
             }
            },
            "header": {
             "fill": {
              "color": "#C8D4E3"
             },
             "line": {
              "color": "white"
             }
            },
            "type": "table"
           }
          ]
         },
         "layout": {
          "annotationdefaults": {
           "arrowcolor": "#2a3f5f",
           "arrowhead": 0,
           "arrowwidth": 1
          },
          "autotypenumbers": "strict",
          "coloraxis": {
           "colorbar": {
            "outlinewidth": 0,
            "ticks": ""
           }
          },
          "colorscale": {
           "diverging": [
            [
             0,
             "#8e0152"
            ],
            [
             0.1,
             "#c51b7d"
            ],
            [
             0.2,
             "#de77ae"
            ],
            [
             0.3,
             "#f1b6da"
            ],
            [
             0.4,
             "#fde0ef"
            ],
            [
             0.5,
             "#f7f7f7"
            ],
            [
             0.6,
             "#e6f5d0"
            ],
            [
             0.7,
             "#b8e186"
            ],
            [
             0.8,
             "#7fbc41"
            ],
            [
             0.9,
             "#4d9221"
            ],
            [
             1,
             "#276419"
            ]
           ],
           "sequential": [
            [
             0,
             "#0d0887"
            ],
            [
             0.1111111111111111,
             "#46039f"
            ],
            [
             0.2222222222222222,
             "#7201a8"
            ],
            [
             0.3333333333333333,
             "#9c179e"
            ],
            [
             0.4444444444444444,
             "#bd3786"
            ],
            [
             0.5555555555555556,
             "#d8576b"
            ],
            [
             0.6666666666666666,
             "#ed7953"
            ],
            [
             0.7777777777777778,
             "#fb9f3a"
            ],
            [
             0.8888888888888888,
             "#fdca26"
            ],
            [
             1,
             "#f0f921"
            ]
           ],
           "sequentialminus": [
            [
             0,
             "#0d0887"
            ],
            [
             0.1111111111111111,
             "#46039f"
            ],
            [
             0.2222222222222222,
             "#7201a8"
            ],
            [
             0.3333333333333333,
             "#9c179e"
            ],
            [
             0.4444444444444444,
             "#bd3786"
            ],
            [
             0.5555555555555556,
             "#d8576b"
            ],
            [
             0.6666666666666666,
             "#ed7953"
            ],
            [
             0.7777777777777778,
             "#fb9f3a"
            ],
            [
             0.8888888888888888,
             "#fdca26"
            ],
            [
             1,
             "#f0f921"
            ]
           ]
          },
          "colorway": [
           "#636efa",
           "#EF553B",
           "#00cc96",
           "#ab63fa",
           "#FFA15A",
           "#19d3f3",
           "#FF6692",
           "#B6E880",
           "#FF97FF",
           "#FECB52"
          ],
          "font": {
           "color": "#2a3f5f"
          },
          "geo": {
           "bgcolor": "white",
           "lakecolor": "white",
           "landcolor": "#E5ECF6",
           "showlakes": true,
           "showland": true,
           "subunitcolor": "white"
          },
          "hoverlabel": {
           "align": "left"
          },
          "hovermode": "closest",
          "mapbox": {
           "style": "light"
          },
          "paper_bgcolor": "white",
          "plot_bgcolor": "#E5ECF6",
          "polar": {
           "angularaxis": {
            "gridcolor": "white",
            "linecolor": "white",
            "ticks": ""
           },
           "bgcolor": "#E5ECF6",
           "radialaxis": {
            "gridcolor": "white",
            "linecolor": "white",
            "ticks": ""
           }
          },
          "scene": {
           "xaxis": {
            "backgroundcolor": "#E5ECF6",
            "gridcolor": "white",
            "gridwidth": 2,
            "linecolor": "white",
            "showbackground": true,
            "ticks": "",
            "zerolinecolor": "white"
           },
           "yaxis": {
            "backgroundcolor": "#E5ECF6",
            "gridcolor": "white",
            "gridwidth": 2,
            "linecolor": "white",
            "showbackground": true,
            "ticks": "",
            "zerolinecolor": "white"
           },
           "zaxis": {
            "backgroundcolor": "#E5ECF6",
            "gridcolor": "white",
            "gridwidth": 2,
            "linecolor": "white",
            "showbackground": true,
            "ticks": "",
            "zerolinecolor": "white"
           }
          },
          "shapedefaults": {
           "line": {
            "color": "#2a3f5f"
           }
          },
          "ternary": {
           "aaxis": {
            "gridcolor": "white",
            "linecolor": "white",
            "ticks": ""
           },
           "baxis": {
            "gridcolor": "white",
            "linecolor": "white",
            "ticks": ""
           },
           "bgcolor": "#E5ECF6",
           "caxis": {
            "gridcolor": "white",
            "linecolor": "white",
            "ticks": ""
           }
          },
          "title": {
           "x": 0.05
          },
          "xaxis": {
           "automargin": true,
           "gridcolor": "white",
           "linecolor": "white",
           "ticks": "",
           "title": {
            "standoff": 15
           },
           "zerolinecolor": "white",
           "zerolinewidth": 2
          },
          "yaxis": {
           "automargin": true,
           "gridcolor": "white",
           "linecolor": "white",
           "ticks": "",
           "title": {
            "standoff": 15
           },
           "zerolinecolor": "white",
           "zerolinewidth": 2
          }
         }
        },
        "title": {
         "text": "Total Career Length in the PL"
        },
        "xaxis": {
         "anchor": "y",
         "domain": [
          0,
          1
         ],
         "title": {
          "text": "Years Active"
         }
        },
        "yaxis": {
         "anchor": "x",
         "domain": [
          0,
          1
         ],
         "tickvals": [
          1,
          10,
          100,
          1000
         ],
         "title": {
          "text": "Player Count"
         },
         "type": "log"
        }
       }
      }
     },
     "metadata": {},
     "output_type": "display_data"
    }
   ],
   "source": [
    "df_clubs_total = df.value_counts(\"Total Years\").reset_index()\n",
    "df_clubs_total.columns = ['nYears', 'Count']\n",
    "\n",
    "fig = px.bar(df_clubs_total,\n",
    "                   x='nYears',\n",
    "                   y=\"Count\",\n",
    "             title='Total Career Length in the PL',\n",
    "             orientation='v')\n",
    "\n",
    "fig.update_layout(\n",
    "                xaxis_title=\"Years Active\",\n",
    "                yaxis_title=\"Player Count\",)\n",
    "\n",
    "fig.update_yaxes(type='log', tickvals=[1, 10, 100, 1000])\n",
    "\n",
    "fig.show()"
   ]
  },
  {
   "cell_type": "code",
   "execution_count": 147,
   "metadata": {},
   "outputs": [
    {
     "name": "stdout",
     "output_type": "stream",
     "text": [
      "(5463,)\n"
     ]
    },
    {
     "data": {
      "application/vnd.plotly.v1+json": {
       "config": {
        "plotlyServerURL": "https://plot.ly"
       },
       "data": [
        {
         "alignmentgroup": "True",
         "bingroup": "x",
         "histfunc": "sum",
         "hovertemplate": "Name=%{x}<br>sum of Count=%{y}<extra></extra>",
         "legendgroup": "",
         "marker": {
          "color": "#636efa",
          "pattern": {
           "shape": ""
          }
         },
         "name": "",
         "offsetgroup": "",
         "orientation": "v",
         "showlegend": false,
         "type": "histogram",
         "x": [
          "David",
          "Christian",
          "John",
          "Kevin",
          "Michael",
          "Martin",
          "Carlos",
          "Daniel",
          "José",
          "Paul",
          "Bruno",
          "Thomas",
          "Alex",
          "Silva",
          "Jan"
         ],
         "xaxis": "x",
         "y": [
          26,
          19,
          19,
          17,
          16,
          16,
          16,
          15,
          15,
          13,
          13,
          13,
          12,
          11,
          11
         ],
         "yaxis": "y"
        }
       ],
       "layout": {
        "barmode": "relative",
        "legend": {
         "tracegroupgap": 0
        },
        "template": {
         "data": {
          "bar": [
           {
            "error_x": {
             "color": "#2a3f5f"
            },
            "error_y": {
             "color": "#2a3f5f"
            },
            "marker": {
             "line": {
              "color": "#E5ECF6",
              "width": 0.5
             },
             "pattern": {
              "fillmode": "overlay",
              "size": 10,
              "solidity": 0.2
             }
            },
            "type": "bar"
           }
          ],
          "barpolar": [
           {
            "marker": {
             "line": {
              "color": "#E5ECF6",
              "width": 0.5
             },
             "pattern": {
              "fillmode": "overlay",
              "size": 10,
              "solidity": 0.2
             }
            },
            "type": "barpolar"
           }
          ],
          "carpet": [
           {
            "aaxis": {
             "endlinecolor": "#2a3f5f",
             "gridcolor": "white",
             "linecolor": "white",
             "minorgridcolor": "white",
             "startlinecolor": "#2a3f5f"
            },
            "baxis": {
             "endlinecolor": "#2a3f5f",
             "gridcolor": "white",
             "linecolor": "white",
             "minorgridcolor": "white",
             "startlinecolor": "#2a3f5f"
            },
            "type": "carpet"
           }
          ],
          "choropleth": [
           {
            "colorbar": {
             "outlinewidth": 0,
             "ticks": ""
            },
            "type": "choropleth"
           }
          ],
          "contour": [
           {
            "colorbar": {
             "outlinewidth": 0,
             "ticks": ""
            },
            "colorscale": [
             [
              0,
              "#0d0887"
             ],
             [
              0.1111111111111111,
              "#46039f"
             ],
             [
              0.2222222222222222,
              "#7201a8"
             ],
             [
              0.3333333333333333,
              "#9c179e"
             ],
             [
              0.4444444444444444,
              "#bd3786"
             ],
             [
              0.5555555555555556,
              "#d8576b"
             ],
             [
              0.6666666666666666,
              "#ed7953"
             ],
             [
              0.7777777777777778,
              "#fb9f3a"
             ],
             [
              0.8888888888888888,
              "#fdca26"
             ],
             [
              1,
              "#f0f921"
             ]
            ],
            "type": "contour"
           }
          ],
          "contourcarpet": [
           {
            "colorbar": {
             "outlinewidth": 0,
             "ticks": ""
            },
            "type": "contourcarpet"
           }
          ],
          "heatmap": [
           {
            "colorbar": {
             "outlinewidth": 0,
             "ticks": ""
            },
            "colorscale": [
             [
              0,
              "#0d0887"
             ],
             [
              0.1111111111111111,
              "#46039f"
             ],
             [
              0.2222222222222222,
              "#7201a8"
             ],
             [
              0.3333333333333333,
              "#9c179e"
             ],
             [
              0.4444444444444444,
              "#bd3786"
             ],
             [
              0.5555555555555556,
              "#d8576b"
             ],
             [
              0.6666666666666666,
              "#ed7953"
             ],
             [
              0.7777777777777778,
              "#fb9f3a"
             ],
             [
              0.8888888888888888,
              "#fdca26"
             ],
             [
              1,
              "#f0f921"
             ]
            ],
            "type": "heatmap"
           }
          ],
          "heatmapgl": [
           {
            "colorbar": {
             "outlinewidth": 0,
             "ticks": ""
            },
            "colorscale": [
             [
              0,
              "#0d0887"
             ],
             [
              0.1111111111111111,
              "#46039f"
             ],
             [
              0.2222222222222222,
              "#7201a8"
             ],
             [
              0.3333333333333333,
              "#9c179e"
             ],
             [
              0.4444444444444444,
              "#bd3786"
             ],
             [
              0.5555555555555556,
              "#d8576b"
             ],
             [
              0.6666666666666666,
              "#ed7953"
             ],
             [
              0.7777777777777778,
              "#fb9f3a"
             ],
             [
              0.8888888888888888,
              "#fdca26"
             ],
             [
              1,
              "#f0f921"
             ]
            ],
            "type": "heatmapgl"
           }
          ],
          "histogram": [
           {
            "marker": {
             "pattern": {
              "fillmode": "overlay",
              "size": 10,
              "solidity": 0.2
             }
            },
            "type": "histogram"
           }
          ],
          "histogram2d": [
           {
            "colorbar": {
             "outlinewidth": 0,
             "ticks": ""
            },
            "colorscale": [
             [
              0,
              "#0d0887"
             ],
             [
              0.1111111111111111,
              "#46039f"
             ],
             [
              0.2222222222222222,
              "#7201a8"
             ],
             [
              0.3333333333333333,
              "#9c179e"
             ],
             [
              0.4444444444444444,
              "#bd3786"
             ],
             [
              0.5555555555555556,
              "#d8576b"
             ],
             [
              0.6666666666666666,
              "#ed7953"
             ],
             [
              0.7777777777777778,
              "#fb9f3a"
             ],
             [
              0.8888888888888888,
              "#fdca26"
             ],
             [
              1,
              "#f0f921"
             ]
            ],
            "type": "histogram2d"
           }
          ],
          "histogram2dcontour": [
           {
            "colorbar": {
             "outlinewidth": 0,
             "ticks": ""
            },
            "colorscale": [
             [
              0,
              "#0d0887"
             ],
             [
              0.1111111111111111,
              "#46039f"
             ],
             [
              0.2222222222222222,
              "#7201a8"
             ],
             [
              0.3333333333333333,
              "#9c179e"
             ],
             [
              0.4444444444444444,
              "#bd3786"
             ],
             [
              0.5555555555555556,
              "#d8576b"
             ],
             [
              0.6666666666666666,
              "#ed7953"
             ],
             [
              0.7777777777777778,
              "#fb9f3a"
             ],
             [
              0.8888888888888888,
              "#fdca26"
             ],
             [
              1,
              "#f0f921"
             ]
            ],
            "type": "histogram2dcontour"
           }
          ],
          "mesh3d": [
           {
            "colorbar": {
             "outlinewidth": 0,
             "ticks": ""
            },
            "type": "mesh3d"
           }
          ],
          "parcoords": [
           {
            "line": {
             "colorbar": {
              "outlinewidth": 0,
              "ticks": ""
             }
            },
            "type": "parcoords"
           }
          ],
          "pie": [
           {
            "automargin": true,
            "type": "pie"
           }
          ],
          "scatter": [
           {
            "fillpattern": {
             "fillmode": "overlay",
             "size": 10,
             "solidity": 0.2
            },
            "type": "scatter"
           }
          ],
          "scatter3d": [
           {
            "line": {
             "colorbar": {
              "outlinewidth": 0,
              "ticks": ""
             }
            },
            "marker": {
             "colorbar": {
              "outlinewidth": 0,
              "ticks": ""
             }
            },
            "type": "scatter3d"
           }
          ],
          "scattercarpet": [
           {
            "marker": {
             "colorbar": {
              "outlinewidth": 0,
              "ticks": ""
             }
            },
            "type": "scattercarpet"
           }
          ],
          "scattergeo": [
           {
            "marker": {
             "colorbar": {
              "outlinewidth": 0,
              "ticks": ""
             }
            },
            "type": "scattergeo"
           }
          ],
          "scattergl": [
           {
            "marker": {
             "colorbar": {
              "outlinewidth": 0,
              "ticks": ""
             }
            },
            "type": "scattergl"
           }
          ],
          "scattermapbox": [
           {
            "marker": {
             "colorbar": {
              "outlinewidth": 0,
              "ticks": ""
             }
            },
            "type": "scattermapbox"
           }
          ],
          "scatterpolar": [
           {
            "marker": {
             "colorbar": {
              "outlinewidth": 0,
              "ticks": ""
             }
            },
            "type": "scatterpolar"
           }
          ],
          "scatterpolargl": [
           {
            "marker": {
             "colorbar": {
              "outlinewidth": 0,
              "ticks": ""
             }
            },
            "type": "scatterpolargl"
           }
          ],
          "scatterternary": [
           {
            "marker": {
             "colorbar": {
              "outlinewidth": 0,
              "ticks": ""
             }
            },
            "type": "scatterternary"
           }
          ],
          "surface": [
           {
            "colorbar": {
             "outlinewidth": 0,
             "ticks": ""
            },
            "colorscale": [
             [
              0,
              "#0d0887"
             ],
             [
              0.1111111111111111,
              "#46039f"
             ],
             [
              0.2222222222222222,
              "#7201a8"
             ],
             [
              0.3333333333333333,
              "#9c179e"
             ],
             [
              0.4444444444444444,
              "#bd3786"
             ],
             [
              0.5555555555555556,
              "#d8576b"
             ],
             [
              0.6666666666666666,
              "#ed7953"
             ],
             [
              0.7777777777777778,
              "#fb9f3a"
             ],
             [
              0.8888888888888888,
              "#fdca26"
             ],
             [
              1,
              "#f0f921"
             ]
            ],
            "type": "surface"
           }
          ],
          "table": [
           {
            "cells": {
             "fill": {
              "color": "#EBF0F8"
             },
             "line": {
              "color": "white"
             }
            },
            "header": {
             "fill": {
              "color": "#C8D4E3"
             },
             "line": {
              "color": "white"
             }
            },
            "type": "table"
           }
          ]
         },
         "layout": {
          "annotationdefaults": {
           "arrowcolor": "#2a3f5f",
           "arrowhead": 0,
           "arrowwidth": 1
          },
          "autotypenumbers": "strict",
          "coloraxis": {
           "colorbar": {
            "outlinewidth": 0,
            "ticks": ""
           }
          },
          "colorscale": {
           "diverging": [
            [
             0,
             "#8e0152"
            ],
            [
             0.1,
             "#c51b7d"
            ],
            [
             0.2,
             "#de77ae"
            ],
            [
             0.3,
             "#f1b6da"
            ],
            [
             0.4,
             "#fde0ef"
            ],
            [
             0.5,
             "#f7f7f7"
            ],
            [
             0.6,
             "#e6f5d0"
            ],
            [
             0.7,
             "#b8e186"
            ],
            [
             0.8,
             "#7fbc41"
            ],
            [
             0.9,
             "#4d9221"
            ],
            [
             1,
             "#276419"
            ]
           ],
           "sequential": [
            [
             0,
             "#0d0887"
            ],
            [
             0.1111111111111111,
             "#46039f"
            ],
            [
             0.2222222222222222,
             "#7201a8"
            ],
            [
             0.3333333333333333,
             "#9c179e"
            ],
            [
             0.4444444444444444,
             "#bd3786"
            ],
            [
             0.5555555555555556,
             "#d8576b"
            ],
            [
             0.6666666666666666,
             "#ed7953"
            ],
            [
             0.7777777777777778,
             "#fb9f3a"
            ],
            [
             0.8888888888888888,
             "#fdca26"
            ],
            [
             1,
             "#f0f921"
            ]
           ],
           "sequentialminus": [
            [
             0,
             "#0d0887"
            ],
            [
             0.1111111111111111,
             "#46039f"
            ],
            [
             0.2222222222222222,
             "#7201a8"
            ],
            [
             0.3333333333333333,
             "#9c179e"
            ],
            [
             0.4444444444444444,
             "#bd3786"
            ],
            [
             0.5555555555555556,
             "#d8576b"
            ],
            [
             0.6666666666666666,
             "#ed7953"
            ],
            [
             0.7777777777777778,
             "#fb9f3a"
            ],
            [
             0.8888888888888888,
             "#fdca26"
            ],
            [
             1,
             "#f0f921"
            ]
           ]
          },
          "colorway": [
           "#636efa",
           "#EF553B",
           "#00cc96",
           "#ab63fa",
           "#FFA15A",
           "#19d3f3",
           "#FF6692",
           "#B6E880",
           "#FF97FF",
           "#FECB52"
          ],
          "font": {
           "color": "#2a3f5f"
          },
          "geo": {
           "bgcolor": "white",
           "lakecolor": "white",
           "landcolor": "#E5ECF6",
           "showlakes": true,
           "showland": true,
           "subunitcolor": "white"
          },
          "hoverlabel": {
           "align": "left"
          },
          "hovermode": "closest",
          "mapbox": {
           "style": "light"
          },
          "paper_bgcolor": "white",
          "plot_bgcolor": "#E5ECF6",
          "polar": {
           "angularaxis": {
            "gridcolor": "white",
            "linecolor": "white",
            "ticks": ""
           },
           "bgcolor": "#E5ECF6",
           "radialaxis": {
            "gridcolor": "white",
            "linecolor": "white",
            "ticks": ""
           }
          },
          "scene": {
           "xaxis": {
            "backgroundcolor": "#E5ECF6",
            "gridcolor": "white",
            "gridwidth": 2,
            "linecolor": "white",
            "showbackground": true,
            "ticks": "",
            "zerolinecolor": "white"
           },
           "yaxis": {
            "backgroundcolor": "#E5ECF6",
            "gridcolor": "white",
            "gridwidth": 2,
            "linecolor": "white",
            "showbackground": true,
            "ticks": "",
            "zerolinecolor": "white"
           },
           "zaxis": {
            "backgroundcolor": "#E5ECF6",
            "gridcolor": "white",
            "gridwidth": 2,
            "linecolor": "white",
            "showbackground": true,
            "ticks": "",
            "zerolinecolor": "white"
           }
          },
          "shapedefaults": {
           "line": {
            "color": "#2a3f5f"
           }
          },
          "ternary": {
           "aaxis": {
            "gridcolor": "white",
            "linecolor": "white",
            "ticks": ""
           },
           "baxis": {
            "gridcolor": "white",
            "linecolor": "white",
            "ticks": ""
           },
           "bgcolor": "#E5ECF6",
           "caxis": {
            "gridcolor": "white",
            "linecolor": "white",
            "ticks": ""
           }
          },
          "title": {
           "x": 0.05
          },
          "xaxis": {
           "automargin": true,
           "gridcolor": "white",
           "linecolor": "white",
           "ticks": "",
           "title": {
            "standoff": 15
           },
           "zerolinecolor": "white",
           "zerolinewidth": 2
          },
          "yaxis": {
           "automargin": true,
           "gridcolor": "white",
           "linecolor": "white",
           "ticks": "",
           "title": {
            "standoff": 15
           },
           "zerolinecolor": "white",
           "zerolinewidth": 2
          }
         }
        },
        "title": {
         "text": "Top 15 Common Names"
        },
        "xaxis": {
         "anchor": "y",
         "domain": [
          0,
          1
         ],
         "title": {
          "text": "Name"
         }
        },
        "yaxis": {
         "anchor": "x",
         "domain": [
          0,
          1
         ],
         "title": {
          "text": "Count"
         }
        }
       }
      }
     },
     "metadata": {},
     "output_type": "display_data"
    }
   ],
   "source": [
    "names = df[\"Player\"].str.split()\n",
    "names = names.explode()\n",
    "print(names.shape)\n",
    "names= names.value_counts().head(17).reset_index()\n",
    "# names.sort_values\n",
    "names.columns = [\"Name\", \"Count\"]\n",
    "\n",
    "# remove prepositions\n",
    "names = names[names[\"Name\"] != \"van\"]\n",
    "names = names[names[\"Name\"] != \"de\"]\n",
    "\n",
    "fig = px.histogram(names,\n",
    "                   x=\"Name\",\n",
    "                   y=\"Count\",\n",
    "                   title=\"Top 15 Common Names\")\n",
    "\n",
    "fig.update_layout(xaxis_title=\"Name\",\n",
    "                  yaxis_title=\"Count\")\n",
    "\n",
    "fig.show()"
   ]
  },
  {
   "cell_type": "code",
   "execution_count": null,
   "metadata": {},
   "outputs": [],
   "source": []
  }
 ],
 "metadata": {
  "kernelspec": {
   "display_name": "env310",
   "language": "python",
   "name": "python3"
  },
  "language_info": {
   "codemirror_mode": {
    "name": "ipython",
    "version": 3
   },
   "file_extension": ".py",
   "mimetype": "text/x-python",
   "name": "python",
   "nbconvert_exporter": "python",
   "pygments_lexer": "ipython3",
   "version": "3.10.13"
  }
 },
 "nbformat": 4,
 "nbformat_minor": 2
}
